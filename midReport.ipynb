{
 "cells": [
  {
   "cell_type": "markdown",
   "id": "6c943b55-fa81-4a04-9f64-69b5b8d1f63e",
   "metadata": {
    "jp-MarkdownHeadingCollapsed": true,
    "tags": []
   },
   "source": [
    "<!--Title-->\n",
    "# Movie Industry Analysis"
   ]
  },
  {
   "cell_type": "markdown",
   "id": "448d1097-87a5-455c-8153-b989788d154d",
   "metadata": {},
   "source": [
    "<!--Problem description-->\n",
    "## Introduction of the problem\n",
    "<!-- TO DO: refine paragraph, add stuff-->\n",
    "<!-- [Decisions to be impacted], [Business value], [Why do you care about this project?]-->\n",
    "We all know that movie industry is risky, but it can also bring enormous profit at the same time. That's why countless companies and people have been attracted to this industry. However, how risky is it? We all know super hits like Titanic, and we all have seen big productions fail. There hasn't been an universal formula to make a popular movie, but we are still interested in how to choose the right movie to invest in.  \n",
    "\n",
    "In this analysis, we aim to produce a study to figure out specific reasons that lead to the success of a movie economically, and give advices for companies or individuals who want to enter this industry. In other words, we decided to explore how to select a movie that will be successful economically to invest in for companies and individuls who want to make a profit in this field."
   ]
  },
  {
   "cell_type": "markdown",
   "id": "dad421d1-bd32-458b-a69a-604f9bc4474a",
   "metadata": {},
   "source": [
    "<!--Introduction of the dataset-->\n",
    "## Introduction of the dataset\n",
    "<!-- TO DO: more description of data -->\n",
    "For this analysis, we will be mainly using \"The Movies Dataset\" on Kaggle (https://www.kaggle.com/datasets/rounakbanik/the-movies-dataset?select=movies_metadata.csv). These files contain metadata for all 45,000 movies listed in the Full MovieLens Dataset. The dataset consists of movies released on or before July 2017. Data points include cast, crew, plot keywords, budget, revenue, posters, release dates, languages, production companies, countries, TMDB vote counts and vote averages.  \n",
    "\n",
    "This dataset also has files containing 26 million ratings from 270,000 users for all 45,000 movies. Ratings are on a scale of 1-5 and have been obtained from the official GroupLens website.  \n",
    "\n",
    "However, due to the fact of large amount of missing entires for budget and revenue, we will be using only the observations where both of these values exists. "
   ]
  },
  {
   "cell_type": "markdown",
   "id": "de70b197-d0e0-487a-83fe-8586856612b9",
   "metadata": {},
   "source": [
    "### Overview on the dataset"
   ]
  },
  {
   "cell_type": "code",
   "execution_count": 1,
   "id": "db83ab55-821b-482b-ac90-6e12842cf3e8",
   "metadata": {
    "tags": []
   },
   "outputs": [
    {
     "data": {
      "text/html": [
       "<div>\n",
       "<style scoped>\n",
       "    .dataframe tbody tr th:only-of-type {\n",
       "        vertical-align: middle;\n",
       "    }\n",
       "\n",
       "    .dataframe tbody tr th {\n",
       "        vertical-align: top;\n",
       "    }\n",
       "\n",
       "    .dataframe thead th {\n",
       "        text-align: right;\n",
       "    }\n",
       "</style>\n",
       "<table border=\"1\" class=\"dataframe\">\n",
       "  <thead>\n",
       "    <tr style=\"text-align: right;\">\n",
       "      <th></th>\n",
       "      <th>adult</th>\n",
       "      <th>belongs_to_collection</th>\n",
       "      <th>budget</th>\n",
       "      <th>genres</th>\n",
       "      <th>homepage</th>\n",
       "      <th>id</th>\n",
       "      <th>imdb_id</th>\n",
       "      <th>original_language</th>\n",
       "      <th>original_title</th>\n",
       "      <th>overview</th>\n",
       "      <th>popularity</th>\n",
       "      <th>poster_path</th>\n",
       "      <th>production_companies</th>\n",
       "      <th>production_countries</th>\n",
       "      <th>release_date</th>\n",
       "      <th>revenue</th>\n",
       "      <th>runtime</th>\n",
       "      <th>spoken_languages</th>\n",
       "      <th>status</th>\n",
       "      <th>tagline</th>\n",
       "      <th>title</th>\n",
       "      <th>video</th>\n",
       "      <th>vote_average</th>\n",
       "      <th>vote_count</th>\n",
       "    </tr>\n",
       "  </thead>\n",
       "  <tbody>\n",
       "    <tr>\n",
       "      <th>0</th>\n",
       "      <td>False</td>\n",
       "      <td>{'id': 10194, 'name': 'Toy Story Collection', ...</td>\n",
       "      <td>30000000</td>\n",
       "      <td>[{'id': 16, 'name': 'Animation'}, {'id': 35, '...</td>\n",
       "      <td>http://toystory.disney.com/toy-story</td>\n",
       "      <td>862</td>\n",
       "      <td>tt0114709</td>\n",
       "      <td>en</td>\n",
       "      <td>Toy Story</td>\n",
       "      <td>Led by Woody, Andy's toys live happily in his ...</td>\n",
       "      <td>21.946943</td>\n",
       "      <td>/rhIRbceoE9lR4veEXuwCC2wARtG.jpg</td>\n",
       "      <td>[{'name': 'Pixar Animation Studios', 'id': 3}]</td>\n",
       "      <td>[{'iso_3166_1': 'US', 'name': 'United States o...</td>\n",
       "      <td>1995-10-30</td>\n",
       "      <td>373,554,033.00</td>\n",
       "      <td>81.00</td>\n",
       "      <td>[{'iso_639_1': 'en', 'name': 'English'}]</td>\n",
       "      <td>Released</td>\n",
       "      <td>NaN</td>\n",
       "      <td>Toy Story</td>\n",
       "      <td>False</td>\n",
       "      <td>7.70</td>\n",
       "      <td>5,415.00</td>\n",
       "    </tr>\n",
       "    <tr>\n",
       "      <th>1</th>\n",
       "      <td>False</td>\n",
       "      <td>NaN</td>\n",
       "      <td>65000000</td>\n",
       "      <td>[{'id': 12, 'name': 'Adventure'}, {'id': 14, '...</td>\n",
       "      <td>NaN</td>\n",
       "      <td>8844</td>\n",
       "      <td>tt0113497</td>\n",
       "      <td>en</td>\n",
       "      <td>Jumanji</td>\n",
       "      <td>When siblings Judy and Peter discover an encha...</td>\n",
       "      <td>17.015539</td>\n",
       "      <td>/vzmL6fP7aPKNKPRTFnZmiUfciyV.jpg</td>\n",
       "      <td>[{'name': 'TriStar Pictures', 'id': 559}, {'na...</td>\n",
       "      <td>[{'iso_3166_1': 'US', 'name': 'United States o...</td>\n",
       "      <td>1995-12-15</td>\n",
       "      <td>262,797,249.00</td>\n",
       "      <td>104.00</td>\n",
       "      <td>[{'iso_639_1': 'en', 'name': 'English'}, {'iso...</td>\n",
       "      <td>Released</td>\n",
       "      <td>Roll the dice and unleash the excitement!</td>\n",
       "      <td>Jumanji</td>\n",
       "      <td>False</td>\n",
       "      <td>6.90</td>\n",
       "      <td>2,413.00</td>\n",
       "    </tr>\n",
       "    <tr>\n",
       "      <th>2</th>\n",
       "      <td>False</td>\n",
       "      <td>{'id': 119050, 'name': 'Grumpy Old Men Collect...</td>\n",
       "      <td>0</td>\n",
       "      <td>[{'id': 10749, 'name': 'Romance'}, {'id': 35, ...</td>\n",
       "      <td>NaN</td>\n",
       "      <td>15602</td>\n",
       "      <td>tt0113228</td>\n",
       "      <td>en</td>\n",
       "      <td>Grumpier Old Men</td>\n",
       "      <td>A family wedding reignites the ancient feud be...</td>\n",
       "      <td>11.7129</td>\n",
       "      <td>/6ksm1sjKMFLbO7UY2i6G1ju9SML.jpg</td>\n",
       "      <td>[{'name': 'Warner Bros.', 'id': 6194}, {'name'...</td>\n",
       "      <td>[{'iso_3166_1': 'US', 'name': 'United States o...</td>\n",
       "      <td>1995-12-22</td>\n",
       "      <td>0.00</td>\n",
       "      <td>101.00</td>\n",
       "      <td>[{'iso_639_1': 'en', 'name': 'English'}]</td>\n",
       "      <td>Released</td>\n",
       "      <td>Still Yelling. Still Fighting. Still Ready for...</td>\n",
       "      <td>Grumpier Old Men</td>\n",
       "      <td>False</td>\n",
       "      <td>6.50</td>\n",
       "      <td>92.00</td>\n",
       "    </tr>\n",
       "    <tr>\n",
       "      <th>3</th>\n",
       "      <td>False</td>\n",
       "      <td>NaN</td>\n",
       "      <td>16000000</td>\n",
       "      <td>[{'id': 35, 'name': 'Comedy'}, {'id': 18, 'nam...</td>\n",
       "      <td>NaN</td>\n",
       "      <td>31357</td>\n",
       "      <td>tt0114885</td>\n",
       "      <td>en</td>\n",
       "      <td>Waiting to Exhale</td>\n",
       "      <td>Cheated on, mistreated and stepped on, the wom...</td>\n",
       "      <td>3.859495</td>\n",
       "      <td>/16XOMpEaLWkrcPqSQqhTmeJuqQl.jpg</td>\n",
       "      <td>[{'name': 'Twentieth Century Fox Film Corporat...</td>\n",
       "      <td>[{'iso_3166_1': 'US', 'name': 'United States o...</td>\n",
       "      <td>1995-12-22</td>\n",
       "      <td>81,452,156.00</td>\n",
       "      <td>127.00</td>\n",
       "      <td>[{'iso_639_1': 'en', 'name': 'English'}]</td>\n",
       "      <td>Released</td>\n",
       "      <td>Friends are the people who let you be yourself...</td>\n",
       "      <td>Waiting to Exhale</td>\n",
       "      <td>False</td>\n",
       "      <td>6.10</td>\n",
       "      <td>34.00</td>\n",
       "    </tr>\n",
       "    <tr>\n",
       "      <th>4</th>\n",
       "      <td>False</td>\n",
       "      <td>{'id': 96871, 'name': 'Father of the Bride Col...</td>\n",
       "      <td>0</td>\n",
       "      <td>[{'id': 35, 'name': 'Comedy'}]</td>\n",
       "      <td>NaN</td>\n",
       "      <td>11862</td>\n",
       "      <td>tt0113041</td>\n",
       "      <td>en</td>\n",
       "      <td>Father of the Bride Part II</td>\n",
       "      <td>Just when George Banks has recovered from his ...</td>\n",
       "      <td>8.387519</td>\n",
       "      <td>/e64sOI48hQXyru7naBFyssKFxVd.jpg</td>\n",
       "      <td>[{'name': 'Sandollar Productions', 'id': 5842}...</td>\n",
       "      <td>[{'iso_3166_1': 'US', 'name': 'United States o...</td>\n",
       "      <td>1995-02-10</td>\n",
       "      <td>76,578,911.00</td>\n",
       "      <td>106.00</td>\n",
       "      <td>[{'iso_639_1': 'en', 'name': 'English'}]</td>\n",
       "      <td>Released</td>\n",
       "      <td>Just When His World Is Back To Normal... He's ...</td>\n",
       "      <td>Father of the Bride Part II</td>\n",
       "      <td>False</td>\n",
       "      <td>5.70</td>\n",
       "      <td>173.00</td>\n",
       "    </tr>\n",
       "  </tbody>\n",
       "</table>\n",
       "</div>"
      ],
      "text/plain": [
       "   adult                              belongs_to_collection    budget  \\\n",
       "0  False  {'id': 10194, 'name': 'Toy Story Collection', ...  30000000   \n",
       "1  False                                                NaN  65000000   \n",
       "2  False  {'id': 119050, 'name': 'Grumpy Old Men Collect...         0   \n",
       "3  False                                                NaN  16000000   \n",
       "4  False  {'id': 96871, 'name': 'Father of the Bride Col...         0   \n",
       "\n",
       "                                              genres  \\\n",
       "0  [{'id': 16, 'name': 'Animation'}, {'id': 35, '...   \n",
       "1  [{'id': 12, 'name': 'Adventure'}, {'id': 14, '...   \n",
       "2  [{'id': 10749, 'name': 'Romance'}, {'id': 35, ...   \n",
       "3  [{'id': 35, 'name': 'Comedy'}, {'id': 18, 'nam...   \n",
       "4                     [{'id': 35, 'name': 'Comedy'}]   \n",
       "\n",
       "                               homepage     id    imdb_id original_language  \\\n",
       "0  http://toystory.disney.com/toy-story    862  tt0114709                en   \n",
       "1                                   NaN   8844  tt0113497                en   \n",
       "2                                   NaN  15602  tt0113228                en   \n",
       "3                                   NaN  31357  tt0114885                en   \n",
       "4                                   NaN  11862  tt0113041                en   \n",
       "\n",
       "                original_title  \\\n",
       "0                    Toy Story   \n",
       "1                      Jumanji   \n",
       "2             Grumpier Old Men   \n",
       "3            Waiting to Exhale   \n",
       "4  Father of the Bride Part II   \n",
       "\n",
       "                                            overview popularity  \\\n",
       "0  Led by Woody, Andy's toys live happily in his ...  21.946943   \n",
       "1  When siblings Judy and Peter discover an encha...  17.015539   \n",
       "2  A family wedding reignites the ancient feud be...    11.7129   \n",
       "3  Cheated on, mistreated and stepped on, the wom...   3.859495   \n",
       "4  Just when George Banks has recovered from his ...   8.387519   \n",
       "\n",
       "                        poster_path  \\\n",
       "0  /rhIRbceoE9lR4veEXuwCC2wARtG.jpg   \n",
       "1  /vzmL6fP7aPKNKPRTFnZmiUfciyV.jpg   \n",
       "2  /6ksm1sjKMFLbO7UY2i6G1ju9SML.jpg   \n",
       "3  /16XOMpEaLWkrcPqSQqhTmeJuqQl.jpg   \n",
       "4  /e64sOI48hQXyru7naBFyssKFxVd.jpg   \n",
       "\n",
       "                                production_companies  \\\n",
       "0     [{'name': 'Pixar Animation Studios', 'id': 3}]   \n",
       "1  [{'name': 'TriStar Pictures', 'id': 559}, {'na...   \n",
       "2  [{'name': 'Warner Bros.', 'id': 6194}, {'name'...   \n",
       "3  [{'name': 'Twentieth Century Fox Film Corporat...   \n",
       "4  [{'name': 'Sandollar Productions', 'id': 5842}...   \n",
       "\n",
       "                                production_countries release_date  \\\n",
       "0  [{'iso_3166_1': 'US', 'name': 'United States o...   1995-10-30   \n",
       "1  [{'iso_3166_1': 'US', 'name': 'United States o...   1995-12-15   \n",
       "2  [{'iso_3166_1': 'US', 'name': 'United States o...   1995-12-22   \n",
       "3  [{'iso_3166_1': 'US', 'name': 'United States o...   1995-12-22   \n",
       "4  [{'iso_3166_1': 'US', 'name': 'United States o...   1995-02-10   \n",
       "\n",
       "         revenue  runtime                                   spoken_languages  \\\n",
       "0 373,554,033.00    81.00           [{'iso_639_1': 'en', 'name': 'English'}]   \n",
       "1 262,797,249.00   104.00  [{'iso_639_1': 'en', 'name': 'English'}, {'iso...   \n",
       "2           0.00   101.00           [{'iso_639_1': 'en', 'name': 'English'}]   \n",
       "3  81,452,156.00   127.00           [{'iso_639_1': 'en', 'name': 'English'}]   \n",
       "4  76,578,911.00   106.00           [{'iso_639_1': 'en', 'name': 'English'}]   \n",
       "\n",
       "     status                                            tagline  \\\n",
       "0  Released                                                NaN   \n",
       "1  Released          Roll the dice and unleash the excitement!   \n",
       "2  Released  Still Yelling. Still Fighting. Still Ready for...   \n",
       "3  Released  Friends are the people who let you be yourself...   \n",
       "4  Released  Just When His World Is Back To Normal... He's ...   \n",
       "\n",
       "                         title  video  vote_average  vote_count  \n",
       "0                    Toy Story  False          7.70    5,415.00  \n",
       "1                      Jumanji  False          6.90    2,413.00  \n",
       "2             Grumpier Old Men  False          6.50       92.00  \n",
       "3            Waiting to Exhale  False          6.10       34.00  \n",
       "4  Father of the Bride Part II  False          5.70      173.00  "
      ]
     },
     "execution_count": 1,
     "metadata": {},
     "output_type": "execute_result"
    }
   ],
   "source": [
    "#Preparations\n",
    "#Import the libraries\n",
    "import pandas as pd\n",
    "import numpy as np\n",
    "import matplotlib.pyplot as plt\n",
    "from sklearn.model_selection import train_test_split\n",
    "\n",
    "#Settings\n",
    "pd.set_option('display.max_columns', None)\n",
    "pd.set_option('display.float_format',  '{:,.2f}'.format)\n",
    "pd.set_option('display.precision', 2)\n",
    "\n",
    "#import the dataset\n",
    "df = pd.read_csv('datasets/movies_metadata.csv', low_memory=False)\n",
    "df.head()"
   ]
  },
  {
   "cell_type": "code",
   "execution_count": 2,
   "id": "33aa1e12-a1db-42d9-91b5-4802785fc6ed",
   "metadata": {},
   "outputs": [
    {
     "name": "stdout",
     "output_type": "stream",
     "text": [
      "Rows: 45466\n",
      "Colums: 24\n",
      "---------Info of dataset--------------\n",
      "<class 'pandas.core.frame.DataFrame'>\n",
      "RangeIndex: 45466 entries, 0 to 45465\n",
      "Data columns (total 24 columns):\n",
      " #   Column                 Non-Null Count  Dtype  \n",
      "---  ------                 --------------  -----  \n",
      " 0   adult                  45466 non-null  object \n",
      " 1   belongs_to_collection  4494 non-null   object \n",
      " 2   budget                 45466 non-null  object \n",
      " 3   genres                 45466 non-null  object \n",
      " 4   homepage               7782 non-null   object \n",
      " 5   id                     45466 non-null  object \n",
      " 6   imdb_id                45449 non-null  object \n",
      " 7   original_language      45455 non-null  object \n",
      " 8   original_title         45466 non-null  object \n",
      " 9   overview               44512 non-null  object \n",
      " 10  popularity             45461 non-null  object \n",
      " 11  poster_path            45080 non-null  object \n",
      " 12  production_companies   45463 non-null  object \n",
      " 13  production_countries   45463 non-null  object \n",
      " 14  release_date           45379 non-null  object \n",
      " 15  revenue                45460 non-null  float64\n",
      " 16  runtime                45203 non-null  float64\n",
      " 17  spoken_languages       45460 non-null  object \n",
      " 18  status                 45379 non-null  object \n",
      " 19  tagline                20412 non-null  object \n",
      " 20  title                  45460 non-null  object \n",
      " 21  video                  45460 non-null  object \n",
      " 22  vote_average           45460 non-null  float64\n",
      " 23  vote_count             45460 non-null  float64\n",
      "dtypes: float64(4), object(20)\n",
      "memory usage: 8.3+ MB\n",
      "None\n",
      "---------Number of missing values----------\n",
      "adult                        0\n",
      "belongs_to_collection    40972\n",
      "budget                       0\n",
      "genres                       0\n",
      "homepage                 37684\n",
      "id                           0\n",
      "imdb_id                     17\n",
      "original_language           11\n",
      "original_title               0\n",
      "overview                   954\n",
      "popularity                   5\n",
      "poster_path                386\n",
      "production_companies         3\n",
      "production_countries         3\n",
      "release_date                87\n",
      "revenue                      6\n",
      "runtime                    263\n",
      "spoken_languages             6\n",
      "status                      87\n",
      "tagline                  25054\n",
      "title                        6\n",
      "video                        6\n",
      "vote_average                 6\n",
      "vote_count                   6\n",
      "dtype: int64\n"
     ]
    }
   ],
   "source": [
    "#some more information\n",
    "print('Rows: ' + str(df.shape[0]))\n",
    "print('Colums: ' + str(df.shape[1]))\n",
    "print('---------Info of dataset--------------')\n",
    "print(df.info())\n",
    "print('---------Number of missing values----------')\n",
    "print(df.isnull().sum())"
   ]
  },
  {
   "cell_type": "markdown",
   "id": "aedcc4d2-deac-46b1-a29f-8a131d2d26a3",
   "metadata": {},
   "source": [
    "In the dataset, some rows has problemetic inputs in the column budget, causing the column to be an object rather than float. Remove the rows with problems and change budget into numeric. "
   ]
  },
  {
   "cell_type": "code",
   "execution_count": 3,
   "id": "ac213b17-75ea-412c-85eb-06400f71d9b7",
   "metadata": {},
   "outputs": [],
   "source": [
    "#remove some rows containing data that has problem\n",
    "df = df.loc[(df['budget'].str.isnumeric())]\n",
    "df['budget'] = pd.to_numeric(df['budget'])"
   ]
  },
  {
   "cell_type": "markdown",
   "id": "913bf177",
   "metadata": {
    "tags": []
   },
   "source": [
    "### Data Processing\n",
    "<!-- TO DO: Discuss why subsetting instead of imputing, discuss why this should make sense-->\n",
    "On a first look, this dataset looks pretty normal. However, while looking closer to the variables budget and revenue, it can be seen that there are a lot of zeros in budget and revenue. We believe these zeros represent missing values. Due to the large amount of zeros and the aboundance of data with both data available, we decided to run our study on a subset on the original dataset, where both budget and revenue are available. "
   ]
  },
  {
   "cell_type": "code",
   "execution_count": 4,
   "id": "c237f635",
   "metadata": {},
   "outputs": [
    {
     "data": {
      "image/png": "[encoded data removed]",
      "text/plain": [
       "<Figure size 1000x500 with 2 Axes>"
      ]
     },
     "metadata": {},
     "output_type": "display_data"
    }
   ],
   "source": [
    "figure, axis = plt.subplots(1, 2, figsize=(10, 5))\n",
    "#plot revenue\n",
    "axis[0].hist(df['revenue'], bins = 50)\n",
    "axis[0].set_xlabel(\"Revenue\")\n",
    "axis[0].set_ylabel(\"Count\")\n",
    "\n",
    "axis[1].hist(df['budget'], bins = 50)\n",
    "axis[1].set_xlabel(\"Budget\")\n",
    "axis[1].set_ylabel(\"Count\")\n",
    "plt.show()"
   ]
  },
  {
   "cell_type": "code",
   "execution_count": 5,
   "id": "f6e4fc79-e115-4c94-a605-d12e25a744dc",
   "metadata": {},
   "outputs": [
    {
     "data": {
      "text/plain": [
       "count          45,460.00\n",
       "mean       11,209,348.54\n",
       "std        64,332,246.74\n",
       "min                 0.00\n",
       "25%                 0.00\n",
       "50%                 0.00\n",
       "75%                 0.00\n",
       "max     2,787,965,087.00\n",
       "Name: revenue, dtype: float64"
      ]
     },
     "execution_count": 5,
     "metadata": {},
     "output_type": "execute_result"
    }
   ],
   "source": [
    "df['revenue'].describe()"
   ]
  },
  {
   "cell_type": "code",
   "execution_count": 6,
   "id": "6167dee6-201f-4611-8ccc-5464e71b409a",
   "metadata": {},
   "outputs": [
    {
     "data": {
      "text/plain": [
       "count        45,463.00\n",
       "mean      4,224,578.81\n",
       "std      17,424,132.63\n",
       "min               0.00\n",
       "25%               0.00\n",
       "50%               0.00\n",
       "75%               0.00\n",
       "max     380,000,000.00\n",
       "Name: budget, dtype: float64"
      ]
     },
     "execution_count": 6,
     "metadata": {},
     "output_type": "execute_result"
    }
   ],
   "source": [
    "df['budget'].describe()"
   ]
  },
  {
   "cell_type": "code",
   "execution_count": 7,
   "id": "9e5912ff-f803-4593-82dc-c36005a5f75a",
   "metadata": {
    "tags": []
   },
   "outputs": [],
   "source": [
    "#Subsetting dataset\n",
    "df_sub = df.loc[(df['revenue'] != 0) & (df['budget'] != 0)].copy()"
   ]
  },
  {
   "cell_type": "markdown",
   "id": "a91a65bc-e7c8-4f3d-abf4-94985cbee5a4",
   "metadata": {},
   "source": [
    "Look into revenue and budget again. When sorting according to revenue and budget, we see there are a lot of small numbers that do not make sense. Upon looking through resourses, I figured that small numbers here such as 1 or 2 might be in units of million dollars, rather than dollars. \n",
    "\n",
    "For the time being, remove these entries due to time constraints (that I cannot check them one by one). I will figure out how to deal with them better. Upon searching from sources, I've decided to set the bar at 1 million dollars for the following reason: a movie below 5 million dollars is categorized as low-budget already, so 1 million could be a reasonable lower limit for people to invest in this industry, so it should suffice our analysis for now. "
   ]
  },
  {
   "cell_type": "code",
   "execution_count": 8,
   "id": "6c739b61-a1f3-4090-96f5-bc0826fd2ded",
   "metadata": {},
   "outputs": [
    {
     "data": {
      "text/html": [
       "<div>\n",
       "<style scoped>\n",
       "    .dataframe tbody tr th:only-of-type {\n",
       "        vertical-align: middle;\n",
       "    }\n",
       "\n",
       "    .dataframe tbody tr th {\n",
       "        vertical-align: top;\n",
       "    }\n",
       "\n",
       "    .dataframe thead th {\n",
       "        text-align: right;\n",
       "    }\n",
       "</style>\n",
       "<table border=\"1\" class=\"dataframe\">\n",
       "  <thead>\n",
       "    <tr style=\"text-align: right;\">\n",
       "      <th></th>\n",
       "      <th>budget</th>\n",
       "      <th>revenue</th>\n",
       "      <th>title</th>\n",
       "    </tr>\n",
       "  </thead>\n",
       "  <tbody>\n",
       "    <tr>\n",
       "      <th>180</th>\n",
       "      <td>2</td>\n",
       "      <td>1.00</td>\n",
       "      <td>Mute Witness</td>\n",
       "    </tr>\n",
       "    <tr>\n",
       "      <th>35086</th>\n",
       "      <td>1</td>\n",
       "      <td>1.00</td>\n",
       "      <td>The Letters</td>\n",
       "    </tr>\n",
       "    <tr>\n",
       "      <th>7202</th>\n",
       "      <td>12</td>\n",
       "      <td>1.00</td>\n",
       "      <td>The Wind in the Willows</td>\n",
       "    </tr>\n",
       "    <tr>\n",
       "      <th>16780</th>\n",
       "      <td>592</td>\n",
       "      <td>1.00</td>\n",
       "      <td>The Merry Widow</td>\n",
       "    </tr>\n",
       "    <tr>\n",
       "      <th>15873</th>\n",
       "      <td>1</td>\n",
       "      <td>2.00</td>\n",
       "      <td>Tere Naam</td>\n",
       "    </tr>\n",
       "    <tr>\n",
       "      <th>13480</th>\n",
       "      <td>200000</td>\n",
       "      <td>3.00</td>\n",
       "      <td>Dr. Horrible's Sing-Along Blog</td>\n",
       "    </tr>\n",
       "    <tr>\n",
       "      <th>38526</th>\n",
       "      <td>1</td>\n",
       "      <td>3.00</td>\n",
       "      <td>Saamy</td>\n",
       "    </tr>\n",
       "    <tr>\n",
       "      <th>45399</th>\n",
       "      <td>750000</td>\n",
       "      <td>3.00</td>\n",
       "      <td>All at Once</td>\n",
       "    </tr>\n",
       "    <tr>\n",
       "      <th>34275</th>\n",
       "      <td>390000</td>\n",
       "      <td>3.00</td>\n",
       "      <td>Duniyadari</td>\n",
       "    </tr>\n",
       "    <tr>\n",
       "      <th>43649</th>\n",
       "      <td>3</td>\n",
       "      <td>3.00</td>\n",
       "      <td>Desmundo</td>\n",
       "    </tr>\n",
       "  </tbody>\n",
       "</table>\n",
       "</div>"
      ],
      "text/plain": [
       "       budget  revenue                           title\n",
       "180         2     1.00                    Mute Witness\n",
       "35086       1     1.00                     The Letters\n",
       "7202       12     1.00         The Wind in the Willows\n",
       "16780     592     1.00                 The Merry Widow\n",
       "15873       1     2.00                       Tere Naam\n",
       "13480  200000     3.00  Dr. Horrible's Sing-Along Blog\n",
       "38526       1     3.00                           Saamy\n",
       "45399  750000     3.00                     All at Once\n",
       "34275  390000     3.00                      Duniyadari\n",
       "43649       3     3.00                        Desmundo"
      ]
     },
     "execution_count": 8,
     "metadata": {},
     "output_type": "execute_result"
    }
   ],
   "source": [
    "df_sub[['budget', 'revenue', 'title']].sort_values(by = ['revenue']).head(10)"
   ]
  },
  {
   "cell_type": "code",
   "execution_count": 9,
   "id": "6e8d4671-df86-43d7-abb2-fa82ca0b9b69",
   "metadata": {},
   "outputs": [
    {
     "data": {
      "text/html": [
       "<div>\n",
       "<style scoped>\n",
       "    .dataframe tbody tr th:only-of-type {\n",
       "        vertical-align: middle;\n",
       "    }\n",
       "\n",
       "    .dataframe tbody tr th {\n",
       "        vertical-align: top;\n",
       "    }\n",
       "\n",
       "    .dataframe thead th {\n",
       "        text-align: right;\n",
       "    }\n",
       "</style>\n",
       "<table border=\"1\" class=\"dataframe\">\n",
       "  <thead>\n",
       "    <tr style=\"text-align: right;\">\n",
       "      <th></th>\n",
       "      <th>budget</th>\n",
       "      <th>revenue</th>\n",
       "    </tr>\n",
       "  </thead>\n",
       "  <tbody>\n",
       "    <tr>\n",
       "      <th>count</th>\n",
       "      <td>5,121.00</td>\n",
       "      <td>5,121.00</td>\n",
       "    </tr>\n",
       "    <tr>\n",
       "      <th>mean</th>\n",
       "      <td>32,506,578.16</td>\n",
       "      <td>94,733,439.32</td>\n",
       "    </tr>\n",
       "    <tr>\n",
       "      <th>std</th>\n",
       "      <td>40,641,378.26</td>\n",
       "      <td>169,052,748.44</td>\n",
       "    </tr>\n",
       "    <tr>\n",
       "      <th>min</th>\n",
       "      <td>103,000.00</td>\n",
       "      <td>100,655.00</td>\n",
       "    </tr>\n",
       "    <tr>\n",
       "      <th>25%</th>\n",
       "      <td>6,000,000.00</td>\n",
       "      <td>9,138,338.00</td>\n",
       "    </tr>\n",
       "    <tr>\n",
       "      <th>50%</th>\n",
       "      <td>18,000,000.00</td>\n",
       "      <td>33,526,835.00</td>\n",
       "    </tr>\n",
       "    <tr>\n",
       "      <th>75%</th>\n",
       "      <td>40,000,000.00</td>\n",
       "      <td>104,345,682.00</td>\n",
       "    </tr>\n",
       "    <tr>\n",
       "      <th>max</th>\n",
       "      <td>380,000,000.00</td>\n",
       "      <td>2,787,965,087.00</td>\n",
       "    </tr>\n",
       "  </tbody>\n",
       "</table>\n",
       "</div>"
      ],
      "text/plain": [
       "              budget          revenue\n",
       "count       5,121.00         5,121.00\n",
       "mean   32,506,578.16    94,733,439.32\n",
       "std    40,641,378.26   169,052,748.44\n",
       "min       103,000.00       100,655.00\n",
       "25%     6,000,000.00     9,138,338.00\n",
       "50%    18,000,000.00    33,526,835.00\n",
       "75%    40,000,000.00   104,345,682.00\n",
       "max   380,000,000.00 2,787,965,087.00"
      ]
     },
     "execution_count": 9,
     "metadata": {},
     "output_type": "execute_result"
    }
   ],
   "source": [
    "df_sub = df_sub.loc[df_sub['revenue'] > 100000]\n",
    "df_sub = df_sub.loc[df_sub['budget'] > 100000]\n",
    "df_sub[['budget', 'revenue']].describe()"
   ]
  },
  {
   "cell_type": "code",
   "execution_count": 10,
   "id": "53b1d283-fdb4-4e24-9941-4fda4d1d5200",
   "metadata": {},
   "outputs": [
    {
     "data": {
      "image/png": "[encoded data removed]",
      "text/plain": [
       "<Figure size 1000x500 with 2 Axes>"
      ]
     },
     "metadata": {},
     "output_type": "display_data"
    }
   ],
   "source": [
    "figure, axis = plt.subplots(1, 2, figsize=(10, 5))\n",
    "#plot revenue\n",
    "axis[0].hist(df_sub['revenue'], bins = 50)\n",
    "axis[0].set_xlabel(\"Revenue\")\n",
    "axis[0].set_ylabel(\"Count\")\n",
    "\n",
    "axis[1].hist(df_sub['budget'], bins = 50)\n",
    "axis[1].set_xlabel(\"Budget\")\n",
    "axis[1].set_ylabel(\"Count\")\n",
    "plt.show()"
   ]
  },
  {
   "cell_type": "markdown",
   "id": "7fe5e3b5-f6d7-479a-ae09-5b1f4ec70f11",
   "metadata": {},
   "source": [
    "#### Feature selection and Engineering\n",
    "First, look at the information of our subsetted dataset.\n",
    "\n",
    "Then, look into the features one by one and dump the ones that don't provide much information. First remove the ones that don't include real informations."
   ]
  },
  {
   "cell_type": "code",
   "execution_count": 11,
   "id": "9b365429-d334-43f6-a907-06d30ec8674e",
   "metadata": {},
   "outputs": [
    {
     "name": "stdout",
     "output_type": "stream",
     "text": [
      "Rows: 5121\n",
      "Colums: 24\n",
      "<class 'pandas.core.frame.DataFrame'>\n",
      "Int64Index: 5121 entries, 0 to 45422\n",
      "Data columns (total 24 columns):\n",
      " #   Column                 Non-Null Count  Dtype  \n",
      "---  ------                 --------------  -----  \n",
      " 0   adult                  5121 non-null   object \n",
      " 1   belongs_to_collection  1201 non-null   object \n",
      " 2   budget                 5121 non-null   int64  \n",
      " 3   genres                 5121 non-null   object \n",
      " 4   homepage               1830 non-null   object \n",
      " 5   id                     5121 non-null   object \n",
      " 6   imdb_id                5121 non-null   object \n",
      " 7   original_language      5121 non-null   object \n",
      " 8   original_title         5121 non-null   object \n",
      " 9   overview               5112 non-null   object \n",
      " 10  popularity             5121 non-null   object \n",
      " 11  poster_path            5121 non-null   object \n",
      " 12  production_companies   5121 non-null   object \n",
      " 13  production_countries   5121 non-null   object \n",
      " 14  release_date           5121 non-null   object \n",
      " 15  revenue                5121 non-null   float64\n",
      " 16  runtime                5121 non-null   float64\n",
      " 17  spoken_languages       5121 non-null   object \n",
      " 18  status                 5121 non-null   object \n",
      " 19  tagline                4449 non-null   object \n",
      " 20  title                  5121 non-null   object \n",
      " 21  video                  5121 non-null   object \n",
      " 22  vote_average           5121 non-null   float64\n",
      " 23  vote_count             5121 non-null   float64\n",
      "dtypes: float64(4), int64(1), object(19)\n",
      "memory usage: 1000.2+ KB\n",
      "None\n"
     ]
    }
   ],
   "source": [
    "#some more information\n",
    "print('Rows: ' + str(df_sub.shape[0]))\n",
    "print('Colums: ' + str(df_sub.shape[1]))\n",
    "print(df_sub.info())"
   ]
  },
  {
   "cell_type": "code",
   "execution_count": 12,
   "id": "2a3c6e8e-b5b1-46cb-ab79-33fac9c852f2",
   "metadata": {},
   "outputs": [],
   "source": [
    "df_sub = df_sub.drop(['homepage', 'id', 'imdb_id'], axis = 1)"
   ]
  },
  {
   "cell_type": "markdown",
   "id": "af806134-9576-431a-8ef9-7f51a3da06d5",
   "metadata": {},
   "source": [
    "**Adult**\n",
    "\n",
    "Adult is a feature that examines if a movie has content rating as adult only. As shown below, all the movie we have in our subsetted dataset are not adult only. To avoid the possibility that our subsetted data are biased, we can see there are only 9 movies classified as adult in the original dataset, so we will not using this feature in our analysis."
   ]
  },
  {
   "cell_type": "code",
   "execution_count": 13,
   "id": "009e4cef-9511-425a-b619-380e0106cb16",
   "metadata": {},
   "outputs": [
    {
     "data": {
      "text/plain": [
       "False    5121\n",
       "Name: adult, dtype: int64"
      ]
     },
     "execution_count": 13,
     "metadata": {},
     "output_type": "execute_result"
    }
   ],
   "source": [
    "df_sub['adult'].value_counts()"
   ]
  },
  {
   "cell_type": "code",
   "execution_count": 14,
   "id": "7d4e2d14-f505-4842-a9ca-bc64aa54a583",
   "metadata": {},
   "outputs": [
    {
     "data": {
      "text/plain": [
       "False    45454\n",
       "True         9\n",
       "Name: adult, dtype: int64"
      ]
     },
     "execution_count": 14,
     "metadata": {},
     "output_type": "execute_result"
    }
   ],
   "source": [
    "df['adult'].value_counts()"
   ]
  },
  {
   "cell_type": "code",
   "execution_count": 15,
   "id": "169a2141-141b-47b1-9d44-e5c7c4b3c1a5",
   "metadata": {},
   "outputs": [],
   "source": [
    "df_sub = df_sub.drop(['adult'], axis = 1)"
   ]
  },
  {
   "cell_type": "markdown",
   "id": "1856242e-eb00-438a-9162-eaca0aa0cc51",
   "metadata": {},
   "source": [
    "**Video and Status**\n",
    "\n",
    "Similar to Adult variable, video don't have much information."
   ]
  },
  {
   "cell_type": "code",
   "execution_count": 16,
   "id": "6309fec4-e513-42d8-b9b1-86592632ce03",
   "metadata": {},
   "outputs": [
    {
     "data": {
      "text/plain": [
       "False    5121\n",
       "Name: video, dtype: int64"
      ]
     },
     "execution_count": 16,
     "metadata": {},
     "output_type": "execute_result"
    }
   ],
   "source": [
    "df_sub['video'].value_counts()"
   ]
  },
  {
   "cell_type": "code",
   "execution_count": 17,
   "id": "a0ac5a98-4ff8-42eb-9341-28fa31ac3261",
   "metadata": {},
   "outputs": [
    {
     "data": {
      "text/plain": [
       "False    45367\n",
       "True        93\n",
       "Name: video, dtype: int64"
      ]
     },
     "execution_count": 17,
     "metadata": {},
     "output_type": "execute_result"
    }
   ],
   "source": [
    "df['video'].value_counts()"
   ]
  },
  {
   "cell_type": "code",
   "execution_count": 18,
   "id": "9838b64c-928c-472f-a0a7-1da662132d4a",
   "metadata": {},
   "outputs": [
    {
     "data": {
      "text/plain": [
       "Released           5117\n",
       "Rumored               2\n",
       "Post Production       2\n",
       "Name: status, dtype: int64"
      ]
     },
     "execution_count": 18,
     "metadata": {},
     "output_type": "execute_result"
    }
   ],
   "source": [
    "df_sub['status'].value_counts()"
   ]
  },
  {
   "cell_type": "code",
   "execution_count": 19,
   "id": "90d4aa4d-0f79-4bba-b75c-753be62d5a02",
   "metadata": {},
   "outputs": [
    {
     "data": {
      "text/plain": [
       "Released           45014\n",
       "Rumored              230\n",
       "Post Production       98\n",
       "In Production         20\n",
       "Planned               15\n",
       "Canceled               2\n",
       "Name: status, dtype: int64"
      ]
     },
     "execution_count": 19,
     "metadata": {},
     "output_type": "execute_result"
    }
   ],
   "source": [
    "df['status'].value_counts()"
   ]
  },
  {
   "cell_type": "code",
   "execution_count": 20,
   "id": "83bd1f7e-d067-4c93-852a-2f9f454d769e",
   "metadata": {},
   "outputs": [],
   "source": [
    "df_sub = df_sub.drop(['status', 'video', 'poster_path'], axis = 1)"
   ]
  },
  {
   "cell_type": "markdown",
   "id": "ce98f4ee-01db-4b18-87d8-c8753c2b2051",
   "metadata": {},
   "source": [
    "**Original Title**\n",
    "\n",
    "Original_title is a column that exist since some movie weren't initially in english. The following shows where the title differences from the original title. However, this information can also be extracted from original_language, so this will be removed in our analysis."
   ]
  },
  {
   "cell_type": "code",
   "execution_count": 21,
   "id": "117d6609-ad1c-4da9-9989-18465338e11a",
   "metadata": {
    "tags": []
   },
   "outputs": [
    {
     "data": {
      "text/html": [
       "<div>\n",
       "<style scoped>\n",
       "    .dataframe tbody tr th:only-of-type {\n",
       "        vertical-align: middle;\n",
       "    }\n",
       "\n",
       "    .dataframe tbody tr th {\n",
       "        vertical-align: top;\n",
       "    }\n",
       "\n",
       "    .dataframe thead th {\n",
       "        text-align: right;\n",
       "    }\n",
       "</style>\n",
       "<table border=\"1\" class=\"dataframe\">\n",
       "  <thead>\n",
       "    <tr style=\"text-align: right;\">\n",
       "      <th></th>\n",
       "      <th>title</th>\n",
       "      <th>original_title</th>\n",
       "    </tr>\n",
       "  </thead>\n",
       "  <tbody>\n",
       "    <tr>\n",
       "      <th>28</th>\n",
       "      <td>The City of Lost Children</td>\n",
       "      <td>La Cité des Enfants Perdus</td>\n",
       "    </tr>\n",
       "    <tr>\n",
       "      <th>110</th>\n",
       "      <td>Rumble in the Bronx</td>\n",
       "      <td>紅番區</td>\n",
       "    </tr>\n",
       "    <tr>\n",
       "      <th>210</th>\n",
       "      <td>Burnt by the Sun</td>\n",
       "      <td>Утомлённые солнцем</td>\n",
       "    </tr>\n",
       "    <tr>\n",
       "      <th>261</th>\n",
       "      <td>Like Water for Chocolate</td>\n",
       "      <td>Como agua para chocolate</td>\n",
       "    </tr>\n",
       "    <tr>\n",
       "      <th>269</th>\n",
       "      <td>Mary Shelley's Frankenstein</td>\n",
       "      <td>Frankenstein</td>\n",
       "    </tr>\n",
       "    <tr>\n",
       "      <th>...</th>\n",
       "      <td>...</td>\n",
       "      <td>...</td>\n",
       "    </tr>\n",
       "    <tr>\n",
       "      <th>44856</th>\n",
       "      <td>On the Hook!</td>\n",
       "      <td>Na Kryuchke!</td>\n",
       "    </tr>\n",
       "    <tr>\n",
       "      <th>45250</th>\n",
       "      <td>Sivaji: The Boss</td>\n",
       "      <td>சிவாஜி</td>\n",
       "    </tr>\n",
       "    <tr>\n",
       "      <th>45409</th>\n",
       "      <td>Savages</td>\n",
       "      <td>Dikari</td>\n",
       "    </tr>\n",
       "    <tr>\n",
       "      <th>45412</th>\n",
       "      <td>Pro Lyuboff</td>\n",
       "      <td>Про любоff</td>\n",
       "    </tr>\n",
       "    <tr>\n",
       "      <th>45422</th>\n",
       "      <td>Antidur</td>\n",
       "      <td>Антидурь</td>\n",
       "    </tr>\n",
       "  </tbody>\n",
       "</table>\n",
       "<p>408 rows × 2 columns</p>\n",
       "</div>"
      ],
      "text/plain": [
       "                             title              original_title\n",
       "28       The City of Lost Children  La Cité des Enfants Perdus\n",
       "110            Rumble in the Bronx                         紅番區\n",
       "210               Burnt by the Sun          Утомлённые солнцем\n",
       "261       Like Water for Chocolate    Como agua para chocolate\n",
       "269    Mary Shelley's Frankenstein                Frankenstein\n",
       "...                            ...                         ...\n",
       "44856                 On the Hook!                Na Kryuchke!\n",
       "45250             Sivaji: The Boss                      சிவாஜி\n",
       "45409                      Savages                      Dikari\n",
       "45412                  Pro Lyuboff                  Про любоff\n",
       "45422                      Antidur                    Антидурь\n",
       "\n",
       "[408 rows x 2 columns]"
      ]
     },
     "execution_count": 21,
     "metadata": {},
     "output_type": "execute_result"
    }
   ],
   "source": [
    "df_sub[df_sub['original_title'] != df_sub['title']][['title', 'original_title']]"
   ]
  },
  {
   "cell_type": "code",
   "execution_count": 22,
   "id": "017f4ad4-9fd6-4829-9303-d4fc3321e321",
   "metadata": {},
   "outputs": [],
   "source": [
    "df_sub = df_sub.drop(['original_title'], axis = 1)"
   ]
  },
  {
   "cell_type": "markdown",
   "id": "682b2f8b-745c-486c-af62-725896ecabc1",
   "metadata": {},
   "source": [
    "**ROI**\n",
    "\n",
    "For the sake of analysis, we decided to use Return on Investment (ROI) to measure the economic return of a movie. ROI is calculated by the dividing the total earnings by the cost, and times 100 percent. This should also help to encounter the effect of inflation or other effects that change the value of money. Thus, a new column is made named ROI, which we will be using as our response variable."
   ]
  },
  {
   "cell_type": "code",
   "execution_count": 23,
   "id": "934b0430-d563-4875-af8d-e3bcf7089047",
   "metadata": {},
   "outputs": [],
   "source": [
    "df_sub['ROI'] = (df_sub['revenue']-df_sub['budget'])/df_sub['budget']*100"
   ]
  },
  {
   "cell_type": "markdown",
   "id": "938328e0-bf48-4441-b7b1-45a5bcddfb46",
   "metadata": {},
   "source": [
    "**Year of Production**\n",
    "\n",
    "Specific date don't provide much information, since trend in movies won't change that fast. For this, I have decided to change it into only years to use for the analysis."
   ]
  },
  {
   "cell_type": "code",
   "execution_count": 24,
   "id": "6747aa26-c7b2-46a1-b968-0059df50ab21",
   "metadata": {},
   "outputs": [],
   "source": [
    "df_sub['year'] = pd.to_datetime(df['release_date'], errors='coerce').apply(lambda x: str(x).split('-')[0] if x != np.nan else np.nan)"
   ]
  },
  {
   "cell_type": "markdown",
   "id": "dd3fc791-8e0c-4484-80bb-5db544fc0aa8",
   "metadata": {},
   "source": [
    "## Outliers\n",
    "<!-- TO DO -->\n",
    "<!-- Define outlier, find outlier, discuss outlier -->\n",
    "First, I used Isolation Forest to find outliers based on my numerical entires. Here, we basically only have budget, revenue, and ROI as our variables. Since ROI is calculated by combining budget and revenue, outliers are defined only on budget and revenue here."
   ]
  },
  {
   "cell_type": "code",
   "execution_count": 25,
   "id": "ce09a98d-c1ca-45d0-8163-cd4a7765de0f",
   "metadata": {},
   "outputs": [
    {
     "name": "stdout",
     "output_type": "stream",
     "text": [
      " 1    4506\n",
      "-1     615\n",
      "Name: anomaly, dtype: int64\n"
     ]
    }
   ],
   "source": [
    "X = df_sub[['budget', 'revenue']].copy()\n",
    "from sklearn.ensemble import IsolationForest\n",
    "clf=IsolationForest(n_estimators=100, max_samples='auto', contamination=float(.12), \\\n",
    "                        max_features=1.0, bootstrap=False, n_jobs=-1, random_state=42, verbose=0)\n",
    "clf.fit(X.values)\n",
    "pred = clf.predict(X.values)\n",
    "X['anomaly']=pred\n",
    "outliers=X.loc[X['anomaly']==-1]\n",
    "outlier_index=list(outliers.index)\n",
    "#print(outlier_index)\n",
    "#Find the number of anomalies and normal points here points classified -1 are anomalous\n",
    "print(X['anomaly'].value_counts())"
   ]
  },
  {
   "cell_type": "code",
   "execution_count": 26,
   "id": "02e60a48-a06b-47f5-8a8d-54f7f3f6dc41",
   "metadata": {},
   "outputs": [
    {
     "data": {
      "image/png": "[encoded data removed]",
      "text/plain": [
       "<Figure size 640x480 with 1 Axes>"
      ]
     },
     "metadata": {},
     "output_type": "display_data"
    }
   ],
   "source": [
    "scatter_x = X[['revenue']].values\n",
    "scatter_y = X[['budget']].values\n",
    "group = X[['anomaly']].values\n",
    "cdict = {1:'red', -1:'black'}\n",
    "fig, ax = plt.subplots()\n",
    "for g in np.unique(group):\n",
    "    ix = np.where(group == g)\n",
    "    ax.scatter(scatter_x[ix], scatter_y[ix], c = cdict[g], label = g, s = 10)\n",
    "ax.legend()\n",
    "plt.show()"
   ]
  },
  {
   "cell_type": "code",
   "execution_count": 27,
   "id": "bff45336-f0b8-4a9f-8ee2-b1cfbdc09189",
   "metadata": {},
   "outputs": [
    {
     "data": {
      "text/plain": [
       "{'whiskers': [<matplotlib.lines.Line2D at 0x1dd8025dd00>,\n",
       "  <matplotlib.lines.Line2D at 0x1dd8025dfd0>],\n",
       " 'caps': [<matplotlib.lines.Line2D at 0x1dd806ab2e0>,\n",
       "  <matplotlib.lines.Line2D at 0x1dd806ab5b0>],\n",
       " 'boxes': [<matplotlib.lines.Line2D at 0x1dd8025da30>],\n",
       " 'medians': [<matplotlib.lines.Line2D at 0x1dd806ab880>],\n",
       " 'fliers': [<matplotlib.lines.Line2D at 0x1dd806abb50>],\n",
       " 'means': []}"
      ]
     },
     "execution_count": 27,
     "metadata": {},
     "output_type": "execute_result"
    },
    {
     "data": {
      "image/png": "[encoded data removed]",
      "text/plain": [
       "<Figure size 640x480 with 1 Axes>"
      ]
     },
     "metadata": {},
     "output_type": "display_data"
    }
   ],
   "source": [
    "fig1, ax1 = plt.subplots()\n",
    "ax1.set_title('ROI')\n",
    "ax1.boxplot(df_sub['ROI'], vert=False)"
   ]
  },
  {
   "cell_type": "markdown",
   "id": "445bd974-81c3-4761-b414-5ce91bf53b77",
   "metadata": {},
   "source": [
    "In the context of this study, outliers aren't a problem (if they weren't caused by error in the data). Rather, we are interested in how we can predict the super success or failure of films. Thus, outliers will not be removed for this phase."
   ]
  },
  {
   "cell_type": "markdown",
   "id": "e444bbac-f092-486f-a3e2-b472db695a25",
   "metadata": {},
   "source": [
    "**Genres**\n",
    "\n",
    "In the dataset, each movie belongs to a couple of different genres. In our subset, there are together 20 different genres, so make a new column to identify if a movie is in one of the genres."
   ]
  },
  {
   "cell_type": "code",
   "execution_count": 28,
   "id": "93c710f1-2c43-4bbe-a3ec-7c3a6fe6e553",
   "metadata": {},
   "outputs": [],
   "source": [
    "import ast\n",
    "df_sub['genres'] = df_sub['genres'].fillna('[]').apply(ast.literal_eval).apply(lambda x: [i['name'] for i in x] if isinstance(x, list) else [])"
   ]
  },
  {
   "cell_type": "code",
   "execution_count": 29,
   "id": "18a5edf0-e29e-43eb-9b76-2a9155c0a948",
   "metadata": {},
   "outputs": [],
   "source": [
    "backup = df_sub.copy()"
   ]
  },
  {
   "cell_type": "code",
   "execution_count": 30,
   "id": "e379e02b-6e28-4bd7-8f60-4cf9a4a62d7a",
   "metadata": {},
   "outputs": [
    {
     "name": "stderr",
     "output_type": "stream",
     "text": [
      "C:\\Users\\kongw\\AppData\\Local\\Temp\\ipykernel_15632\\456216203.py:1: FutureWarning: The default dtype for empty Series will be 'object' instead of 'float64' in a future version. Specify a dtype explicitly to silence this warning.\n",
      "  s = df_sub.apply(lambda x: pd.Series(x['genres']),axis=1).stack().reset_index(level=1, drop=True)\n"
     ]
    }
   ],
   "source": [
    "s = df_sub.apply(lambda x: pd.Series(x['genres']),axis=1).stack().reset_index(level=1, drop=True)\n",
    "s.name = 'genre'"
   ]
  },
  {
   "cell_type": "code",
   "execution_count": 31,
   "id": "7e740e55-f3ad-4fa4-b4e8-0050460a4b68",
   "metadata": {},
   "outputs": [],
   "source": [
    "genretag = s.unique()"
   ]
  },
  {
   "cell_type": "code",
   "execution_count": 32,
   "id": "d3ef88f6-8c33-4ae4-8e62-4c95af8b020b",
   "metadata": {},
   "outputs": [
    {
     "data": {
      "text/plain": [
       "Drama              2431\n",
       "Comedy             1761\n",
       "Thriller           1438\n",
       "Action             1376\n",
       "Romance             958\n",
       "Adventure           945\n",
       "Crime               827\n",
       "Science Fiction     614\n",
       "Horror              544\n",
       "Family              521\n",
       "Fantasy             494\n",
       "Mystery             424\n",
       "Animation           287\n",
       "History             228\n",
       "War                 192\n",
       "Music               185\n",
       "Western              86\n",
       "Documentary          47\n",
       "Foreign              24\n",
       "TV Movie              1\n",
       "Name: genre, dtype: int64"
      ]
     },
     "execution_count": 32,
     "metadata": {},
     "output_type": "execute_result"
    }
   ],
   "source": [
    "s.value_counts()"
   ]
  },
  {
   "cell_type": "code",
   "execution_count": 33,
   "id": "84a4ff70-d3dd-46da-a15d-ac4503d16e8b",
   "metadata": {},
   "outputs": [],
   "source": [
    "# make new columns\n",
    "for genre in genretag:\n",
    "    tempname = \"is\" + genre\n",
    "    tempname = tempname.replace(\" \", \"\")\n",
    "    df_sub[tempname]=0"
   ]
  },
  {
   "cell_type": "code",
   "execution_count": 34,
   "id": "93c2c0dd-6c15-4478-a4b8-98e0b0a07f1b",
   "metadata": {},
   "outputs": [],
   "source": [
    "for index, row in df_sub.iterrows():\n",
    "    for genre in genretag:\n",
    "        if genre in row['genres']:\n",
    "            tempname = \"is\" + genre\n",
    "            tempname = tempname.replace(\" \", \"\")\n",
    "            df_sub.at[index, tempname] = 1"
   ]
  },
  {
   "cell_type": "code",
   "execution_count": 35,
   "id": "7d9709bd-f084-4bcf-8540-720b92bb4886",
   "metadata": {},
   "outputs": [
    {
     "data": {
      "text/html": [
       "<div>\n",
       "<style scoped>\n",
       "    .dataframe tbody tr th:only-of-type {\n",
       "        vertical-align: middle;\n",
       "    }\n",
       "\n",
       "    .dataframe tbody tr th {\n",
       "        vertical-align: top;\n",
       "    }\n",
       "\n",
       "    .dataframe thead th {\n",
       "        text-align: right;\n",
       "    }\n",
       "</style>\n",
       "<table border=\"1\" class=\"dataframe\">\n",
       "  <thead>\n",
       "    <tr style=\"text-align: right;\">\n",
       "      <th></th>\n",
       "      <th>belongs_to_collection</th>\n",
       "      <th>budget</th>\n",
       "      <th>genres</th>\n",
       "      <th>original_language</th>\n",
       "      <th>overview</th>\n",
       "      <th>popularity</th>\n",
       "      <th>production_companies</th>\n",
       "      <th>production_countries</th>\n",
       "      <th>release_date</th>\n",
       "      <th>revenue</th>\n",
       "      <th>runtime</th>\n",
       "      <th>spoken_languages</th>\n",
       "      <th>tagline</th>\n",
       "      <th>title</th>\n",
       "      <th>vote_average</th>\n",
       "      <th>vote_count</th>\n",
       "      <th>ROI</th>\n",
       "      <th>year</th>\n",
       "      <th>isAnimation</th>\n",
       "      <th>isComedy</th>\n",
       "      <th>isFamily</th>\n",
       "      <th>isAdventure</th>\n",
       "      <th>isFantasy</th>\n",
       "      <th>isDrama</th>\n",
       "      <th>isRomance</th>\n",
       "      <th>isAction</th>\n",
       "      <th>isCrime</th>\n",
       "      <th>isThriller</th>\n",
       "      <th>isHistory</th>\n",
       "      <th>isScienceFiction</th>\n",
       "      <th>isMystery</th>\n",
       "      <th>isHorror</th>\n",
       "      <th>isWar</th>\n",
       "      <th>isDocumentary</th>\n",
       "      <th>isWestern</th>\n",
       "      <th>isMusic</th>\n",
       "      <th>isForeign</th>\n",
       "      <th>isTVMovie</th>\n",
       "    </tr>\n",
       "  </thead>\n",
       "  <tbody>\n",
       "    <tr>\n",
       "      <th>0</th>\n",
       "      <td>{'id': 10194, 'name': 'Toy Story Collection', ...</td>\n",
       "      <td>30000000</td>\n",
       "      <td>[Animation, Comedy, Family]</td>\n",
       "      <td>en</td>\n",
       "      <td>Led by Woody, Andy's toys live happily in his ...</td>\n",
       "      <td>21.946943</td>\n",
       "      <td>[{'name': 'Pixar Animation Studios', 'id': 3}]</td>\n",
       "      <td>[{'iso_3166_1': 'US', 'name': 'United States o...</td>\n",
       "      <td>1995-10-30</td>\n",
       "      <td>373,554,033.00</td>\n",
       "      <td>81.00</td>\n",
       "      <td>[{'iso_639_1': 'en', 'name': 'English'}]</td>\n",
       "      <td>NaN</td>\n",
       "      <td>Toy Story</td>\n",
       "      <td>7.70</td>\n",
       "      <td>5,415.00</td>\n",
       "      <td>1,145.18</td>\n",
       "      <td>1995</td>\n",
       "      <td>1</td>\n",
       "      <td>1</td>\n",
       "      <td>1</td>\n",
       "      <td>0</td>\n",
       "      <td>0</td>\n",
       "      <td>0</td>\n",
       "      <td>0</td>\n",
       "      <td>0</td>\n",
       "      <td>0</td>\n",
       "      <td>0</td>\n",
       "      <td>0</td>\n",
       "      <td>0</td>\n",
       "      <td>0</td>\n",
       "      <td>0</td>\n",
       "      <td>0</td>\n",
       "      <td>0</td>\n",
       "      <td>0</td>\n",
       "      <td>0</td>\n",
       "      <td>0</td>\n",
       "      <td>0</td>\n",
       "    </tr>\n",
       "  </tbody>\n",
       "</table>\n",
       "</div>"
      ],
      "text/plain": [
       "                               belongs_to_collection    budget  \\\n",
       "0  {'id': 10194, 'name': 'Toy Story Collection', ...  30000000   \n",
       "\n",
       "                        genres original_language  \\\n",
       "0  [Animation, Comedy, Family]                en   \n",
       "\n",
       "                                            overview popularity  \\\n",
       "0  Led by Woody, Andy's toys live happily in his ...  21.946943   \n",
       "\n",
       "                             production_companies  \\\n",
       "0  [{'name': 'Pixar Animation Studios', 'id': 3}]   \n",
       "\n",
       "                                production_countries release_date  \\\n",
       "0  [{'iso_3166_1': 'US', 'name': 'United States o...   1995-10-30   \n",
       "\n",
       "         revenue  runtime                          spoken_languages tagline  \\\n",
       "0 373,554,033.00    81.00  [{'iso_639_1': 'en', 'name': 'English'}]     NaN   \n",
       "\n",
       "       title  vote_average  vote_count      ROI  year  isAnimation  isComedy  \\\n",
       "0  Toy Story          7.70    5,415.00 1,145.18  1995            1         1   \n",
       "\n",
       "   isFamily  isAdventure  isFantasy  isDrama  isRomance  isAction  isCrime  \\\n",
       "0         1            0          0        0          0         0        0   \n",
       "\n",
       "   isThriller  isHistory  isScienceFiction  isMystery  isHorror  isWar  \\\n",
       "0           0          0                 0          0         0      0   \n",
       "\n",
       "   isDocumentary  isWestern  isMusic  isForeign  isTVMovie  \n",
       "0              0          0        0          0          0  "
      ]
     },
     "execution_count": 35,
     "metadata": {},
     "output_type": "execute_result"
    }
   ],
   "source": [
    "df_sub.head(1)"
   ]
  },
  {
   "cell_type": "markdown",
   "id": "77a1c663-9aaa-4c94-a514-16f5495d4745",
   "metadata": {},
   "source": [
    "### Models"
   ]
  },
  {
   "cell_type": "markdown",
   "id": "ed04ba93-d314-4ae1-b0c9-d05277da4934",
   "metadata": {},
   "source": [
    "Since our data obviously is not normal, we will have to use non-parametric methods.\n",
    "#### Random Forest"
   ]
  },
  {
   "cell_type": "code",
   "execution_count": 36,
   "id": "84d6f5e6-4c34-492f-a1d8-c79bdf690450",
   "metadata": {},
   "outputs": [],
   "source": [
    "X_train, X_test, y_train, y_test = train_test_split(\n",
    "    df_sub[['budget', 'runtime', 'year', 'isAnimation', 'isComedy', 'isFamily', \n",
    "            'isAdventure', 'isFantasy', 'isDrama', 'isRomance', 'isAction', 'isCrime', 'isThriller',\n",
    "            'isHistory', 'isScienceFiction', 'isMystery', 'isHorror', 'isWar', 'isDocumentary']],\n",
    "    df_sub['ROI'], test_size = .2, random_state = 10) #split the data"
   ]
  },
  {
   "cell_type": "code",
   "execution_count": 37,
   "id": "6db19d5e-ca41-486c-aac8-38ffa93fdcc9",
   "metadata": {},
   "outputs": [
    {
     "data": {
      "text/html": [
       "<style>#sk-container-id-1 {color: black;background-color: white;}#sk-container-id-1 pre{padding: 0;}#sk-container-id-1 div.sk-toggleable {background-color: white;}#sk-container-id-1 label.sk-toggleable__label {cursor: pointer;display: block;width: 100%;margin-bottom: 0;padding: 0.3em;box-sizing: border-box;text-align: center;}#sk-container-id-1 label.sk-toggleable__label-arrow:before {content: \"▸\";float: left;margin-right: 0.25em;color: #696969;}#sk-container-id-1 label.sk-toggleable__label-arrow:hover:before {color: black;}#sk-container-id-1 div.sk-estimator:hover label.sk-toggleable__label-arrow:before {color: black;}#sk-container-id-1 div.sk-toggleable__content {max-height: 0;max-width: 0;overflow: hidden;text-align: left;background-color: #f0f8ff;}#sk-container-id-1 div.sk-toggleable__content pre {margin: 0.2em;color: black;border-radius: 0.25em;background-color: #f0f8ff;}#sk-container-id-1 input.sk-toggleable__control:checked~div.sk-toggleable__content {max-height: 200px;max-width: 100%;overflow: auto;}#sk-container-id-1 input.sk-toggleable__control:checked~label.sk-toggleable__label-arrow:before {content: \"▾\";}#sk-container-id-1 div.sk-estimator input.sk-toggleable__control:checked~label.sk-toggleable__label {background-color: #d4ebff;}#sk-container-id-1 div.sk-label input.sk-toggleable__control:checked~label.sk-toggleable__label {background-color: #d4ebff;}#sk-container-id-1 input.sk-hidden--visually {border: 0;clip: rect(1px 1px 1px 1px);clip: rect(1px, 1px, 1px, 1px);height: 1px;margin: -1px;overflow: hidden;padding: 0;position: absolute;width: 1px;}#sk-container-id-1 div.sk-estimator {font-family: monospace;background-color: #f0f8ff;border: 1px dotted black;border-radius: 0.25em;box-sizing: border-box;margin-bottom: 0.5em;}#sk-container-id-1 div.sk-estimator:hover {background-color: #d4ebff;}#sk-container-id-1 div.sk-parallel-item::after {content: \"\";width: 100%;border-bottom: 1px solid gray;flex-grow: 1;}#sk-container-id-1 div.sk-label:hover label.sk-toggleable__label {background-color: #d4ebff;}#sk-container-id-1 div.sk-serial::before {content: \"\";position: absolute;border-left: 1px solid gray;box-sizing: border-box;top: 0;bottom: 0;left: 50%;z-index: 0;}#sk-container-id-1 div.sk-serial {display: flex;flex-direction: column;align-items: center;background-color: white;padding-right: 0.2em;padding-left: 0.2em;position: relative;}#sk-container-id-1 div.sk-item {position: relative;z-index: 1;}#sk-container-id-1 div.sk-parallel {display: flex;align-items: stretch;justify-content: center;background-color: white;position: relative;}#sk-container-id-1 div.sk-item::before, #sk-container-id-1 div.sk-parallel-item::before {content: \"\";position: absolute;border-left: 1px solid gray;box-sizing: border-box;top: 0;bottom: 0;left: 50%;z-index: -1;}#sk-container-id-1 div.sk-parallel-item {display: flex;flex-direction: column;z-index: 1;position: relative;background-color: white;}#sk-container-id-1 div.sk-parallel-item:first-child::after {align-self: flex-end;width: 50%;}#sk-container-id-1 div.sk-parallel-item:last-child::after {align-self: flex-start;width: 50%;}#sk-container-id-1 div.sk-parallel-item:only-child::after {width: 0;}#sk-container-id-1 div.sk-dashed-wrapped {border: 1px dashed gray;margin: 0 0.4em 0.5em 0.4em;box-sizing: border-box;padding-bottom: 0.4em;background-color: white;}#sk-container-id-1 div.sk-label label {font-family: monospace;font-weight: bold;display: inline-block;line-height: 1.2em;}#sk-container-id-1 div.sk-label-container {text-align: center;}#sk-container-id-1 div.sk-container {/* jupyter's `normalize.less` sets `[hidden] { display: none; }` but bootstrap.min.css set `[hidden] { display: none !important; }` so we also need the `!important` here to be able to override the default hidden behavior on the sphinx rendered scikit-learn.org. See: https://github.com/scikit-learn/scikit-learn/issues/21755 */display: inline-block !important;position: relative;}#sk-container-id-1 div.sk-text-repr-fallback {display: none;}</style><div id=\"sk-container-id-1\" class=\"sk-top-container\"><div class=\"sk-text-repr-fallback\"><pre>RandomForestRegressor(random_state=10)</pre><b>In a Jupyter environment, please rerun this cell to show the HTML representation or trust the notebook. <br />On GitHub, the HTML representation is unable to render, please try loading this page with nbviewer.org.</b></div><div class=\"sk-container\" hidden><div class=\"sk-item\"><div class=\"sk-estimator sk-toggleable\"><input class=\"sk-toggleable__control sk-hidden--visually\" id=\"sk-estimator-id-1\" type=\"checkbox\" checked><label for=\"sk-estimator-id-1\" class=\"sk-toggleable__label sk-toggleable__label-arrow\">RandomForestRegressor</label><div class=\"sk-toggleable__content\"><pre>RandomForestRegressor(random_state=10)</pre></div></div></div></div></div>"
      ],
      "text/plain": [
       "RandomForestRegressor(random_state=10)"
      ]
     },
     "execution_count": 37,
     "metadata": {},
     "output_type": "execute_result"
    }
   ],
   "source": [
    "# Fitting Random Forest Regression to the dataset\n",
    "# import the regressor\n",
    "from sklearn.ensemble import RandomForestRegressor\n",
    " \n",
    " # create regressor object\n",
    "regressor = RandomForestRegressor(n_estimators = 100, random_state = 10)\n",
    " \n",
    "# fit the regressor with x and y data\n",
    "regressor.fit(X_train, y_train) "
   ]
  },
  {
   "cell_type": "code",
   "execution_count": 38,
   "id": "38b87803-4859-4913-a56d-e0f610f3a935",
   "metadata": {},
   "outputs": [],
   "source": [
    "y_pred = regressor.predict(X_test)  # test the output by changing values"
   ]
  },
  {
   "cell_type": "code",
   "execution_count": 39,
   "id": "1a920f4d-783c-49ca-b646-a312d2e2115d",
   "metadata": {},
   "outputs": [
    {
     "data": {
      "text/plain": [
       "0.14252468737859858"
      ]
     },
     "execution_count": 39,
     "metadata": {},
     "output_type": "execute_result"
    }
   ],
   "source": [
    "from sklearn.metrics import r2_score\n",
    "r2_score(y_test, y_pred)"
   ]
  },
  {
   "cell_type": "code",
   "execution_count": 40,
   "id": "c1c2bf33-e1ae-467f-bf00-b63ce414ce01",
   "metadata": {},
   "outputs": [],
   "source": [
    "from sklearn.inspection import permutation_importance\n",
    "result = permutation_importance(\n",
    "    regressor, X_test, y_test, n_repeats=10, random_state=10, n_jobs=2\n",
    ")\n",
    "forest_importances = pd.Series(result.importances_mean, index = list(X_train.columns.values))"
   ]
  },
  {
   "cell_type": "code",
   "execution_count": 41,
   "id": "8ae4c779-5955-4f20-9c56-bfbc0142886f",
   "metadata": {},
   "outputs": [
    {
     "data": {
      "image/png": "[encoded data removed]",
      "text/plain": [
       "<Figure size 640x480 with 1 Axes>"
      ]
     },
     "metadata": {},
     "output_type": "display_data"
    }
   ],
   "source": [
    "fig, ax = plt.subplots()\n",
    "forest_importances.plot.bar(yerr=result.importances_std, ax=ax)\n",
    "ax.set_title(\"Feature importances using permutation on full model\")\n",
    "ax.set_ylabel(\"Mean accuracy decrease\")\n",
    "fig.tight_layout()\n",
    "plt.show()"
   ]
  },
  {
   "cell_type": "markdown",
   "id": "c2c4b8bb-d89c-428b-9fb6-8ebfd90c6387",
   "metadata": {},
   "source": [
    "#### XGBoost\n"
   ]
  },
  {
   "cell_type": "code",
   "execution_count": null,
   "id": "cb3387f5-c842-45e7-a624-30bca7fd7c9a",
   "metadata": {},
   "outputs": [
    {
     "data": {
      "text/plain": [
       "-0.036161952841863076"
      ]
     },
     "execution_count": 43,
     "metadata": {},
     "output_type": "execute_result"
    }
   ],
   "source": [
    "from sklearn import ensemble\n",
    "from sklearn.inspection import permutation_importance\n",
    "params = {\n",
    "    \"n_estimators\": 500,\n",
    "    \"max_depth\": 4,\n",
    "    \"min_samples_split\": 5,\n",
    "    \"learning_rate\": 0.01,\n",
    "    \"loss\": \"squared_error\",\n",
    "}\n",
    "reg = ensemble.GradientBoostingRegressor(**params)\n",
    "reg.fit(X_train, y_train)\n",
    "y_pred = reg.predict(X_test)\n",
    "r2_score(y_test, y_pred)"
   ]
  },
  {
   "cell_type": "code",
   "execution_count": 50,
   "id": "743c8018-2d79-4da0-b63e-cd40d123eecb",
   "metadata": {},
   "outputs": [
    {
     "data": {
      "image/png": "[encoded data removed]",
      "text/plain": [
       "<Figure size 640x480 with 1 Axes>"
      ]
     },
     "metadata": {},
     "output_type": "display_data"
    }
   ],
   "source": [
    "result = permutation_importance(\n",
    "    reg, X_test, y_test, n_repeats=10, random_state=10, n_jobs=2\n",
    ")\n",
    "forest_importances = pd.Series(result.importances_mean, index = list(X_train.columns.values))\n",
    "fig, ax = plt.subplots()\n",
    "forest_importances.plot.bar(yerr=result.importances_std, ax=ax)\n",
    "ax.set_title(\"Feature importances using permutation on full model\")\n",
    "ax.set_ylabel(\"Mean accuracy decrease\")\n",
    "fig.tight_layout()\n",
    "plt.show()"
   ]
  },
  {
   "cell_type": "markdown",
   "id": "fefde58e-f7af-4a43-a3fc-7d45f851ef08",
   "metadata": {},
   "source": [
    "### Conclusion for now\n",
    "\n",
    "It seems not possible to predict the ROI of a movie: and this is validated by other papers in the field. It is believe that movie industry follows a distribution with infinite variance, and its success is highly based on pure chance. Thus, it will be much more sensible to explore what effect the chance that a movie will succeed, and this will be the focus of this project later on."
   ]
  },
  {
   "cell_type": "markdown",
   "id": "8e200b7c-12fb-4fa8-a5bb-6a693043371d",
   "metadata": {},
   "source": [
    "### Further Steps"
   ]
  },
  {
   "cell_type": "markdown",
   "id": "4905ed6d-b0fc-4a31-91a4-4582d3acd5ef",
   "metadata": {},
   "source": [
    "#### Measure for variables that will predict the possiblity to succeed rather than predict return\n",
    "\n",
    "First, a measure need to be decided on what is \"succeed in the field\". And then, it will be possible to model on the possibility of success or do classifications on \"if a movie will succeed\"."
   ]
  },
  {
   "cell_type": "markdown",
   "id": "da1bf5e2-b81f-49c1-9743-e068c1d413ab",
   "metadata": {},
   "source": [
    "#### Measure each variable's effect on previous point"
   ]
  },
  {
   "cell_type": "markdown",
   "id": "3126b820-84e8-42d3-bf2e-9731c3a9a502",
   "metadata": {},
   "source": [
    "#### Time series analysis? If time allows\n",
    "By grouping the movies by year, it may be possible to discover trend using time series analysis techniques."
   ]
  },
  {
   "cell_type": "code",
   "execution_count": null,
   "id": "9112c0b4-33a1-450f-8147-e3d799caf0e5",
   "metadata": {},
   "outputs": [],
   "source": [
    "a = df_sub.groupby('year')['ROI'].max()\n",
    "b = df_sub.groupby('year')['ROI'].mean()"
   ]
  },
  {
   "cell_type": "code",
   "execution_count": null,
   "id": "3872f0bb-0a54-49ac-8381-b335d7ed5d91",
   "metadata": {},
   "outputs": [],
   "source": [
    "plt.plot(a.index, a)\n",
    "plt.xticks(np.arange(0, 110, 10))\n",
    "plt.xlabel('max ROI')\n",
    "plt.show()"
   ]
  },
  {
   "cell_type": "code",
   "execution_count": null,
   "id": "c1203ba3-4f38-4fc0-865a-5cde59b0cf01",
   "metadata": {},
   "outputs": [],
   "source": [
    "plt.plot(b.index, b)\n",
    "plt.xticks(np.arange(0, 110, 10))\n",
    "plt.xlabel('mean ROI')\n",
    "plt.show()"
   ]
  },
  {
   "cell_type": "markdown",
   "id": "83bfb384-f496-4f87-973d-ad4594675f62",
   "metadata": {
    "tags": []
   },
   "source": [
    "## Bibliography"
   ]
  },
  {
   "cell_type": "markdown",
   "id": "bd5d8667-899e-4b4f-9b4f-7cc43ab09f6f",
   "metadata": {
    "tags": []
   },
   "source": [
    "Banik, Rounak. “The Movies Dataset.” Kaggle, ROUNAK BANIK, 10 Nov. 2017, https://www.kaggle.com/datasets/rounakbanik/the-movies-dataset?select=movies_metadata.csv. "
   ]
  },
  {
   "cell_type": "markdown",
   "id": "91206777-6ef9-4a7f-b4a7-82659d7e2faa",
   "metadata": {},
   "source": [
    "De Vany, Arthur, and W. David Walls. “Uncertainty in the Movie Industry: Does Star Power Reduce the Terror of the Box Office?” Journal of Cultural Economics, vol. 23, no. 4, Nov. 1999, pp. 285–318., https://doi.org/10.1023/a:1007608125988. "
   ]
  },
  {
   "cell_type": "markdown",
   "id": "fd5ee12d-bad8-47df-b36e-45f52cb2f2b6",
   "metadata": {},
   "source": [
    "De Vany, Arthur, and W. David Walls. “Bose-Einstein Dynamics and Adaptive Contracting in the Motion Picture Industry.” The Economic Journal, vol. 106, no. 439, 1996, pp. 1493–514. JSTOR, https://doi.org/10.2307/2235197. Accessed 6 Mar. 2023."
   ]
  },
  {
   "cell_type": "code",
   "execution_count": null,
   "id": "8259cea3-7d50-4091-82b9-fbee04c781bc",
   "metadata": {},
   "outputs": [],
   "source": []
  }
 ],
 "metadata": {
  "kernelspec": {
   "display_name": "Python 3 (ipykernel)",
   "language": "python",
   "name": "python3"
  },
  "language_info": {
   "codemirror_mode": {
    "name": "ipython",
    "version": 3
   },
   "file_extension": ".py",
   "mimetype": "text/x-python",
   "name": "python",
   "nbconvert_exporter": "python",
   "pygments_lexer": "ipython3",
   "version": "3.9.13"
  }
 },
 "nbformat": 4,
 "nbformat_minor": 5
}
