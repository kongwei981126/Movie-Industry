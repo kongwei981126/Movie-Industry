{
 "cells": [
  {
   "cell_type": "code",
   "execution_count": 1,
   "id": "af1eae55-116d-4410-96cd-0fb4a15df5d6",
   "metadata": {
    "tags": []
   },
   "outputs": [],
   "source": [
    "#Preparations\n",
    "#Import the libraries\n",
    "import pandas as pd\n",
    "import numpy as np\n",
    "import matplotlib.pyplot as plt\n",
    "from sklearn.model_selection import train_test_split\n",
    "from tqdm import tqdm\n",
    "import re\n",
    "import warnings\n",
    "\n",
    "\n",
    "#Settings\n",
    "pd.set_option('display.max_columns', None)\n",
    "pd.set_option('display.float_format',  '{:,.2f}'.format)\n",
    "pd.set_option('display.precision', 2)\n",
    "\n",
    "#import the dataset\n",
    "df = pd.read_csv('metadata.csv', low_memory=False, thousands=',')\n",
    "\n",
    "# Fix some entires\n",
    "df['Domestic Box Office'] = df['Domestic Box Office'].fillna(0)\n",
    "df['International Box Office'] = df['International Box Office'].fillna(0)\n",
    "df['Worldwide Box Office'] = df['Worldwide Box Office'].fillna(0)\n",
    "\n",
    "df['Revenue'] = np.maximum(df['Domestic Box Office'] + df['International Box Office'], df['Worldwide Box Office'])\n",
    "for index, row in df.iterrows():\n",
    "    if pd.isna(row['Leading Cast']):\n",
    "        df.at[index, 'Leading Cast'] = df.at[index, 'Lead Ensemble Members']\n",
    "        \n",
    "        # Subsetting rows with both Budget and Revenue\n",
    "df_sub = df.loc[(df['Revenue'] != 0) & (df['Budget'] != 0)].copy()\n",
    "# Compute ROI\n",
    "df_sub['ROI'] = (df_sub['Revenue']-df_sub['Budget'])/df_sub['Budget']*100"
   ]
  },
  {
   "cell_type": "code",
   "execution_count": null,
   "id": "76b8a063-6353-4bea-9aa2-a74c6663d0b1",
   "metadata": {
    "tags": []
   },
   "outputs": [],
   "source": [
    "mon = ['January', 'February', 'March', 'April', 'May', 'June', 'July', 'August', 'September', 'October', 'November', 'December']\n",
    "dom_rel_month = pd.Series([])\n",
    "for index, row in df_sub['Domestic Release'].to_frame().iterrows():\n",
    "    d = \"\"\n",
    "    if not pd.isna(row[0]):\n",
    "        d = re.findall(r\"([a-zA-Z]+)\", row[0])\n",
    "        if d != [] and d[0] in mon:\n",
    "            t = d[0]\n",
    "        else:\n",
    "            t = np.nan\n",
    "    else: \n",
    "        t = np.nan\n",
    "    with warnings.catch_warnings():\n",
    "        warnings.simplefilter(action = 'ignore', category = FutureWarning)\n",
    "        dom_rel_month = dom_rel_month.append(pd.Series(data = t))"
   ]
  },
  {
   "cell_type": "code",
   "execution_count": null,
   "id": "1b407707-67ad-4b85-9caf-583765fe9715",
   "metadata": {
    "tags": []
   },
   "outputs": [],
   "source": [
    "int_rel_month = pd.Series([])\n",
    "for index, row in df_sub['International Release'].to_frame().iterrows():\n",
    "    d = \"\"\n",
    "    if not pd.isna(row[0]):\n",
    "        d = re.findall(r\"([a-zA-Z]+)\", row[0])\n",
    "        if d != [] and d[0] in mon:\n",
    "            t = d[0]\n",
    "        else:\n",
    "            t = np.nan\n",
    "    else: \n",
    "        t = np.nan\n",
    "    with warnings.catch_warnings():\n",
    "        warnings.simplefilter(action = 'ignore', category = FutureWarning)\n",
    "        int_rel_month = int_rel_month.append(pd.Series(data = t))"
   ]
  },
  {
   "cell_type": "code",
   "execution_count": null,
   "id": "7a664849-4702-4f7e-a383-a2e06179210d",
   "metadata": {},
   "outputs": [],
   "source": [
    "df_sub['int_rel_month'] = int_rel_month.to_list()\n",
    "df_sub['dom_rel_month'] = dom_rel_month.to_list()\n",
    "df_sub['Year'] = ''\n",
    "df_sub['Month'] = ''\n",
    "\n",
    "from datetime import datetime\n",
    "\n",
    "for index, row in df_sub.iterrows():\n",
    "    if pd.isna(row['Dom Year']):\n",
    "        df_sub.at[index, 'Year'] = row['Int Year']\n",
    "        df_sub.at[index, 'Month'] = row['int_rel_month']\n",
    "    else: \n",
    "        # dom year not na\n",
    "        if pd.isna(row['Int Year']):\n",
    "            df_sub.at[index, 'Year'] = row['Dom Year']\n",
    "            df_sub.at[index, 'Month'] = row['dom_rel_month']\n",
    "        else:\n",
    "            #both year not na\n",
    "            if row['Dom Year'] == row['Int Year']:\n",
    "                df_sub.at[index, 'Year'] = row['Dom Year']\n",
    "                # month\n",
    "                if pd.isna(row['int_rel_month']):\n",
    "                    df_sub.at[index, 'Month'] = row['dom_rel_month']\n",
    "                elif pd.isna(row['dom_rel_month']):\n",
    "                    df_sub.at[index, 'Month'] = row['int_rel_month']\n",
    "                else:\n",
    "                    #compare month\n",
    "                    i = datetime.strptime(row['int_rel_month'], '%B').month\n",
    "                    d = datetime.strptime(row['dom_rel_month'], '%B').month\n",
    "                    if i <= d:\n",
    "                        df_sub.at[index, 'Month'] = row['int_rel_month']\n",
    "                    else:\n",
    "                        df_sub.at[index, 'Month'] = row['dom_rel_month']\n",
    "            elif row['Dom Year'] < row['Int Year']:\n",
    "                df_sub.at[index, 'Year'] = row['Dom Year']\n",
    "                df_sub.at[index, 'Month'] = row['dom_rel_month']\n",
    "            else: \n",
    "                df_sub.at[index, 'Year'] = row['Int Year']\n",
    "                df_sub.at[index, 'Month'] = row['int_rel_month']\n"
   ]
  },
  {
   "cell_type": "code",
   "execution_count": null,
   "id": "a07fb021-6621-480d-8c7d-225534558a54",
   "metadata": {},
   "outputs": [],
   "source": [
    "df_sub['int_rel_month'] = int_rel_month.to_list()\n",
    "df_sub['dom_rel_month'] = dom_rel_month.to_list()\n",
    "df_sub['Year'] = ''\n",
    "df_sub['Month'] = ''\n",
    "\n",
    "from datetime import datetime\n",
    "\n",
    "for index, row in df_sub.iterrows():\n",
    "    if pd.isna(row['Dom Year']):\n",
    "        df_sub.at[index, 'Year'] = row['Int Year']\n",
    "        df_sub.at[index, 'Month'] = row['int_rel_month']\n",
    "    else: \n",
    "        # dom year not na\n",
    "        if pd.isna(row['Int Year']):\n",
    "            df_sub.at[index, 'Year'] = row['Dom Year']\n",
    "            df_sub.at[index, 'Month'] = row['dom_rel_month']\n",
    "        else:\n",
    "            #both year not na\n",
    "            if row['Dom Year'] == row['Int Year']:\n",
    "                df_sub.at[index, 'Year'] = row['Dom Year']\n",
    "                # month\n",
    "                if pd.isna(row['int_rel_month']):\n",
    "                    df_sub.at[index, 'Month'] = row['dom_rel_month']\n",
    "                elif pd.isna(row['dom_rel_month']):\n",
    "                    df_sub.at[index, 'Month'] = row['int_rel_month']\n",
    "                else:\n",
    "                    #compare month\n",
    "                    i = datetime.strptime(row['int_rel_month'], '%B').month\n",
    "                    d = datetime.strptime(row['dom_rel_month'], '%B').month\n",
    "                    if i <= d:\n",
    "                        df_sub.at[index, 'Month'] = row['int_rel_month']\n",
    "                    else:\n",
    "                        df_sub.at[index, 'Month'] = row['dom_rel_month']\n",
    "            elif row['Dom Year'] < row['Int Year']:\n",
    "                df_sub.at[index, 'Year'] = row['Dom Year']\n",
    "                df_sub.at[index, 'Month'] = row['dom_rel_month']\n",
    "            else: \n",
    "                df_sub.at[index, 'Year'] = row['Int Year']\n",
    "                df_sub.at[index, 'Month'] = row['int_rel_month']\n",
    "            "
   ]
  },
  {
   "cell_type": "code",
   "execution_count": null,
   "id": "0efd97f7-e4c2-4f9c-9a85-5e510e5308fa",
   "metadata": {},
   "outputs": [],
   "source": [
    "df_sub['is_Franchise'] = np.where(pd.isna(df_sub['Franchise']), False, True)"
   ]
  },
  {
   "cell_type": "code",
   "execution_count": null,
   "id": "bbf36c71-4279-4319-8567-ca6395d25f35",
   "metadata": {},
   "outputs": [],
   "source": [
    "dataset = df_sub[['moviename', 'Budget', 'Revenue', 'ROI', 'Year', 'Month',\n",
    "            'Rating', 'Franchise', 'is_Franchise', 'Keywords', 'Genre', 'Production Method',\n",
    "            'Creative Type', 'Production/Financing Companies', 'Leading Cast', 'Director']].copy()\n",
    "dataset = dataset[~dataset['Year'].isna()]\n",
    "dataset = dataset.loc[dataset['ROI'] < 50000]\n",
    "dataset = dataset.loc[dataset['ROI'] > -95]"
   ]
  },
  {
   "cell_type": "code",
   "execution_count": null,
   "id": "3139ce27-7550-4c00-a5e7-aec4e846a578",
   "metadata": {},
   "outputs": [],
   "source": [
    "# dataset.to_csv('dataset0504.csv', index = False)"
   ]
  },
  {
   "cell_type": "markdown",
   "id": "26be60e7-a866-48ef-9f9d-0d78b4b02669",
   "metadata": {},
   "source": [
    "### -------------------------------------------------------------\n",
    "### Function helpers in timewindows"
   ]
  },
  {
   "cell_type": "code",
   "execution_count": null,
   "id": "67208d8c-d045-4e5a-9490-dd0aafdb28a0",
   "metadata": {},
   "outputs": [],
   "source": [
    "dataset = pd.read_csv('dataset0504.csv', low_memory=False, thousands=',')"
   ]
  },
  {
   "cell_type": "code",
   "execution_count": null,
   "id": "e53ba649-a457-499b-8b3c-ddbe16f755cf",
   "metadata": {},
   "outputs": [],
   "source": [
    "import ast\n",
    "dataset['Leading Cast'] = dataset['Leading Cast'].fillna('[]').apply(ast.literal_eval)\n",
    "dataset['Director'] = dataset['Director'].fillna('[]').apply(ast.literal_eval)"
   ]
  },
  {
   "cell_type": "code",
   "execution_count": null,
   "id": "858a82ff-06be-4995-a976-5a922d526b08",
   "metadata": {},
   "outputs": [],
   "source": [
    "def castinfo(timewindow_actor, star_actor_num, dataset):\n",
    "    cast_table = pd.DataFrame()\n",
    "\n",
    "    for y in range(1980, 2024, 1):\n",
    "        # get reference set for movie to be released in year y \n",
    "        subset = dataset.loc[dataset['Year'] <= y - 2].copy()\n",
    "        subset = subset.loc[subset['Year'] > y - 2 - timewindow_actor].copy()\n",
    "\n",
    "        # create table of total revenue of all actors in the past timewindow\n",
    "        cast_year = pd.DataFrame(columns = ['name', 'year', 'Total Revenue', 'Star Actor'])\n",
    "        for index, row in subset.iterrows():\n",
    "            lead = row['Leading Cast']\n",
    "            if lead != []:\n",
    "                for name in lead:\n",
    "                    if name in cast_year['name'].values:\n",
    "                        rownum = np.where(cast_year['name'] == name)[0][0]\n",
    "                        cast_year.at[rownum, 'Total Revenue'] = cast_year.at[rownum, 'Total Revenue'] + row['Revenue']\n",
    "                    else:\n",
    "                        cast_year.loc[len(cast_year)] = [name, y, row['Revenue'], False]\n",
    "\n",
    "        # Find stars in this timewindow\n",
    "        topactor = cast_year.sort_values(by = ['Total Revenue'], ascending = False)['name'].head(star_actor_num).reset_index(drop = True)\n",
    "        for name in topactor:\n",
    "            rownum = np.where(cast_year['name'] == name)[0][0]\n",
    "            cast_year.at[rownum, 'Star Actor'] = True\n",
    "\n",
    "        # Append to the main table\n",
    "        cast_table = pd.concat([cast_table, cast_year], ignore_index = True)\n",
    "\n",
    "    # Create two new features\n",
    "    dataset['has_star_actor'] = False\n",
    "    dataset['actor_revenue_before'] = 0\n",
    "    for index, row in dataset.iterrows():\n",
    "        lead = row['Leading Cast']\n",
    "        if lead != []:\n",
    "            temp = cast_table.loc[cast_table['year'] == row['Year']].copy()\n",
    "            star_of_year = temp.loc[temp['Star Actor']]['name'].values\n",
    "            namelist = temp['name'].values\n",
    "            for name in lead:\n",
    "                if name in star_of_year:\n",
    "                    dataset.at[index, 'has_star_actor'] = True\n",
    "                if name in namelist:\n",
    "                    dataset.at[index, 'actor_revenue_before'] = dataset.at[index, 'actor_revenue_before'] + temp.loc[temp['name'] == name]['Total Revenue'].values[0]\n",
    "    return dataset"
   ]
  },
  {
   "cell_type": "code",
   "execution_count": null,
   "id": "e4c203a8-e9d8-428e-921a-a6148ef0e62c",
   "metadata": {},
   "outputs": [],
   "source": [
    "def directorinfo(timewindow_director, star_director_num, dataset):\n",
    "    director_table = pd.DataFrame()\n",
    "\n",
    "    for y in range(1980, 2024, 1):\n",
    "        # get reference set for movie to be released in year y \n",
    "        subset = dataset.loc[dataset['Year'] <= y - 2].copy()\n",
    "        subset = subset.loc[subset['Year'] > y - 2 - timewindow_director].copy()\n",
    "\n",
    "        # create table of total revenue of all directors in the past timewindow\n",
    "        director_year = pd.DataFrame(columns = ['name', 'year', 'Total Revenue', 'Star Director'])\n",
    "        for index, row in subset.iterrows():\n",
    "            lead = row['Director']\n",
    "            if lead != []:\n",
    "                for name in lead:\n",
    "                    if name in director_year['name'].values:\n",
    "                        rownum = np.where(director_year['name'] == name)[0][0]\n",
    "                        director_year.at[rownum, 'Total Revenue'] = director_year.at[rownum, 'Total Revenue'] + row['Revenue']\n",
    "                    else:\n",
    "                        director_year.loc[len(director_year)] = [name, y, row['Revenue'], False]\n",
    "\n",
    "        # Find stars in this timewindow\n",
    "        topdirector = director_year.sort_values(by = ['Total Revenue'], ascending = False)['name'].head(star_director_num).reset_index(drop = True)\n",
    "        for name in topdirector:\n",
    "            rownum = np.where(director_year['name'] == name)[0][0]\n",
    "            director_year.at[rownum, 'Star Director'] = True\n",
    "\n",
    "        # Append to the main table\n",
    "        director_table = pd.concat([director_table, director_year], ignore_index = True)\n",
    "\n",
    "    # Create two new features\n",
    "    dataset['has_star_director'] = False\n",
    "    dataset['director_revenue_before'] = 0\n",
    "    for index, row in dataset.iterrows():\n",
    "        lead = row['Director']\n",
    "        if lead != []:\n",
    "            temp = director_table.loc[director_table['year'] == row['Year']].copy()\n",
    "            star_of_year = temp.loc[temp['Star Director']]['name'].values\n",
    "            namelist = temp['name'].values\n",
    "            for name in lead:\n",
    "                if name in star_of_year:\n",
    "                    dataset.at[index, 'has_star_director'] = True\n",
    "                if name in namelist:\n",
    "                    dataset.at[index, 'director_revenue_before'] = dataset.at[index, 'director_revenue_before'] + temp.loc[temp['name'] == name]['Total Revenue'].values[0]\n",
    "    return dataset"
   ]
  },
  {
   "cell_type": "code",
   "execution_count": null,
   "id": "c348c092-5d5b-4810-a04f-e66bd86ed696",
   "metadata": {},
   "outputs": [],
   "source": [
    "def genreinfo(timewindow_genre, dataset):\n",
    "    genre_table = pd.DataFrame()\n",
    "\n",
    "    for y in range(1980, 2024, 1):\n",
    "        # get reference set for movie to be released in year y \n",
    "        subset = dataset.loc[dataset['Year'] <= y - 2].copy()\n",
    "        subset = subset.loc[subset['Year'] > y - 2 - timewindow_genre].copy()\n",
    "\n",
    "        # create table of total revenue of all actors in the past timewindow\n",
    "        genre_year = pd.DataFrame(columns = ['genre', 'year', 'Total Revenue'])\n",
    "        for index, row in subset.iterrows():\n",
    "            g = row['Genre']\n",
    "            if pd.notna(g):\n",
    "                if g in genre_year['genre'].values:\n",
    "                    rownum = np.where(genre_year['genre'] == g)[0][0]\n",
    "                    genre_year.at[rownum, 'Total Revenue'] = genre_year.at[rownum, 'Total Revenue'] + row['Revenue']\n",
    "                else:\n",
    "                    genre_year.loc[len(genre_year)] = [g, y, row['Revenue']]\n",
    "\n",
    "        genre_table = pd.concat([genre_table, genre_year], ignore_index = True)       \n",
    "\n",
    "    dataset['genre_revenue_before'] = 0\n",
    "    for index, row in dataset.iterrows():\n",
    "        g = row['Genre']\n",
    "        temp = genre_table.loc[genre_table['year'] == row['Year']].copy()\n",
    "        genrelist = temp['genre'].values\n",
    "        if pd.notna(g):\n",
    "            if g in genrelist:\n",
    "                dataset.at[index, 'genre_revenue_before'] = temp.loc[temp['genre'] == g]['Total Revenue'].values[0]\n",
    "            else:\n",
    "                dataset.at[index, 'genre_revenue_before'] = 0\n",
    "                \n",
    "    return dataset"
   ]
  },
  {
   "cell_type": "code",
   "execution_count": null,
   "id": "417ad3a8-0dd4-4076-999f-90d05429d755",
   "metadata": {},
   "outputs": [],
   "source": []
  },
  {
   "cell_type": "code",
   "execution_count": null,
   "id": "1299e80c-78fb-42be-9721-b49adbad0514",
   "metadata": {},
   "outputs": [],
   "source": []
  },
  {
   "cell_type": "markdown",
   "id": "d272c24d-1da2-4a9e-b5ed-d0cb193bed22",
   "metadata": {},
   "source": [
    "### Model"
   ]
  },
  {
   "cell_type": "markdown",
   "id": "f25e74ff-7331-4a51-92a4-0db570483d4e",
   "metadata": {},
   "source": [
    "#### Revenue vs everything"
   ]
  },
  {
   "cell_type": "code",
   "execution_count": null,
   "id": "04fff03a-d489-4c39-b09a-6b96b065355d",
   "metadata": {},
   "outputs": [],
   "source": []
  },
  {
   "cell_type": "code",
   "execution_count": null,
   "id": "65d8b4b4-e53d-4d06-b02c-30763aa6b4de",
   "metadata": {},
   "outputs": [],
   "source": [
    "from sklearn.linear_model import LinearRegression\n",
    "from sklearn.metrics import r2_score"
   ]
  },
  {
   "cell_type": "code",
   "execution_count": null,
   "id": "b348ba88-f694-4139-865a-5c1aca43c8e1",
   "metadata": {},
   "outputs": [],
   "source": [
    "import itertools\n",
    "tuning_list = {\n",
    "    \"timewindow_actor\": [3],\n",
    "    \"timewindow_director\": [3],\n",
    "    \"timewindow_genre\": [3],\n",
    "    \"star_actor_num\": [5],\n",
    "    \"star_director_num\": [3],\n",
    "    }\n",
    "tuning_grid = list(itertools.product(*tuning_list.values()))\n",
    "\n",
    "for s in tqdm(tuning_grid):\n",
    "    timewindow_actor = s[0]\n",
    "    timewindow_director = s[1]\n",
    "    timewindow_genre = s[2]\n",
    "    star_actor_num = s[3]\n",
    "    star_director_num = s[4] \n",
    "\n",
    "    dataset = castinfo(timewindow_actor, star_actor_num, dataset)\n",
    "    dataset = directorinfo(timewindow_director, star_director_num, dataset)\n",
    "    dataset = genreinfo(timewindow_genre, dataset)\n",
    "\n",
    "    final = dataset.loc[dataset['Year'] >= 1980].copy()\n",
    "    final = dataset.loc[dataset['is_Franchise'] == False].copy()\n",
    "    X = pd.concat([pd.get_dummies(final[\"Month\"]), \n",
    "                   pd.get_dummies(final['Production Method']),\n",
    "                   pd.get_dummies(final['Creative Type']),\n",
    "                   final['has_star_actor'].astype(int),\n",
    "                   final['has_star_director'].astype(int),\n",
    "                   final[['Budget', 'actor_revenue_before', 'director_revenue_before',\n",
    "            'genre_revenue_before']].copy()\n",
    "                  ], axis = 1)\n",
    "    Y = np.log(final['Revenue'])\n",
    "    \n",
    "    X_train, X_test, y_train, y_test = train_test_split(\n",
    "        X,\n",
    "        Y, test_size = .2, random_state = 10) #split the data\n",
    "\n",
    "\n",
    "    regressor = LinearRegression()\n",
    "    regressor.fit(X_train, y_train)\n",
    "    \n",
    "    y_pred = regressor.predict(X_test)\n",
    "    \n",
    "    print(\"r2 score: \", r2_score(y_pred, y_test))\n",
    "    "
   ]
  },
  {
   "cell_type": "code",
   "execution_count": null,
   "id": "1062753d-6dde-472f-aa0f-031fc8067d7b",
   "metadata": {},
   "outputs": [],
   "source": [
    "lienar regression interaction analysis, Franchise "
   ]
  },
  {
   "cell_type": "code",
   "execution_count": null,
   "id": "c8a33ba5-4e4d-47f5-a8a7-3b3f020cb7e6",
   "metadata": {},
   "outputs": [],
   "source": []
  },
  {
   "cell_type": "markdown",
   "id": "59d710d3-59a5-47f2-a515-5630130d7e9b",
   "metadata": {},
   "source": [
    "### Random forest"
   ]
  },
  {
   "cell_type": "code",
   "execution_count": null,
   "id": "82551231-b205-4726-a8ae-4ea4979736f6",
   "metadata": {},
   "outputs": [],
   "source": [
    "from sklearn.ensemble import RandomForestRegressor\n",
    "from sklearn.datasets import make_regression\n",
    "import itertools\n",
    "tuning_list = {\n",
    "    \"timewindow_actor\": [3],\n",
    "    \"timewindow_director\": [3],\n",
    "    \"timewindow_genre\": [3],\n",
    "    \"star_actor_num\": [5],\n",
    "    \"star_director_num\": [3],\n",
    "    }\n",
    "tuning_grid = list(itertools.product(*tuning_list.values()))\n",
    "\n",
    "for s in tqdm(tuning_grid):\n",
    "    timewindow_actor = s[0]\n",
    "    timewindow_director = s[1]\n",
    "    timewindow_genre = s[2]\n",
    "    star_actor_num = s[3]\n",
    "    star_director_num = s[4] \n",
    "\n",
    "    dataset = castinfo(timewindow_actor, star_actor_num, dataset)\n",
    "    dataset = directorinfo(timewindow_director, star_director_num, dataset)\n",
    "    dataset = genreinfo(timewindow_genre, dataset)\n",
    "\n",
    "    final = dataset.loc[dataset['Year'] >= 1980].copy()\n",
    "    X = pd.concat([pd.get_dummies(final[\"Month\"]), \n",
    "                   pd.get_dummies(final['Rating']),\n",
    "                   final['is_Franchise'].astype(int),\n",
    "                   pd.get_dummies(final['Production Method']),\n",
    "                   pd.get_dummies(final['Creative Type']),\n",
    "                   final['has_star_actor'].astype(int),\n",
    "                   final['has_star_director'].astype(int),\n",
    "                   final[['Budget', 'actor_revenue_before', 'director_revenue_before',\n",
    "            'genre_revenue_before']].copy()\n",
    "                  ], axis = 1)\n",
    "    Y = np.log(final['Revenue'])\n",
    "    \n",
    "    X_train, X_test, y_train, y_test = train_test_split(\n",
    "        X,\n",
    "        Y, test_size = .2, random_state = 10) #split the data\n",
    "    \n",
    "    regr = RandomForestRegressor(max_depth=2, random_state=0)\n",
    "    regr.fit(X_train, y_train)\n",
    "   \n",
    "    y_pred = regr.predict(X_test)\n",
    "    \n",
    "    print(\"r2 score: \", r2_score(y_pred, y_test))"
   ]
  },
  {
   "cell_type": "code",
   "execution_count": null,
   "id": "3f22ce8e-06fc-4f76-a843-91314e6e0215",
   "metadata": {},
   "outputs": [],
   "source": [
    "from sklearn.model_selection import GridSearchCV\n",
    "rfc = RandomForestRegressor(random_state=42)\n",
    "param_grid = { \n",
    "    'max_depth' : [4, 5, 6, 7, 8],\n",
    "}\n",
    "CV_rfc = GridSearchCV(estimator=rfc, param_grid=param_grid, cv= 5)\n",
    "CV_rfc.fit(X_train, y_train)"
   ]
  },
  {
   "cell_type": "code",
   "execution_count": null,
   "id": "483cec88-e3c3-40c5-9b43-c8ac5c695849",
   "metadata": {},
   "outputs": [],
   "source": []
  },
  {
   "cell_type": "code",
   "execution_count": null,
   "id": "c3039118-dc9f-4ce4-9dec-4444924e9105",
   "metadata": {},
   "outputs": [],
   "source": [
    "my_super_search = pd.DataFrame(columns = [\"timewindow_actor\",\n",
    "                                          \"timewindow_director\",\n",
    "                                          \"timewindow_genre\",\n",
    "                                          \"star_actor_num\",\n",
    "                                          \"star_director_num\",\n",
    "                                          \"params\",\n",
    "                                          \"score\"])\n",
    "\n",
    "import itertools\n",
    "tuning_list = {\n",
    "    \"timewindow_actor\": [3, 5, 10],\n",
    "    \"timewindow_director\": [3, 5, 10],\n",
    "    \"timewindow_genre\": [3, 5, 10],\n",
    "    \"star_actor_num\": [3, 5, 10],\n",
    "    \"star_director_num\": [3, 5, 10],\n",
    "    }\n",
    "\n",
    "# tuning_list = {\n",
    "#     \"timewindow_actor\": [3],\n",
    "#     \"timewindow_director\": [3],\n",
    "#     \"timewindow_genre\": [3],\n",
    "#     \"star_actor_num\": [3],\n",
    "#     \"star_director_num\": [3, 5],\n",
    "#     }\n",
    "tuning_grid = list(itertools.product(*tuning_list.values()))\n",
    "\n",
    "for s in tqdm(tuning_grid):\n",
    "    timewindow_actor = s[0]\n",
    "    timewindow_director = s[1]\n",
    "    timewindow_genre = s[2]\n",
    "    star_actor_num = s[3]\n",
    "    star_director_num = s[4] \n",
    "\n",
    "    dataset = castinfo(timewindow_actor, star_actor_num, dataset).copy()\n",
    "    dataset = directorinfo(timewindow_director, star_director_num, dataset).copy()\n",
    "    dataset = genreinfo(timewindow_genre, dataset).copy()\n",
    "\n",
    "    final = dataset.loc[dataset['Year'] >= 1980].copy()\n",
    "    X = pd.concat([pd.get_dummies(final[\"Month\"]), \n",
    "                   pd.get_dummies(final['Rating']),\n",
    "                   final['is_Franchise'].astype(int),\n",
    "                   pd.get_dummies(final['Production Method']),\n",
    "                   pd.get_dummies(final['Creative Type']),\n",
    "                   final['has_star_actor'].astype(int),\n",
    "                   final['has_star_director'].astype(int),\n",
    "                   final[['Budget', 'actor_revenue_before', 'director_revenue_before',\n",
    "            'genre_revenue_before']].copy()\n",
    "                  ], axis = 1)\n",
    "    Y = np.log(final['Revenue'])\n",
    "        \n",
    "    \n",
    "    rfc = RandomForestRegressor(random_state=42)\n",
    "    param_grid = { \n",
    "        'max_depth' : [4, 6, 8, 10],\n",
    "        'max_features' :['sqrt', 'log2', None]\n",
    "    }\n",
    "    CV_rfc = GridSearchCV(estimator=rfc, param_grid = param_grid, cv= 5,\n",
    "                         scoring = 'neg_root_mean_squared_error')\n",
    "    CV_rfc.fit(X, Y)\n",
    "    \n",
    "    my_super_search.loc[len(my_super_search)] = list(s) + [CV_rfc.best_params_, CV_rfc.best_score_]\n"
   ]
  },
  {
   "cell_type": "code",
   "execution_count": null,
   "id": "55467dd7-a5ba-4b86-97b1-c90963159e8e",
   "metadata": {},
   "outputs": [],
   "source": [
    "my_super_search.to_csv('CV_rfc.csv')"
   ]
  },
  {
   "cell_type": "code",
   "execution_count": null,
   "id": "6c7a6dce-9642-4a19-b172-720a936321ba",
   "metadata": {},
   "outputs": [],
   "source": [
    "my_super_search.sort_values(by = 'score', ascending = False)"
   ]
  },
  {
   "cell_type": "code",
   "execution_count": null,
   "id": "fd03229e-1072-4d17-83f0-cd5ab5fe6c4b",
   "metadata": {},
   "outputs": [],
   "source": [
    "best_rf = my_super_search.sort_values(by = \"score\", ascending = False).head(1)"
   ]
  },
  {
   "cell_type": "code",
   "execution_count": null,
   "id": "f6a479f5-f4e2-4efc-ba88-49bfe55c8bba",
   "metadata": {},
   "outputs": [],
   "source": [
    "best_rf = best_rf.values.flatten()"
   ]
  },
  {
   "cell_type": "code",
   "execution_count": null,
   "id": "d1a676e6-9e7e-431c-bb23-419eb5efc36f",
   "metadata": {},
   "outputs": [],
   "source": [
    "s = best_rf\n",
    "\n",
    "timewindow_actor = s[0]\n",
    "timewindow_director = s[1]\n",
    "timewindow_genre = s[2]\n",
    "star_actor_num = s[3]\n",
    "star_director_num = s[4] \n",
    "\n",
    "dataset = castinfo(timewindow_actor, star_actor_num, dataset).copy()\n",
    "dataset = directorinfo(timewindow_director, star_director_num, dataset).copy()\n",
    "dataset = genreinfo(timewindow_genre, dataset).copy()\n",
    "\n",
    "final = dataset.loc[dataset['Year'] >= 1980].copy()\n",
    "X = pd.concat([pd.get_dummies(final[\"Month\"]), \n",
    "               pd.get_dummies(final['Rating']),\n",
    "               final['is_Franchise'].astype(int),\n",
    "               pd.get_dummies(final['Production Method']),\n",
    "               pd.get_dummies(final['Creative Type']),\n",
    "               final['has_star_actor'].astype(int),\n",
    "               final['has_star_director'].astype(int),\n",
    "               final[['Budget', 'actor_revenue_before', 'director_revenue_before',\n",
    "        'genre_revenue_before']].copy()\n",
    "              ], axis = 1)\n",
    "Y = np.log(final['Revenue'])\n",
    "\n",
    "\n",
    "rfc = RandomForestRegressor(random_state=42)\n",
    "param_grid = { \n",
    "    'max_depth' : [16, 18, 20, 22, 24, 26, 28],\n",
    "    'max_features' :['sqrt', 'log2', None]\n",
    "}\n",
    "CV_rfc = GridSearchCV(estimator=rfc, param_grid = param_grid, cv= 5,\n",
    "                     scoring = 'neg_root_mean_squared_error')\n",
    "CV_rfc.fit(X, Y)"
   ]
  },
  {
   "cell_type": "code",
   "execution_count": null,
   "id": "36ea539c-9700-4630-aa7c-e2bac009fac6",
   "metadata": {},
   "outputs": [],
   "source": [
    "CV_rfc.best_params_"
   ]
  },
  {
   "cell_type": "code",
   "execution_count": null,
   "id": "1b86d3fe-a268-4f52-a8fd-9688e34a7d7c",
   "metadata": {},
   "outputs": [],
   "source": [
    "    X_train, X_test, y_train, y_test = train_test_split(\n",
    "        X,\n",
    "        Y, test_size = .2, random_state = 10) #split the data\n",
    "    \n",
    "    regr = RandomForestRegressor(max_depth = 20, random_state=0, max_features = 'sqrt')\n",
    "    regr.fit(X_train, y_train)\n",
    "   \n",
    "    y_pred = regr.predict(X_test)\n",
    "    \n",
    "    print(\"r2 score: \", r2_score(y_pred, y_test))"
   ]
  },
  {
   "cell_type": "code",
   "execution_count": null,
   "id": "16380e9e-212e-46fd-9312-bb28a14b11b1",
   "metadata": {},
   "outputs": [],
   "source": [
    "importances = regr.feature_importances_\n",
    "std = np.std([regr.feature_importances_ for tree in regr.estimators_], axis=0)\n",
    "\n",
    "forest_importances = pd.Series(importances, index=list(X_train.columns.values))\n",
    "\n",
    "fig, ax = plt.subplots()\n",
    "forest_importances.plot.bar(yerr=std, ax=ax)\n",
    "ax.set_title(\"Feature importances using MDI\")\n",
    "ax.set_ylabel(\"Mean decrease in impurity\")\n",
    "plt.show()"
   ]
  },
  {
   "cell_type": "code",
   "execution_count": null,
   "id": "13cdf87e-6c9a-48e8-a928-8c671b04637f",
   "metadata": {},
   "outputs": [],
   "source": [
    "Morphism"
   ]
  },
  {
   "cell_type": "code",
   "execution_count": null,
   "id": "78d9bd8f-f176-4028-826c-dfc270fd6830",
   "metadata": {},
   "outputs": [],
   "source": [
    "final['Rating'].value_counts()"
   ]
  },
  {
   "cell_type": "code",
   "execution_count": null,
   "id": "70cc3c22-9ca2-4235-aec3-957fa8721cb1",
   "metadata": {},
   "outputs": [],
   "source": [
    "from sklearn.inspection import permutation_importance\n",
    "\n",
    "result = permutation_importance(\n",
    "    regr, X_test, y_test, n_repeats=10, random_state=10, n_jobs=2\n",
    ")\n",
    "forest_importances = pd.Series(result.importances_mean, index = list(X_train.columns.values))\n",
    "fig, ax = plt.subplots()\n",
    "forest_importances.plot.bar(yerr=result.importances_std, ax=ax)\n",
    "ax.set_title(\"Feature importances using permutation on full model\")\n",
    "ax.set_ylabel(\"Mean accuracy decrease\")\n",
    "fig.tight_layout()\n",
    "plt.show()"
   ]
  },
  {
   "cell_type": "code",
   "execution_count": null,
   "id": "2eae574e-ef1a-43f5-8797-60989b94aa53",
   "metadata": {},
   "outputs": [],
   "source": []
  },
  {
   "cell_type": "markdown",
   "id": "cf6eba88-ad1c-481f-a9db-e9bbd5b2a473",
   "metadata": {},
   "source": [
    "### ZIP models"
   ]
  },
  {
   "cell_type": "code",
   "execution_count": null,
   "id": "e256d714-c75c-4e34-becc-efdba3f2fc4b",
   "metadata": {},
   "outputs": [],
   "source": [
    "import statsmodels.api as sm"
   ]
  },
  {
   "cell_type": "code",
   "execution_count": null,
   "id": "23e6a7c6-c5e9-41cc-a964-f671a6c88c00",
   "metadata": {},
   "outputs": [],
   "source": [
    "final = dataset.loc[dataset['Year'] >= 1980].copy()\n",
    "temp = pd.concat([\n",
    "               final['is_Franchise'].astype(int),\n",
    "\n",
    "               final[['Budget', 'Revenue']].copy()\n",
    "              ], axis = 1)\n",
    "\n",
    "temp = temp.dropna()\n",
    "X = temp.loc[:, temp.columns != 'Revenue'].astype(np.float64)\n",
    "Y = np.log(temp['Revenue'])\n",
    "\n",
    "X_train, X_test, y_train, y_test = train_test_split(\n",
    "    X,\n",
    "    Y, test_size = .2, random_state = 10) #split the data\n",
    "\n",
    "\n",
    "zip_training_results = sm.ZeroInflatedPoisson(endog=y_train, exog=X_train, inflation='logit').fit()\n",
    "y_pred = zip_training_results.predict(X_test)"
   ]
  },
  {
   "cell_type": "code",
   "execution_count": null,
   "id": "b4995bd3-215e-4de6-9d57-69066065c5ce",
   "metadata": {},
   "outputs": [],
   "source": [
    "X.info()"
   ]
  },
  {
   "cell_type": "code",
   "execution_count": null,
   "id": "89e7ed7a-da5f-4459-b9ef-e2e4e1c6393e",
   "metadata": {},
   "outputs": [],
   "source": []
  },
  {
   "cell_type": "code",
   "execution_count": null,
   "id": "2bc34b91-f12a-4918-a3ba-bb405443753c",
   "metadata": {},
   "outputs": [],
   "source": []
  },
  {
   "cell_type": "markdown",
   "id": "100d09ce-fa93-46d4-8164-24efa726c41d",
   "metadata": {},
   "source": [
    "### XGBoost"
   ]
  },
  {
   "cell_type": "code",
   "execution_count": null,
   "id": "1f5c7c5d-4f12-4dbc-b952-e50339ab32a4",
   "metadata": {
    "tags": []
   },
   "outputs": [],
   "source": [
    "import xgboost as xgb\n",
    "my_super_search2 = pd.DataFrame(columns = [\"timewindow_actor\",\n",
    "                                          \"timewindow_director\",\n",
    "                                          \"timewindow_genre\",\n",
    "                                          \"star_actor_num\",\n",
    "                                          \"star_director_num\",\n",
    "                                          \"params\",\n",
    "                                          \"score\"])\n",
    "\n",
    "import itertools\n",
    "tuning_list = {\n",
    "    \"timewindow_actor\": [3, 5, 10],\n",
    "    \"timewindow_director\": [3, 5, 10],\n",
    "    \"timewindow_genre\": [3, 5, 10],\n",
    "    \"star_actor_num\": [3, 5, 10],\n",
    "    \"star_director_num\": [3, 5, 10],\n",
    "    }\n",
    "\n",
    "# tuning_list = {\n",
    "#     \"timewindow_actor\": [3],\n",
    "#     \"timewindow_director\": [3],\n",
    "#     \"timewindow_genre\": [3],\n",
    "#     \"star_actor_num\": [3],\n",
    "#     \"star_director_num\": [3, 5],\n",
    "#     }\n",
    "tuning_grid = list(itertools.product(*tuning_list.values()))\n",
    "\n",
    "for s in tqdm(tuning_grid):\n",
    "    timewindow_actor = s[0]\n",
    "    timewindow_director = s[1]\n",
    "    timewindow_genre = s[2]\n",
    "    star_actor_num = s[3]\n",
    "    star_director_num = s[4] \n",
    "\n",
    "    dataset = castinfo(timewindow_actor, star_actor_num, dataset).copy()\n",
    "    dataset = directorinfo(timewindow_director, star_director_num, dataset).copy()\n",
    "    dataset = genreinfo(timewindow_genre, dataset).copy()\n",
    "\n",
    "    final = dataset.loc[dataset['Year'] >= 1980].copy()\n",
    "    X = pd.concat([pd.get_dummies(final[\"Month\"]), \n",
    "                   pd.get_dummies(final['Rating']),\n",
    "                   final['is_Franchise'].astype(int),\n",
    "                   pd.get_dummies(final['Production Method']),\n",
    "                   pd.get_dummies(final['Creative Type']),\n",
    "                   final['has_star_actor'].astype(int),\n",
    "                   final['has_star_director'].astype(int),\n",
    "                   final[['Budget', 'actor_revenue_before', 'director_revenue_before',\n",
    "            'genre_revenue_before']].copy()\n",
    "                  ], axis = 1)\n",
    "    Y = np.log(final['Revenue'])\n",
    "        \n",
    "    xgb_model = xgb.XGBRegressor(seed = 42)\n",
    "    \n",
    "    param_grid = { \n",
    "        'max_depth' : [6, 10, 14],\n",
    "    }\n",
    "    CV_xgb = GridSearchCV(estimator=xgb_model, param_grid = param_grid, cv= 5,\n",
    "                         scoring = 'neg_root_mean_squared_error')\n",
    "    CV_xgb.fit(X, Y)\n",
    "    \n",
    "    my_super_search2.loc[len(my_super_search2)] = list(s) + [CV_xgb.best_params_, CV_xgb.best_score_]\n"
   ]
  },
  {
   "cell_type": "code",
   "execution_count": null,
   "id": "206eb900-d656-4ff1-8be3-a9e97fbc4e80",
   "metadata": {},
   "outputs": [],
   "source": [
    "my_super_search2.sort_values(by = 'score', ascending = False).head(10)"
   ]
  },
  {
   "cell_type": "code",
   "execution_count": null,
   "id": "aa7d6e58-182e-453d-ad9a-09309645c3db",
   "metadata": {},
   "outputs": [],
   "source": [
    "timewindow_actor = 3\n",
    "timewindow_director = 10\n",
    "timewindow_genre = 3\n",
    "star_actor_num = 3\n",
    "star_director_num = 3\n",
    "\n",
    "dataset = castinfo(timewindow_actor, star_actor_num, dataset).copy()\n",
    "dataset = directorinfo(timewindow_director, star_director_num, dataset).copy()\n",
    "dataset = genreinfo(timewindow_genre, dataset).copy()\n",
    "\n",
    "final = dataset.loc[dataset['Year'] >= 1980].copy()\n",
    "X = pd.concat([pd.get_dummies(final[\"Month\"]), \n",
    "               pd.get_dummies(final['Rating']),\n",
    "               final['is_Franchise'].astype(int),\n",
    "               pd.get_dummies(final['Production Method']),\n",
    "               pd.get_dummies(final['Creative Type']),\n",
    "               final['has_star_actor'].astype(int),\n",
    "               final['has_star_director'].astype(int),\n",
    "               final[['Budget', 'actor_revenue_before', 'director_revenue_before',\n",
    "        'genre_revenue_before']].copy()\n",
    "              ], axis = 1)\n",
    "Y = np.log(final['Revenue'])\n",
    "\n",
    "xgb_model = xgb.XGBRegressor(seed = 42)\n",
    "param_grid = { \n",
    "    'max_depth' : [4, 6, 8, 10],\n",
    "}\n",
    "CV_xgb = GridSearchCV(estimator=xgb_model, param_grid = param_grid, cv= 5,\n",
    "                     scoring = 'neg_root_mean_squared_error')\n",
    "CV_xgb.fit(X, Y)"
   ]
  },
  {
   "cell_type": "code",
   "execution_count": null,
   "id": "8782dbb1-07fc-4185-a29c-1d64514bb624",
   "metadata": {},
   "outputs": [],
   "source": [
    "CV_xgb.best_score_"
   ]
  },
  {
   "cell_type": "code",
   "execution_count": null,
   "id": "ca7d387d-9784-4a80-9f04-e260523e875a",
   "metadata": {},
   "outputs": [],
   "source": [
    "CV_xgb.best_params_"
   ]
  },
  {
   "cell_type": "code",
   "execution_count": 274,
   "id": "fc6607e2-355a-41fd-94bc-b7bba584d0c5",
   "metadata": {},
   "outputs": [],
   "source": [
    "timewindow_actor = 3\n",
    "timewindow_director = 10\n",
    "timewindow_genre = 3\n",
    "star_actor_num = 3\n",
    "star_director_num = 3\n",
    "\n",
    "dataset = castinfo(timewindow_actor, star_actor_num, dataset).copy()\n",
    "dataset = directorinfo(timewindow_director, star_director_num, dataset).copy()\n",
    "dataset = genreinfo(timewindow_genre, dataset).copy()\n",
    "\n",
    "final = dataset.loc[dataset['Year'] >= 1980].copy()\n",
    "X = pd.concat([pd.get_dummies(final[\"Month\"]), \n",
    "               pd.get_dummies(final['Rating']),\n",
    "               final['is_Franchise'].astype(int),\n",
    "               pd.get_dummies(final['Production Method']),\n",
    "               pd.get_dummies(final['Creative Type']),\n",
    "               final['has_star_actor'].astype(int),\n",
    "               final['has_star_director'].astype(int),\n",
    "               final[['Budget', 'actor_revenue_before', 'director_revenue_before',\n",
    "        'genre_revenue_before']].copy()\n",
    "              ], axis = 1)\n",
    "Y = np.log(final['Revenue'])\n",
    "\n",
    "X_train, X_test, y_train, y_test = train_test_split(\n",
    "    X,\n",
    "    Y, test_size = .2, random_state = 10) #split the data\n",
    "\n",
    "xgb_model = xgb.XGBRegressor(max_depth = 4, seed = 42)\n",
    "xgb_model.fit(X_train, y_train)\n",
    "\n",
    "y_pred = xgb_model.predict(X_test)"
   ]
  },
  {
   "cell_type": "code",
   "execution_count": 275,
   "id": "fa322602-e342-4634-88f9-6ee6dec7a2bc",
   "metadata": {},
   "outputs": [
    {
     "name": "stdout",
     "output_type": "stream",
     "text": [
      "r2 score:  0.5738890076632135\n",
      "MSE:  1.3877082380000316\n"
     ]
    }
   ],
   "source": [
    "from sklearn.metrics import mean_squared_error\n",
    "print(\"r2 score: \", r2_score(y_pred, y_test))\n",
    "print(\"MSE: \", mean_squared_error(y_pred, y_test))"
   ]
  },
  {
   "cell_type": "code",
   "execution_count": 276,
   "id": "4e83092f-4d33-4ddc-8e96-5c41f00f35bc",
   "metadata": {},
   "outputs": [
    {
     "data": {
      "image/png": "[encoded data removed]",
      "text/plain": [
       "<Figure size 640x480 with 1 Axes>"
      ]
     },
     "metadata": {},
     "output_type": "display_data"
    }
   ],
   "source": [
    "from sklearn.inspection import permutation_importance\n",
    "\n",
    "result = permutation_importance(\n",
    "    xgb_model, X_test, y_test, n_repeats=10, random_state=10, n_jobs=2\n",
    ")\n",
    "forest_importances = pd.Series(result.importances_mean, index = list(X_train.columns.values))\n",
    "fig, ax = plt.subplots()\n",
    "forest_importances.plot.bar(yerr=result.importances_std, ax=ax)\n",
    "ax.set_title(\"Feature importances using permutation on full model\")\n",
    "ax.set_ylabel(\"Mean accuracy decrease\")\n",
    "fig.tight_layout()\n",
    "plt.show()"
   ]
  },
  {
   "cell_type": "code",
   "execution_count": 283,
   "id": "d847a333-6be6-4e72-8b7c-aa0da57f3c79",
   "metadata": {},
   "outputs": [
    {
     "name": "stdout",
     "output_type": "stream",
     "text": [
      "r2 score:  0.49796386164252404\n",
      "MSE:  1.6210515813363064\n"
     ]
    }
   ],
   "source": [
    "final = dataset.loc[dataset['Year'] >= 1980].copy()\n",
    "X = pd.concat([pd.get_dummies(final[\"Month\"]), \n",
    "               pd.get_dummies(final['Rating']),\n",
    "               pd.get_dummies(final['Production Method']),\n",
    "               pd.get_dummies(final['Creative Type']),\n",
    "               pd.get_dummies(final['Genre']),\n",
    "               final[['Budget', 'Year']].copy()\n",
    "              ], axis = 1)\n",
    "Y = np.log(final['Revenue'])\n",
    "\n",
    "X_train, X_test, y_train, y_test = train_test_split(\n",
    "    X,\n",
    "    Y, test_size = .2, random_state = 10) #split the data\n",
    "\n",
    "xgb_model = xgb.XGBRegressor(seed = 42)\n",
    "xgb_model.fit(X_train, y_train)\n",
    "\n",
    "y_pred = xgb_model.predict(X_test)\n",
    "\n",
    "print(\"r2 score: \", r2_score(y_pred, y_test))\n",
    "print(\"MSE: \", mean_squared_error(y_pred, y_test))"
   ]
  },
  {
   "cell_type": "code",
   "execution_count": 303,
   "id": "36d91d35-b9f2-4f43-8602-3018af47f805",
   "metadata": {},
   "outputs": [
    {
     "name": "stdout",
     "output_type": "stream",
     "text": [
      "r2 score:  0.1260607791334808\n",
      "MSE:  2.023095142953555\n"
     ]
    }
   ],
   "source": [
    "final = dataset.loc[dataset['Year'] >= 1980].copy()\n",
    "X = pd.concat([pd.get_dummies(final[\"Month\"]), \n",
    "               pd.get_dummies(final['Rating']),\n",
    "               pd.get_dummies(final['Production Method']),\n",
    "               pd.get_dummies(final['Creative Type']),\n",
    "               final['is_Franchise'].astype(int),\n",
    "               final['has_star_actor'].astype(int),\n",
    "               final['has_star_director'].astype(int),\n",
    "               final[['Budget', 'actor_revenue_before', 'director_revenue_before',\n",
    "        'genre_revenue_before']].copy()\n",
    "              ], axis = 1)\n",
    "Y = np.log(final['Revenue'])\n",
    "\n",
    "\n",
    "X_train, X_test, y_train, y_test = train_test_split(\n",
    "    X,\n",
    "    Y, test_size = .2, random_state = 10) #split the data\n",
    "\n",
    "\n",
    "regressor = LinearRegression()\n",
    "regressor.fit(X_train, y_train)\n",
    "\n",
    "y_pred = regressor.predict(X_test)\n",
    "\n",
    "    \n",
    "print(\"r2 score: \", r2_score(y_pred, y_test))\n",
    "print(\"MSE: \", mean_squared_error(y_pred, y_test))"
   ]
  },
  {
   "cell_type": "code",
   "execution_count": 291,
   "id": "a82804d0-558e-4a20-84fb-5fb01262e906",
   "metadata": {},
   "outputs": [
    {
     "data": {
      "image/png": "[encoded data removed]",
      "text/plain": [
       "<Figure size 1095.11x250 with 4 Axes>"
      ]
     },
     "metadata": {},
     "output_type": "display_data"
    }
   ],
   "source": [
    "import seaborn\n",
    "seaborn.pairplot(final, x_vars = ['Budget', 'actor_revenue_before', 'director_revenue_before',\n",
    "        'genre_revenue_before'], y_vars = ['Revenue'], kind = 'reg', hue = 'is_Franchise')\n",
    "plt.show()"
   ]
  },
  {
   "cell_type": "code",
   "execution_count": 299,
   "id": "64a18428-1c50-4d25-b7b7-13a7eda1aed5",
   "metadata": {},
   "outputs": [
    {
     "name": "stdout",
     "output_type": "stream",
     "text": [
      "r2 score:  0.37567420925092965\n",
      "MSE:  0.844808891064326\n"
     ]
    }
   ],
   "source": [
    "final = dataset.loc[dataset['Year'] >= 1980].copy()\n",
    "final = final.loc[final['is_Franchise']].copy()\n",
    "X = pd.concat([pd.get_dummies(final[\"Month\"]), \n",
    "               pd.get_dummies(final['Rating']),\n",
    "               pd.get_dummies(final['Production Method']),\n",
    "               pd.get_dummies(final['Creative Type']),\n",
    "               final['has_star_actor'].astype(int),\n",
    "               final['has_star_director'].astype(int),\n",
    "               final[['Budget', 'actor_revenue_before', 'director_revenue_before',\n",
    "        'genre_revenue_before']].copy()\n",
    "              ], axis = 1)\n",
    "Y = np.log(final['Revenue'])\n",
    "\n",
    "X_train, X_test, y_train, y_test = train_test_split(\n",
    "    X,\n",
    "    Y, test_size = .2, random_state = 10) #split the data\n",
    "\n",
    "\n",
    "regressor = LinearRegression()\n",
    "regressor.fit(X_train, y_train)\n",
    "\n",
    "y_pred = regressor.predict(X_test)\n",
    "\n",
    "print(\"r2 score: \", r2_score(y_pred, y_test))\n",
    "print(\"MSE: \", mean_squared_error(y_pred, y_test))"
   ]
  },
  {
   "cell_type": "code",
   "execution_count": 298,
   "id": "32889a30-474b-4f9b-953b-6f455fa121aa",
   "metadata": {},
   "outputs": [
    {
     "data": {
      "text/plain": [
       "(4077, 21)"
      ]
     },
     "execution_count": 298,
     "metadata": {},
     "output_type": "execute_result"
    }
   ],
   "source": [
    "final.shape"
   ]
  },
  {
   "cell_type": "code",
   "execution_count": 302,
   "id": "1ac085a8-0f28-48a2-b764-132ead106307",
   "metadata": {},
   "outputs": [
    {
     "name": "stdout",
     "output_type": "stream",
     "text": [
      "r2 score:  -0.28570693372472533\n",
      "MSE:  2.367045898228619\n"
     ]
    }
   ],
   "source": [
    "final = dataset.loc[dataset['Year'] >= 1980].copy()\n",
    "final = final.loc[final['is_Franchise'] == False].copy()\n",
    "X = pd.concat([pd.get_dummies(final[\"Month\"]), \n",
    "               pd.get_dummies(final['Rating']),\n",
    "               pd.get_dummies(final['Production Method']),\n",
    "               pd.get_dummies(final['Creative Type']),\n",
    "               final['has_star_actor'].astype(int),\n",
    "               final['has_star_director'].astype(int),\n",
    "               final[['Budget', 'actor_revenue_before', 'director_revenue_before',\n",
    "        'genre_revenue_before']].copy()\n",
    "              ], axis = 1)\n",
    "Y = np.log(final['Revenue'])\n",
    "\n",
    "\n",
    "X_train, X_test, y_train, y_test = train_test_split(\n",
    "    X,\n",
    "    Y, test_size = .2, random_state = 10) #split the data\n",
    "\n",
    "\n",
    "regressor = LinearRegression()\n",
    "regressor.fit(X_train, y_train)\n",
    "\n",
    "y_pred = regressor.predict(X_test)\n",
    "\n",
    "print(\"r2 score: \", r2_score(y_pred, y_test))\n",
    "print(\"MSE: \", mean_squared_error(y_pred, y_test))"
   ]
  },
  {
   "cell_type": "code",
   "execution_count": 307,
   "id": "2a384ca7-062d-468c-8227-c217e781ba9b",
   "metadata": {},
   "outputs": [
    {
     "name": "stdout",
     "output_type": "stream",
     "text": [
      "r2 score:  0.35777696155216854\n",
      "MSE:  1.6029046969447214\n"
     ]
    }
   ],
   "source": [
    "final = dataset.loc[dataset['Year'] >= 1980].copy()\n",
    "final = final.loc[final['is_Franchise'] == False].copy()\n",
    "X = pd.concat([pd.get_dummies(final[\"Month\"]), \n",
    "               pd.get_dummies(final['Rating']),\n",
    "               pd.get_dummies(final['Production Method']),\n",
    "               pd.get_dummies(final['Creative Type']),\n",
    "               final['has_star_actor'].astype(int),\n",
    "               final['has_star_director'].astype(int),\n",
    "               final[['Budget', 'actor_revenue_before', 'director_revenue_before',\n",
    "        'genre_revenue_before']].copy()\n",
    "              ], axis = 1)\n",
    "Y = np.log(final['Revenue'])\n",
    "\n",
    "X_train, X_test, y_train, y_test = train_test_split(\n",
    "    X,\n",
    "    Y, test_size = .2, random_state = 10) #split the data\n",
    "\n",
    "\n",
    "xgb_model = xgb.XGBRegressor(max_depth = 4, seed = 42)\n",
    "xgb_model.fit(X_train, y_train)\n",
    "\n",
    "y_pred = xgb_model.predict(X_test)\n",
    "\n",
    "print(\"r2 score: \", r2_score(y_pred, y_test))\n",
    "print(\"MSE: \", mean_squared_error(y_pred, y_test))"
   ]
  },
  {
   "cell_type": "markdown",
   "id": "6b50432d-bd95-430b-898f-c56f24f00bfe",
   "metadata": {},
   "source": [
    "- Why cannot predict ROI, predict revenue\n",
    "- engineering new features - model w/ wo features comparison \n",
    "- hypothesis anayisis of variable importance \n"
   ]
  }
 ],
 "metadata": {
  "kernelspec": {
   "display_name": "Python 3 (ipykernel)",
   "language": "python",
   "name": "python3"
  },
  "language_info": {
   "codemirror_mode": {
    "name": "ipython",
    "version": 3
   },
   "file_extension": ".py",
   "mimetype": "text/x-python",
   "name": "python",
   "nbconvert_exporter": "python",
   "pygments_lexer": "ipython3",
   "version": "3.9.13"
  }
 },
 "nbformat": 4,
 "nbformat_minor": 5
}
