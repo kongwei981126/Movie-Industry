{
 "cells": [
  {
   "cell_type": "code",
   "execution_count": 545,
   "id": "5884c96b-e032-4525-b052-e3c2ca3983e7",
   "metadata": {},
   "outputs": [],
   "source": [
    "import pandas as pd\n",
    "import ast\n",
    "import numpy as np\n",
    "import matplotlib.pyplot as plt\n",
    "import seaborn as sns\n",
    "import math\n",
    "from sklearn.model_selection import train_test_split\n",
    "from tqdm import tqdm\n",
    "\n",
    "pd.set_option('display.max_columns', None)\n",
    "pd.set_option(\"display.max_rows\", None)\n"
   ]
  },
  {
   "cell_type": "code",
   "execution_count": 71,
   "id": "92f17686-c625-4715-99da-7af9d8e9f985",
   "metadata": {},
   "outputs": [],
   "source": [
    "# read in all my datasets and merging them\n",
    "name = pd.read_csv('name_and_links.csv')\n",
    "info = pd.read_csv('movie_info.csv')\n",
    "number = pd.read_csv('Numbers.csv')"
   ]
  },
  {
   "cell_type": "code",
   "execution_count": 72,
   "id": "c60cabd4-d413-4a99-a025-5d2361a85b5a",
   "metadata": {},
   "outputs": [],
   "source": [
    "temp = name.join(info.set_index('link'), on = 'link')\n",
    "dataset = pd.concat([temp.reset_index(drop=True), number], axis=1)"
   ]
  },
  {
   "cell_type": "code",
   "execution_count": 73,
   "id": "30fff030-3513-4572-8c7c-332c88a0a499",
   "metadata": {},
   "outputs": [],
   "source": [
    "# dataset.to_csv('new_dataset.csv', index = False)"
   ]
  },
  {
   "cell_type": "code",
   "execution_count": null,
   "id": "07019311-2ca4-41e5-8cb1-834c885f9b85",
   "metadata": {},
   "outputs": [],
   "source": [
    "#####################################################"
   ]
  },
  {
   "cell_type": "code",
   "execution_count": null,
   "id": "6807427a-df4b-4abe-96df-8f95007c7d7e",
   "metadata": {},
   "outputs": [],
   "source": [
    "# cleaning and fixing genre"
   ]
  },
  {
   "cell_type": "code",
   "execution_count": null,
   "id": "2840f455-1e49-4851-82ce-74f37968aa9a",
   "metadata": {},
   "outputs": [],
   "source": [
    "dataset = pd.read_csv('new_dataset.csv')"
   ]
  },
  {
   "cell_type": "code",
   "execution_count": null,
   "id": "5d509452-b584-46a4-9c15-4e15283dd23b",
   "metadata": {},
   "outputs": [],
   "source": [
    "# fix merging datasets\n",
    "good = dataset[dataset.iloc[:, 0] == dataset.iloc[:,8]]\n",
    "\n",
    "bad = dataset[dataset.iloc[:, 0] != dataset.iloc[:,8]]\n",
    "\n",
    "df_1 = bad.iloc[:,range(0, 7)]\n",
    "df_2 = bad.iloc[:,range(7, 12)]\n",
    "\n",
    "bad = df_1.join(df_2.set_index('moviename.1'), on = 'moviename')\n",
    "\n",
    "dataset = pd.concat([bad, good])\n",
    "\n",
    "dataset = dataset.drop(['moviename.1', 'number'], axis = 1)"
   ]
  },
  {
   "cell_type": "code",
   "execution_count": 99,
   "id": "c341540a-a99d-4010-bbac-15181caa716c",
   "metadata": {},
   "outputs": [],
   "source": [
    "# dataset.to_csv('new_dataset.csv', index = False)"
   ]
  },
  {
   "cell_type": "code",
   "execution_count": 286,
   "id": "bafd3a3a-98c0-4e0c-af92-b9fed856bab2",
   "metadata": {},
   "outputs": [],
   "source": [
    "dataset = pd.read_csv('new_dataset.csv')"
   ]
  },
  {
   "cell_type": "code",
   "execution_count": null,
   "id": "52628f4a-a64d-48fd-9815-bdbf055085b2",
   "metadata": {},
   "outputs": [],
   "source": [
    "# fix entries\n",
    "# df1.State.value_counts()"
   ]
  },
  {
   "cell_type": "code",
   "execution_count": 108,
   "id": "11c00861-02c2-4cb3-a2ce-3feaa4c94b0d",
   "metadata": {},
   "outputs": [],
   "source": [
    "def remove_dup(l):\n",
    "    t = list(set(l))\n",
    "    return t"
   ]
  },
  {
   "cell_type": "code",
   "execution_count": 287,
   "id": "f1d7006c-e582-4f3a-bb7d-cac0dcb6814c",
   "metadata": {},
   "outputs": [
    {
     "name": "stderr",
     "output_type": "stream",
     "text": [
      "100%|██████████| 6381/6381 [00:00<00:00, 1543830.98it/s]\n"
     ]
    }
   ],
   "source": [
    "tqdm.pandas()\n",
    "dataset['genre'] = dataset['genre'].fillna('[]').apply(ast.literal_eval).progress_apply(remove_dup)"
   ]
  },
  {
   "cell_type": "code",
   "execution_count": 289,
   "id": "36d2d561-f5ad-4c47-a92c-1a0bff3831be",
   "metadata": {},
   "outputs": [],
   "source": [
    "dataset['genre'] = [','.join(map(str, l)) for l in dataset['genre']]"
   ]
  },
  {
   "cell_type": "code",
   "execution_count": 290,
   "id": "117f04be-e276-4659-94a5-680183afad2f",
   "metadata": {},
   "outputs": [],
   "source": [
    "a = dataset['genre'].value_counts().index.tolist()\n",
    "# a"
   ]
  },
  {
   "cell_type": "code",
   "execution_count": 344,
   "id": "3a76584d-1c37-464c-a6c8-6192b768fb3b",
   "metadata": {
    "tags": []
   },
   "outputs": [],
   "source": [
    "# 'Genre Mashup,Horror'\n",
    "dataset.loc[dataset['genre'] == a[13], 'genre'] = a[5]\n",
    "# 'Genre Mashup,Western'\n",
    "dataset.loc[dataset['genre'] == a[14], 'genre'] = a[11]\n",
    "# 'Genre Mashup,Drama'\n",
    "dataset.loc[dataset['genre'] == a[15], 'genre'] = a[0]\n",
    "# 'Supernatural Horror,Horror'\n",
    "dataset.loc[dataset['genre'] == a[16], 'genre'] = a[5]\n",
    "# 'Genre Mashup,Comedy'\n",
    "dataset.loc[dataset['genre'] == a[17], 'genre'] = a[1]\n",
    "# 'Genre Mashup,Multiple Genres'\n",
    "dataset.loc[dataset['genre'] == a[18], 'genre'] = \"others\"\n",
    "# 'Genre Mashup,Musical'\n",
    "dataset.loc[dataset['genre'] == a[19], 'genre'] = a[10]\n",
    "# 'TSG Entertainment,Comedy'\n",
    "dataset.loc[dataset['genre'] == a[20], 'genre'] = a[1]\n",
    "# 'Action,Western'\n",
    "dataset.loc[dataset['genre'] == a[21], 'genre'] = a[2]\n",
    "# 'Adventure,Development Hell'\n",
    "dataset.loc[dataset['genre'] == a[22], 'genre'] = a[3]\n",
    "# 'Comedy,Adapted as a Comedy'\n",
    "dataset.loc[dataset['genre'] == a[23], 'genre'] = a[1]\n",
    "# 'Drama,20th Century Fox'\n",
    "dataset.loc[dataset['genre'] == a[24], 'genre'] = a[0]\n",
    "# 'Genre Films,Donners’ Company,Horror'\n",
    "dataset.loc[dataset['genre'] == a[25], 'genre'] = a[5]\n",
    "# 'Genre Films,Thriller/Suspense'\n",
    "dataset.loc[dataset['genre'] == a[26], 'genre'] = a[4]\n",
    "# 'Drama,The Mark Gordon Company'\n",
    "dataset.loc[dataset['genre'] == a[27], 'genre'] = a[0]\n",
    "# 'Action,Maximum Effect '\n",
    "dataset.loc[dataset['genre'] == a[28], 'genre'] = a[2]\n",
    "# 'Robert Kulzer,Action'\n",
    "dataset.loc[dataset['genre'] == a[29], 'genre'] = a[2]\n",
    "# 'Action,Hutch Parker'\n",
    "dataset.loc[dataset['genre'] == a[30], 'genre'] = a[2]\n",
    "# 'Twentieth Century Fox,Action'\n",
    "dataset.loc[dataset['genre'] == a[31], 'genre'] = a[2]\n",
    "# 'Multiple Genres'\n",
    "dataset.loc[dataset['genre'] == a[32], 'genre'] = \"others\""
   ]
  },
  {
   "cell_type": "code",
   "execution_count": 542,
   "id": "abd2f31e-362b-4d0f-a069-f31613ddd8c3",
   "metadata": {},
   "outputs": [
    {
     "data": {
      "text/plain": [
       "Drama                  1678\n",
       "Comedy                 1021\n",
       "Action                  822\n",
       "Adventure               751\n",
       "Thriller/Suspense       645\n",
       "Horror                  542\n",
       "Romantic Comedy         271\n",
       "Documentary             147\n",
       "Black Comedy            132\n",
       "Musical                 115\n",
       "Western                  83\n",
       "Concert/Performance      14\n",
       "others                    2\n",
       "Name: genre, dtype: int64"
      ]
     },
     "execution_count": 542,
     "metadata": {},
     "output_type": "execute_result"
    }
   ],
   "source": [
    "dataset['genre'].value_counts()"
   ]
  },
  {
   "cell_type": "code",
   "execution_count": 556,
   "id": "eec7527c-5746-4517-ba4c-945d503df93f",
   "metadata": {},
   "outputs": [],
   "source": [
    "# dataset.to_csv('new_dataset.csv', index = False)"
   ]
  },
  {
   "cell_type": "code",
   "execution_count": null,
   "id": "0ff1ca38-1aa4-492d-bed4-3b4dc9519604",
   "metadata": {},
   "outputs": [],
   "source": [
    "# Fixing country"
   ]
  },
  {
   "cell_type": "code",
   "execution_count": 535,
   "id": "a88e9bec-d524-4c82-a8f1-d3242af0dfb9",
   "metadata": {},
   "outputs": [],
   "source": [
    "dataset = pd.read_csv('new_dataset.csv')"
   ]
  },
  {
   "cell_type": "code",
   "execution_count": 546,
   "id": "5f4f5388-fd22-496e-a5f3-da4be412eff8",
   "metadata": {
    "collapsed": true,
    "jupyter": {
     "outputs_hidden": true
    },
    "tags": []
   },
   "outputs": [
    {
     "data": {
      "text/plain": [
       "United States                 4326\n",
       "                               442\n",
       "United Kingdom                 382\n",
       "France                         231\n",
       "Canada                         181\n",
       "Germany                        105\n",
       "Australia                      101\n",
       "China                           55\n",
       "English                         46\n",
       "India                           45\n",
       "Japan                           37\n",
       "Belgium                         36\n",
       "Italy                           34\n",
       "Spain                           34\n",
       "Mexico                          24\n",
       "Denmark                         23\n",
       "New Zealand                     22\n",
       "Russian Federation              21\n",
       "Republic of Korea               21\n",
       "Ireland                         18\n",
       "Brazil                          16\n",
       "Hong Kong                       16\n",
       "Argentina                       12\n",
       "Finland                         10\n",
       "Czech Republic                  10\n",
       "Sweden                           7\n",
       "Norway                           7\n",
       "South Africa                     7\n",
       "Austria                          6\n",
       "United Arab Emirates             6\n",
       "Thailand                         6\n",
       "Netherlands                      5\n",
       "Islamic Republic of Iran         5\n",
       "Romania                          5\n",
       "Poland                           4\n",
       "Hungary                          4\n",
       "French                           4\n",
       "Luxembourg                       3\n",
       "Nigeria                          3\n",
       "Chile                            3\n",
       "Israel                           3\n",
       "Taiwan, Province of China        2\n",
       "Bulgaria                         2\n",
       "Greece                           2\n",
       "Spanish                          2\n",
       "Cyprus                           2\n",
       "Saudi Arabia                     2\n",
       "Cayman Islands                   2\n",
       "Pakistan                         2\n",
       "Algeria                          2\n",
       "Bahamas                          2\n",
       "Ecuador                          1\n",
       "Azerbaijan                       1\n",
       "Estonia                          1\n",
       "Peru                             1\n",
       "Dominican Republic               1\n",
       "Lithuania                        1\n",
       "Indonesia                        1\n",
       "Viet Nam                         1\n",
       "Afghanistan                      1\n",
       "Hindi                            1\n",
       "Puerto Rico                      1\n",
       "Portuguese                       1\n",
       "Jordan                           1\n",
       "Slovenia                         1\n",
       "Jamaica                          1\n",
       "Iceland                          1\n",
       "Lebanon                          1\n",
       "Kyrgyzstan                       1\n",
       "Egypt                            1\n",
       "Kazakhstan                       1\n",
       "Panama                           1\n",
       "Libyan Arab Jamahiriya           1\n",
       "Monaco                           1\n",
       "Slovakia                         1\n",
       "Namibia                          1\n",
       "Costa Rica                       1\n",
       "Kuwait                           1\n",
       "Georgia                          1\n",
       "Malta                            1\n",
       "Turkey                           1\n",
       "German Democratic Republic       1\n",
       "Bosnia and Herzegovina           1\n",
       "Cambodia                         1\n",
       "Colombia                         1\n",
       "Kenya                            1\n",
       "Name: country, dtype: int64"
      ]
     },
     "execution_count": 546,
     "metadata": {},
     "output_type": "execute_result"
    }
   ],
   "source": [
    "dataset.country.value_counts()"
   ]
  },
  {
   "cell_type": "code",
   "execution_count": null,
   "id": "5eebf333-00d3-4ab1-8279-024cc8188ea5",
   "metadata": {},
   "outputs": [],
   "source": []
  },
  {
   "cell_type": "code",
   "execution_count": null,
   "id": "bc563bcf-97d9-4c74-96c9-056fba307901",
   "metadata": {},
   "outputs": [],
   "source": [
    "# Fixing language"
   ]
  },
  {
   "cell_type": "code",
   "execution_count": null,
   "id": "6cadd8e3-a53c-4282-984d-647734ec623a",
   "metadata": {},
   "outputs": [],
   "source": [
    "dataset = pd.read_csv('new_dataset.csv')"
   ]
  },
  {
   "cell_type": "code",
   "execution_count": 552,
   "id": "902c0e0f-b3a3-4fce-bbfa-f56c62d1029f",
   "metadata": {
    "collapsed": true,
    "jupyter": {
     "outputs_hidden": true
    },
    "tags": []
   },
   "outputs": [
    {
     "data": {
      "text/plain": [
       "[English]                                                                   4593\n",
       "[]                                                                           994\n",
       "[French]                                                                      72\n",
       "[Spanish, English]                                                            64\n",
       "[English, French]                                                             47\n",
       "[Spanish]                                                                     35\n",
       "[Japanese]                                                                    20\n",
       "[Hindi]                                                                       17\n",
       "[Russian]                                                                     17\n",
       "[Mandarin]                                                                    17\n",
       "[English, Italian]                                                            16\n",
       "[Mandarin, English]                                                           15\n",
       "[R, English]                                                                  14\n",
       "[Japanese, English]                                                           13\n",
       "[Russian, English]                                                            12\n",
       "[PG-13, English]                                                              12\n",
       "[German, English, French]                                                     11\n",
       "[German]                                                                      10\n",
       "[Korean]                                                                      10\n",
       "[German, English]                                                             10\n",
       "[Spanish, English, French]                                                     7\n",
       "[English, Arabic]                                                              7\n",
       "[Mandarin, Cantonese]                                                          7\n",
       "[Cantonese]                                                                    6\n",
       "[Italian]                                                                      6\n",
       "[Hindi, English]                                                               6\n",
       "[Silent]                                                                       6\n",
       "[Latin, English]                                                               5\n",
       "[Danish]                                                                       5\n",
       "[Portuguese]                                                                   5\n",
       "[Finnish]                                                                      5\n",
       "[Portuguese, English]                                                          5\n",
       "[English, Cantonese]                                                           5\n",
       "[Hebrew, English]                                                              5\n",
       "[English, PG]                                                                  5\n",
       "[Norwegian]                                                                    4\n",
       "[Thai]                                                                         4\n",
       "[Sign Language, English]                                                       4\n",
       "[Korean, English]                                                              4\n",
       "[Apache, English]                                                              4\n",
       "[Polish]                                                                       4\n",
       "[Thai, English]                                                                4\n",
       "[Swedish, English]                                                             4\n",
       "[Mandarin, English, Cantonese]                                                 3\n",
       "[Arabic, French]                                                               3\n",
       "[English, Vietnamese]                                                          3\n",
       "[German, Russian, English, French]                                             3\n",
       "[Romanian]                                                                     3\n",
       "[German, Russian, English]                                                     3\n",
       "[English, Arabic, French]                                                      3\n",
       "[German, English, French, Italian]                                             3\n",
       "[English, French, Italian]                                                     3\n",
       "[Hebrew]                                                                       3\n",
       "[French, Polish]                                                               2\n",
       "[Russian, English, Italian]                                                    2\n",
       "[Hebrew, Arabic]                                                               2\n",
       "[German, English, Italian]                                                     2\n",
       "[Xhosa, English]                                                               2\n",
       "[Mandarin, Japanese, Cantonese]                                                2\n",
       "[Gaelic, English]                                                              2\n",
       "[Spanish, Italian]                                                             2\n",
       "[Korean, Spanish, English]                                                     2\n",
       "[Gaelic, English, French]                                                      2\n",
       "[German, Mandarin, Japanese, English]                                          2\n",
       "[Spanish, Russian, English, French]                                            2\n",
       "[English, Persian]                                                             2\n",
       "[Urdu]                                                                         2\n",
       "[Swedish]                                                                      2\n",
       "[Icelandic]                                                                    2\n",
       "[Spanish, English, Italian]                                                    2\n",
       "[English, French, Flemish]                                                     2\n",
       "[Mandarin, Japanese, English]                                                  2\n",
       "[German, Spanish, English]                                                     2\n",
       "[Farsi]                                                                        2\n",
       "[Danish, German]                                                               2\n",
       "[Japanese, English, French]                                                    2\n",
       "[Serbian, English]                                                             2\n",
       "[Persian]                                                                      2\n",
       "[Arabic]                                                                       2\n",
       "[Tamil]                                                                        2\n",
       "[Spanish, English, French, Italian]                                            1\n",
       "[Somali, English, French]                                                      1\n",
       "[Danish, Swedish]                                                              1\n",
       "[English, French, German, Italian, Mandarin]                                   1\n",
       "[Danish, Russian, English, Norwegian]                                          1\n",
       "[German, Greek, English, French]                                               1\n",
       "[Urdu, English]                                                                1\n",
       "[German, French]                                                               1\n",
       "[Hindi, Punjabi]                                                               1\n",
       "[Ukrainian, English]                                                           1\n",
       "[Portuguese, Spanish]                                                          1\n",
       "[German, Hebrew, Russian, English]                                             1\n",
       "[German, English, Dutch]                                                       1\n",
       "[Farsi, English, Persian]                                                      1\n",
       "[Greek, English, Italian]                                                      1\n",
       "[Portuguese, Spanish, English, Polish]                                         1\n",
       "[German, Korean, English]                                                      1\n",
       "[Latin, Russian, English, Spanish]                                             1\n",
       "[Slovak, English, French]                                                      1\n",
       "[Urdu, Hindi, Punjabi]                                                         1\n",
       "[English, Serbian, Italian, Polish, Russian]                                   1\n",
       "[Hebrew, Russian, English]                                                     1\n",
       "[Spanish, Arabic, French]                                                      1\n",
       "[Tamil, English, French]                                                       1\n",
       "[English, French, Persian]                                                     1\n",
       "[PG-13, Hindi, English]                                                        1\n",
       "[Latin, Spanish]                                                               1\n",
       "[Khmer, English, Vietnamese]                                                   1\n",
       "[Hindi, Gujarati, English]                                                     1\n",
       "[English, Spanish, Arabic]                                                     1\n",
       "[Fanagalo, Afrikaans]                                                          1\n",
       "[Russian, English, Dari, French, Spanish]                                      1\n",
       "[Hungarian]                                                                    1\n",
       "[Spanish, English, Tagalog]                                                    1\n",
       "[Turkish]                                                                      1\n",
       "[English, Kirghiz]                                                             1\n",
       "[Finnish, English]                                                             1\n",
       "[Welsh, English]                                                               1\n",
       "[Indonesian]                                                                   1\n",
       "[Catalan]                                                                      1\n",
       "[Mandarin, Urdu, English, French]                                              1\n",
       "[Serbian, English, French, Bosnian]                                            1\n",
       "[Vietnamese]                                                                   1\n",
       "[Spanish, Swahili, French]                                                     1\n",
       "[Latin, French, Italian]                                                       1\n",
       "[Slovenian]                                                                    1\n",
       "[English, Dari, Pushto, Arabic, French]                                        1\n",
       "[Lithuanian, English]                                                          1\n",
       "[Danish, Swedish, German]                                                      1\n",
       "[Greek]                                                                        1\n",
       "[English, French, German, Italian, Spanish]                                    1\n",
       "[Hebrew, English, Vietnamese]                                                  1\n",
       "[Korean, Mandarin, English, Cantonese]                                         1\n",
       "[Finnish, English, French, German, Italian]                                    1\n",
       "[Portuguese, Spanish, English]                                                 1\n",
       "[Japanese, Spanish]                                                            1\n",
       "[Swedish, English, French]                                                     1\n",
       "[Korean, Japanese, English]                                                    1\n",
       "[Aymaran, English, Spanish, Quechua]                                           1\n",
       "[Swedish, Russian, English, Polish]                                            1\n",
       "[Serbian, Swedish, Spanish, English]                                           1\n",
       "[Arabic, Amharic]                                                              1\n",
       "[Russian, French]                                                              1\n",
       "[German, Spanish]                                                              1\n",
       "[German, Portuguese]                                                           1\n",
       "[Finnish, English, Norwegian]                                                  1\n",
       "[English, Punjabi, Arabic]                                                     1\n",
       "[German, Turkish, English]                                                     1\n",
       "[Russian, Japanese, English]                                                   1\n",
       "[Korean, Thai, English]                                                        1\n",
       "[Gaelic, Latin, English]                                                       1\n",
       "[Mandarin, Japanese, English, Italian]                                         1\n",
       "[Hindi, Urdu, English]                                                         1\n",
       "[Georgian, Russian, English]                                                   1\n",
       "[Hungarian, English]                                                           1\n",
       "[Hebrew, English, Arabic, French]                                              1\n",
       "[Punjabi]                                                                      1\n",
       "[Mandarin, Hokkien]                                                            1\n",
       "[Bengali, English]                                                             1\n",
       "[Spanish, Italian, Polish, Russian, Dutch]                                     1\n",
       "[Mongolian, Mandarin]                                                          1\n",
       "[Japanese, English, Spanish, Italian]                                          1\n",
       "[Farsi, English]                                                               1\n",
       "[Tagalog, Filipino, English, Japanese]                                         1\n",
       "[German, Greek, English, Italian]                                              1\n",
       "[English, Algonquian]                                                          1\n",
       "[Somali, English]                                                              1\n",
       "[Mandarin, English, Spanish, Cantonese]                                        1\n",
       "[R, Latin, English, German, Italian]                                           1\n",
       "[German, Tibetan, Punjabi, English]                                            1\n",
       "[Turkish, Ukrainian, Russian, English]                                         1\n",
       "[Burmese, English, Thai]                                                       1\n",
       "[Portuguese, English, French]                                                  1\n",
       "[Korean, Mandarin, English]                                                    1\n",
       "[English, French, Romanian]                                                    1\n",
       "[English, Bosnian]                                                             1\n",
       "[Mende, Spanish, English]                                                      1\n",
       "[Latin, English, French]                                                       1\n",
       "[English, Croatian, Serbian, German, Japanese]                                 1\n",
       "[Latin, English, Portuguese, French, Spanish]                                  1\n",
       "[Danish, Spanish, English]                                                     1\n",
       "[Esperanto, English]                                                           1\n",
       "[Esperanto, Japanese, English]                                                 1\n",
       "[Xhosa, Afrikaans, English]                                                    1\n",
       "[Latin, Aramaic, English, Italian]                                             1\n",
       "[Russian, English, Korean, Arabic, French, German, Japanese]                   1\n",
       "[German, English, Arabic]                                                      1\n",
       "[German, Mandarin, Tibetan, English]                                           1\n",
       "[Thai, English, French]                                                        1\n",
       "[Na'vi, English]                                                               1\n",
       "[Swedish, English, Italian]                                                    1\n",
       "[English, Klingon]                                                             1\n",
       "[English, Japanese, Cantonese]                                                 1\n",
       "[English, Japanese, Cantonese, French]                                         1\n",
       "[English, Swedish, Hindi, Arabic, Russian]                                     1\n",
       "[Latin, Spanish, English, French]                                              1\n",
       "[English, Turkish, Hindi, Cantonese, French, German]                           1\n",
       "[Mende, English]                                                               1\n",
       "[Mandarin, Japanese, English, Shanghainese]                                    1\n",
       "[Swedish, English, Arabic]                                                     1\n",
       "[Gaelic, Latin, Welsh, English]                                                1\n",
       "[Afrikaans, English, Spanish]                                                  1\n",
       "[Somali, Spanish, English]                                                     1\n",
       "[English, Hawaiian]                                                            1\n",
       "[Russian, English, Spanish, Romanian]                                          1\n",
       "[Croatian, English, German]                                                    1\n",
       "[English, French, Italian, Bulgarian, Russian]                                 1\n",
       "[Hebrew, English, Arabic, Urdu, Russian]                                       1\n",
       "[Hebrew, English, Arabic, French, German, Italian]                             1\n",
       "[R, PG-13, English]                                                            1\n",
       "[French, Italian]                                                              1\n",
       "[Portuguese, Aramaic, English]                                                 1\n",
       "[German, Japanese, English]                                                    1\n",
       "[Hebrew, English, Arabic, German, Spanish, Nepali]                             1\n",
       "[Estonian, English]                                                            1\n",
       "[Russian, English, Spanish]                                                    1\n",
       "[German, Swedish, English, French]                                             1\n",
       "[Aramaic, English]                                                             1\n",
       "[Russian, Hungarian, Spanish, English, Arabic, French, German, Japanese]       1\n",
       "[English, Hindi, Punjabi, Urdu, Persian, Russian]                              1\n",
       "[Latin, English, Swedish, Arabic, French]                                      1\n",
       "[Khmer, Russian, English, French]                                              1\n",
       "[Picard (Chti), French]                                                        1\n",
       "[Afrikaans, English]                                                           1\n",
       "[German, Armenian, English, French]                                            1\n",
       "[Turkish, English, Arabic]                                                     1\n",
       "[English, Romanian]                                                            1\n",
       "[Turkish, English]                                                             1\n",
       "[Southern Min, English, Cantonese, Japanese, Mandarin, Hokkien]                1\n",
       "[Latin, Sicilian, English, Italian, Spanish]                                   1\n",
       "[English, Arabic, French, Spanish, Mandarin]                                   1\n",
       "[R, English, Croatian, Serbian, Bosnian]                                       1\n",
       "[German, Czech, English]                                                       1\n",
       "[Bengali, Hindi, English]                                                      1\n",
       "[Gaelic, English, French, German, Japanese]                                    1\n",
       "[German, Spanish, English, Italian]                                            1\n",
       "[Turkish, Hungarian, Russian, English]                                         1\n",
       "[Nyanja, English]                                                              1\n",
       "[Mandarin, English, French]                                                    1\n",
       "[Danish, English, German]                                                      1\n",
       "[Tamil, Telugu, Hindi, Malayalam]                                              1\n",
       "[Hebrew, Hungarian, English]                                                   1\n",
       "[Hungarian, English, French, Albanian, Spanish]                                1\n",
       "[R, English, Italian]                                                          1\n",
       "[Zulu, Xhosa, Afrikaans, English]                                              1\n",
       "[Sinhala, Hindi, Mandarin, English]                                            1\n",
       "[Hungarian, English, Cantonese, German, Japanese]                              1\n",
       "[Tibetan, Mandarin, English]                                                   1\n",
       "[Spanish, Dutch]                                                               1\n",
       "[Latin, English, French, German, Italian]                                      1\n",
       "[Latin, Aramaic]                                                               1\n",
       "[English, Arabic, French, Albanian]                                            1\n",
       "[German, Hebrew, English, Polish]                                              1\n",
       "[English, Indonesian]                                                          1\n",
       "[English, French, German, Italian, Japanese]                                   1\n",
       "[English, Creole]                                                              1\n",
       "[Tamil, Telugu]                                                                1\n",
       "[Hebrew, English, French, German, Italian, Spanish]                            1\n",
       "[Hindi, English, French]                                                       1\n",
       "[Dutch]                                                                        1\n",
       "[Swahili, English]                                                             1\n",
       "Name: language, dtype: int64"
      ]
     },
     "execution_count": 552,
     "metadata": {},
     "output_type": "execute_result"
    }
   ],
   "source": [
    "dataset.language.value_counts()"
   ]
  },
  {
   "cell_type": "code",
   "execution_count": 549,
   "id": "6f8a9f7c-0e29-47cb-af36-883a7a769ae8",
   "metadata": {},
   "outputs": [
    {
     "name": "stderr",
     "output_type": "stream",
     "text": [
      "100%|██████████| 6381/6381 [00:00<00:00, 580309.06it/s]\n"
     ]
    }
   ],
   "source": [
    "tqdm.pandas()\n",
    "dataset['language'] = dataset['language'].fillna('[]').apply(ast.literal_eval).progress_apply(remove_dup)"
   ]
  },
  {
   "cell_type": "code",
   "execution_count": 554,
   "id": "3ed68ba0-47db-4c99-a84d-73f8dda9dea0",
   "metadata": {},
   "outputs": [
    {
     "name": "stderr",
     "output_type": "stream",
     "text": [
      "C:\\Users\\kongw\\AppData\\Local\\Temp\\ipykernel_14320\\4193820644.py:1: FutureWarning: The default dtype for empty Series will be 'object' instead of 'float64' in a future version. Specify a dtype explicitly to silence this warning.\n",
      "  s = dataset.apply(lambda x: pd.Series(x['language']),axis=1).stack().reset_index(level=1, drop=True)\n"
     ]
    },
    {
     "data": {
      "text/plain": [
       "English          5070\n",
       "French            209\n",
       "Spanish           151\n",
       "German             84\n",
       "Mandarin           63\n",
       "Russian            61\n",
       "Italian            59\n",
       "Japanese           59\n",
       "Hindi              35\n",
       "Arabic             35\n",
       "Cantonese          30\n",
       "Korean             22\n",
       "Hebrew             20\n",
       "Latin              19\n",
       "R                  18\n",
       "Portuguese         17\n",
       "Swedish            16\n",
       "PG-13              14\n",
       "Danish             12\n",
       "Thai               11\n",
       "Polish             11\n",
       "Urdu                8\n",
       "Finnish             8\n",
       "Gaelic              7\n",
       "Serbian             7\n",
       "Hungarian           7\n",
       "Turkish             7\n",
       "Persian             7\n",
       "Punjabi             6\n",
       "Romanian            6\n",
       "Norwegian           6\n",
       "Silent              6\n",
       "Vietnamese          6\n",
       "Tamil               5\n",
       "Afrikaans           5\n",
       "PG                  5\n",
       "Farsi               4\n",
       "Greek               4\n",
       "Xhosa               4\n",
       "Dutch               4\n",
       "Aramaic             4\n",
       "Sign Language       4\n",
       "Apache              4\n",
       "Tibetan             3\n",
       "Croatian            3\n",
       "Bosnian             3\n",
       "Somali              3\n",
       "Indonesian          2\n",
       "Mende               2\n",
       "Khmer               2\n",
       "Flemish             2\n",
       "Hokkien             2\n",
       "Icelandic           2\n",
       "Dari                2\n",
       "Swahili             2\n",
       "Bengali             2\n",
       "Albanian            2\n",
       "Esperanto           2\n",
       "Telugu              2\n",
       "Ukrainian           2\n",
       "Welsh               2\n",
       "Tagalog             2\n",
       "Klingon             1\n",
       "Catalan             1\n",
       "Kirghiz             1\n",
       "Slovenian           1\n",
       "Fanagalo            1\n",
       "Georgian            1\n",
       "Hawaiian            1\n",
       "Pushto              1\n",
       "Amharic             1\n",
       "Quechua             1\n",
       "Aymaran             1\n",
       "Gujarati            1\n",
       "Bulgarian           1\n",
       "Slovak              1\n",
       "Na'vi               1\n",
       "Shanghainese        1\n",
       "Czech               1\n",
       "Zulu                1\n",
       "Sicilian            1\n",
       "Filipino            1\n",
       "Southern Min        1\n",
       "Algonquian          1\n",
       "Armenian            1\n",
       "Picard (Chti)       1\n",
       "Burmese             1\n",
       "Mongolian           1\n",
       "Estonian            1\n",
       "Nepali              1\n",
       "Creole              1\n",
       "Nyanja              1\n",
       "Malayalam           1\n",
       "Sinhala             1\n",
       "Lithuanian          1\n",
       "dtype: int64"
      ]
     },
     "execution_count": 554,
     "metadata": {},
     "output_type": "execute_result"
    }
   ],
   "source": [
    "s = dataset.apply(lambda x: pd.Series(x['language']),axis=1).stack().reset_index(level=1, drop=True)\n",
    "s.value_counts()"
   ]
  },
  {
   "cell_type": "code",
   "execution_count": null,
   "id": "380efb35-4d3a-414c-864e-9746f724dade",
   "metadata": {},
   "outputs": [],
   "source": [
    "############################################################################"
   ]
  },
  {
   "cell_type": "code",
   "execution_count": 367,
   "id": "78473e3c-c5a1-4260-aaed-e8afafea8e3e",
   "metadata": {},
   "outputs": [],
   "source": [
    "data = pd.read_csv('new_dataset.csv', thousands=',')"
   ]
  },
  {
   "cell_type": "code",
   "execution_count": 368,
   "id": "7a5e4e8d-5842-4ca5-a180-78b5665559c1",
   "metadata": {},
   "outputs": [
    {
     "data": {
      "text/html": [
       "<div>\n",
       "<style scoped>\n",
       "    .dataframe tbody tr th:only-of-type {\n",
       "        vertical-align: middle;\n",
       "    }\n",
       "\n",
       "    .dataframe tbody tr th {\n",
       "        vertical-align: top;\n",
       "    }\n",
       "\n",
       "    .dataframe thead th {\n",
       "        text-align: right;\n",
       "    }\n",
       "</style>\n",
       "<table border=\"1\" class=\"dataframe\">\n",
       "  <thead>\n",
       "    <tr style=\"text-align: right;\">\n",
       "      <th></th>\n",
       "      <th>moviename</th>\n",
       "      <th>link</th>\n",
       "      <th>genre</th>\n",
       "      <th>company</th>\n",
       "      <th>country</th>\n",
       "      <th>language</th>\n",
       "      <th>keywords</th>\n",
       "      <th>Budget</th>\n",
       "      <th>Domestic</th>\n",
       "      <th>Worldwide</th>\n",
       "    </tr>\n",
       "  </thead>\n",
       "  <tbody>\n",
       "    <tr>\n",
       "      <th>0</th>\n",
       "      <td>Dungeons &amp; Dragons: Honor Among Thieves</td>\n",
       "      <td>Dungeons-and-Dragons-Honor-Among-Thieves-(2023...</td>\n",
       "      <td>Adventure</td>\n",
       "      <td>['Hasbro Studios', 'Entertainment One', 'Param...</td>\n",
       "      <td>United States</td>\n",
       "      <td>['English']</td>\n",
       "      <td>['Action Adventure', 'Disrupted by COVID-19 pa...</td>\n",
       "      <td>150000000</td>\n",
       "      <td>43613661</td>\n",
       "      <td>76439105</td>\n",
       "    </tr>\n",
       "    <tr>\n",
       "      <th>1</th>\n",
       "      <td>The Wolfman</td>\n",
       "      <td>Wolfman-The-(2010)#tab=summary</td>\n",
       "      <td>Horror</td>\n",
       "      <td>['Universal Pictures', 'Relativity Media', 'St...</td>\n",
       "      <td>United States</td>\n",
       "      <td>['English']</td>\n",
       "      <td>['Werewolf', 'Monster', 'Gothic Horror', '1890s']</td>\n",
       "      <td>150000000</td>\n",
       "      <td>62189884</td>\n",
       "      <td>142634358</td>\n",
       "    </tr>\n",
       "    <tr>\n",
       "      <th>2</th>\n",
       "      <td>The Great Wall</td>\n",
       "      <td>Great-Wall-The#tab=summary</td>\n",
       "      <td>Action</td>\n",
       "      <td>['Legendary Pictures', 'Universal Pictures', '...</td>\n",
       "      <td>China</td>\n",
       "      <td>['English', 'Mandarin']</td>\n",
       "      <td>['Ancient China', 'Monster', 'Song Dynasty', '...</td>\n",
       "      <td>150000000</td>\n",
       "      <td>45157105</td>\n",
       "      <td>334486852</td>\n",
       "    </tr>\n",
       "    <tr>\n",
       "      <th>3</th>\n",
       "      <td>Shazam! Fury of the Gods</td>\n",
       "      <td>Shazam-Fury-of-the-Gods-(2022)#tab=summary</td>\n",
       "      <td>Action</td>\n",
       "      <td>['New Line Cinema', 'The Safran Company']</td>\n",
       "      <td>United States</td>\n",
       "      <td>['English']</td>\n",
       "      <td>['Action Adventure', 'Adopted Family', 'Secret...</td>\n",
       "      <td>125000000</td>\n",
       "      <td>54464255</td>\n",
       "      <td>120864255</td>\n",
       "    </tr>\n",
       "    <tr>\n",
       "      <th>4</th>\n",
       "      <td>Assassin’s Creed</td>\n",
       "      <td>Assassins-Creed#tab=summary</td>\n",
       "      <td>Action</td>\n",
       "      <td>['Regency Enterprises', 'Ubisoft Entertainment...</td>\n",
       "      <td>United States</td>\n",
       "      <td>['English']</td>\n",
       "      <td>['Time Travel', 'Corporate Malfeasance', 'Assa...</td>\n",
       "      <td>125000000</td>\n",
       "      <td>54647948</td>\n",
       "      <td>240759682</td>\n",
       "    </tr>\n",
       "  </tbody>\n",
       "</table>\n",
       "</div>"
      ],
      "text/plain": [
       "                                 moviename  \\\n",
       "0  Dungeons & Dragons: Honor Among Thieves   \n",
       "1                              The Wolfman   \n",
       "2                           The Great Wall   \n",
       "3                 Shazam! Fury of the Gods   \n",
       "4                         Assassin’s Creed   \n",
       "\n",
       "                                                link      genre  \\\n",
       "0  Dungeons-and-Dragons-Honor-Among-Thieves-(2023...  Adventure   \n",
       "1                     Wolfman-The-(2010)#tab=summary     Horror   \n",
       "2                         Great-Wall-The#tab=summary     Action   \n",
       "3         Shazam-Fury-of-the-Gods-(2022)#tab=summary     Action   \n",
       "4                        Assassins-Creed#tab=summary     Action   \n",
       "\n",
       "                                             company        country  \\\n",
       "0  ['Hasbro Studios', 'Entertainment One', 'Param...  United States   \n",
       "1  ['Universal Pictures', 'Relativity Media', 'St...  United States   \n",
       "2  ['Legendary Pictures', 'Universal Pictures', '...          China   \n",
       "3          ['New Line Cinema', 'The Safran Company']  United States   \n",
       "4  ['Regency Enterprises', 'Ubisoft Entertainment...  United States   \n",
       "\n",
       "                  language                                           keywords  \\\n",
       "0              ['English']  ['Action Adventure', 'Disrupted by COVID-19 pa...   \n",
       "1              ['English']  ['Werewolf', 'Monster', 'Gothic Horror', '1890s']   \n",
       "2  ['English', 'Mandarin']  ['Ancient China', 'Monster', 'Song Dynasty', '...   \n",
       "3              ['English']  ['Action Adventure', 'Adopted Family', 'Secret...   \n",
       "4              ['English']  ['Time Travel', 'Corporate Malfeasance', 'Assa...   \n",
       "\n",
       "      Budget  Domestic  Worldwide  \n",
       "0  150000000  43613661   76439105  \n",
       "1  150000000  62189884  142634358  \n",
       "2  150000000  45157105  334486852  \n",
       "3  125000000  54464255  120864255  \n",
       "4  125000000  54647948  240759682  "
      ]
     },
     "execution_count": 368,
     "metadata": {},
     "output_type": "execute_result"
    }
   ],
   "source": [
    "data.head(5)"
   ]
  },
  {
   "cell_type": "code",
   "execution_count": 374,
   "id": "a15172eb-87cf-43ed-8e79-c69916a559a5",
   "metadata": {},
   "outputs": [
    {
     "data": {
      "image/png": "[encoded data removed]",
      "text/plain": [
       "<Figure size 1000x500 with 3 Axes>"
      ]
     },
     "metadata": {},
     "output_type": "display_data"
    }
   ],
   "source": [
    "figure, axis = plt.subplots(1, 3, figsize=(10, 5))\n",
    "#plot revenue\n",
    "axis[0].hist(data['Domestic'], bins = 50)\n",
    "axis[0].set_xlabel(\"Domestic\")\n",
    "axis[0].set_ylabel(\"Count\")\n",
    "\n",
    "axis[1].hist(data['Worldwide'], bins = 50)\n",
    "axis[1].set_xlabel(\"Worldwide\")\n",
    "axis[1].set_ylabel(\"Count\")\n",
    "\n",
    "axis[2].hist(data['Budget'], bins = 50)\n",
    "axis[2].set_xlabel(\"Budget\")\n",
    "axis[2].set_ylabel(\"Count\")\n",
    "plt.show()"
   ]
  },
  {
   "cell_type": "code",
   "execution_count": 384,
   "id": "e0439391-3f14-4413-95c4-0b4ae044eafd",
   "metadata": {},
   "outputs": [
    {
     "data": {
      "text/plain": [
       "(5964, 10)"
      ]
     },
     "execution_count": 384,
     "metadata": {},
     "output_type": "execute_result"
    }
   ],
   "source": [
    "data.loc[(data['Worldwide'] != 0) & (data['Budget'] != 0)].shape"
   ]
  },
  {
   "cell_type": "code",
   "execution_count": 382,
   "id": "4460bcd3-f759-428b-8550-04537f5c8477",
   "metadata": {},
   "outputs": [
    {
     "data": {
      "text/plain": [
       "(5677, 10)"
      ]
     },
     "execution_count": 382,
     "metadata": {},
     "output_type": "execute_result"
    }
   ],
   "source": [
    "data.loc[(data['Domestic'] != 0) & (data['Budget'] != 0)].shape"
   ]
  },
  {
   "cell_type": "code",
   "execution_count": 385,
   "id": "53eb29be-c651-4488-9db6-2f079137f2b1",
   "metadata": {
    "tags": []
   },
   "outputs": [],
   "source": [
    "df_sub = data.loc[(data['Worldwide'] != 0) & (data['Budget'] != 0)].copy()"
   ]
  },
  {
   "cell_type": "code",
   "execution_count": 386,
   "id": "30339d4d-c4e8-4361-befe-f61040908693",
   "metadata": {},
   "outputs": [
    {
     "data": {
      "text/html": [
       "<div>\n",
       "<style scoped>\n",
       "    .dataframe tbody tr th:only-of-type {\n",
       "        vertical-align: middle;\n",
       "    }\n",
       "\n",
       "    .dataframe tbody tr th {\n",
       "        vertical-align: top;\n",
       "    }\n",
       "\n",
       "    .dataframe thead th {\n",
       "        text-align: right;\n",
       "    }\n",
       "</style>\n",
       "<table border=\"1\" class=\"dataframe\">\n",
       "  <thead>\n",
       "    <tr style=\"text-align: right;\">\n",
       "      <th></th>\n",
       "      <th>Budget</th>\n",
       "      <th>Worldwide</th>\n",
       "    </tr>\n",
       "  </thead>\n",
       "  <tbody>\n",
       "    <tr>\n",
       "      <th>count</th>\n",
       "      <td>5.964000e+03</td>\n",
       "      <td>5.964000e+03</td>\n",
       "    </tr>\n",
       "    <tr>\n",
       "      <th>mean</th>\n",
       "      <td>3.373753e+07</td>\n",
       "      <td>9.864557e+07</td>\n",
       "    </tr>\n",
       "    <tr>\n",
       "      <th>std</th>\n",
       "      <td>4.364665e+07</td>\n",
       "      <td>1.885327e+08</td>\n",
       "    </tr>\n",
       "    <tr>\n",
       "      <th>min</th>\n",
       "      <td>1.100000e+03</td>\n",
       "      <td>1.700000e+01</td>\n",
       "    </tr>\n",
       "    <tr>\n",
       "      <th>25%</th>\n",
       "      <td>6.000000e+06</td>\n",
       "      <td>6.624231e+06</td>\n",
       "    </tr>\n",
       "    <tr>\n",
       "      <th>50%</th>\n",
       "      <td>1.800000e+07</td>\n",
       "      <td>3.224374e+07</td>\n",
       "    </tr>\n",
       "    <tr>\n",
       "      <th>75%</th>\n",
       "      <td>4.200000e+07</td>\n",
       "      <td>1.034355e+08</td>\n",
       "    </tr>\n",
       "    <tr>\n",
       "      <th>max</th>\n",
       "      <td>4.600000e+08</td>\n",
       "      <td>2.923706e+09</td>\n",
       "    </tr>\n",
       "  </tbody>\n",
       "</table>\n",
       "</div>"
      ],
      "text/plain": [
       "             Budget     Worldwide\n",
       "count  5.964000e+03  5.964000e+03\n",
       "mean   3.373753e+07  9.864557e+07\n",
       "std    4.364665e+07  1.885327e+08\n",
       "min    1.100000e+03  1.700000e+01\n",
       "25%    6.000000e+06  6.624231e+06\n",
       "50%    1.800000e+07  3.224374e+07\n",
       "75%    4.200000e+07  1.034355e+08\n",
       "max    4.600000e+08  2.923706e+09"
      ]
     },
     "execution_count": 386,
     "metadata": {},
     "output_type": "execute_result"
    }
   ],
   "source": [
    "df_sub[['Budget', 'Worldwide']].describe()"
   ]
  },
  {
   "cell_type": "code",
   "execution_count": 387,
   "id": "b79a3b60-e440-40b1-8ce3-45d67fd8a4c6",
   "metadata": {},
   "outputs": [
    {
     "data": {
      "image/png": "[encoded data removed]",
      "text/plain": [
       "<Figure size 1000x500 with 2 Axes>"
      ]
     },
     "metadata": {},
     "output_type": "display_data"
    }
   ],
   "source": [
    "figure, axis = plt.subplots(1, 2, figsize=(10, 5))\n",
    "#plot revenue\n",
    "axis[0].hist(df_sub['Worldwide'], bins = 50)\n",
    "axis[0].set_xlabel(\"Worldwide\")\n",
    "axis[0].set_ylabel(\"Count\")\n",
    "\n",
    "axis[1].hist(df_sub['Budget'], bins = 50)\n",
    "axis[1].set_xlabel(\"Budget\")\n",
    "axis[1].set_ylabel(\"Count\")\n",
    "plt.show()"
   ]
  },
  {
   "cell_type": "markdown",
   "id": "b75f95fc-9edb-4828-993a-a77583e08be4",
   "metadata": {},
   "source": [
    "# ROI"
   ]
  },
  {
   "cell_type": "code",
   "execution_count": 389,
   "id": "b7c7ceeb-3f56-4fec-a368-263a8d77ea66",
   "metadata": {},
   "outputs": [],
   "source": [
    "df_sub['ROI'] = (df_sub['Worldwide']-df_sub['Budget'])/df_sub['Budget']*100"
   ]
  },
  {
   "cell_type": "code",
   "execution_count": 392,
   "id": "21e13e11-f249-44a2-bbc5-c7005f5a061a",
   "metadata": {},
   "outputs": [
    {
     "data": {
      "text/html": [
       "<div>\n",
       "<style scoped>\n",
       "    .dataframe tbody tr th:only-of-type {\n",
       "        vertical-align: middle;\n",
       "    }\n",
       "\n",
       "    .dataframe tbody tr th {\n",
       "        vertical-align: top;\n",
       "    }\n",
       "\n",
       "    .dataframe thead th {\n",
       "        text-align: right;\n",
       "    }\n",
       "</style>\n",
       "<table border=\"1\" class=\"dataframe\">\n",
       "  <thead>\n",
       "    <tr style=\"text-align: right;\">\n",
       "      <th></th>\n",
       "      <th>moviename</th>\n",
       "      <th>link</th>\n",
       "      <th>genre</th>\n",
       "      <th>company</th>\n",
       "      <th>country</th>\n",
       "      <th>language</th>\n",
       "      <th>keywords</th>\n",
       "      <th>Budget</th>\n",
       "      <th>Domestic</th>\n",
       "      <th>Worldwide</th>\n",
       "      <th>ROI</th>\n",
       "    </tr>\n",
       "  </thead>\n",
       "  <tbody>\n",
       "    <tr>\n",
       "      <th>4368</th>\n",
       "      <td>Kirikou Et Les Hommes Et Les Femmes</td>\n",
       "      <td>Kirikou-Et-Les-Hommes-Et-Les-Femmes-(France)(2...</td>\n",
       "      <td>Adventure</td>\n",
       "      <td>[]</td>\n",
       "      <td>France</td>\n",
       "      <td>['French', 'French']</td>\n",
       "      <td>[]</td>\n",
       "      <td>7500000</td>\n",
       "      <td>0</td>\n",
       "      <td>17</td>\n",
       "      <td>-99.999773</td>\n",
       "    </tr>\n",
       "    <tr>\n",
       "      <th>5501</th>\n",
       "      <td>The Walking Deceased</td>\n",
       "      <td>Walking-Deceased-The-(2015)#tab=summary</td>\n",
       "      <td>Black Comedy</td>\n",
       "      <td>['Aristar Entertainment', 'Sheridanscope', 'Ar...</td>\n",
       "      <td>United States</td>\n",
       "      <td>['English', 'English']</td>\n",
       "      <td>['Zombies', 'Spoof', 'Horror Comedy', 'Zombies...</td>\n",
       "      <td>2000000</td>\n",
       "      <td>0</td>\n",
       "      <td>43</td>\n",
       "      <td>-99.997850</td>\n",
       "    </tr>\n",
       "    <tr>\n",
       "      <th>4846</th>\n",
       "      <td>Capricorn One</td>\n",
       "      <td>Capricorn-One#tab=summary</td>\n",
       "      <td>Action</td>\n",
       "      <td>[]</td>\n",
       "      <td>United Kingdom</td>\n",
       "      <td>['English', 'English']</td>\n",
       "      <td>[]</td>\n",
       "      <td>5000000</td>\n",
       "      <td>0</td>\n",
       "      <td>401</td>\n",
       "      <td>-99.991980</td>\n",
       "    </tr>\n",
       "    <tr>\n",
       "      <th>3467</th>\n",
       "      <td>Pandaemonium</td>\n",
       "      <td>Pandaemonium#tab=summary</td>\n",
       "      <td>NaN</td>\n",
       "      <td>[]</td>\n",
       "      <td>United States</td>\n",
       "      <td>[]</td>\n",
       "      <td>[]</td>\n",
       "      <td>15000000</td>\n",
       "      <td>0</td>\n",
       "      <td>1438</td>\n",
       "      <td>-99.990413</td>\n",
       "    </tr>\n",
       "    <tr>\n",
       "      <th>4488</th>\n",
       "      <td>Perrier’s Bounty</td>\n",
       "      <td>Perriers-Bounty#tab=summary</td>\n",
       "      <td>NaN</td>\n",
       "      <td>[]</td>\n",
       "      <td>Ireland</td>\n",
       "      <td>[]</td>\n",
       "      <td>[]</td>\n",
       "      <td>6600000</td>\n",
       "      <td>828</td>\n",
       "      <td>828</td>\n",
       "      <td>-99.987455</td>\n",
       "    </tr>\n",
       "    <tr>\n",
       "      <th>...</th>\n",
       "      <td>...</td>\n",
       "      <td>...</td>\n",
       "      <td>...</td>\n",
       "      <td>...</td>\n",
       "      <td>...</td>\n",
       "      <td>...</td>\n",
       "      <td>...</td>\n",
       "      <td>...</td>\n",
       "      <td>...</td>\n",
       "      <td>...</td>\n",
       "      <td>...</td>\n",
       "    </tr>\n",
       "    <tr>\n",
       "      <th>5973</th>\n",
       "      <td>The Blair Witch Project</td>\n",
       "      <td>Blair-Witch-Project-The#tab=summary</td>\n",
       "      <td>Horror</td>\n",
       "      <td>[]</td>\n",
       "      <td>United States</td>\n",
       "      <td>['English']</td>\n",
       "      <td>['Found Footage', 'Found footage horror']</td>\n",
       "      <td>600000</td>\n",
       "      <td>140539099</td>\n",
       "      <td>248300000</td>\n",
       "      <td>41283.333333</td>\n",
       "    </tr>\n",
       "    <tr>\n",
       "      <th>6265</th>\n",
       "      <td>The Gallows</td>\n",
       "      <td>Gallows-The#tab=summary</td>\n",
       "      <td>Horror</td>\n",
       "      <td>['New Line Cinema', 'Blumhouse', 'Tremendum Pi...</td>\n",
       "      <td>United States</td>\n",
       "      <td>['English']</td>\n",
       "      <td>['Theater Actor', 'Accidental Death', 'Found F...</td>\n",
       "      <td>100000</td>\n",
       "      <td>22764410</td>\n",
       "      <td>41656474</td>\n",
       "      <td>41556.474000</td>\n",
       "    </tr>\n",
       "    <tr>\n",
       "      <th>6063</th>\n",
       "      <td>Paranormal Activity</td>\n",
       "      <td>Paranormal-Activity#tab=summary</td>\n",
       "      <td>Horror</td>\n",
       "      <td>['Blumhouse', 'Solana Films']</td>\n",
       "      <td>United States</td>\n",
       "      <td>['English']</td>\n",
       "      <td>['Found Footage', 'Exorcism', 'Guerilla Filmma...</td>\n",
       "      <td>450000</td>\n",
       "      <td>107918810</td>\n",
       "      <td>194183034</td>\n",
       "      <td>43051.785333</td>\n",
       "    </tr>\n",
       "    <tr>\n",
       "      <th>6198</th>\n",
       "      <td>Mad Max</td>\n",
       "      <td>Mad-Max#tab=summary</td>\n",
       "      <td>Action</td>\n",
       "      <td>['Roadshow Films', 'Roadshow Films']</td>\n",
       "      <td>Australia</td>\n",
       "      <td>['English', 'English']</td>\n",
       "      <td>['Post Apocalypse', 'Revenge', 'Vigilante', 'G...</td>\n",
       "      <td>200000</td>\n",
       "      <td>8750000</td>\n",
       "      <td>99750000</td>\n",
       "      <td>49775.000000</td>\n",
       "    </tr>\n",
       "    <tr>\n",
       "      <th>6342</th>\n",
       "      <td>Deep Throat</td>\n",
       "      <td>Deep-Throat#tab=summary</td>\n",
       "      <td>NaN</td>\n",
       "      <td>[]</td>\n",
       "      <td>United States</td>\n",
       "      <td>[]</td>\n",
       "      <td>[]</td>\n",
       "      <td>25000</td>\n",
       "      <td>45000000</td>\n",
       "      <td>45000000</td>\n",
       "      <td>179900.000000</td>\n",
       "    </tr>\n",
       "  </tbody>\n",
       "</table>\n",
       "<p>5964 rows × 11 columns</p>\n",
       "</div>"
      ],
      "text/plain": [
       "                                moviename  \\\n",
       "4368  Kirikou Et Les Hommes Et Les Femmes   \n",
       "5501                 The Walking Deceased   \n",
       "4846                        Capricorn One   \n",
       "3467                         Pandaemonium   \n",
       "4488                     Perrier’s Bounty   \n",
       "...                                   ...   \n",
       "5973              The Blair Witch Project   \n",
       "6265                          The Gallows   \n",
       "6063                  Paranormal Activity   \n",
       "6198                              Mad Max   \n",
       "6342                          Deep Throat   \n",
       "\n",
       "                                                   link         genre  \\\n",
       "4368  Kirikou-Et-Les-Hommes-Et-Les-Femmes-(France)(2...     Adventure   \n",
       "5501            Walking-Deceased-The-(2015)#tab=summary  Black Comedy   \n",
       "4846                          Capricorn-One#tab=summary        Action   \n",
       "3467                           Pandaemonium#tab=summary           NaN   \n",
       "4488                        Perriers-Bounty#tab=summary           NaN   \n",
       "...                                                 ...           ...   \n",
       "5973                Blair-Witch-Project-The#tab=summary        Horror   \n",
       "6265                            Gallows-The#tab=summary        Horror   \n",
       "6063                    Paranormal-Activity#tab=summary        Horror   \n",
       "6198                                Mad-Max#tab=summary        Action   \n",
       "6342                            Deep-Throat#tab=summary           NaN   \n",
       "\n",
       "                                                company         country  \\\n",
       "4368                                                 []          France   \n",
       "5501  ['Aristar Entertainment', 'Sheridanscope', 'Ar...   United States   \n",
       "4846                                                 []  United Kingdom   \n",
       "3467                                                 []   United States   \n",
       "4488                                                 []         Ireland   \n",
       "...                                                 ...             ...   \n",
       "5973                                                 []   United States   \n",
       "6265  ['New Line Cinema', 'Blumhouse', 'Tremendum Pi...   United States   \n",
       "6063                      ['Blumhouse', 'Solana Films']   United States   \n",
       "6198               ['Roadshow Films', 'Roadshow Films']       Australia   \n",
       "6342                                                 []   United States   \n",
       "\n",
       "                    language  \\\n",
       "4368    ['French', 'French']   \n",
       "5501  ['English', 'English']   \n",
       "4846  ['English', 'English']   \n",
       "3467                      []   \n",
       "4488                      []   \n",
       "...                      ...   \n",
       "5973             ['English']   \n",
       "6265             ['English']   \n",
       "6063             ['English']   \n",
       "6198  ['English', 'English']   \n",
       "6342                      []   \n",
       "\n",
       "                                               keywords    Budget   Domestic  \\\n",
       "4368                                                 []   7500000          0   \n",
       "5501  ['Zombies', 'Spoof', 'Horror Comedy', 'Zombies...   2000000          0   \n",
       "4846                                                 []   5000000          0   \n",
       "3467                                                 []  15000000          0   \n",
       "4488                                                 []   6600000        828   \n",
       "...                                                 ...       ...        ...   \n",
       "5973          ['Found Footage', 'Found footage horror']    600000  140539099   \n",
       "6265  ['Theater Actor', 'Accidental Death', 'Found F...    100000   22764410   \n",
       "6063  ['Found Footage', 'Exorcism', 'Guerilla Filmma...    450000  107918810   \n",
       "6198  ['Post Apocalypse', 'Revenge', 'Vigilante', 'G...    200000    8750000   \n",
       "6342                                                 []     25000   45000000   \n",
       "\n",
       "      Worldwide            ROI  \n",
       "4368         17     -99.999773  \n",
       "5501         43     -99.997850  \n",
       "4846        401     -99.991980  \n",
       "3467       1438     -99.990413  \n",
       "4488        828     -99.987455  \n",
       "...         ...            ...  \n",
       "5973  248300000   41283.333333  \n",
       "6265   41656474   41556.474000  \n",
       "6063  194183034   43051.785333  \n",
       "6198   99750000   49775.000000  \n",
       "6342   45000000  179900.000000  \n",
       "\n",
       "[5964 rows x 11 columns]"
      ]
     },
     "execution_count": 392,
     "metadata": {},
     "output_type": "execute_result"
    }
   ],
   "source": [
    "df_sub.sort_values(by = ['ROI'])"
   ]
  },
  {
   "cell_type": "code",
   "execution_count": 393,
   "id": "521fb386-d6a6-4dd1-8fc4-45c68053c91f",
   "metadata": {},
   "outputs": [
    {
     "data": {
      "text/plain": [
       "{'whiskers': [<matplotlib.lines.Line2D at 0x26f657f0d60>,\n",
       "  <matplotlib.lines.Line2D at 0x26f657f0490>],\n",
       " 'caps': [<matplotlib.lines.Line2D at 0x26f657f0fd0>,\n",
       "  <matplotlib.lines.Line2D at 0x26f657f0760>],\n",
       " 'boxes': [<matplotlib.lines.Line2D at 0x26f657f0550>],\n",
       " 'medians': [<matplotlib.lines.Line2D at 0x26f657e80a0>],\n",
       " 'fliers': [<matplotlib.lines.Line2D at 0x26f657e8250>],\n",
       " 'means': []}"
      ]
     },
     "execution_count": 393,
     "metadata": {},
     "output_type": "execute_result"
    },
    {
     "data": {
      "image/png": "[encoded data removed]",
      "text/plain": [
       "<Figure size 640x480 with 1 Axes>"
      ]
     },
     "metadata": {},
     "output_type": "display_data"
    }
   ],
   "source": [
    "fig1, ax1 = plt.subplots()\n",
    "ax1.set_title('ROI')\n",
    "ax1.boxplot(df_sub['ROI'], vert=False)"
   ]
  },
  {
   "cell_type": "markdown",
   "id": "491c9875-44a5-4fa6-a6a8-90f54a741852",
   "metadata": {
    "tags": []
   },
   "source": [
    "# Outliers"
   ]
  },
  {
   "cell_type": "code",
   "execution_count": 401,
   "id": "20e35f51-a702-4e3a-95cf-8762b4bf26c1",
   "metadata": {},
   "outputs": [
    {
     "name": "stdout",
     "output_type": "stream",
     "text": [
      " 1    5250\n",
      "-1     714\n",
      "Name: anomaly, dtype: int64\n"
     ]
    }
   ],
   "source": [
    "X = df_sub['ROI'].to_frame().copy()\n",
    "from sklearn.ensemble import IsolationForest\n",
    "clf=IsolationForest(n_estimators=100, max_samples='auto', contamination=float(.12), \\\n",
    "                        max_features=1.0, bootstrap=False, n_jobs=-1, random_state=42, verbose=0)\n",
    "clf.fit(X.values)\n",
    "pred = clf.predict(X.values)\n",
    "X['anomaly']=pred\n",
    "outliers=X.loc[X['anomaly']==-1]\n",
    "outlier_index=list(outliers.index)\n",
    "#print(outlier_index)\n",
    "#Find the number of anomalies and normal points here points classified -1 are anomalous\n",
    "print(X['anomaly'].value_counts())"
   ]
  },
  {
   "cell_type": "code",
   "execution_count": 411,
   "id": "2670d907-f71b-4ee9-bf34-0bb4c35cb348",
   "metadata": {},
   "outputs": [
    {
     "data": {
      "text/plain": [
       "<seaborn.axisgrid.FacetGrid at 0x26f61362340>"
      ]
     },
     "execution_count": 411,
     "metadata": {},
     "output_type": "execute_result"
    },
    {
     "data": {
      "image/png": "[encoded data removed]",
      "text/plain": [
       "<Figure size 500x500 with 1 Axes>"
      ]
     },
     "metadata": {},
     "output_type": "display_data"
    }
   ],
   "source": [
    "sns.catplot(data=X, x=\"anomaly\", y=\"ROI\")"
   ]
  },
  {
   "cell_type": "code",
   "execution_count": null,
   "id": "f0d7eb92-1497-4940-98c3-087e3432b560",
   "metadata": {},
   "outputs": [],
   "source": []
  },
  {
   "cell_type": "markdown",
   "id": "44e7b88d-3fd0-4a14-998e-e8fab17c7ac2",
   "metadata": {},
   "source": [
    "# Encodings"
   ]
  },
  {
   "cell_type": "code",
   "execution_count": 459,
   "id": "d1e6be30-636f-417b-a523-1a77c2cb6c86",
   "metadata": {},
   "outputs": [],
   "source": [
    "def fix(l):\n",
    "    if type(l) != str:\n",
    "        if math.isnan(l):\n",
    "            return \"unknown\"\n",
    "    return l\n",
    "            "
   ]
  },
  {
   "cell_type": "code",
   "execution_count": 468,
   "id": "190c4edd-2811-44c2-af66-eaa2a948160a",
   "metadata": {},
   "outputs": [],
   "source": [
    "df_sub['genre'] = df_sub['genre'].apply(fix)"
   ]
  },
  {
   "cell_type": "code",
   "execution_count": 469,
   "id": "0aea12ca-e5f8-462a-8f13-646c7e54dc2f",
   "metadata": {},
   "outputs": [],
   "source": [
    "genretag = df_sub['genre'].unique()"
   ]
  },
  {
   "cell_type": "code",
   "execution_count": 470,
   "id": "624907aa-6eb5-44d2-b21e-ef5efb3b391d",
   "metadata": {},
   "outputs": [
    {
     "data": {
      "text/plain": [
       "array(['Adventure', 'Horror', 'Action', 'Drama', 'Musical', 'Western',\n",
       "       'Thriller/Suspense', 'Comedy', 'Black Comedy', 'Romantic Comedy',\n",
       "       'Documentary', 'others', 'unknown', 'Concert/Performance'],\n",
       "      dtype=object)"
      ]
     },
     "execution_count": 470,
     "metadata": {},
     "output_type": "execute_result"
    }
   ],
   "source": [
    "genretag"
   ]
  },
  {
   "cell_type": "code",
   "execution_count": 471,
   "id": "bfeb4abe-6c61-49f4-83b3-dcbf14168fbf",
   "metadata": {},
   "outputs": [],
   "source": [
    "for genre in genretag:\n",
    "    tempname = \"is\" + genre\n",
    "    tempname = tempname.replace(\" \", \"\")\n",
    "    df_sub[tempname]=0"
   ]
  },
  {
   "cell_type": "code",
   "execution_count": 473,
   "id": "3cf11f09-f3ea-4c12-b782-15fbc4f5dbe1",
   "metadata": {},
   "outputs": [],
   "source": [
    "for index, row in df_sub.iterrows():\n",
    "    for genre in genretag:\n",
    "        if genre in row['genre']:\n",
    "            tempname = \"is\" + genre\n",
    "            tempname = tempname.replace(\" \", \"\")\n",
    "            df_sub.at[index, tempname] = 1"
   ]
  },
  {
   "cell_type": "code",
   "execution_count": 474,
   "id": "3269e7b0-e216-4ef2-8d3a-e7f86d0ade92",
   "metadata": {},
   "outputs": [
    {
     "data": {
      "text/html": [
       "<div>\n",
       "<style scoped>\n",
       "    .dataframe tbody tr th:only-of-type {\n",
       "        vertical-align: middle;\n",
       "    }\n",
       "\n",
       "    .dataframe tbody tr th {\n",
       "        vertical-align: top;\n",
       "    }\n",
       "\n",
       "    .dataframe thead th {\n",
       "        text-align: right;\n",
       "    }\n",
       "</style>\n",
       "<table border=\"1\" class=\"dataframe\">\n",
       "  <thead>\n",
       "    <tr style=\"text-align: right;\">\n",
       "      <th></th>\n",
       "      <th>moviename</th>\n",
       "      <th>link</th>\n",
       "      <th>genre</th>\n",
       "      <th>company</th>\n",
       "      <th>country</th>\n",
       "      <th>language</th>\n",
       "      <th>keywords</th>\n",
       "      <th>Budget</th>\n",
       "      <th>Domestic</th>\n",
       "      <th>Worldwide</th>\n",
       "      <th>...</th>\n",
       "      <th>isMusical</th>\n",
       "      <th>isWestern</th>\n",
       "      <th>isThriller/Suspense</th>\n",
       "      <th>isComedy</th>\n",
       "      <th>isBlackComedy</th>\n",
       "      <th>isRomanticComedy</th>\n",
       "      <th>isDocumentary</th>\n",
       "      <th>isothers</th>\n",
       "      <th>isunknown</th>\n",
       "      <th>isConcert/Performance</th>\n",
       "    </tr>\n",
       "  </thead>\n",
       "  <tbody>\n",
       "    <tr>\n",
       "      <th>0</th>\n",
       "      <td>Dungeons &amp; Dragons: Honor Among Thieves</td>\n",
       "      <td>Dungeons-and-Dragons-Honor-Among-Thieves-(2023...</td>\n",
       "      <td>Adventure</td>\n",
       "      <td>['Hasbro Studios', 'Entertainment One', 'Param...</td>\n",
       "      <td>United States</td>\n",
       "      <td>['English']</td>\n",
       "      <td>['Action Adventure', 'Disrupted by COVID-19 pa...</td>\n",
       "      <td>150000000</td>\n",
       "      <td>43613661</td>\n",
       "      <td>76439105</td>\n",
       "      <td>...</td>\n",
       "      <td>0</td>\n",
       "      <td>0</td>\n",
       "      <td>0</td>\n",
       "      <td>0</td>\n",
       "      <td>0</td>\n",
       "      <td>0</td>\n",
       "      <td>0</td>\n",
       "      <td>0</td>\n",
       "      <td>0</td>\n",
       "      <td>0</td>\n",
       "    </tr>\n",
       "    <tr>\n",
       "      <th>1</th>\n",
       "      <td>The Wolfman</td>\n",
       "      <td>Wolfman-The-(2010)#tab=summary</td>\n",
       "      <td>Horror</td>\n",
       "      <td>['Universal Pictures', 'Relativity Media', 'St...</td>\n",
       "      <td>United States</td>\n",
       "      <td>['English']</td>\n",
       "      <td>['Werewolf', 'Monster', 'Gothic Horror', '1890s']</td>\n",
       "      <td>150000000</td>\n",
       "      <td>62189884</td>\n",
       "      <td>142634358</td>\n",
       "      <td>...</td>\n",
       "      <td>0</td>\n",
       "      <td>0</td>\n",
       "      <td>0</td>\n",
       "      <td>0</td>\n",
       "      <td>0</td>\n",
       "      <td>0</td>\n",
       "      <td>0</td>\n",
       "      <td>0</td>\n",
       "      <td>0</td>\n",
       "      <td>0</td>\n",
       "    </tr>\n",
       "    <tr>\n",
       "      <th>2</th>\n",
       "      <td>The Great Wall</td>\n",
       "      <td>Great-Wall-The#tab=summary</td>\n",
       "      <td>Action</td>\n",
       "      <td>['Legendary Pictures', 'Universal Pictures', '...</td>\n",
       "      <td>China</td>\n",
       "      <td>['English', 'Mandarin']</td>\n",
       "      <td>['Ancient China', 'Monster', 'Song Dynasty', '...</td>\n",
       "      <td>150000000</td>\n",
       "      <td>45157105</td>\n",
       "      <td>334486852</td>\n",
       "      <td>...</td>\n",
       "      <td>0</td>\n",
       "      <td>0</td>\n",
       "      <td>0</td>\n",
       "      <td>0</td>\n",
       "      <td>0</td>\n",
       "      <td>0</td>\n",
       "      <td>0</td>\n",
       "      <td>0</td>\n",
       "      <td>0</td>\n",
       "      <td>0</td>\n",
       "    </tr>\n",
       "    <tr>\n",
       "      <th>3</th>\n",
       "      <td>Shazam! Fury of the Gods</td>\n",
       "      <td>Shazam-Fury-of-the-Gods-(2022)#tab=summary</td>\n",
       "      <td>Action</td>\n",
       "      <td>['New Line Cinema', 'The Safran Company']</td>\n",
       "      <td>United States</td>\n",
       "      <td>['English']</td>\n",
       "      <td>['Action Adventure', 'Adopted Family', 'Secret...</td>\n",
       "      <td>125000000</td>\n",
       "      <td>54464255</td>\n",
       "      <td>120864255</td>\n",
       "      <td>...</td>\n",
       "      <td>0</td>\n",
       "      <td>0</td>\n",
       "      <td>0</td>\n",
       "      <td>0</td>\n",
       "      <td>0</td>\n",
       "      <td>0</td>\n",
       "      <td>0</td>\n",
       "      <td>0</td>\n",
       "      <td>0</td>\n",
       "      <td>0</td>\n",
       "    </tr>\n",
       "    <tr>\n",
       "      <th>4</th>\n",
       "      <td>Assassin’s Creed</td>\n",
       "      <td>Assassins-Creed#tab=summary</td>\n",
       "      <td>Action</td>\n",
       "      <td>['Regency Enterprises', 'Ubisoft Entertainment...</td>\n",
       "      <td>United States</td>\n",
       "      <td>['English']</td>\n",
       "      <td>['Time Travel', 'Corporate Malfeasance', 'Assa...</td>\n",
       "      <td>125000000</td>\n",
       "      <td>54647948</td>\n",
       "      <td>240759682</td>\n",
       "      <td>...</td>\n",
       "      <td>0</td>\n",
       "      <td>0</td>\n",
       "      <td>0</td>\n",
       "      <td>0</td>\n",
       "      <td>0</td>\n",
       "      <td>0</td>\n",
       "      <td>0</td>\n",
       "      <td>0</td>\n",
       "      <td>0</td>\n",
       "      <td>0</td>\n",
       "    </tr>\n",
       "    <tr>\n",
       "      <th>...</th>\n",
       "      <td>...</td>\n",
       "      <td>...</td>\n",
       "      <td>...</td>\n",
       "      <td>...</td>\n",
       "      <td>...</td>\n",
       "      <td>...</td>\n",
       "      <td>...</td>\n",
       "      <td>...</td>\n",
       "      <td>...</td>\n",
       "      <td>...</td>\n",
       "      <td>...</td>\n",
       "      <td>...</td>\n",
       "      <td>...</td>\n",
       "      <td>...</td>\n",
       "      <td>...</td>\n",
       "      <td>...</td>\n",
       "      <td>...</td>\n",
       "      <td>...</td>\n",
       "      <td>...</td>\n",
       "      <td>...</td>\n",
       "      <td>...</td>\n",
       "    </tr>\n",
       "    <tr>\n",
       "      <th>6373</th>\n",
       "      <td>Cavite</td>\n",
       "      <td>Cavite#tab=summary</td>\n",
       "      <td>Thriller/Suspense</td>\n",
       "      <td>[]</td>\n",
       "      <td></td>\n",
       "      <td>[]</td>\n",
       "      <td>[]</td>\n",
       "      <td>7000</td>\n",
       "      <td>70071</td>\n",
       "      <td>71644</td>\n",
       "      <td>...</td>\n",
       "      <td>0</td>\n",
       "      <td>0</td>\n",
       "      <td>1</td>\n",
       "      <td>0</td>\n",
       "      <td>0</td>\n",
       "      <td>0</td>\n",
       "      <td>0</td>\n",
       "      <td>0</td>\n",
       "      <td>0</td>\n",
       "      <td>0</td>\n",
       "    </tr>\n",
       "    <tr>\n",
       "      <th>6374</th>\n",
       "      <td>The Mongol King</td>\n",
       "      <td>Mongol-King-The#tab=summary</td>\n",
       "      <td>Drama</td>\n",
       "      <td>[]</td>\n",
       "      <td></td>\n",
       "      <td>[]</td>\n",
       "      <td>[]</td>\n",
       "      <td>7000</td>\n",
       "      <td>900</td>\n",
       "      <td>900</td>\n",
       "      <td>...</td>\n",
       "      <td>0</td>\n",
       "      <td>0</td>\n",
       "      <td>0</td>\n",
       "      <td>0</td>\n",
       "      <td>0</td>\n",
       "      <td>0</td>\n",
       "      <td>0</td>\n",
       "      <td>0</td>\n",
       "      <td>0</td>\n",
       "      <td>0</td>\n",
       "    </tr>\n",
       "    <tr>\n",
       "      <th>6376</th>\n",
       "      <td>Following</td>\n",
       "      <td>Following#tab=summary</td>\n",
       "      <td>unknown</td>\n",
       "      <td>[]</td>\n",
       "      <td></td>\n",
       "      <td>[]</td>\n",
       "      <td>['Non-Chronological', 'Writing and Writers', '...</td>\n",
       "      <td>6000</td>\n",
       "      <td>48482</td>\n",
       "      <td>240495</td>\n",
       "      <td>...</td>\n",
       "      <td>0</td>\n",
       "      <td>0</td>\n",
       "      <td>0</td>\n",
       "      <td>0</td>\n",
       "      <td>0</td>\n",
       "      <td>0</td>\n",
       "      <td>0</td>\n",
       "      <td>0</td>\n",
       "      <td>1</td>\n",
       "      <td>0</td>\n",
       "    </tr>\n",
       "    <tr>\n",
       "      <th>6377</th>\n",
       "      <td>Return to the Land of Wonders</td>\n",
       "      <td>Return-to-the-Land-of-Wonders#tab=summary</td>\n",
       "      <td>Documentary</td>\n",
       "      <td>[]</td>\n",
       "      <td>Germany</td>\n",
       "      <td>[]</td>\n",
       "      <td>[]</td>\n",
       "      <td>5000</td>\n",
       "      <td>1338</td>\n",
       "      <td>1338</td>\n",
       "      <td>...</td>\n",
       "      <td>0</td>\n",
       "      <td>0</td>\n",
       "      <td>0</td>\n",
       "      <td>0</td>\n",
       "      <td>0</td>\n",
       "      <td>0</td>\n",
       "      <td>1</td>\n",
       "      <td>0</td>\n",
       "      <td>0</td>\n",
       "      <td>0</td>\n",
       "    </tr>\n",
       "    <tr>\n",
       "      <th>6379</th>\n",
       "      <td>My Date With Drew</td>\n",
       "      <td>My-Date-With-Drew#tab=summary</td>\n",
       "      <td>Documentary</td>\n",
       "      <td>[]</td>\n",
       "      <td>United States</td>\n",
       "      <td>[]</td>\n",
       "      <td>['Guerilla Filmmaking', 'Guerilla Filmmaking']</td>\n",
       "      <td>1100</td>\n",
       "      <td>181041</td>\n",
       "      <td>181041</td>\n",
       "      <td>...</td>\n",
       "      <td>0</td>\n",
       "      <td>0</td>\n",
       "      <td>0</td>\n",
       "      <td>0</td>\n",
       "      <td>0</td>\n",
       "      <td>0</td>\n",
       "      <td>1</td>\n",
       "      <td>0</td>\n",
       "      <td>0</td>\n",
       "      <td>0</td>\n",
       "    </tr>\n",
       "  </tbody>\n",
       "</table>\n",
       "<p>5964 rows × 25 columns</p>\n",
       "</div>"
      ],
      "text/plain": [
       "                                    moviename  \\\n",
       "0     Dungeons & Dragons: Honor Among Thieves   \n",
       "1                                 The Wolfman   \n",
       "2                              The Great Wall   \n",
       "3                    Shazam! Fury of the Gods   \n",
       "4                            Assassin’s Creed   \n",
       "...                                       ...   \n",
       "6373                                   Cavite   \n",
       "6374                          The Mongol King   \n",
       "6376                                Following   \n",
       "6377            Return to the Land of Wonders   \n",
       "6379                        My Date With Drew   \n",
       "\n",
       "                                                   link              genre  \\\n",
       "0     Dungeons-and-Dragons-Honor-Among-Thieves-(2023...          Adventure   \n",
       "1                        Wolfman-The-(2010)#tab=summary             Horror   \n",
       "2                            Great-Wall-The#tab=summary             Action   \n",
       "3            Shazam-Fury-of-the-Gods-(2022)#tab=summary             Action   \n",
       "4                           Assassins-Creed#tab=summary             Action   \n",
       "...                                                 ...                ...   \n",
       "6373                                 Cavite#tab=summary  Thriller/Suspense   \n",
       "6374                        Mongol-King-The#tab=summary              Drama   \n",
       "6376                              Following#tab=summary            unknown   \n",
       "6377          Return-to-the-Land-of-Wonders#tab=summary        Documentary   \n",
       "6379                      My-Date-With-Drew#tab=summary        Documentary   \n",
       "\n",
       "                                                company        country  \\\n",
       "0     ['Hasbro Studios', 'Entertainment One', 'Param...  United States   \n",
       "1     ['Universal Pictures', 'Relativity Media', 'St...  United States   \n",
       "2     ['Legendary Pictures', 'Universal Pictures', '...          China   \n",
       "3             ['New Line Cinema', 'The Safran Company']  United States   \n",
       "4     ['Regency Enterprises', 'Ubisoft Entertainment...  United States   \n",
       "...                                                 ...            ...   \n",
       "6373                                                 []                  \n",
       "6374                                                 []                  \n",
       "6376                                                 []                  \n",
       "6377                                                 []        Germany   \n",
       "6379                                                 []  United States   \n",
       "\n",
       "                     language  \\\n",
       "0                 ['English']   \n",
       "1                 ['English']   \n",
       "2     ['English', 'Mandarin']   \n",
       "3                 ['English']   \n",
       "4                 ['English']   \n",
       "...                       ...   \n",
       "6373                       []   \n",
       "6374                       []   \n",
       "6376                       []   \n",
       "6377                       []   \n",
       "6379                       []   \n",
       "\n",
       "                                               keywords     Budget  Domestic  \\\n",
       "0     ['Action Adventure', 'Disrupted by COVID-19 pa...  150000000  43613661   \n",
       "1     ['Werewolf', 'Monster', 'Gothic Horror', '1890s']  150000000  62189884   \n",
       "2     ['Ancient China', 'Monster', 'Song Dynasty', '...  150000000  45157105   \n",
       "3     ['Action Adventure', 'Adopted Family', 'Secret...  125000000  54464255   \n",
       "4     ['Time Travel', 'Corporate Malfeasance', 'Assa...  125000000  54647948   \n",
       "...                                                 ...        ...       ...   \n",
       "6373                                                 []       7000     70071   \n",
       "6374                                                 []       7000       900   \n",
       "6376  ['Non-Chronological', 'Writing and Writers', '...       6000     48482   \n",
       "6377                                                 []       5000      1338   \n",
       "6379     ['Guerilla Filmmaking', 'Guerilla Filmmaking']       1100    181041   \n",
       "\n",
       "      Worldwide  ...  isMusical  isWestern  isThriller/Suspense  isComedy  \\\n",
       "0      76439105  ...          0          0                    0         0   \n",
       "1     142634358  ...          0          0                    0         0   \n",
       "2     334486852  ...          0          0                    0         0   \n",
       "3     120864255  ...          0          0                    0         0   \n",
       "4     240759682  ...          0          0                    0         0   \n",
       "...         ...  ...        ...        ...                  ...       ...   \n",
       "6373      71644  ...          0          0                    1         0   \n",
       "6374        900  ...          0          0                    0         0   \n",
       "6376     240495  ...          0          0                    0         0   \n",
       "6377       1338  ...          0          0                    0         0   \n",
       "6379     181041  ...          0          0                    0         0   \n",
       "\n",
       "      isBlackComedy  isRomanticComedy  isDocumentary  isothers  isunknown  \\\n",
       "0                 0                 0              0         0          0   \n",
       "1                 0                 0              0         0          0   \n",
       "2                 0                 0              0         0          0   \n",
       "3                 0                 0              0         0          0   \n",
       "4                 0                 0              0         0          0   \n",
       "...             ...               ...            ...       ...        ...   \n",
       "6373              0                 0              0         0          0   \n",
       "6374              0                 0              0         0          0   \n",
       "6376              0                 0              0         0          1   \n",
       "6377              0                 0              1         0          0   \n",
       "6379              0                 0              1         0          0   \n",
       "\n",
       "      isConcert/Performance  \n",
       "0                         0  \n",
       "1                         0  \n",
       "2                         0  \n",
       "3                         0  \n",
       "4                         0  \n",
       "...                     ...  \n",
       "6373                      0  \n",
       "6374                      0  \n",
       "6376                      0  \n",
       "6377                      0  \n",
       "6379                      0  \n",
       "\n",
       "[5964 rows x 25 columns]"
      ]
     },
     "execution_count": 474,
     "metadata": {},
     "output_type": "execute_result"
    }
   ],
   "source": [
    "df_sub"
   ]
  },
  {
   "cell_type": "markdown",
   "id": "adf39e5e-5634-4aab-9287-30b551476569",
   "metadata": {},
   "source": [
    "# Models"
   ]
  },
  {
   "cell_type": "code",
   "execution_count": 479,
   "id": "be20908c-57f7-4672-b130-c668c0a95e15",
   "metadata": {},
   "outputs": [
    {
     "data": {
      "text/html": [
       "<div>\n",
       "<style scoped>\n",
       "    .dataframe tbody tr th:only-of-type {\n",
       "        vertical-align: middle;\n",
       "    }\n",
       "\n",
       "    .dataframe tbody tr th {\n",
       "        vertical-align: top;\n",
       "    }\n",
       "\n",
       "    .dataframe thead th {\n",
       "        text-align: right;\n",
       "    }\n",
       "</style>\n",
       "<table border=\"1\" class=\"dataframe\">\n",
       "  <thead>\n",
       "    <tr style=\"text-align: right;\">\n",
       "      <th></th>\n",
       "      <th>moviename</th>\n",
       "      <th>link</th>\n",
       "      <th>genre</th>\n",
       "      <th>company</th>\n",
       "      <th>country</th>\n",
       "      <th>language</th>\n",
       "      <th>keywords</th>\n",
       "      <th>Budget</th>\n",
       "      <th>Domestic</th>\n",
       "      <th>Worldwide</th>\n",
       "      <th>ROI</th>\n",
       "      <th>isAdventure</th>\n",
       "      <th>isHorror</th>\n",
       "      <th>isAction</th>\n",
       "      <th>isDrama</th>\n",
       "      <th>isMusical</th>\n",
       "      <th>isWestern</th>\n",
       "      <th>isThriller/Suspense</th>\n",
       "      <th>isComedy</th>\n",
       "      <th>isBlackComedy</th>\n",
       "      <th>isRomanticComedy</th>\n",
       "      <th>isDocumentary</th>\n",
       "      <th>isothers</th>\n",
       "      <th>isunknown</th>\n",
       "      <th>isConcert/Performance</th>\n",
       "    </tr>\n",
       "  </thead>\n",
       "  <tbody>\n",
       "    <tr>\n",
       "      <th>0</th>\n",
       "      <td>Dungeons &amp; Dragons: Honor Among Thieves</td>\n",
       "      <td>Dungeons-and-Dragons-Honor-Among-Thieves-(2023...</td>\n",
       "      <td>Adventure</td>\n",
       "      <td>['Hasbro Studios', 'Entertainment One', 'Param...</td>\n",
       "      <td>United States</td>\n",
       "      <td>['English']</td>\n",
       "      <td>['Action Adventure', 'Disrupted by COVID-19 pa...</td>\n",
       "      <td>150000000</td>\n",
       "      <td>43613661</td>\n",
       "      <td>76439105</td>\n",
       "      <td>-49.040597</td>\n",
       "      <td>1</td>\n",
       "      <td>0</td>\n",
       "      <td>0</td>\n",
       "      <td>0</td>\n",
       "      <td>0</td>\n",
       "      <td>0</td>\n",
       "      <td>0</td>\n",
       "      <td>0</td>\n",
       "      <td>0</td>\n",
       "      <td>0</td>\n",
       "      <td>0</td>\n",
       "      <td>0</td>\n",
       "      <td>0</td>\n",
       "      <td>0</td>\n",
       "    </tr>\n",
       "  </tbody>\n",
       "</table>\n",
       "</div>"
      ],
      "text/plain": [
       "                                 moviename  \\\n",
       "0  Dungeons & Dragons: Honor Among Thieves   \n",
       "\n",
       "                                                link      genre  \\\n",
       "0  Dungeons-and-Dragons-Honor-Among-Thieves-(2023...  Adventure   \n",
       "\n",
       "                                             company        country  \\\n",
       "0  ['Hasbro Studios', 'Entertainment One', 'Param...  United States   \n",
       "\n",
       "      language                                           keywords     Budget  \\\n",
       "0  ['English']  ['Action Adventure', 'Disrupted by COVID-19 pa...  150000000   \n",
       "\n",
       "   Domestic  Worldwide        ROI  isAdventure  isHorror  isAction  isDrama  \\\n",
       "0  43613661   76439105 -49.040597            1         0         0        0   \n",
       "\n",
       "   isMusical  isWestern  isThriller/Suspense  isComedy  isBlackComedy  \\\n",
       "0          0          0                    0         0              0   \n",
       "\n",
       "   isRomanticComedy  isDocumentary  isothers  isunknown  isConcert/Performance  \n",
       "0                 0              0         0          0                      0  "
      ]
     },
     "execution_count": 479,
     "metadata": {},
     "output_type": "execute_result"
    }
   ],
   "source": [
    "df_sub.head(1)"
   ]
  },
  {
   "cell_type": "code",
   "execution_count": 480,
   "id": "57122956-3bce-4c6d-a20f-f2ed5c606651",
   "metadata": {},
   "outputs": [],
   "source": [
    "X_train, X_test, y_train, y_test = train_test_split(\n",
    "    df_sub[['isAdventure', 'isHorror', 'isAction', 'isDrama', 'isMusical',\n",
    "           'isWestern', 'isThriller/Suspense', 'isComedy', 'isBlackComedy',\n",
    "           'isRomanticComedy', 'isDocumentary', 'isothers', 'isunknown', 'isConcert/Performance', 'Budget']],\n",
    "    df_sub['ROI'], test_size = .2, random_state = 10) #split the data"
   ]
  },
  {
   "cell_type": "markdown",
   "id": "af31dca8-bc3f-4834-9033-11d4151a7192",
   "metadata": {},
   "source": [
    "# With budget"
   ]
  },
  {
   "cell_type": "code",
   "execution_count": 481,
   "id": "9472d707-856b-4638-af73-26de0e8d79aa",
   "metadata": {},
   "outputs": [
    {
     "data": {
      "text/html": [
       "<style>#sk-container-id-1 {color: black;background-color: white;}#sk-container-id-1 pre{padding: 0;}#sk-container-id-1 div.sk-toggleable {background-color: white;}#sk-container-id-1 label.sk-toggleable__label {cursor: pointer;display: block;width: 100%;margin-bottom: 0;padding: 0.3em;box-sizing: border-box;text-align: center;}#sk-container-id-1 label.sk-toggleable__label-arrow:before {content: \"▸\";float: left;margin-right: 0.25em;color: #696969;}#sk-container-id-1 label.sk-toggleable__label-arrow:hover:before {color: black;}#sk-container-id-1 div.sk-estimator:hover label.sk-toggleable__label-arrow:before {color: black;}#sk-container-id-1 div.sk-toggleable__content {max-height: 0;max-width: 0;overflow: hidden;text-align: left;background-color: #f0f8ff;}#sk-container-id-1 div.sk-toggleable__content pre {margin: 0.2em;color: black;border-radius: 0.25em;background-color: #f0f8ff;}#sk-container-id-1 input.sk-toggleable__control:checked~div.sk-toggleable__content {max-height: 200px;max-width: 100%;overflow: auto;}#sk-container-id-1 input.sk-toggleable__control:checked~label.sk-toggleable__label-arrow:before {content: \"▾\";}#sk-container-id-1 div.sk-estimator input.sk-toggleable__control:checked~label.sk-toggleable__label {background-color: #d4ebff;}#sk-container-id-1 div.sk-label input.sk-toggleable__control:checked~label.sk-toggleable__label {background-color: #d4ebff;}#sk-container-id-1 input.sk-hidden--visually {border: 0;clip: rect(1px 1px 1px 1px);clip: rect(1px, 1px, 1px, 1px);height: 1px;margin: -1px;overflow: hidden;padding: 0;position: absolute;width: 1px;}#sk-container-id-1 div.sk-estimator {font-family: monospace;background-color: #f0f8ff;border: 1px dotted black;border-radius: 0.25em;box-sizing: border-box;margin-bottom: 0.5em;}#sk-container-id-1 div.sk-estimator:hover {background-color: #d4ebff;}#sk-container-id-1 div.sk-parallel-item::after {content: \"\";width: 100%;border-bottom: 1px solid gray;flex-grow: 1;}#sk-container-id-1 div.sk-label:hover label.sk-toggleable__label {background-color: #d4ebff;}#sk-container-id-1 div.sk-serial::before {content: \"\";position: absolute;border-left: 1px solid gray;box-sizing: border-box;top: 0;bottom: 0;left: 50%;z-index: 0;}#sk-container-id-1 div.sk-serial {display: flex;flex-direction: column;align-items: center;background-color: white;padding-right: 0.2em;padding-left: 0.2em;position: relative;}#sk-container-id-1 div.sk-item {position: relative;z-index: 1;}#sk-container-id-1 div.sk-parallel {display: flex;align-items: stretch;justify-content: center;background-color: white;position: relative;}#sk-container-id-1 div.sk-item::before, #sk-container-id-1 div.sk-parallel-item::before {content: \"\";position: absolute;border-left: 1px solid gray;box-sizing: border-box;top: 0;bottom: 0;left: 50%;z-index: -1;}#sk-container-id-1 div.sk-parallel-item {display: flex;flex-direction: column;z-index: 1;position: relative;background-color: white;}#sk-container-id-1 div.sk-parallel-item:first-child::after {align-self: flex-end;width: 50%;}#sk-container-id-1 div.sk-parallel-item:last-child::after {align-self: flex-start;width: 50%;}#sk-container-id-1 div.sk-parallel-item:only-child::after {width: 0;}#sk-container-id-1 div.sk-dashed-wrapped {border: 1px dashed gray;margin: 0 0.4em 0.5em 0.4em;box-sizing: border-box;padding-bottom: 0.4em;background-color: white;}#sk-container-id-1 div.sk-label label {font-family: monospace;font-weight: bold;display: inline-block;line-height: 1.2em;}#sk-container-id-1 div.sk-label-container {text-align: center;}#sk-container-id-1 div.sk-container {/* jupyter's `normalize.less` sets `[hidden] { display: none; }` but bootstrap.min.css set `[hidden] { display: none !important; }` so we also need the `!important` here to be able to override the default hidden behavior on the sphinx rendered scikit-learn.org. See: https://github.com/scikit-learn/scikit-learn/issues/21755 */display: inline-block !important;position: relative;}#sk-container-id-1 div.sk-text-repr-fallback {display: none;}</style><div id=\"sk-container-id-1\" class=\"sk-top-container\"><div class=\"sk-text-repr-fallback\"><pre>RandomForestRegressor(random_state=10)</pre><b>In a Jupyter environment, please rerun this cell to show the HTML representation or trust the notebook. <br />On GitHub, the HTML representation is unable to render, please try loading this page with nbviewer.org.</b></div><div class=\"sk-container\" hidden><div class=\"sk-item\"><div class=\"sk-estimator sk-toggleable\"><input class=\"sk-toggleable__control sk-hidden--visually\" id=\"sk-estimator-id-1\" type=\"checkbox\" checked><label for=\"sk-estimator-id-1\" class=\"sk-toggleable__label sk-toggleable__label-arrow\">RandomForestRegressor</label><div class=\"sk-toggleable__content\"><pre>RandomForestRegressor(random_state=10)</pre></div></div></div></div></div>"
      ],
      "text/plain": [
       "RandomForestRegressor(random_state=10)"
      ]
     },
     "execution_count": 481,
     "metadata": {},
     "output_type": "execute_result"
    }
   ],
   "source": [
    "# Fitting Random Forest Regression to the dataset\n",
    "# import the regressor\n",
    "from sklearn.ensemble import RandomForestRegressor\n",
    " \n",
    " # create regressor object\n",
    "regressor = RandomForestRegressor(n_estimators = 100, random_state = 10)\n",
    " \n",
    "# fit the regressor with x and y data\n",
    "regressor.fit(X_train, y_train) "
   ]
  },
  {
   "cell_type": "code",
   "execution_count": 482,
   "id": "e4b0b4e7-c47d-44d9-aef7-0c31ec6aa3c9",
   "metadata": {},
   "outputs": [],
   "source": [
    "y_pred = regressor.predict(X_test)  # test the output by changing values"
   ]
  },
  {
   "cell_type": "code",
   "execution_count": 483,
   "id": "0eb7cce3-02eb-4f2e-9e91-782f7ccbf811",
   "metadata": {},
   "outputs": [
    {
     "data": {
      "text/plain": [
       "-0.03771242005536757"
      ]
     },
     "execution_count": 483,
     "metadata": {},
     "output_type": "execute_result"
    }
   ],
   "source": [
    "from sklearn.metrics import r2_score\n",
    "r2_score(y_test, y_pred)"
   ]
  },
  {
   "cell_type": "code",
   "execution_count": 485,
   "id": "0870e8c5-cbdd-4704-8150-a5d786637c0f",
   "metadata": {},
   "outputs": [],
   "source": [
    "from sklearn.inspection import permutation_importance\n",
    "result = permutation_importance(\n",
    "    regressor, X_test, y_test, n_repeats=10, random_state=10, n_jobs=2\n",
    ")\n",
    "forest_importances = pd.Series(result.importances_mean, index = list(X_train.columns.values))"
   ]
  },
  {
   "cell_type": "code",
   "execution_count": 486,
   "id": "d1c51f6f-aaf1-4ea1-92d9-b6af2b3149fa",
   "metadata": {},
   "outputs": [
    {
     "data": {
      "image/png": "[encoded data removed]",
      "text/plain": [
       "<Figure size 640x480 with 1 Axes>"
      ]
     },
     "metadata": {},
     "output_type": "display_data"
    }
   ],
   "source": [
    "fig, ax = plt.subplots()\n",
    "forest_importances.plot.bar(yerr=result.importances_std, ax=ax)\n",
    "ax.set_title(\"Feature importances using permutation on full model\")\n",
    "ax.set_ylabel(\"Mean accuracy decrease\")\n",
    "fig.tight_layout()\n",
    "plt.show()"
   ]
  },
  {
   "cell_type": "markdown",
   "id": "f7b958b4-f63a-4be6-85dd-65ecd1d14b2a",
   "metadata": {},
   "source": [
    "# W/O Budget"
   ]
  },
  {
   "cell_type": "code",
   "execution_count": 495,
   "id": "1337767e-3090-4e8b-aa93-938c0d2559bf",
   "metadata": {},
   "outputs": [
    {
     "data": {
      "text/html": [
       "<style>#sk-container-id-2 {color: black;background-color: white;}#sk-container-id-2 pre{padding: 0;}#sk-container-id-2 div.sk-toggleable {background-color: white;}#sk-container-id-2 label.sk-toggleable__label {cursor: pointer;display: block;width: 100%;margin-bottom: 0;padding: 0.3em;box-sizing: border-box;text-align: center;}#sk-container-id-2 label.sk-toggleable__label-arrow:before {content: \"▸\";float: left;margin-right: 0.25em;color: #696969;}#sk-container-id-2 label.sk-toggleable__label-arrow:hover:before {color: black;}#sk-container-id-2 div.sk-estimator:hover label.sk-toggleable__label-arrow:before {color: black;}#sk-container-id-2 div.sk-toggleable__content {max-height: 0;max-width: 0;overflow: hidden;text-align: left;background-color: #f0f8ff;}#sk-container-id-2 div.sk-toggleable__content pre {margin: 0.2em;color: black;border-radius: 0.25em;background-color: #f0f8ff;}#sk-container-id-2 input.sk-toggleable__control:checked~div.sk-toggleable__content {max-height: 200px;max-width: 100%;overflow: auto;}#sk-container-id-2 input.sk-toggleable__control:checked~label.sk-toggleable__label-arrow:before {content: \"▾\";}#sk-container-id-2 div.sk-estimator input.sk-toggleable__control:checked~label.sk-toggleable__label {background-color: #d4ebff;}#sk-container-id-2 div.sk-label input.sk-toggleable__control:checked~label.sk-toggleable__label {background-color: #d4ebff;}#sk-container-id-2 input.sk-hidden--visually {border: 0;clip: rect(1px 1px 1px 1px);clip: rect(1px, 1px, 1px, 1px);height: 1px;margin: -1px;overflow: hidden;padding: 0;position: absolute;width: 1px;}#sk-container-id-2 div.sk-estimator {font-family: monospace;background-color: #f0f8ff;border: 1px dotted black;border-radius: 0.25em;box-sizing: border-box;margin-bottom: 0.5em;}#sk-container-id-2 div.sk-estimator:hover {background-color: #d4ebff;}#sk-container-id-2 div.sk-parallel-item::after {content: \"\";width: 100%;border-bottom: 1px solid gray;flex-grow: 1;}#sk-container-id-2 div.sk-label:hover label.sk-toggleable__label {background-color: #d4ebff;}#sk-container-id-2 div.sk-serial::before {content: \"\";position: absolute;border-left: 1px solid gray;box-sizing: border-box;top: 0;bottom: 0;left: 50%;z-index: 0;}#sk-container-id-2 div.sk-serial {display: flex;flex-direction: column;align-items: center;background-color: white;padding-right: 0.2em;padding-left: 0.2em;position: relative;}#sk-container-id-2 div.sk-item {position: relative;z-index: 1;}#sk-container-id-2 div.sk-parallel {display: flex;align-items: stretch;justify-content: center;background-color: white;position: relative;}#sk-container-id-2 div.sk-item::before, #sk-container-id-2 div.sk-parallel-item::before {content: \"\";position: absolute;border-left: 1px solid gray;box-sizing: border-box;top: 0;bottom: 0;left: 50%;z-index: -1;}#sk-container-id-2 div.sk-parallel-item {display: flex;flex-direction: column;z-index: 1;position: relative;background-color: white;}#sk-container-id-2 div.sk-parallel-item:first-child::after {align-self: flex-end;width: 50%;}#sk-container-id-2 div.sk-parallel-item:last-child::after {align-self: flex-start;width: 50%;}#sk-container-id-2 div.sk-parallel-item:only-child::after {width: 0;}#sk-container-id-2 div.sk-dashed-wrapped {border: 1px dashed gray;margin: 0 0.4em 0.5em 0.4em;box-sizing: border-box;padding-bottom: 0.4em;background-color: white;}#sk-container-id-2 div.sk-label label {font-family: monospace;font-weight: bold;display: inline-block;line-height: 1.2em;}#sk-container-id-2 div.sk-label-container {text-align: center;}#sk-container-id-2 div.sk-container {/* jupyter's `normalize.less` sets `[hidden] { display: none; }` but bootstrap.min.css set `[hidden] { display: none !important; }` so we also need the `!important` here to be able to override the default hidden behavior on the sphinx rendered scikit-learn.org. See: https://github.com/scikit-learn/scikit-learn/issues/21755 */display: inline-block !important;position: relative;}#sk-container-id-2 div.sk-text-repr-fallback {display: none;}</style><div id=\"sk-container-id-2\" class=\"sk-top-container\"><div class=\"sk-text-repr-fallback\"><pre>RandomForestRegressor(random_state=10)</pre><b>In a Jupyter environment, please rerun this cell to show the HTML representation or trust the notebook. <br />On GitHub, the HTML representation is unable to render, please try loading this page with nbviewer.org.</b></div><div class=\"sk-container\" hidden><div class=\"sk-item\"><div class=\"sk-estimator sk-toggleable\"><input class=\"sk-toggleable__control sk-hidden--visually\" id=\"sk-estimator-id-2\" type=\"checkbox\" checked><label for=\"sk-estimator-id-2\" class=\"sk-toggleable__label sk-toggleable__label-arrow\">RandomForestRegressor</label><div class=\"sk-toggleable__content\"><pre>RandomForestRegressor(random_state=10)</pre></div></div></div></div></div>"
      ],
      "text/plain": [
       "RandomForestRegressor(random_state=10)"
      ]
     },
     "execution_count": 495,
     "metadata": {},
     "output_type": "execute_result"
    }
   ],
   "source": [
    "# fit the regressor with x and y data\n",
    "regressor.fit(X_train.iloc[:,:-1], y_train) "
   ]
  },
  {
   "cell_type": "code",
   "execution_count": 498,
   "id": "8229259c-4df2-4fec-a25b-acb307034058",
   "metadata": {},
   "outputs": [],
   "source": [
    "y_pred = regressor.predict(X_test.iloc[:,:-1])  # test the output by changing values"
   ]
  },
  {
   "cell_type": "code",
   "execution_count": 499,
   "id": "5424f2c4-9f4d-44fb-9206-2e631412b623",
   "metadata": {},
   "outputs": [
    {
     "data": {
      "text/plain": [
       "-0.005652043683885166"
      ]
     },
     "execution_count": 499,
     "metadata": {},
     "output_type": "execute_result"
    }
   ],
   "source": [
    "from sklearn.metrics import r2_score\n",
    "r2_score(y_test, y_pred)"
   ]
  },
  {
   "cell_type": "code",
   "execution_count": 501,
   "id": "b89a836b-a226-44ba-8a02-ca0a10d86014",
   "metadata": {},
   "outputs": [],
   "source": [
    "from sklearn.inspection import permutation_importance\n",
    "result = permutation_importance(\n",
    "    regressor, X_test.iloc[:,:-1], y_test, n_repeats=10, random_state=10, n_jobs=2\n",
    ")\n",
    "forest_importances = pd.Series(result.importances_mean, index = list(X_train.iloc[:,:-1].columns.values))"
   ]
  },
  {
   "cell_type": "code",
   "execution_count": 502,
   "id": "031967f3-4320-4098-8bff-ad4411670e1f",
   "metadata": {},
   "outputs": [
    {
     "data": {
      "image/png": "[encoded data removed]",
      "text/plain": [
       "<Figure size 640x480 with 1 Axes>"
      ]
     },
     "metadata": {},
     "output_type": "display_data"
    }
   ],
   "source": [
    "fig, ax = plt.subplots()\n",
    "forest_importances.plot.bar(yerr=result.importances_std, ax=ax)\n",
    "ax.set_title(\"Feature importances using permutation on full model\")\n",
    "ax.set_ylabel(\"Mean accuracy decrease\")\n",
    "fig.tight_layout()\n",
    "plt.show()"
   ]
  },
  {
   "cell_type": "code",
   "execution_count": null,
   "id": "bc4713e8-67c2-4ddf-9e9f-17bc5b71e3d3",
   "metadata": {},
   "outputs": [],
   "source": []
  },
  {
   "cell_type": "code",
   "execution_count": null,
   "id": "b64229c8-f541-45a6-92a2-21cc08693861",
   "metadata": {},
   "outputs": [],
   "source": []
  },
  {
   "cell_type": "markdown",
   "id": "c8699dcb-31c0-4c98-9886-e6b32e01bda9",
   "metadata": {},
   "source": [
    "# Define Success"
   ]
  },
  {
   "cell_type": "code",
   "execution_count": 531,
   "id": "1b6964c9-87a9-46e1-8cda-6e5342c180f9",
   "metadata": {},
   "outputs": [
    {
     "name": "stderr",
     "output_type": "stream",
     "text": [
      "C:\\ProgramData\\Anaconda3_new\\lib\\site-packages\\seaborn\\categorical.py:3775: UserWarning: catplot is a figure-level function and does not accept target axes. You may wish to try stripplot\n",
      "  warnings.warn(msg, UserWarning)\n"
     ]
    },
    {
     "data": {
      "text/plain": [
       "<seaborn.axisgrid.FacetGrid at 0x26f682479a0>"
      ]
     },
     "execution_count": 531,
     "metadata": {},
     "output_type": "execute_result"
    },
    {
     "data": {
      "image/png": "[encoded data removed]",
      "text/plain": [
       "<Figure size 500x500 with 1 Axes>"
      ]
     },
     "metadata": {},
     "output_type": "display_data"
    }
   ],
   "source": [
    "sns.catplot(ax = ax, data = df_sub, y = \"genre\", x = \"ROI\", orient = \"h\")"
   ]
  },
  {
   "cell_type": "code",
   "execution_count": 534,
   "id": "a5ebcec9-29d2-47c4-9b44-33d8a90bc673",
   "metadata": {},
   "outputs": [
    {
     "name": "stderr",
     "output_type": "stream",
     "text": [
      "C:\\ProgramData\\Anaconda3_new\\lib\\site-packages\\seaborn\\categorical.py:3775: UserWarning: catplot is a figure-level function and does not accept target axes. You may wish to try stripplot\n",
      "  warnings.warn(msg, UserWarning)\n"
     ]
    },
    {
     "data": {
      "image/png": "[encoded data removed]",
      "text/plain": [
       "<Figure size 1500x500 with 1 Axes>"
      ]
     },
     "metadata": {},
     "output_type": "display_data"
    }
   ],
   "source": [
    "g=sns.catplot(ax = ax, data = df_sub, y = \"genre\", x = \"ROI\", orient = \"h\")\n",
    "g.fig.set_size_inches(15,5)"
   ]
  }
 ],
 "metadata": {
  "kernelspec": {
   "display_name": "Python 3 (ipykernel)",
   "language": "python",
   "name": "python3"
  },
  "language_info": {
   "codemirror_mode": {
    "name": "ipython",
    "version": 3
   },
   "file_extension": ".py",
   "mimetype": "text/x-python",
   "name": "python",
   "nbconvert_exporter": "python",
   "pygments_lexer": "ipython3",
   "version": "3.9.13"
  }
 },
 "nbformat": 4,
 "nbformat_minor": 5
}
