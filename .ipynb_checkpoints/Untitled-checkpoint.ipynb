{
 "cells": [
  {
   "cell_type": "code",
   "execution_count": null,
   "id": "4a0db35f-0104-47b3-8011-525f271931fc",
   "metadata": {},
   "outputs": [],
   "source": [
    "import re\n",
    "\n",
    "regex = r\"(?:<td><b>)(.+?)(?:<\\/b>.+?)([\\d,]+?)(?:<)\"\n",
    "\n",
    "test_str = \"'\\\"main\\\">\\\\n\\\\r\\\\n<h1>Avatar: The Way of Water (2022)</h1>\\\\r\\\\n<div id=\\\"poster\\\">\\\\n<img src=\\\"https://www.the-numbers.com/images/movies/opusdata/Avatar-The-Way-of-Water-(2022).jpg\\\" style=\\\"width:100%\\\" alt=\\\"Avatar: The Way of Water\\\">\\\\n</div>\\\\n\\\\r\\\\n<table id=\\\"movie_finances\\\" >\\\\n<tr class=\\\"heading\\\">\\\\r\\\\n<td colspan=\\\"3\\\"><b>Theatrical Performance</b></td>\\\\r\\\\n</tr>\\\\r\\\\n<tr>\\\\r\\\\n<!--    <td><div class=\\\"hidden-xs\\\"><b>Domestic Box Office</b></div><div class=\\\"visible-xs\\\"><b>Domestic</b></div></td>-->\\\\r\\\\n    <td><b>Domestic Box Office</b></td>\\\\r\\\\n<td class=\\\"data\\\">$682,744,586</td><td><a href=\\\"#tab=box-office\\\">Details</a></td>\\\\n</tr>\\\\r\\\\n<tr>\\\\n<td><b>International Box Office</b></td>\\\\n<td class=\\\"data sum\\\">$1,632,068,651</td><td><a href=\\\"#tab=international\\\">Details</a></td>\\\\n</tr>\\\\n<tr>\\\\n<td><b>Worldwide Box Office</b></td>\\\\n<td class=\\\"data\\\">$2,314,813,237</td><td></td>\\\\n</tr>\\\\n<tr class=\\\"heading\\\"><td colspan=3 class=\\\"headed\\\"><a href=\\\"#more\\\">'\"\n",
    "\n",
    "matches = re.finditer(regex, test_str, re.MULTILINE)\n",
    "\n",
    "for matchNum, match in enumerate(matches, start=1):\n",
    "    \n",
    "    print (\"Match {matchNum} was found at {start}-{end}: {match}\".format(matchNum = matchNum, start = match.start(), end = match.end(), match = match.group()))\n",
    "    \n",
    "    for groupNum in range(0, len(match.groups())):\n",
    "        groupNum = groupNum + 1\n",
    "        \n",
    "        print (\"Group {groupNum} found at {start}-{end}: {group}\".format(groupNum = groupNum, start = match.start(groupNum), end = match.end(groupNum), group = match.group(groupNum)))"
   ]
  }
 ],
 "metadata": {
  "kernelspec": {
   "display_name": "Python 3 (ipykernel)",
   "language": "python",
   "name": "python3"
  },
  "language_info": {
   "name": ""
  }
 },
 "nbformat": 4,
 "nbformat_minor": 5
}
