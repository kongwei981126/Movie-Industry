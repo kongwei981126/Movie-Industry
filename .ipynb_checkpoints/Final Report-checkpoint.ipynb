{
 "cells": [
  {
   "cell_type": "markdown",
   "id": "227e441f-7475-4036-91a7-97e535953155",
   "metadata": {},
   "source": [
    "# Final Report\n",
    "#### Wei Kong\n",
    "#### Predicting Commercial Success in the Movie Industry"
   ]
  },
  {
   "cell_type": "markdown",
   "id": "49258a95-db12-4ca0-a85b-096de707dec4",
   "metadata": {
    "tags": []
   },
   "source": [
    "## Executive Summary:\n",
    "<!--TProvide the decision to be impacted, Movitation, Business value.-->\n",
    "We all know that movie industry is risky, but it can also bring enormous profit at the same time. That's why countless companies and people have been attracted to this industry. However, how risky is it? We all saw super hits like Titanic, and we all have seen big productions fail. There hasn't been an universal formula to make a popular movie, but it is always to our interest to choose the right movie to invest in. Personaly, I would also like to find out how to prevent the emergence of bad movies: that is how to identify them before they even started shooting.\n",
    "\n",
    "In this analysis, I aim to produce a study to figure out specific reasons that lead to the success of a movie economically, and give advices for companies or individuals who want to enter this industry. In other words, I decided to explore how to select a movie that will be successful economically to invest in for companies and individuls who want to make a profit in this field."
   ]
  },
  {
   "cell_type": "markdown",
   "id": "8c13b270-e50a-4a4e-a7b8-2ac7f3a4bc70",
   "metadata": {
    "tags": []
   },
   "source": [
    "## Data description/preprocessing"
   ]
  },
  {
   "cell_type": "markdown",
   "id": "a45dd9aa-59ed-4e1f-a4f1-850ffc10527a",
   "metadata": {},
   "source": [
    "For the first half semester, I have been using \"The Movies Dataset\" on Kaggle (https://www.kaggle.com/datasets/rounakbanik/the-movies-dataset?select=movies_metadata.csv). These files contain metadata for all 45,000 movies listed in the Full MovieLens Dataset. The dataset consists of movies released on or before July 2017. Data points include cast, crew, plot keywords, budget, revenue, posters, release dates, languages, production companies, countries, TMDB vote counts and vote averages. This dataset also has files containing 26 million ratings from 270,000 users for all 45,000 movies. \n",
    "\n",
    "However, this dataset consists of large amount of missing entires for budget and revenue. There were only around 6000 entries with both of these features, and a large amount of data with problem, new data was chosen for the study."
   ]
  },
  {
   "cell_type": "markdown",
   "id": "e6540512-165d-42cd-b1e3-7132c3a75f12",
   "metadata": {
    "tags": []
   },
   "source": [
    "### New Dataset\n",
    "The new dataset was gathered from The Numbers (https://www.the-numbers.com/), a website operated by Nash Information Services, LLC., consisting of detailed information (especially on the business aspect) about various movies. Code to get and assemble the dataset were recorded in file \"scraping budget and revenue\", \"scraping info\" and \"Scraping more\" in the github repository (https://github.com/kongwei981126/Movie-Industry/tree/Wei)"
   ]
  },
  {
   "cell_type": "markdown",
   "id": "0025fb77-106a-4bb8-b83e-955fcf6eb90f",
   "metadata": {
    "tags": []
   },
   "source": [
    "### Overview on the dataset"
   ]
  },
  {
   "cell_type": "code",
   "execution_count": 3,
   "id": "e0106c04-83dd-47f0-bbb6-0e1dfe4ff062",
   "metadata": {
    "tags": []
   },
   "outputs": [
    {
     "name": "stdout",
     "output_type": "stream",
     "text": [
      "Rows: 6382\n",
      "Colums: 34\n",
      "---------Info of dataset--------------\n",
      "<class 'pandas.core.frame.DataFrame'>\n",
      "RangeIndex: 6382 entries, 0 to 6381\n",
      "Data columns (total 34 columns):\n",
      " #   Column                            Non-Null Count  Dtype  \n",
      "---  ------                            --------------  -----  \n",
      " 0   moviename                         6382 non-null   object \n",
      " 1   Budget                            6382 non-null   int64  \n",
      " 2   link                              6382 non-null   object \n",
      " 3   Domestic Box Office               6053 non-null   float64\n",
      " 4   International Box Office          4533 non-null   float64\n",
      " 5   Worldwide Box Office              4819 non-null   float64\n",
      " 6   Domestic Release                  5967 non-null   object \n",
      " 7   Dom Year                          5967 non-null   float64\n",
      " 8   International Release             2942 non-null   object \n",
      " 9   Int Year                          2942 non-null   float64\n",
      " 10  Rating                            5983 non-null   object \n",
      " 11  Runtime                           5399 non-null   float64\n",
      " 12  Franchise                         1333 non-null   object \n",
      " 13  Keywords                          5242 non-null   object \n",
      " 14  Genre                             6224 non-null   object \n",
      " 15  Production Method                 6212 non-null   object \n",
      " 16  Creative Type                     6096 non-null   object \n",
      " 17  Production/Financing Companies    4050 non-null   object \n",
      " 18  Production Country                5887 non-null   object \n",
      " 19  Languages                         5388 non-null   object \n",
      " 20  Leading Cast                      3948 non-null   object \n",
      " 21  Supporting Cast                   4381 non-null   object \n",
      " 22  Production and Technical Credits  5769 non-null   object \n",
      " 23  Director                          5769 non-null   object \n",
      " 24  Est. Domestic DVD Sales           2418 non-null   float64\n",
      " 25  Est. Domestic Blu-ray Sales       2061 non-null   float64\n",
      " 26  Total Est. Domestic Video Sales   2672 non-null   float64\n",
      " 27  Lead Ensemble Members             704 non-null    object \n",
      " 28  Cameos                            583 non-null    object \n",
      " 29  Uncategorized Crew                1757 non-null   object \n",
      " 30  Narrator(s)                       81 non-null     object \n",
      " 31  Extras                            7 non-null      object \n",
      " 32  Documentary Subject(s)            26 non-null     object \n",
      " 33  Interviewee(s)                    26 non-null     object \n",
      "dtypes: float64(9), int64(1), object(24)\n",
      "memory usage: 1.7+ MB\n",
      "None\n",
      "---------Number of missing values----------\n",
      "moviename                              0\n",
      "Budget                                 0\n",
      "link                                   0\n",
      "Domestic Box Office                  329\n",
      "International Box Office            1849\n",
      "Worldwide Box Office                1563\n",
      "Domestic Release                     415\n",
      "Dom Year                             415\n",
      "International Release               3440\n",
      "Int Year                            3440\n",
      "Rating                               399\n",
      "Runtime                              983\n",
      "Franchise                           5049\n",
      "Keywords                            1140\n",
      "Genre                                158\n",
      "Production Method                    170\n",
      "Creative Type                        286\n",
      "Production/Financing Companies      2332\n",
      "Production Country                   495\n",
      "Languages                            994\n",
      "Leading Cast                        2434\n",
      "Supporting Cast                     2001\n",
      "Production and Technical Credits     613\n",
      "Director                             613\n",
      "Est. Domestic DVD Sales             3964\n",
      "Est. Domestic Blu-ray Sales         4321\n",
      "Total Est. Domestic Video Sales     3710\n",
      "Lead Ensemble Members               5678\n",
      "Cameos                              5799\n",
      "Uncategorized Crew                  4625\n",
      "Narrator(s)                         6301\n",
      "Extras                              6375\n",
      "Documentary Subject(s)              6356\n",
      "Interviewee(s)                      6356\n",
      "dtype: int64\n"
     ]
    }
   ],
   "source": [
    "#Preparations\n",
    "#Import the libraries\n",
    "import pandas as pd\n",
    "import numpy as np\n",
    "import matplotlib.pyplot as plt\n",
    "from sklearn.model_selection import train_test_split\n",
    "from tqdm import tqdm\n",
    "import re\n",
    "import warnings\n",
    "\n",
    "\n",
    "#Settings\n",
    "pd.set_option('display.max_columns', None)\n",
    "pd.set_option('display.float_format',  '{:,.2f}'.format)\n",
    "pd.set_option('display.precision', 2)\n",
    "\n",
    "#import the dataset\n",
    "df = pd.read_csv('metadata.csv', low_memory=False, thousands=',')\n",
    "\n",
    "#some more information\n",
    "print('Rows: ' + str(df.shape[0]))\n",
    "print('Colums: ' + str(df.shape[1]))\n",
    "print('---------Info of dataset--------------')\n",
    "print(df.info())\n",
    "# print('---------Number of missing values----------')\n",
    "# print(df.isnull().sum())"
   ]
  },
  {
   "cell_type": "markdown",
   "id": "c10b3439-4fec-41b3-8365-ea5db15c2f6d",
   "metadata": {},
   "source": [
    "\n",
    "\n",
    "TODO    Provide the source of the dataset and how the dataset help support the development of the analytics to impact your decision(s). Also the process of data cleaning, outlier detection."
   ]
  },
  {
   "cell_type": "markdown",
   "id": "5417f7c7-c2c9-4ff5-b081-0eb4685c2862",
   "metadata": {},
   "source": [
    "## Modeling approach\n",
    "\n",
    "TODO    Include descriptive, predictive, and prescriptive methods employed as it applied to fulfill objectives (consider elaborating on methods used for variable & model selection, cross validation, performance metrics)."
   ]
  },
  {
   "cell_type": "markdown",
   "id": "95f48512-e90d-4323-a328-d9b93394ee28",
   "metadata": {},
   "source": [
    "## Result and insights-\n",
    "\n",
    "TODO   Results from your analytical work and how the results help you to fulfill the objectives"
   ]
  },
  {
   "cell_type": "markdown",
   "id": "ac19998e-ba95-4b9c-8247-a4476ba3a76c",
   "metadata": {},
   "source": [
    "## Conclusions\n",
    "\n",
    "TODO  Include the issue you have raised in the project, demonstrate the importance of your ideas, and to synthesize your thoughts."
   ]
  },
  {
   "cell_type": "markdown",
   "id": "979bbf33-3ec7-4c59-98d2-653bbfbfbf8e",
   "metadata": {},
   "source": [
    "## References\n",
    "TODO"
   ]
  }
 ],
 "metadata": {
  "kernelspec": {
   "display_name": "Python 3 (ipykernel)",
   "language": "python",
   "name": "python3"
  },
  "language_info": {
   "codemirror_mode": {
    "name": "ipython",
    "version": 3
   },
   "file_extension": ".py",
   "mimetype": "text/x-python",
   "name": "python",
   "nbconvert_exporter": "python",
   "pygments_lexer": "ipython3",
   "version": "3.9.13"
  }
 },
 "nbformat": 4,
 "nbformat_minor": 5
}
