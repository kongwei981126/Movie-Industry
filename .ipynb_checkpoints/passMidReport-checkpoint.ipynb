{
 "cells": [
  {
   "cell_type": "markdown",
   "id": "5ff389aa-3f0f-4d4d-8311-79d0bb666ee2",
   "metadata": {},
   "source": [
    "# 3/4 Report"
   ]
  },
  {
   "cell_type": "markdown",
   "id": "88d2f528-a2e4-456e-88f7-44997adff81f",
   "metadata": {},
   "source": [
    "<!--Problem description-->\n",
    "## Introduction of the problem\n",
    "<!-- TO DO: refine paragraph, add stuff-->\n",
    "<!-- [Decisions to be impacted], [Business value], [Why do you care about this project?]-->\n",
    "We all know that movie industry is risky, but it can also bring enormous profit at the same time. That's why countless companies and people have been attracted to this industry. However, how risky is it? We all know super hits like Titanic, and we all have seen big productions fail. There hasn't been an universal formula to make a popular movie, but we are still interested in how to choose the right movie to invest in.  \n",
    "\n",
    "In this analysis, we aim to produce a study to figure out specific reasons that lead to the success of a movie economically, and give advices for companies or individuals who want to enter this industry. In other words, we decided to explore how to select a movie that will be successful economically to invest in for companies and individuls who want to make a profit in this field."
   ]
  },
  {
   "cell_type": "markdown",
   "id": "7aa88c29-b03b-47f8-84e1-6a6022ebfebc",
   "metadata": {},
   "source": [
    "<!--Introduction of the dataset-->\n",
    "## Introduction of the dataset\n",
    "<!-- TO DO: more description of data -->\n",
    "For the first half semester, I have been using \"The Movies Dataset\" on Kaggle (https://www.kaggle.com/datasets/rounakbanik/the-movies-dataset?select=movies_metadata.csv). These files contain metadata for all 45,000 movies listed in the Full MovieLens Dataset. The dataset consists of movies released on or before July 2017. Data points include cast, crew, plot keywords, budget, revenue, posters, release dates, languages, production companies, countries, TMDB vote counts and vote averages. This dataset also has files containing 26 million ratings from 270,000 users for all 45,000 movies. \n",
    "\n",
    "However, this dataset consists of large amount of missing entires for budget and revenue. There were only around 6000 entries with both of these features, and a large amount of data with problem, new data was chosen for the study."
   ]
  },
  {
   "cell_type": "markdown",
   "id": "0720db0b-5b79-4d09-867b-fc333df9c64d",
   "metadata": {},
   "source": [
    "### New Dataset\n",
    "The new dataset was gathered from The Numbers (https://www.the-numbers.com/), a website operated by Nash Information Services, LLC., consisting of detailed information (especially on the business aspect) about various movies. Code to get and assemble the dataset were recorded in file \"scraping budget and revenue\", \"scraping info\" and \"Scraping more\" in the github repository (https://github.com/kongwei981126/Movie-Industry/tree/Wei)"
   ]
  },
  {
   "cell_type": "markdown",
   "id": "0f7223e9-5b64-4c87-a92e-07defe0f346b",
   "metadata": {
    "tags": []
   },
   "source": [
    "### Overview on the dataset"
   ]
  },
  {
   "cell_type": "code",
   "execution_count": 1,
   "id": "4ad77435-2758-46b0-b846-3442237e5a64",
   "metadata": {
    "tags": []
   },
   "outputs": [
    {
     "data": {
      "text/html": [
       "<div>\n",
       "<style scoped>\n",
       "    .dataframe tbody tr th:only-of-type {\n",
       "        vertical-align: middle;\n",
       "    }\n",
       "\n",
       "    .dataframe tbody tr th {\n",
       "        vertical-align: top;\n",
       "    }\n",
       "\n",
       "    .dataframe thead th {\n",
       "        text-align: right;\n",
       "    }\n",
       "</style>\n",
       "<table border=\"1\" class=\"dataframe\">\n",
       "  <thead>\n",
       "    <tr style=\"text-align: right;\">\n",
       "      <th></th>\n",
       "      <th>moviename</th>\n",
       "      <th>Budget</th>\n",
       "      <th>link</th>\n",
       "      <th>Domestic Box Office</th>\n",
       "      <th>International Box Office</th>\n",
       "      <th>Worldwide Box Office</th>\n",
       "      <th>Domestic Release</th>\n",
       "      <th>Dom Year</th>\n",
       "      <th>International Release</th>\n",
       "      <th>Int Year</th>\n",
       "      <th>Rating</th>\n",
       "      <th>Runtime</th>\n",
       "      <th>Franchise</th>\n",
       "      <th>Keywords</th>\n",
       "      <th>Genre</th>\n",
       "      <th>Production Method</th>\n",
       "      <th>Creative Type</th>\n",
       "      <th>Production/Financing Companies</th>\n",
       "      <th>Production Country</th>\n",
       "      <th>Languages</th>\n",
       "      <th>Leading Cast</th>\n",
       "      <th>Supporting Cast</th>\n",
       "      <th>Production and Technical Credits</th>\n",
       "      <th>Director</th>\n",
       "      <th>Est. Domestic DVD Sales</th>\n",
       "      <th>Est. Domestic Blu-ray Sales</th>\n",
       "      <th>Total Est. Domestic Video Sales</th>\n",
       "      <th>Lead Ensemble Members</th>\n",
       "      <th>Cameos</th>\n",
       "      <th>Uncategorized Crew</th>\n",
       "      <th>Narrator(s)</th>\n",
       "      <th>Extras</th>\n",
       "      <th>Documentary Subject(s)</th>\n",
       "      <th>Interviewee(s)</th>\n",
       "    </tr>\n",
       "  </thead>\n",
       "  <tbody>\n",
       "    <tr>\n",
       "      <th>0</th>\n",
       "      <td>The Super Mario Bros. Movie</td>\n",
       "      <td>100000000</td>\n",
       "      <td>Super-Mario-Bros-Movie-The-(2022)#tab=summary</td>\n",
       "      <td>260,823,700.00</td>\n",
       "      <td>248,398,143.00</td>\n",
       "      <td>509,221,843.00</td>\n",
       "      <td>April 5th, 2023</td>\n",
       "      <td>2,023.00</td>\n",
       "      <td>April 4th, 2023</td>\n",
       "      <td>2,023.00</td>\n",
       "      <td>PG</td>\n",
       "      <td>92.00</td>\n",
       "      <td>NaN</td>\n",
       "      <td>['Ensemble', 'Prince/Princess', 'Royalty', 'Go...</td>\n",
       "      <td>Action</td>\n",
       "      <td>Digital Animation</td>\n",
       "      <td>Kids Fiction</td>\n",
       "      <td>['Universal Pictures', 'Nintendo', 'Illuminati...</td>\n",
       "      <td>['Japan', 'United States']</td>\n",
       "      <td>['English']</td>\n",
       "      <td>['Chris Pratt', 'Anya Taylor-Joy', 'Charlie Da...</td>\n",
       "      <td>['Keegan-Michael Key', 'Seth Rogen', 'Fred Arm...</td>\n",
       "      <td>['Aaron Horvath', 'Michael Jelenic', 'Matthew ...</td>\n",
       "      <td>['Aaron Horvath', 'Michael Jelenic']</td>\n",
       "      <td>NaN</td>\n",
       "      <td>NaN</td>\n",
       "      <td>NaN</td>\n",
       "      <td>NaN</td>\n",
       "      <td>NaN</td>\n",
       "      <td>NaN</td>\n",
       "      <td>NaN</td>\n",
       "      <td>NaN</td>\n",
       "      <td>NaN</td>\n",
       "      <td>NaN</td>\n",
       "    </tr>\n",
       "    <tr>\n",
       "      <th>1</th>\n",
       "      <td>Harry Potter and the Chamber of Secrets</td>\n",
       "      <td>100000000</td>\n",
       "      <td>Harry-Potter-and-the-Chamber-of-Secrets#tab=su...</td>\n",
       "      <td>262,233,381.00</td>\n",
       "      <td>612,721,149.00</td>\n",
       "      <td>874,954,530.00</td>\n",
       "      <td>November 15th, 2002</td>\n",
       "      <td>2,002.00</td>\n",
       "      <td>November 15th, 2002</td>\n",
       "      <td>2,002.00</td>\n",
       "      <td>PG</td>\n",
       "      <td>161.00</td>\n",
       "      <td>['Harry Potter']</td>\n",
       "      <td>['Boarding School', 'IMAX: DMR']</td>\n",
       "      <td>Adventure</td>\n",
       "      <td>Animation/Live Action</td>\n",
       "      <td>Fantasy</td>\n",
       "      <td>['Warner Bros.', 'Heyday Films', '1492 Pictures']</td>\n",
       "      <td>['United Kingdom', 'United States']</td>\n",
       "      <td>['English']</td>\n",
       "      <td>['Daniel Radcliffe', 'Rupert Grint', 'Emma Wat...</td>\n",
       "      <td>['Robbie Coltrane', 'Richard Griffiths', 'Rich...</td>\n",
       "      <td>['Chris Columbus', 'Steve Kloves', 'J.K. Rowli...</td>\n",
       "      <td>['Chris Columbus']</td>\n",
       "      <td>NaN</td>\n",
       "      <td>NaN</td>\n",
       "      <td>NaN</td>\n",
       "      <td>NaN</td>\n",
       "      <td>['John Cleese']</td>\n",
       "      <td>NaN</td>\n",
       "      <td>NaN</td>\n",
       "      <td>NaN</td>\n",
       "      <td>NaN</td>\n",
       "      <td>NaN</td>\n",
       "    </tr>\n",
       "    <tr>\n",
       "      <th>2</th>\n",
       "      <td>Rudderless</td>\n",
       "      <td>5000000</td>\n",
       "      <td>Rudderless#tab=summary</td>\n",
       "      <td>56,001.00</td>\n",
       "      <td>528,498.00</td>\n",
       "      <td>584,499.00</td>\n",
       "      <td>October 17th, 2014</td>\n",
       "      <td>2,014.00</td>\n",
       "      <td>December 21st, 2016</td>\n",
       "      <td>2,016.00</td>\n",
       "      <td>R</td>\n",
       "      <td>105.00</td>\n",
       "      <td>NaN</td>\n",
       "      <td>['Death of a Son or Daughter', 'Singers', 'Mus...</td>\n",
       "      <td>Drama</td>\n",
       "      <td>Live Action</td>\n",
       "      <td>Contemporary Fiction</td>\n",
       "      <td>['Unified Pictures', 'Dog Pond']</td>\n",
       "      <td>['United States']</td>\n",
       "      <td>['English']</td>\n",
       "      <td>['Billy Crudup', 'Anton Yelchin']</td>\n",
       "      <td>['Felicity Huffman', 'Jamie Chung', 'Selena Go...</td>\n",
       "      <td>['William H. Macy', 'Casey Twenter', 'Jeff Rob...</td>\n",
       "      <td>['William H. Macy']</td>\n",
       "      <td>368,261.00</td>\n",
       "      <td>NaN</td>\n",
       "      <td>368,261.00</td>\n",
       "      <td>NaN</td>\n",
       "      <td>NaN</td>\n",
       "      <td>NaN</td>\n",
       "      <td>NaN</td>\n",
       "      <td>NaN</td>\n",
       "      <td>NaN</td>\n",
       "      <td>NaN</td>\n",
       "    </tr>\n",
       "  </tbody>\n",
       "</table>\n",
       "</div>"
      ],
      "text/plain": [
       "                                 moviename     Budget  \\\n",
       "0              The Super Mario Bros. Movie  100000000   \n",
       "1  Harry Potter and the Chamber of Secrets  100000000   \n",
       "2                               Rudderless    5000000   \n",
       "\n",
       "                                                link  Domestic Box Office  \\\n",
       "0      Super-Mario-Bros-Movie-The-(2022)#tab=summary       260,823,700.00   \n",
       "1  Harry-Potter-and-the-Chamber-of-Secrets#tab=su...       262,233,381.00   \n",
       "2                             Rudderless#tab=summary            56,001.00   \n",
       "\n",
       "   International Box Office  Worldwide Box Office     Domestic Release  \\\n",
       "0            248,398,143.00        509,221,843.00      April 5th, 2023   \n",
       "1            612,721,149.00        874,954,530.00  November 15th, 2002   \n",
       "2                528,498.00            584,499.00   October 17th, 2014   \n",
       "\n",
       "   Dom Year International Release  Int Year Rating  Runtime         Franchise  \\\n",
       "0  2,023.00       April 4th, 2023  2,023.00     PG    92.00               NaN   \n",
       "1  2,002.00   November 15th, 2002  2,002.00     PG   161.00  ['Harry Potter']   \n",
       "2  2,014.00   December 21st, 2016  2,016.00      R   105.00               NaN   \n",
       "\n",
       "                                            Keywords      Genre  \\\n",
       "0  ['Ensemble', 'Prince/Princess', 'Royalty', 'Go...     Action   \n",
       "1                   ['Boarding School', 'IMAX: DMR']  Adventure   \n",
       "2  ['Death of a Son or Daughter', 'Singers', 'Mus...      Drama   \n",
       "\n",
       "       Production Method         Creative Type  \\\n",
       "0      Digital Animation          Kids Fiction   \n",
       "1  Animation/Live Action               Fantasy   \n",
       "2            Live Action  Contemporary Fiction   \n",
       "\n",
       "                      Production/Financing Companies  \\\n",
       "0  ['Universal Pictures', 'Nintendo', 'Illuminati...   \n",
       "1  ['Warner Bros.', 'Heyday Films', '1492 Pictures']   \n",
       "2                   ['Unified Pictures', 'Dog Pond']   \n",
       "\n",
       "                    Production Country    Languages  \\\n",
       "0           ['Japan', 'United States']  ['English']   \n",
       "1  ['United Kingdom', 'United States']  ['English']   \n",
       "2                    ['United States']  ['English']   \n",
       "\n",
       "                                        Leading Cast  \\\n",
       "0  ['Chris Pratt', 'Anya Taylor-Joy', 'Charlie Da...   \n",
       "1  ['Daniel Radcliffe', 'Rupert Grint', 'Emma Wat...   \n",
       "2                  ['Billy Crudup', 'Anton Yelchin']   \n",
       "\n",
       "                                     Supporting Cast  \\\n",
       "0  ['Keegan-Michael Key', 'Seth Rogen', 'Fred Arm...   \n",
       "1  ['Robbie Coltrane', 'Richard Griffiths', 'Rich...   \n",
       "2  ['Felicity Huffman', 'Jamie Chung', 'Selena Go...   \n",
       "\n",
       "                    Production and Technical Credits  \\\n",
       "0  ['Aaron Horvath', 'Michael Jelenic', 'Matthew ...   \n",
       "1  ['Chris Columbus', 'Steve Kloves', 'J.K. Rowli...   \n",
       "2  ['William H. Macy', 'Casey Twenter', 'Jeff Rob...   \n",
       "\n",
       "                               Director  Est. Domestic DVD Sales  \\\n",
       "0  ['Aaron Horvath', 'Michael Jelenic']                      NaN   \n",
       "1                    ['Chris Columbus']                      NaN   \n",
       "2                   ['William H. Macy']               368,261.00   \n",
       "\n",
       "   Est. Domestic Blu-ray Sales  Total Est. Domestic Video Sales  \\\n",
       "0                          NaN                              NaN   \n",
       "1                          NaN                              NaN   \n",
       "2                          NaN                       368,261.00   \n",
       "\n",
       "  Lead Ensemble Members           Cameos Uncategorized Crew Narrator(s)  \\\n",
       "0                   NaN              NaN                NaN         NaN   \n",
       "1                   NaN  ['John Cleese']                NaN         NaN   \n",
       "2                   NaN              NaN                NaN         NaN   \n",
       "\n",
       "  Extras Documentary Subject(s) Interviewee(s)  \n",
       "0    NaN                    NaN            NaN  \n",
       "1    NaN                    NaN            NaN  \n",
       "2    NaN                    NaN            NaN  "
      ]
     },
     "execution_count": 1,
     "metadata": {},
     "output_type": "execute_result"
    }
   ],
   "source": [
    "#Preparations\n",
    "#Import the libraries\n",
    "import pandas as pd\n",
    "import numpy as np\n",
    "import matplotlib.pyplot as plt\n",
    "from sklearn.model_selection import train_test_split\n",
    "from tqdm import tqdm\n",
    "import re\n",
    "import warnings\n",
    "\n",
    "\n",
    "#Settings\n",
    "pd.set_option('display.max_columns', None)\n",
    "pd.set_option('display.float_format',  '{:,.2f}'.format)\n",
    "pd.set_option('display.precision', 2)\n",
    "\n",
    "#import the dataset\n",
    "df = pd.read_csv('metadata.csv', low_memory=False, thousands=',')\n",
    "df.head(3)"
   ]
  },
  {
   "cell_type": "code",
   "execution_count": 10,
   "id": "0e89e0a8-8fe0-4353-a6e6-7d7078c8761c",
   "metadata": {},
   "outputs": [
    {
     "name": "stdout",
     "output_type": "stream",
     "text": [
      "Rows: 6382\n",
      "Colums: 34\n",
      "---------Info of dataset--------------\n",
      "<class 'pandas.core.frame.DataFrame'>\n",
      "RangeIndex: 6382 entries, 0 to 6381\n",
      "Data columns (total 34 columns):\n",
      " #   Column                            Non-Null Count  Dtype  \n",
      "---  ------                            --------------  -----  \n",
      " 0   moviename                         6382 non-null   object \n",
      " 1   Budget                            6382 non-null   int64  \n",
      " 2   link                              6382 non-null   object \n",
      " 3   Domestic Box Office               6053 non-null   float64\n",
      " 4   International Box Office          4533 non-null   float64\n",
      " 5   Worldwide Box Office              4819 non-null   float64\n",
      " 6   Domestic Release                  5967 non-null   object \n",
      " 7   Dom Year                          5967 non-null   float64\n",
      " 8   International Release             2942 non-null   object \n",
      " 9   Int Year                          2942 non-null   float64\n",
      " 10  Rating                            5983 non-null   object \n",
      " 11  Runtime                           5399 non-null   float64\n",
      " 12  Franchise                         1333 non-null   object \n",
      " 13  Keywords                          5242 non-null   object \n",
      " 14  Genre                             6224 non-null   object \n",
      " 15  Production Method                 6212 non-null   object \n",
      " 16  Creative Type                     6096 non-null   object \n",
      " 17  Production/Financing Companies    4050 non-null   object \n",
      " 18  Production Country                5887 non-null   object \n",
      " 19  Languages                         5388 non-null   object \n",
      " 20  Leading Cast                      3948 non-null   object \n",
      " 21  Supporting Cast                   4381 non-null   object \n",
      " 22  Production and Technical Credits  5769 non-null   object \n",
      " 23  Director                          5769 non-null   object \n",
      " 24  Est. Domestic DVD Sales           2418 non-null   float64\n",
      " 25  Est. Domestic Blu-ray Sales       2061 non-null   float64\n",
      " 26  Total Est. Domestic Video Sales   2672 non-null   float64\n",
      " 27  Lead Ensemble Members             704 non-null    object \n",
      " 28  Cameos                            583 non-null    object \n",
      " 29  Uncategorized Crew                1757 non-null   object \n",
      " 30  Narrator(s)                       81 non-null     object \n",
      " 31  Extras                            7 non-null      object \n",
      " 32  Documentary Subject(s)            26 non-null     object \n",
      " 33  Interviewee(s)                    26 non-null     object \n",
      "dtypes: float64(9), int64(1), object(24)\n",
      "memory usage: 1.7+ MB\n",
      "None\n",
      "---------Number of missing values----------\n",
      "moviename                              0\n",
      "Budget                                 0\n",
      "link                                   0\n",
      "Domestic Box Office                  329\n",
      "International Box Office            1849\n",
      "Worldwide Box Office                1563\n",
      "Domestic Release                     415\n",
      "Dom Year                             415\n",
      "International Release               3440\n",
      "Int Year                            3440\n",
      "Rating                               399\n",
      "Runtime                              983\n",
      "Franchise                           5049\n",
      "Keywords                            1140\n",
      "Genre                                158\n",
      "Production Method                    170\n",
      "Creative Type                        286\n",
      "Production/Financing Companies      2332\n",
      "Production Country                   495\n",
      "Languages                            994\n",
      "Leading Cast                        2434\n",
      "Supporting Cast                     2001\n",
      "Production and Technical Credits     613\n",
      "Director                             613\n",
      "Est. Domestic DVD Sales             3964\n",
      "Est. Domestic Blu-ray Sales         4321\n",
      "Total Est. Domestic Video Sales     3710\n",
      "Lead Ensemble Members               5678\n",
      "Cameos                              5799\n",
      "Uncategorized Crew                  4625\n",
      "Narrator(s)                         6301\n",
      "Extras                              6375\n",
      "Documentary Subject(s)              6356\n",
      "Interviewee(s)                      6356\n",
      "dtype: int64\n"
     ]
    }
   ],
   "source": [
    "#some more information\n",
    "print('Rows: ' + str(df.shape[0]))\n",
    "print('Colums: ' + str(df.shape[1]))\n",
    "print('---------Info of dataset--------------')\n",
    "print(df.info())\n",
    "print('---------Number of missing values----------')\n",
    "print(df.isnull().sum())"
   ]
  },
  {
   "cell_type": "markdown",
   "id": "07828562-9616-46c1-9346-eb56e8aded08",
   "metadata": {
    "tags": []
   },
   "source": [
    "### Data Processing\n",
    "<!-- TO DO: Discuss why subsetting instead of imputing, discuss why this should make sense-->\n",
    "For the sake of this project, in order to compare movies from different origins, we will be using Worldwide Box Office (or refered as Revenue in later of this report) and Budget to measure the economic success of movies. This has the following benefits:\n",
    "- Most movies have both of these listed\n",
    "- This would allow comparing movies from different origins.\n",
    "\n",
    "To further this, an ROI measure was added to the dataset in order to compare the return of movies with different budget and from different country and time. ROI is calculated by the dividing the total earnings by the cost, and times 100 percent. "
   ]
  },
  {
   "cell_type": "code",
   "execution_count": 2,
   "id": "d0c22610-bd9a-4a08-8c07-50ea431857df",
   "metadata": {
    "tags": []
   },
   "outputs": [],
   "source": [
    "# Fix some entires\n",
    "df['Domestic Box Office'] = df['Domestic Box Office'].fillna(0)\n",
    "df['International Box Office'] = df['International Box Office'].fillna(0)\n",
    "df['Worldwide Box Office'] = df['Worldwide Box Office'].fillna(0)\n",
    "\n",
    "df['Revenue'] = np.maximum(df['Domestic Box Office'] + df['International Box Office'], df['Worldwide Box Office'])"
   ]
  },
  {
   "cell_type": "code",
   "execution_count": 3,
   "id": "7d3b6454-6930-4eb8-8fc1-84c4c3648855",
   "metadata": {},
   "outputs": [],
   "source": [
    "for index, row in df.iterrows():\n",
    "    if pd.isna(row['Leading Cast']):\n",
    "        df.at[index, 'Leading Cast'] = df.at[index, 'Lead Ensemble Members']"
   ]
  },
  {
   "cell_type": "code",
   "execution_count": 4,
   "id": "55582082-dbba-44cf-87ba-70a7b14510d2",
   "metadata": {},
   "outputs": [],
   "source": [
    "# Subsetting rows with both Budget and Revenue\n",
    "df_sub = df.loc[(df['Revenue'] != 0) & (df['Budget'] != 0)].copy()"
   ]
  },
  {
   "cell_type": "code",
   "execution_count": 5,
   "id": "ff538149-abe7-4fc1-8fac-1242da0383d1",
   "metadata": {},
   "outputs": [],
   "source": [
    "# Compute ROI\n",
    "df_sub['ROI'] = (df_sub['Revenue']-df_sub['Budget'])/df_sub['Budget']*100"
   ]
  },
  {
   "cell_type": "markdown",
   "id": "9f2f1f60-c23f-4e7f-a908-e4560f16e28e",
   "metadata": {
    "tags": []
   },
   "source": [
    "## Feature selection and Engineering\n",
    "First, Remove useless column that was introduced due to the process of data collecting: link. Also remove other features about revenue since we have already processed it into Revenue and ROI for our analysis.\n",
    "\n",
    "Then, look into the other features one by one and dump the ones that don't provide much information. "
   ]
  },
  {
   "cell_type": "markdown",
   "id": "d91230f8-f540-4eba-bd7b-cc779eb502f2",
   "metadata": {},
   "source": [
    "### Release time\n",
    "\n",
    "In our dataset, there are Domestic Release date, and International Release. For this analysis, I will use which ever is earilier as the release time for a movie. And I will keep two colums: Year and Month in order to analyze general yearly trend and possible seasonal effect."
   ]
  },
  {
   "cell_type": "code",
   "execution_count": 6,
   "id": "6f7b675c-36ec-4f45-9472-e9cbd49c64d9",
   "metadata": {},
   "outputs": [
    {
     "name": "stderr",
     "output_type": "stream",
     "text": [
      "C:\\Users\\kongw\\AppData\\Local\\Temp\\ipykernel_21736\\3740225237.py:2: FutureWarning: The default dtype for empty Series will be 'object' instead of 'float64' in a future version. Specify a dtype explicitly to silence this warning.\n",
      "  dom_rel_month = pd.Series([])\n"
     ]
    }
   ],
   "source": [
    "mon = ['January', 'February', 'March', 'April', 'May', 'June', 'July', 'August', 'September', 'October', 'November', 'December']\n",
    "dom_rel_month = pd.Series([])\n",
    "for index, row in df_sub['Domestic Release'].to_frame().iterrows():\n",
    "    d = \"\"\n",
    "    if not pd.isna(row[0]):\n",
    "        d = re.findall(r\"([a-zA-Z]+)\", row[0])\n",
    "        if d != [] and d[0] in mon:\n",
    "            t = d[0]\n",
    "        else:\n",
    "            t = np.nan\n",
    "    else: \n",
    "        t = np.nan\n",
    "    with warnings.catch_warnings():\n",
    "        warnings.simplefilter(action = 'ignore', category = FutureWarning)\n",
    "        dom_rel_month = dom_rel_month.append(pd.Series(data = t))"
   ]
  },
  {
   "cell_type": "code",
   "execution_count": 7,
   "id": "36592b50-9d20-451f-a42f-4f7280eaf08a",
   "metadata": {},
   "outputs": [
    {
     "name": "stderr",
     "output_type": "stream",
     "text": [
      "C:\\Users\\kongw\\AppData\\Local\\Temp\\ipykernel_21736\\3402644605.py:1: FutureWarning: The default dtype for empty Series will be 'object' instead of 'float64' in a future version. Specify a dtype explicitly to silence this warning.\n",
      "  int_rel_month = pd.Series([])\n"
     ]
    }
   ],
   "source": [
    "int_rel_month = pd.Series([])\n",
    "for index, row in df_sub['International Release'].to_frame().iterrows():\n",
    "    d = \"\"\n",
    "    if not pd.isna(row[0]):\n",
    "        d = re.findall(r\"([a-zA-Z]+)\", row[0])\n",
    "        if d != [] and d[0] in mon:\n",
    "            t = d[0]\n",
    "        else:\n",
    "            t = np.nan\n",
    "    else: \n",
    "        t = np.nan\n",
    "    with warnings.catch_warnings():\n",
    "        warnings.simplefilter(action = 'ignore', category = FutureWarning)\n",
    "        int_rel_month = int_rel_month.append(pd.Series(data = t))"
   ]
  },
  {
   "cell_type": "code",
   "execution_count": 8,
   "id": "38f18910-0725-4e27-ba88-3cb1b4854e51",
   "metadata": {},
   "outputs": [],
   "source": [
    "df_sub['int_rel_month'] = int_rel_month.to_list()\n",
    "df_sub['dom_rel_month'] = dom_rel_month.to_list()\n",
    "df_sub['Year'] = ''\n",
    "df_sub['Month'] = ''"
   ]
  },
  {
   "cell_type": "code",
   "execution_count": 9,
   "id": "6ee0d877-1758-4d83-97fa-6b2a05091306",
   "metadata": {},
   "outputs": [],
   "source": [
    "from datetime import datetime\n",
    "\n",
    "for index, row in df_sub.iterrows():\n",
    "    if pd.isna(row['Dom Year']):\n",
    "        df_sub.at[index, 'Year'] = row['Int Year']\n",
    "        df_sub.at[index, 'Month'] = row['int_rel_month']\n",
    "    else: \n",
    "        # dom year not na\n",
    "        if pd.isna(row['Int Year']):\n",
    "            df_sub.at[index, 'Year'] = row['Dom Year']\n",
    "            df_sub.at[index, 'Month'] = row['dom_rel_month']\n",
    "        else:\n",
    "            #both year not na\n",
    "            if row['Dom Year'] == row['Int Year']:\n",
    "                df_sub.at[index, 'Year'] = row['Dom Year']\n",
    "                # month\n",
    "                if pd.isna(row['int_rel_month']):\n",
    "                    df_sub.at[index, 'Month'] = row['dom_rel_month']\n",
    "                elif pd.isna(row['dom_rel_month']):\n",
    "                    df_sub.at[index, 'Month'] = row['int_rel_month']\n",
    "                else:\n",
    "                    #compare month\n",
    "                    i = datetime.strptime(row['int_rel_month'], '%B').month\n",
    "                    d = datetime.strptime(row['dom_rel_month'], '%B').month\n",
    "                    if i <= d:\n",
    "                        df_sub.at[index, 'Month'] = row['int_rel_month']\n",
    "                    else:\n",
    "                        df_sub.at[index, 'Month'] = row['dom_rel_month']\n",
    "            elif row['Dom Year'] < row['Int Year']:\n",
    "                df_sub.at[index, 'Year'] = row['Dom Year']\n",
    "                df_sub.at[index, 'Month'] = row['dom_rel_month']\n",
    "            else: \n",
    "                df_sub.at[index, 'Year'] = row['Int Year']\n",
    "                df_sub.at[index, 'Month'] = row['int_rel_month']"
   ]
  },
  {
   "cell_type": "markdown",
   "id": "18f6f48b-9cc6-46ee-aeaa-ae0165425dfb",
   "metadata": {},
   "source": [
    "### Rating\n",
    "Some classes contains little data, but still might have useful information"
   ]
  },
  {
   "cell_type": "code",
   "execution_count": 82,
   "id": "b83daade-86af-4011-9afc-b9aa8d881005",
   "metadata": {},
   "outputs": [
    {
     "data": {
      "text/plain": [
       "R            2520\n",
       "PG-13        1821\n",
       "PG            833\n",
       "Not Rated     422\n",
       "G             141\n",
       "NC-17          13\n",
       "M/PG            3\n",
       "Open            2\n",
       "GP              2\n",
       "Name: Rating, dtype: int64"
      ]
     },
     "execution_count": 82,
     "metadata": {},
     "output_type": "execute_result"
    }
   ],
   "source": [
    "df_sub['Rating'].value_counts()"
   ]
  },
  {
   "cell_type": "markdown",
   "id": "aa1d2f74-5fdc-4ef2-ad62-ce95fd39eb2b",
   "metadata": {},
   "source": [
    "### Genre"
   ]
  },
  {
   "cell_type": "code",
   "execution_count": 83,
   "id": "29a82588-9807-4184-8ae7-6707864de80a",
   "metadata": {},
   "outputs": [
    {
     "data": {
      "text/plain": [
       "Drama                  1617\n",
       "Comedy                  982\n",
       "Action                  785\n",
       "Adventure               728\n",
       "Thriller/Suspense       607\n",
       "Horror                  496\n",
       "Romantic Comedy         263\n",
       "Black Comedy            125\n",
       "Documentary             120\n",
       "Musical                 106\n",
       "Western                  77\n",
       "Concert/Performance      14\n",
       "Multiple Genres           2\n",
       "Name: Genre, dtype: int64"
      ]
     },
     "execution_count": 83,
     "metadata": {},
     "output_type": "execute_result"
    }
   ],
   "source": [
    "df_sub['Genre'].value_counts()"
   ]
  },
  {
   "cell_type": "markdown",
   "id": "32c6085a-6f77-4c0e-ad28-c345ddd0b559",
   "metadata": {},
   "source": [
    "### Production Method"
   ]
  },
  {
   "cell_type": "code",
   "execution_count": 84,
   "id": "25d0eb15-a0d2-47fe-9670-00d4f86e5de9",
   "metadata": {},
   "outputs": [
    {
     "data": {
      "text/plain": [
       "Live Action                    5421\n",
       "Digital Animation               218\n",
       "Animation/Live Action           177\n",
       "Hand Animation                   78\n",
       "Stop-Motion Animation            15\n",
       "Rotoscoping                       2\n",
       "Multiple Production Methods       2\n",
       "Name: Production Method, dtype: int64"
      ]
     },
     "execution_count": 84,
     "metadata": {},
     "output_type": "execute_result"
    }
   ],
   "source": [
    "df_sub['Production Method'].value_counts()"
   ]
  },
  {
   "cell_type": "markdown",
   "id": "fa1933fe-8589-4b6f-b2e8-84df4fca4b54",
   "metadata": {},
   "source": [
    "### Creative Type"
   ]
  },
  {
   "cell_type": "code",
   "execution_count": 85,
   "id": "a5b2c55b-7bc3-4a5a-ba41-a4c1b8c955c6",
   "metadata": {},
   "outputs": [
    {
     "data": {
      "text/plain": [
       "Contemporary Fiction       3049\n",
       "Historical Fiction          689\n",
       "Dramatization               528\n",
       "Science Fiction             517\n",
       "Fantasy                     396\n",
       "Kids Fiction                365\n",
       "Factual                     133\n",
       "Super Hero                  120\n",
       "Multiple Creative Types       7\n",
       "Name: Creative Type, dtype: int64"
      ]
     },
     "execution_count": 85,
     "metadata": {},
     "output_type": "execute_result"
    }
   ],
   "source": [
    "df_sub['Creative Type'].value_counts()"
   ]
  },
  {
   "cell_type": "markdown",
   "id": "56988118-5431-4b38-91d1-5073dc36da3d",
   "metadata": {},
   "source": [
    "### Production Country\n",
    "\n",
    "Feature left out due to most movies produced in United States or partially in United States."
   ]
  },
  {
   "cell_type": "code",
   "execution_count": 94,
   "id": "be4d9ea2-7f44-406f-819d-426fa981739d",
   "metadata": {},
   "outputs": [
    {
     "data": {
      "text/plain": [
       "['United States']                      4103\n",
       "['United Kingdom']                      199\n",
       "['United Kingdom', 'United States']     176\n",
       "['France']                               94\n",
       "['Canada', 'United States']              55\n",
       "Name: Production Country, dtype: int64"
      ]
     },
     "execution_count": 94,
     "metadata": {},
     "output_type": "execute_result"
    }
   ],
   "source": [
    "df_sub['Production Country'].value_counts().head()"
   ]
  },
  {
   "cell_type": "markdown",
   "id": "c8ef3401-f201-4f32-85ea-b5d492d7f000",
   "metadata": {},
   "source": [
    "### Languages\n",
    "\n",
    "Similarly to Country, Languages were not used"
   ]
  },
  {
   "cell_type": "code",
   "execution_count": 97,
   "id": "318686d9-0862-4ce2-a131-2e51c4e01575",
   "metadata": {},
   "outputs": [
    {
     "data": {
      "text/plain": [
       "['English']               4377\n",
       "['French']                  69\n",
       "['English', 'Spanish']      64\n",
       "['English', 'French']       44\n",
       "['Spanish']                 33\n",
       "Name: Languages, dtype: int64"
      ]
     },
     "execution_count": 97,
     "metadata": {},
     "output_type": "execute_result"
    }
   ],
   "source": [
    "df_sub['Languages'].value_counts().head()"
   ]
  },
  {
   "cell_type": "markdown",
   "id": "c1882524-2fae-450d-a671-3e82f3f6a040",
   "metadata": {},
   "source": [
    "### Other Features\n",
    "\n",
    "Features including Supporting Cast, Production and Technical Credits, DVD Sales, Ensemble members, Cameos, Uncategorized Crew, Narrators, Extras, Documentary Subject, Interviewees were all removed due to lack of useful entries."
   ]
  },
  {
   "cell_type": "markdown",
   "id": "5b64f7b2-6d20-412f-991d-c24f34770472",
   "metadata": {},
   "source": [
    "### Creating some new features"
   ]
  },
  {
   "cell_type": "code",
   "execution_count": 10,
   "id": "a4b8ba4b-03d1-4958-ad72-362a26b2e535",
   "metadata": {},
   "outputs": [],
   "source": [
    "df_sub['is_Franchise'] = np.where(pd.isna(df_sub['Franchise']), False, True)"
   ]
  },
  {
   "cell_type": "code",
   "execution_count": 11,
   "id": "b76f3483-ae90-4d31-9a9d-6e6885eef2dd",
   "metadata": {},
   "outputs": [
    {
     "data": {
      "text/html": [
       "<div>\n",
       "<style scoped>\n",
       "    .dataframe tbody tr th:only-of-type {\n",
       "        vertical-align: middle;\n",
       "    }\n",
       "\n",
       "    .dataframe tbody tr th {\n",
       "        vertical-align: top;\n",
       "    }\n",
       "\n",
       "    .dataframe thead th {\n",
       "        text-align: right;\n",
       "    }\n",
       "</style>\n",
       "<table border=\"1\" class=\"dataframe\">\n",
       "  <thead>\n",
       "    <tr style=\"text-align: right;\">\n",
       "      <th></th>\n",
       "      <th>moviename</th>\n",
       "      <th>Budget</th>\n",
       "      <th>Revenue</th>\n",
       "      <th>ROI</th>\n",
       "      <th>Year</th>\n",
       "      <th>Month</th>\n",
       "      <th>Rating</th>\n",
       "      <th>Franchise</th>\n",
       "      <th>is_Franchise</th>\n",
       "      <th>Keywords</th>\n",
       "      <th>Genre</th>\n",
       "      <th>Production Method</th>\n",
       "      <th>Creative Type</th>\n",
       "      <th>Production/Financing Companies</th>\n",
       "      <th>Leading Cast</th>\n",
       "      <th>Director</th>\n",
       "    </tr>\n",
       "  </thead>\n",
       "  <tbody>\n",
       "    <tr>\n",
       "      <th>0</th>\n",
       "      <td>The Super Mario Bros. Movie</td>\n",
       "      <td>100000000</td>\n",
       "      <td>509,221,843.00</td>\n",
       "      <td>409.22</td>\n",
       "      <td>2,023.00</td>\n",
       "      <td>April</td>\n",
       "      <td>PG</td>\n",
       "      <td>NaN</td>\n",
       "      <td>False</td>\n",
       "      <td>['Ensemble', 'Prince/Princess', 'Royalty', 'Go...</td>\n",
       "      <td>Action</td>\n",
       "      <td>Digital Animation</td>\n",
       "      <td>Kids Fiction</td>\n",
       "      <td>['Universal Pictures', 'Nintendo', 'Illuminati...</td>\n",
       "      <td>['Chris Pratt', 'Anya Taylor-Joy', 'Charlie Da...</td>\n",
       "      <td>['Aaron Horvath', 'Michael Jelenic']</td>\n",
       "    </tr>\n",
       "    <tr>\n",
       "      <th>1</th>\n",
       "      <td>Harry Potter and the Chamber of Secrets</td>\n",
       "      <td>100000000</td>\n",
       "      <td>874,954,530.00</td>\n",
       "      <td>774.95</td>\n",
       "      <td>2,002.00</td>\n",
       "      <td>November</td>\n",
       "      <td>PG</td>\n",
       "      <td>['Harry Potter']</td>\n",
       "      <td>True</td>\n",
       "      <td>['Boarding School', 'IMAX: DMR']</td>\n",
       "      <td>Adventure</td>\n",
       "      <td>Animation/Live Action</td>\n",
       "      <td>Fantasy</td>\n",
       "      <td>['Warner Bros.', 'Heyday Films', '1492 Pictures']</td>\n",
       "      <td>['Daniel Radcliffe', 'Rupert Grint', 'Emma Wat...</td>\n",
       "      <td>['Chris Columbus']</td>\n",
       "    </tr>\n",
       "  </tbody>\n",
       "</table>\n",
       "</div>"
      ],
      "text/plain": [
       "                                 moviename     Budget        Revenue    ROI  \\\n",
       "0              The Super Mario Bros. Movie  100000000 509,221,843.00 409.22   \n",
       "1  Harry Potter and the Chamber of Secrets  100000000 874,954,530.00 774.95   \n",
       "\n",
       "      Year     Month Rating         Franchise  is_Franchise  \\\n",
       "0 2,023.00     April     PG               NaN         False   \n",
       "1 2,002.00  November     PG  ['Harry Potter']          True   \n",
       "\n",
       "                                            Keywords      Genre  \\\n",
       "0  ['Ensemble', 'Prince/Princess', 'Royalty', 'Go...     Action   \n",
       "1                   ['Boarding School', 'IMAX: DMR']  Adventure   \n",
       "\n",
       "       Production Method Creative Type  \\\n",
       "0      Digital Animation  Kids Fiction   \n",
       "1  Animation/Live Action       Fantasy   \n",
       "\n",
       "                      Production/Financing Companies  \\\n",
       "0  ['Universal Pictures', 'Nintendo', 'Illuminati...   \n",
       "1  ['Warner Bros.', 'Heyday Films', '1492 Pictures']   \n",
       "\n",
       "                                        Leading Cast  \\\n",
       "0  ['Chris Pratt', 'Anya Taylor-Joy', 'Charlie Da...   \n",
       "1  ['Daniel Radcliffe', 'Rupert Grint', 'Emma Wat...   \n",
       "\n",
       "                               Director  \n",
       "0  ['Aaron Horvath', 'Michael Jelenic']  \n",
       "1                    ['Chris Columbus']  "
      ]
     },
     "execution_count": 11,
     "metadata": {},
     "output_type": "execute_result"
    }
   ],
   "source": [
    "dataset = df_sub[['moviename', 'Budget', 'Revenue', 'ROI', 'Year', 'Month',\n",
    "            'Rating', 'Franchise', 'is_Franchise', 'Keywords', 'Genre', 'Production Method',\n",
    "            'Creative Type', 'Production/Financing Companies', 'Leading Cast', 'Director']].copy()\n",
    "dataset = dataset[~dataset['Year'].isna()]\n",
    "dataset.head(2)"
   ]
  },
  {
   "cell_type": "markdown",
   "id": "f30d88b1-9550-4707-a344-3b3fb09ca4b3",
   "metadata": {},
   "source": [
    "### Outliers\n",
    "Here we will be using only ROI in outlier detection, since it is one of our only numerical features, and all other numerical features were used in calculating ROI."
   ]
  },
  {
   "cell_type": "code",
   "execution_count": 180,
   "id": "b7aa378f-5601-4723-85b0-a464774bf2f0",
   "metadata": {},
   "outputs": [
    {
     "data": {
      "text/plain": [
       "count     5,946.00\n",
       "mean        395.98\n",
       "std       2,916.87\n",
       "min        -100.00\n",
       "25%         -33.14\n",
       "50%          86.08\n",
       "75%         295.54\n",
       "max     179,900.00\n",
       "Name: ROI, dtype: float64"
      ]
     },
     "execution_count": 180,
     "metadata": {},
     "output_type": "execute_result"
    }
   ],
   "source": [
    "dataset['ROI'].describe()"
   ]
  },
  {
   "cell_type": "code",
   "execution_count": 12,
   "id": "fabcf5e0-f76b-48be-89e9-be4200178a90",
   "metadata": {},
   "outputs": [
    {
     "data": {
      "text/html": [
       "<div>\n",
       "<style scoped>\n",
       "    .dataframe tbody tr th:only-of-type {\n",
       "        vertical-align: middle;\n",
       "    }\n",
       "\n",
       "    .dataframe tbody tr th {\n",
       "        vertical-align: top;\n",
       "    }\n",
       "\n",
       "    .dataframe thead th {\n",
       "        text-align: right;\n",
       "    }\n",
       "</style>\n",
       "<table border=\"1\" class=\"dataframe\">\n",
       "  <thead>\n",
       "    <tr style=\"text-align: right;\">\n",
       "      <th></th>\n",
       "      <th>moviename</th>\n",
       "      <th>Budget</th>\n",
       "      <th>Revenue</th>\n",
       "      <th>ROI</th>\n",
       "      <th>Year</th>\n",
       "      <th>Month</th>\n",
       "      <th>Rating</th>\n",
       "      <th>Franchise</th>\n",
       "      <th>is_Franchise</th>\n",
       "      <th>Keywords</th>\n",
       "      <th>Genre</th>\n",
       "      <th>Production Method</th>\n",
       "      <th>Creative Type</th>\n",
       "      <th>Production/Financing Companies</th>\n",
       "      <th>Leading Cast</th>\n",
       "      <th>Director</th>\n",
       "    </tr>\n",
       "  </thead>\n",
       "  <tbody>\n",
       "    <tr>\n",
       "      <th>5892</th>\n",
       "      <td>Kirikou Et Les Hommes Et Les Femmes</td>\n",
       "      <td>7500000</td>\n",
       "      <td>17.00</td>\n",
       "      <td>-100.00</td>\n",
       "      <td>2,015.00</td>\n",
       "      <td>July</td>\n",
       "      <td>NaN</td>\n",
       "      <td>['Kirikou']</td>\n",
       "      <td>True</td>\n",
       "      <td>NaN</td>\n",
       "      <td>Adventure</td>\n",
       "      <td>Digital Animation</td>\n",
       "      <td>Kids Fiction</td>\n",
       "      <td>NaN</td>\n",
       "      <td>NaN</td>\n",
       "      <td>['Michel Ocelot']</td>\n",
       "    </tr>\n",
       "    <tr>\n",
       "      <th>16</th>\n",
       "      <td>Capricorn One</td>\n",
       "      <td>5000000</td>\n",
       "      <td>401.00</td>\n",
       "      <td>-99.99</td>\n",
       "      <td>1,977.00</td>\n",
       "      <td>December</td>\n",
       "      <td>PG</td>\n",
       "      <td>NaN</td>\n",
       "      <td>False</td>\n",
       "      <td>NaN</td>\n",
       "      <td>Action</td>\n",
       "      <td>Live Action</td>\n",
       "      <td>Science Fiction</td>\n",
       "      <td>NaN</td>\n",
       "      <td>NaN</td>\n",
       "      <td>['Peter Hyams']</td>\n",
       "    </tr>\n",
       "    <tr>\n",
       "      <th>4990</th>\n",
       "      <td>Pandaemonium</td>\n",
       "      <td>15000000</td>\n",
       "      <td>1,438.00</td>\n",
       "      <td>-99.99</td>\n",
       "      <td>2,001.00</td>\n",
       "      <td>June</td>\n",
       "      <td>PG-13</td>\n",
       "      <td>NaN</td>\n",
       "      <td>False</td>\n",
       "      <td>NaN</td>\n",
       "      <td>NaN</td>\n",
       "      <td>NaN</td>\n",
       "      <td>NaN</td>\n",
       "      <td>NaN</td>\n",
       "      <td>NaN</td>\n",
       "      <td>['Julien Temple']</td>\n",
       "    </tr>\n",
       "    <tr>\n",
       "      <th>6012</th>\n",
       "      <td>Perrier’s Bounty</td>\n",
       "      <td>6600000</td>\n",
       "      <td>828.00</td>\n",
       "      <td>-99.99</td>\n",
       "      <td>2,010.00</td>\n",
       "      <td>May</td>\n",
       "      <td>R</td>\n",
       "      <td>NaN</td>\n",
       "      <td>False</td>\n",
       "      <td>NaN</td>\n",
       "      <td>NaN</td>\n",
       "      <td>NaN</td>\n",
       "      <td>NaN</td>\n",
       "      <td>NaN</td>\n",
       "      <td>['Cillian Murphy', 'Jodie Whittaker', 'Jim Bro...</td>\n",
       "      <td>['Ian Fitzgibbon']</td>\n",
       "    </tr>\n",
       "    <tr>\n",
       "      <th>5720</th>\n",
       "      <td>Skin Trade</td>\n",
       "      <td>9000000</td>\n",
       "      <td>1,242.00</td>\n",
       "      <td>-99.99</td>\n",
       "      <td>2,015.00</td>\n",
       "      <td>May</td>\n",
       "      <td>R</td>\n",
       "      <td>NaN</td>\n",
       "      <td>False</td>\n",
       "      <td>['Early / Simultaneous Video-on-Demand release...</td>\n",
       "      <td>Action</td>\n",
       "      <td>Live Action</td>\n",
       "      <td>Contemporary Fiction</td>\n",
       "      <td>['SC Films Thailand', 'Thor Pictures', 'BMP']</td>\n",
       "      <td>['Dolph Lundgren', 'Tony Jaa', 'Michael Jai Wh...</td>\n",
       "      <td>['Ekachai Uekrongtham']</td>\n",
       "    </tr>\n",
       "  </tbody>\n",
       "</table>\n",
       "</div>"
      ],
      "text/plain": [
       "                                moviename    Budget  Revenue     ROI     Year  \\\n",
       "5892  Kirikou Et Les Hommes Et Les Femmes   7500000    17.00 -100.00 2,015.00   \n",
       "16                          Capricorn One   5000000   401.00  -99.99 1,977.00   \n",
       "4990                         Pandaemonium  15000000 1,438.00  -99.99 2,001.00   \n",
       "6012                     Perrier’s Bounty   6600000   828.00  -99.99 2,010.00   \n",
       "5720                           Skin Trade   9000000 1,242.00  -99.99 2,015.00   \n",
       "\n",
       "         Month Rating    Franchise  is_Franchise  \\\n",
       "5892      July    NaN  ['Kirikou']          True   \n",
       "16    December     PG          NaN         False   \n",
       "4990      June  PG-13          NaN         False   \n",
       "6012       May      R          NaN         False   \n",
       "5720       May      R          NaN         False   \n",
       "\n",
       "                                               Keywords      Genre  \\\n",
       "5892                                                NaN  Adventure   \n",
       "16                                                  NaN     Action   \n",
       "4990                                                NaN        NaN   \n",
       "6012                                                NaN        NaN   \n",
       "5720  ['Early / Simultaneous Video-on-Demand release...     Action   \n",
       "\n",
       "      Production Method         Creative Type  \\\n",
       "5892  Digital Animation          Kids Fiction   \n",
       "16          Live Action       Science Fiction   \n",
       "4990                NaN                   NaN   \n",
       "6012                NaN                   NaN   \n",
       "5720        Live Action  Contemporary Fiction   \n",
       "\n",
       "                     Production/Financing Companies  \\\n",
       "5892                                            NaN   \n",
       "16                                              NaN   \n",
       "4990                                            NaN   \n",
       "6012                                            NaN   \n",
       "5720  ['SC Films Thailand', 'Thor Pictures', 'BMP']   \n",
       "\n",
       "                                           Leading Cast  \\\n",
       "5892                                                NaN   \n",
       "16                                                  NaN   \n",
       "4990                                                NaN   \n",
       "6012  ['Cillian Murphy', 'Jodie Whittaker', 'Jim Bro...   \n",
       "5720  ['Dolph Lundgren', 'Tony Jaa', 'Michael Jai Wh...   \n",
       "\n",
       "                     Director  \n",
       "5892        ['Michel Ocelot']  \n",
       "16            ['Peter Hyams']  \n",
       "4990        ['Julien Temple']  \n",
       "6012       ['Ian Fitzgibbon']  \n",
       "5720  ['Ekachai Uekrongtham']  "
      ]
     },
     "execution_count": 12,
     "metadata": {},
     "output_type": "execute_result"
    }
   ],
   "source": [
    "dataset.sort_values(by = ['ROI']).head(5)"
   ]
  },
  {
   "cell_type": "code",
   "execution_count": 188,
   "id": "0d246f78-25d1-45ba-8c9c-9db2a0e0aed0",
   "metadata": {},
   "outputs": [
    {
     "data": {
      "text/html": [
       "<div>\n",
       "<style scoped>\n",
       "    .dataframe tbody tr th:only-of-type {\n",
       "        vertical-align: middle;\n",
       "    }\n",
       "\n",
       "    .dataframe tbody tr th {\n",
       "        vertical-align: top;\n",
       "    }\n",
       "\n",
       "    .dataframe thead th {\n",
       "        text-align: right;\n",
       "    }\n",
       "</style>\n",
       "<table border=\"1\" class=\"dataframe\">\n",
       "  <thead>\n",
       "    <tr style=\"text-align: right;\">\n",
       "      <th></th>\n",
       "      <th>moviename</th>\n",
       "      <th>Budget</th>\n",
       "      <th>Revenue</th>\n",
       "      <th>ROI</th>\n",
       "      <th>Year</th>\n",
       "      <th>Month</th>\n",
       "      <th>Rating</th>\n",
       "      <th>Franchise</th>\n",
       "      <th>is_Franchise</th>\n",
       "      <th>Keywords</th>\n",
       "      <th>Genre</th>\n",
       "      <th>Production Method</th>\n",
       "      <th>Creative Type</th>\n",
       "      <th>Production/Financing Companies</th>\n",
       "      <th>Leading Cast</th>\n",
       "      <th>Director</th>\n",
       "    </tr>\n",
       "  </thead>\n",
       "  <tbody>\n",
       "    <tr>\n",
       "      <th>1117</th>\n",
       "      <td>The Blair Witch Project</td>\n",
       "      <td>600000</td>\n",
       "      <td>248,300,000.00</td>\n",
       "      <td>41,283.33</td>\n",
       "      <td>1,999.00</td>\n",
       "      <td>July</td>\n",
       "      <td>R</td>\n",
       "      <td>['Blair Witch Project']</td>\n",
       "      <td>True</td>\n",
       "      <td>['Found Footage', 'Found footage horror']</td>\n",
       "      <td>Horror</td>\n",
       "      <td>Live Action</td>\n",
       "      <td>Contemporary Fiction</td>\n",
       "      <td>NaN</td>\n",
       "      <td>['Heather Donahue', 'Joshua Leonard', 'Michael...</td>\n",
       "      <td>['Daniel Myrick', 'Eduardo Sanchez']</td>\n",
       "    </tr>\n",
       "    <tr>\n",
       "      <th>1409</th>\n",
       "      <td>The Gallows</td>\n",
       "      <td>100000</td>\n",
       "      <td>41,656,474.00</td>\n",
       "      <td>41,556.47</td>\n",
       "      <td>2,015.00</td>\n",
       "      <td>July</td>\n",
       "      <td>R</td>\n",
       "      <td>NaN</td>\n",
       "      <td>False</td>\n",
       "      <td>['Theater Actor', 'Accidental Death', 'Found F...</td>\n",
       "      <td>Horror</td>\n",
       "      <td>Live Action</td>\n",
       "      <td>Fantasy</td>\n",
       "      <td>['New Line Cinema', 'Blumhouse', 'Tremendum Pi...</td>\n",
       "      <td>['Cassidy Gifford']</td>\n",
       "      <td>['Travis Cluff', 'Chris Lofing']</td>\n",
       "    </tr>\n",
       "    <tr>\n",
       "      <th>1207</th>\n",
       "      <td>Paranormal Activity</td>\n",
       "      <td>450000</td>\n",
       "      <td>194,183,034.00</td>\n",
       "      <td>43,051.79</td>\n",
       "      <td>2,009.00</td>\n",
       "      <td>September</td>\n",
       "      <td>R</td>\n",
       "      <td>['Paranormal Activity']</td>\n",
       "      <td>True</td>\n",
       "      <td>['Found Footage', 'Exorcism', 'Guerilla Filmma...</td>\n",
       "      <td>Horror</td>\n",
       "      <td>Live Action</td>\n",
       "      <td>Fantasy</td>\n",
       "      <td>['Blumhouse', 'Solana Films']</td>\n",
       "      <td>['Micah Sloat', 'Katie Featherston']</td>\n",
       "      <td>['Oren Peli']</td>\n",
       "    </tr>\n",
       "    <tr>\n",
       "      <th>1342</th>\n",
       "      <td>Mad Max</td>\n",
       "      <td>200000</td>\n",
       "      <td>99,750,000.00</td>\n",
       "      <td>49,775.00</td>\n",
       "      <td>1,979.00</td>\n",
       "      <td>April</td>\n",
       "      <td>NaN</td>\n",
       "      <td>['Mad Max']</td>\n",
       "      <td>True</td>\n",
       "      <td>['Post Apocalypse', 'Revenge', 'Vigilante', 'G...</td>\n",
       "      <td>Action</td>\n",
       "      <td>Live Action</td>\n",
       "      <td>Science Fiction</td>\n",
       "      <td>['Roadshow Films']</td>\n",
       "      <td>['Mel Gibson']</td>\n",
       "      <td>['George Miller']</td>\n",
       "    </tr>\n",
       "    <tr>\n",
       "      <th>1486</th>\n",
       "      <td>Deep Throat</td>\n",
       "      <td>25000</td>\n",
       "      <td>45,000,000.00</td>\n",
       "      <td>179,900.00</td>\n",
       "      <td>1,972.00</td>\n",
       "      <td>June</td>\n",
       "      <td>NC-17</td>\n",
       "      <td>NaN</td>\n",
       "      <td>False</td>\n",
       "      <td>NaN</td>\n",
       "      <td>NaN</td>\n",
       "      <td>NaN</td>\n",
       "      <td>NaN</td>\n",
       "      <td>NaN</td>\n",
       "      <td>NaN</td>\n",
       "      <td>NaN</td>\n",
       "    </tr>\n",
       "  </tbody>\n",
       "</table>\n",
       "</div>"
      ],
      "text/plain": [
       "                    moviename  Budget        Revenue        ROI     Year  \\\n",
       "1117  The Blair Witch Project  600000 248,300,000.00  41,283.33 1,999.00   \n",
       "1409              The Gallows  100000  41,656,474.00  41,556.47 2,015.00   \n",
       "1207      Paranormal Activity  450000 194,183,034.00  43,051.79 2,009.00   \n",
       "1342                  Mad Max  200000  99,750,000.00  49,775.00 1,979.00   \n",
       "1486              Deep Throat   25000  45,000,000.00 179,900.00 1,972.00   \n",
       "\n",
       "          Month Rating                Franchise  is_Franchise  \\\n",
       "1117       July      R  ['Blair Witch Project']          True   \n",
       "1409       July      R                      NaN         False   \n",
       "1207  September      R  ['Paranormal Activity']          True   \n",
       "1342      April    NaN              ['Mad Max']          True   \n",
       "1486       June  NC-17                      NaN         False   \n",
       "\n",
       "                                               Keywords   Genre  \\\n",
       "1117          ['Found Footage', 'Found footage horror']  Horror   \n",
       "1409  ['Theater Actor', 'Accidental Death', 'Found F...  Horror   \n",
       "1207  ['Found Footage', 'Exorcism', 'Guerilla Filmma...  Horror   \n",
       "1342  ['Post Apocalypse', 'Revenge', 'Vigilante', 'G...  Action   \n",
       "1486                                                NaN     NaN   \n",
       "\n",
       "     Production Method         Creative Type  \\\n",
       "1117       Live Action  Contemporary Fiction   \n",
       "1409       Live Action               Fantasy   \n",
       "1207       Live Action               Fantasy   \n",
       "1342       Live Action       Science Fiction   \n",
       "1486               NaN                   NaN   \n",
       "\n",
       "                         Production/Financing Companies  \\\n",
       "1117                                                NaN   \n",
       "1409  ['New Line Cinema', 'Blumhouse', 'Tremendum Pi...   \n",
       "1207                      ['Blumhouse', 'Solana Films']   \n",
       "1342                                 ['Roadshow Films']   \n",
       "1486                                                NaN   \n",
       "\n",
       "                                           Leading Cast  \\\n",
       "1117  ['Heather Donahue', 'Joshua Leonard', 'Michael...   \n",
       "1409                                ['Cassidy Gifford']   \n",
       "1207               ['Micah Sloat', 'Katie Featherston']   \n",
       "1342                                     ['Mel Gibson']   \n",
       "1486                                                NaN   \n",
       "\n",
       "                                  Director  \n",
       "1117  ['Daniel Myrick', 'Eduardo Sanchez']  \n",
       "1409      ['Travis Cluff', 'Chris Lofing']  \n",
       "1207                         ['Oren Peli']  \n",
       "1342                     ['George Miller']  \n",
       "1486                                   NaN  "
      ]
     },
     "execution_count": 188,
     "metadata": {},
     "output_type": "execute_result"
    }
   ],
   "source": [
    "dataset.sort_values(by = ['ROI']).tail(5)"
   ]
  },
  {
   "cell_type": "code",
   "execution_count": 188,
   "id": "208e4337-e3b3-4093-8f54-15b512db9a71",
   "metadata": {},
   "outputs": [
    {
     "data": {
      "text/html": [
       "<div>\n",
       "<style scoped>\n",
       "    .dataframe tbody tr th:only-of-type {\n",
       "        vertical-align: middle;\n",
       "    }\n",
       "\n",
       "    .dataframe tbody tr th {\n",
       "        vertical-align: top;\n",
       "    }\n",
       "\n",
       "    .dataframe thead th {\n",
       "        text-align: right;\n",
       "    }\n",
       "</style>\n",
       "<table border=\"1\" class=\"dataframe\">\n",
       "  <thead>\n",
       "    <tr style=\"text-align: right;\">\n",
       "      <th></th>\n",
       "      <th>moviename</th>\n",
       "      <th>Budget</th>\n",
       "      <th>Revenue</th>\n",
       "      <th>ROI</th>\n",
       "      <th>Year</th>\n",
       "      <th>Month</th>\n",
       "      <th>Rating</th>\n",
       "      <th>Franchise</th>\n",
       "      <th>is_Franchise</th>\n",
       "      <th>Keywords</th>\n",
       "      <th>Genre</th>\n",
       "      <th>Production Method</th>\n",
       "      <th>Creative Type</th>\n",
       "      <th>Production/Financing Companies</th>\n",
       "      <th>Leading Cast</th>\n",
       "      <th>Director</th>\n",
       "    </tr>\n",
       "  </thead>\n",
       "  <tbody>\n",
       "    <tr>\n",
       "      <th>1117</th>\n",
       "      <td>The Blair Witch Project</td>\n",
       "      <td>600000</td>\n",
       "      <td>248,300,000.00</td>\n",
       "      <td>41,283.33</td>\n",
       "      <td>1,999.00</td>\n",
       "      <td>July</td>\n",
       "      <td>R</td>\n",
       "      <td>['Blair Witch Project']</td>\n",
       "      <td>True</td>\n",
       "      <td>['Found Footage', 'Found footage horror']</td>\n",
       "      <td>Horror</td>\n",
       "      <td>Live Action</td>\n",
       "      <td>Contemporary Fiction</td>\n",
       "      <td>NaN</td>\n",
       "      <td>['Heather Donahue', 'Joshua Leonard', 'Michael...</td>\n",
       "      <td>['Daniel Myrick', 'Eduardo Sanchez']</td>\n",
       "    </tr>\n",
       "    <tr>\n",
       "      <th>1409</th>\n",
       "      <td>The Gallows</td>\n",
       "      <td>100000</td>\n",
       "      <td>41,656,474.00</td>\n",
       "      <td>41,556.47</td>\n",
       "      <td>2,015.00</td>\n",
       "      <td>July</td>\n",
       "      <td>R</td>\n",
       "      <td>NaN</td>\n",
       "      <td>False</td>\n",
       "      <td>['Theater Actor', 'Accidental Death', 'Found F...</td>\n",
       "      <td>Horror</td>\n",
       "      <td>Live Action</td>\n",
       "      <td>Fantasy</td>\n",
       "      <td>['New Line Cinema', 'Blumhouse', 'Tremendum Pi...</td>\n",
       "      <td>['Cassidy Gifford']</td>\n",
       "      <td>['Travis Cluff', 'Chris Lofing']</td>\n",
       "    </tr>\n",
       "    <tr>\n",
       "      <th>1207</th>\n",
       "      <td>Paranormal Activity</td>\n",
       "      <td>450000</td>\n",
       "      <td>194,183,034.00</td>\n",
       "      <td>43,051.79</td>\n",
       "      <td>2,009.00</td>\n",
       "      <td>September</td>\n",
       "      <td>R</td>\n",
       "      <td>['Paranormal Activity']</td>\n",
       "      <td>True</td>\n",
       "      <td>['Found Footage', 'Exorcism', 'Guerilla Filmma...</td>\n",
       "      <td>Horror</td>\n",
       "      <td>Live Action</td>\n",
       "      <td>Fantasy</td>\n",
       "      <td>['Blumhouse', 'Solana Films']</td>\n",
       "      <td>['Micah Sloat', 'Katie Featherston']</td>\n",
       "      <td>['Oren Peli']</td>\n",
       "    </tr>\n",
       "    <tr>\n",
       "      <th>1342</th>\n",
       "      <td>Mad Max</td>\n",
       "      <td>200000</td>\n",
       "      <td>99,750,000.00</td>\n",
       "      <td>49,775.00</td>\n",
       "      <td>1,979.00</td>\n",
       "      <td>April</td>\n",
       "      <td>NaN</td>\n",
       "      <td>['Mad Max']</td>\n",
       "      <td>True</td>\n",
       "      <td>['Post Apocalypse', 'Revenge', 'Vigilante', 'G...</td>\n",
       "      <td>Action</td>\n",
       "      <td>Live Action</td>\n",
       "      <td>Science Fiction</td>\n",
       "      <td>['Roadshow Films']</td>\n",
       "      <td>['Mel Gibson']</td>\n",
       "      <td>['George Miller']</td>\n",
       "    </tr>\n",
       "    <tr>\n",
       "      <th>1486</th>\n",
       "      <td>Deep Throat</td>\n",
       "      <td>25000</td>\n",
       "      <td>45,000,000.00</td>\n",
       "      <td>179,900.00</td>\n",
       "      <td>1,972.00</td>\n",
       "      <td>June</td>\n",
       "      <td>NC-17</td>\n",
       "      <td>NaN</td>\n",
       "      <td>False</td>\n",
       "      <td>NaN</td>\n",
       "      <td>NaN</td>\n",
       "      <td>NaN</td>\n",
       "      <td>NaN</td>\n",
       "      <td>NaN</td>\n",
       "      <td>NaN</td>\n",
       "      <td>NaN</td>\n",
       "    </tr>\n",
       "  </tbody>\n",
       "</table>\n",
       "</div>"
      ],
      "text/plain": [
       "                    moviename  Budget        Revenue        ROI     Year  \\\n",
       "1117  The Blair Witch Project  600000 248,300,000.00  41,283.33 1,999.00   \n",
       "1409              The Gallows  100000  41,656,474.00  41,556.47 2,015.00   \n",
       "1207      Paranormal Activity  450000 194,183,034.00  43,051.79 2,009.00   \n",
       "1342                  Mad Max  200000  99,750,000.00  49,775.00 1,979.00   \n",
       "1486              Deep Throat   25000  45,000,000.00 179,900.00 1,972.00   \n",
       "\n",
       "          Month Rating                Franchise  is_Franchise  \\\n",
       "1117       July      R  ['Blair Witch Project']          True   \n",
       "1409       July      R                      NaN         False   \n",
       "1207  September      R  ['Paranormal Activity']          True   \n",
       "1342      April    NaN              ['Mad Max']          True   \n",
       "1486       June  NC-17                      NaN         False   \n",
       "\n",
       "                                               Keywords   Genre  \\\n",
       "1117          ['Found Footage', 'Found footage horror']  Horror   \n",
       "1409  ['Theater Actor', 'Accidental Death', 'Found F...  Horror   \n",
       "1207  ['Found Footage', 'Exorcism', 'Guerilla Filmma...  Horror   \n",
       "1342  ['Post Apocalypse', 'Revenge', 'Vigilante', 'G...  Action   \n",
       "1486                                                NaN     NaN   \n",
       "\n",
       "     Production Method         Creative Type  \\\n",
       "1117       Live Action  Contemporary Fiction   \n",
       "1409       Live Action               Fantasy   \n",
       "1207       Live Action               Fantasy   \n",
       "1342       Live Action       Science Fiction   \n",
       "1486               NaN                   NaN   \n",
       "\n",
       "                         Production/Financing Companies  \\\n",
       "1117                                                NaN   \n",
       "1409  ['New Line Cinema', 'Blumhouse', 'Tremendum Pi...   \n",
       "1207                      ['Blumhouse', 'Solana Films']   \n",
       "1342                                 ['Roadshow Films']   \n",
       "1486                                                NaN   \n",
       "\n",
       "                                           Leading Cast  \\\n",
       "1117  ['Heather Donahue', 'Joshua Leonard', 'Michael...   \n",
       "1409                                ['Cassidy Gifford']   \n",
       "1207               ['Micah Sloat', 'Katie Featherston']   \n",
       "1342                                     ['Mel Gibson']   \n",
       "1486                                                NaN   \n",
       "\n",
       "                                  Director  \n",
       "1117  ['Daniel Myrick', 'Eduardo Sanchez']  \n",
       "1409      ['Travis Cluff', 'Chris Lofing']  \n",
       "1207                         ['Oren Peli']  \n",
       "1342                     ['George Miller']  \n",
       "1486                                   NaN  "
      ]
     },
     "execution_count": 188,
     "metadata": {},
     "output_type": "execute_result"
    }
   ],
   "source": [
    "dataset.sort_values(by = ['ROI']).tail(5)"
   ]
  },
  {
   "cell_type": "markdown",
   "id": "d33d2790-6001-4af9-a216-2cbf2dda5db3",
   "metadata": {},
   "source": [
    "Here, we do have some strange values, both with super large and small ROI. That being said, I decided to fact check the movies:\n",
    "For movies with low ROI, with evidence of ROI of -95% existing, -95% is used as a cutoff. \n",
    "For moview with high ROI, the one movie \"Deep Throat\" with incredibly high ROI is removed."
   ]
  },
  {
   "cell_type": "code",
   "execution_count": 13,
   "id": "57e542dd-fa1e-4ab7-be29-bed86ae8883b",
   "metadata": {},
   "outputs": [
    {
     "data": {
      "text/plain": [
       "count    5,571.00\n",
       "mean       396.94\n",
       "std      1,810.98\n",
       "min        -94.97\n",
       "25%        -14.53\n",
       "50%        106.71\n",
       "75%        320.26\n",
       "max     49,775.00\n",
       "Name: ROI, dtype: float64"
      ]
     },
     "execution_count": 13,
     "metadata": {},
     "output_type": "execute_result"
    }
   ],
   "source": [
    "dataset = dataset.loc[dataset['ROI'] < 50000]\n",
    "dataset = dataset.loc[dataset['ROI'] > -95]\n",
    "dataset['ROI'].describe()"
   ]
  },
  {
   "cell_type": "code",
   "execution_count": 14,
   "id": "a039c9c2-e33d-4890-9f31-39575136883b",
   "metadata": {},
   "outputs": [
    {
     "data": {
      "image/png": "[encoded data removed]",
      "text/plain": [
       "<Figure size 640x480 with 1 Axes>"
      ]
     },
     "metadata": {},
     "output_type": "display_data"
    }
   ],
   "source": [
    "plt.hist(dataset['ROI'], bins = 50)\n",
    "plt.show()"
   ]
  },
  {
   "cell_type": "code",
   "execution_count": 208,
   "id": "fed90c6c-09d0-46e0-9cdb-235cf337dfbe",
   "metadata": {},
   "outputs": [
    {
     "data": {
      "image/png": "[encoded data removed]",
      "text/plain": [
       "<Figure size 640x480 with 1 Axes>"
      ]
     },
     "metadata": {},
     "output_type": "display_data"
    }
   ],
   "source": [
    "fig1, ax1 = plt.subplots()\n",
    "ax1.set_title('ROI')\n",
    "ax1.boxplot(dataset['ROI'], vert=False)\n",
    "plt.show()"
   ]
  },
  {
   "cell_type": "markdown",
   "id": "4319653e-5849-4af5-8094-ec63ed6bee1d",
   "metadata": {},
   "source": [
    "## Models\n",
    "Since our data obviously is not normal, we will have to use non-parametric methods.\n"
   ]
  },
  {
   "cell_type": "markdown",
   "id": "542fce70-182e-4e08-9708-15fa75ddb9d8",
   "metadata": {},
   "source": [
    "#### XGBoost\n"
   ]
  },
  {
   "cell_type": "code",
   "execution_count": 32,
   "id": "c5bb9545-054a-4235-a450-2e02e84ff502",
   "metadata": {},
   "outputs": [],
   "source": [
    "X = dataset[['Budget', 'Year', 'Month',\n",
    "       'Rating', 'is_Franchise', 'Genre', 'Production Method',\n",
    "       'Creative Type']].copy()\n",
    "X[\"Month\"] = X[\"Month\"].astype(\"category\")\n",
    "X[\"Rating\"] = X[\"Rating\"].astype(\"category\")\n",
    "X[\"is_Franchise\"] = X[\"is_Franchise\"].astype(\"category\")\n",
    "X[\"Genre\"] = X[\"Genre\"].astype(\"category\")\n",
    "X[\"Production Method\"] = X[\"Production Method\"].astype(\"category\")\n",
    "X[\"Creative Type\"] = X[\"Creative Type\"].astype(\"category\")\n",
    "X[\"Year\"] = X[\"Year\"].astype('Int64')"
   ]
  },
  {
   "cell_type": "code",
   "execution_count": 33,
   "id": "6b4ccc02-1fa8-4ef6-8e12-6f6079f3fa9b",
   "metadata": {},
   "outputs": [],
   "source": [
    "X_train, X_test, y_train, y_test = train_test_split(\n",
    "    X,\n",
    "    dataset[['ROI']], test_size = .2, random_state = 10) #split the data"
   ]
  },
  {
   "cell_type": "code",
   "execution_count": 17,
   "id": "3c01e53a-4dba-46b0-93e5-a29cb0833951",
   "metadata": {},
   "outputs": [
    {
     "name": "stdout",
     "output_type": "stream",
     "text": [
      "<class 'pandas.core.frame.DataFrame'>\n",
      "Int64Index: 4456 entries, 3356 to 1773\n",
      "Data columns (total 8 columns):\n",
      " #   Column             Non-Null Count  Dtype   \n",
      "---  ------             --------------  -----   \n",
      " 0   Budget             4456 non-null   int64   \n",
      " 1   Year               4456 non-null   Int64   \n",
      " 2   Month              4438 non-null   category\n",
      " 3   Rating             4280 non-null   category\n",
      " 4   is_Franchise       4456 non-null   category\n",
      " 5   Genre              4396 non-null   category\n",
      " 6   Production Method  4389 non-null   category\n",
      " 7   Creative Type      4332 non-null   category\n",
      "dtypes: Int64(1), category(6), int64(1)\n",
      "memory usage: 137.1 KB\n"
     ]
    }
   ],
   "source": [
    "X_train.info()"
   ]
  },
  {
   "cell_type": "code",
   "execution_count": 34,
   "id": "9bcef4c3-36b0-4498-a53f-5856788f75c3",
   "metadata": {},
   "outputs": [
    {
     "data": {
      "text/html": [
       "<style>#sk-container-id-4 {color: black;background-color: white;}#sk-container-id-4 pre{padding: 0;}#sk-container-id-4 div.sk-toggleable {background-color: white;}#sk-container-id-4 label.sk-toggleable__label {cursor: pointer;display: block;width: 100%;margin-bottom: 0;padding: 0.3em;box-sizing: border-box;text-align: center;}#sk-container-id-4 label.sk-toggleable__label-arrow:before {content: \"▸\";float: left;margin-right: 0.25em;color: #696969;}#sk-container-id-4 label.sk-toggleable__label-arrow:hover:before {color: black;}#sk-container-id-4 div.sk-estimator:hover label.sk-toggleable__label-arrow:before {color: black;}#sk-container-id-4 div.sk-toggleable__content {max-height: 0;max-width: 0;overflow: hidden;text-align: left;background-color: #f0f8ff;}#sk-container-id-4 div.sk-toggleable__content pre {margin: 0.2em;color: black;border-radius: 0.25em;background-color: #f0f8ff;}#sk-container-id-4 input.sk-toggleable__control:checked~div.sk-toggleable__content {max-height: 200px;max-width: 100%;overflow: auto;}#sk-container-id-4 input.sk-toggleable__control:checked~label.sk-toggleable__label-arrow:before {content: \"▾\";}#sk-container-id-4 div.sk-estimator input.sk-toggleable__control:checked~label.sk-toggleable__label {background-color: #d4ebff;}#sk-container-id-4 div.sk-label input.sk-toggleable__control:checked~label.sk-toggleable__label {background-color: #d4ebff;}#sk-container-id-4 input.sk-hidden--visually {border: 0;clip: rect(1px 1px 1px 1px);clip: rect(1px, 1px, 1px, 1px);height: 1px;margin: -1px;overflow: hidden;padding: 0;position: absolute;width: 1px;}#sk-container-id-4 div.sk-estimator {font-family: monospace;background-color: #f0f8ff;border: 1px dotted black;border-radius: 0.25em;box-sizing: border-box;margin-bottom: 0.5em;}#sk-container-id-4 div.sk-estimator:hover {background-color: #d4ebff;}#sk-container-id-4 div.sk-parallel-item::after {content: \"\";width: 100%;border-bottom: 1px solid gray;flex-grow: 1;}#sk-container-id-4 div.sk-label:hover label.sk-toggleable__label {background-color: #d4ebff;}#sk-container-id-4 div.sk-serial::before {content: \"\";position: absolute;border-left: 1px solid gray;box-sizing: border-box;top: 0;bottom: 0;left: 50%;z-index: 0;}#sk-container-id-4 div.sk-serial {display: flex;flex-direction: column;align-items: center;background-color: white;padding-right: 0.2em;padding-left: 0.2em;position: relative;}#sk-container-id-4 div.sk-item {position: relative;z-index: 1;}#sk-container-id-4 div.sk-parallel {display: flex;align-items: stretch;justify-content: center;background-color: white;position: relative;}#sk-container-id-4 div.sk-item::before, #sk-container-id-4 div.sk-parallel-item::before {content: \"\";position: absolute;border-left: 1px solid gray;box-sizing: border-box;top: 0;bottom: 0;left: 50%;z-index: -1;}#sk-container-id-4 div.sk-parallel-item {display: flex;flex-direction: column;z-index: 1;position: relative;background-color: white;}#sk-container-id-4 div.sk-parallel-item:first-child::after {align-self: flex-end;width: 50%;}#sk-container-id-4 div.sk-parallel-item:last-child::after {align-self: flex-start;width: 50%;}#sk-container-id-4 div.sk-parallel-item:only-child::after {width: 0;}#sk-container-id-4 div.sk-dashed-wrapped {border: 1px dashed gray;margin: 0 0.4em 0.5em 0.4em;box-sizing: border-box;padding-bottom: 0.4em;background-color: white;}#sk-container-id-4 div.sk-label label {font-family: monospace;font-weight: bold;display: inline-block;line-height: 1.2em;}#sk-container-id-4 div.sk-label-container {text-align: center;}#sk-container-id-4 div.sk-container {/* jupyter's `normalize.less` sets `[hidden] { display: none; }` but bootstrap.min.css set `[hidden] { display: none !important; }` so we also need the `!important` here to be able to override the default hidden behavior on the sphinx rendered scikit-learn.org. See: https://github.com/scikit-learn/scikit-learn/issues/21755 */display: inline-block !important;position: relative;}#sk-container-id-4 div.sk-text-repr-fallback {display: none;}</style><div id=\"sk-container-id-4\" class=\"sk-top-container\"><div class=\"sk-text-repr-fallback\"><pre>XGBRegressor(base_score=None, booster=None, callbacks=None,\n",
       "             colsample_bylevel=None, colsample_bynode=None,\n",
       "             colsample_bytree=None, early_stopping_rounds=None,\n",
       "             enable_categorical=True, eval_metric=None, feature_types=None,\n",
       "             gamma=None, gpu_id=None, grow_policy=None, importance_type=None,\n",
       "             interaction_constraints=None, learning_rate=None, max_bin=None,\n",
       "             max_cat_threshold=None, max_cat_to_onehot=None,\n",
       "             max_delta_step=None, max_depth=None, max_leaves=None,\n",
       "             min_child_weight=None, missing=nan, monotone_constraints=None,\n",
       "             n_estimators=100, n_jobs=None, num_parallel_tree=None,\n",
       "             predictor=None, random_state=None, ...)</pre><b>In a Jupyter environment, please rerun this cell to show the HTML representation or trust the notebook. <br />On GitHub, the HTML representation is unable to render, please try loading this page with nbviewer.org.</b></div><div class=\"sk-container\" hidden><div class=\"sk-item\"><div class=\"sk-estimator sk-toggleable\"><input class=\"sk-toggleable__control sk-hidden--visually\" id=\"sk-estimator-id-4\" type=\"checkbox\" checked><label for=\"sk-estimator-id-4\" class=\"sk-toggleable__label sk-toggleable__label-arrow\">XGBRegressor</label><div class=\"sk-toggleable__content\"><pre>XGBRegressor(base_score=None, booster=None, callbacks=None,\n",
       "             colsample_bylevel=None, colsample_bynode=None,\n",
       "             colsample_bytree=None, early_stopping_rounds=None,\n",
       "             enable_categorical=True, eval_metric=None, feature_types=None,\n",
       "             gamma=None, gpu_id=None, grow_policy=None, importance_type=None,\n",
       "             interaction_constraints=None, learning_rate=None, max_bin=None,\n",
       "             max_cat_threshold=None, max_cat_to_onehot=None,\n",
       "             max_delta_step=None, max_depth=None, max_leaves=None,\n",
       "             min_child_weight=None, missing=nan, monotone_constraints=None,\n",
       "             n_estimators=100, n_jobs=None, num_parallel_tree=None,\n",
       "             predictor=None, random_state=None, ...)</pre></div></div></div></div></div>"
      ],
      "text/plain": [
       "XGBRegressor(base_score=None, booster=None, callbacks=None,\n",
       "             colsample_bylevel=None, colsample_bynode=None,\n",
       "             colsample_bytree=None, early_stopping_rounds=None,\n",
       "             enable_categorical=True, eval_metric=None, feature_types=None,\n",
       "             gamma=None, gpu_id=None, grow_policy=None, importance_type=None,\n",
       "             interaction_constraints=None, learning_rate=None, max_bin=None,\n",
       "             max_cat_threshold=None, max_cat_to_onehot=None,\n",
       "             max_delta_step=None, max_depth=None, max_leaves=None,\n",
       "             min_child_weight=None, missing=nan, monotone_constraints=None,\n",
       "             n_estimators=100, n_jobs=None, num_parallel_tree=None,\n",
       "             predictor=None, random_state=None, ...)"
      ]
     },
     "execution_count": 34,
     "metadata": {},
     "output_type": "execute_result"
    }
   ],
   "source": [
    "import xgboost as xgb\n",
    "clf = xgb.XGBRegressor(enable_categorical = True,  \n",
    "                      tree_method = \"hist\")\n",
    "clf.fit(X_train, y_train)"
   ]
  },
  {
   "cell_type": "code",
   "execution_count": 36,
   "id": "9c31cf91-fb15-4acc-89fd-406426163e29",
   "metadata": {},
   "outputs": [
    {
     "data": {
      "text/plain": [
       "-0.31853634862354263"
      ]
     },
     "execution_count": 36,
     "metadata": {},
     "output_type": "execute_result"
    }
   ],
   "source": [
    "y_pred = clf.predict(X_test)\n",
    "from sklearn.metrics import r2_score\n",
    "r2_score(y_test, y_pred)"
   ]
  },
  {
   "cell_type": "code",
   "execution_count": 38,
   "id": "4cd7d8f0-6ec6-4520-a9e3-fadf8308b6a3",
   "metadata": {},
   "outputs": [
    {
     "data": {
      "image/png": "[encoded data removed]",
      "text/plain": [
       "<Figure size 640x480 with 1 Axes>"
      ]
     },
     "metadata": {},
     "output_type": "display_data"
    }
   ],
   "source": [
    "from sklearn.inspection import permutation_importance\n",
    "result = permutation_importance(\n",
    "    clf, X_test, y_test, n_repeats=10, random_state=10, n_jobs=2\n",
    ")\n",
    "forest_importances = pd.Series(result.importances_mean, index = list(X_train.columns.values))\n",
    "fig, ax = plt.subplots()\n",
    "forest_importances.plot.bar(yerr=result.importances_std, ax=ax)\n",
    "ax.set_title(\"Feature importances using permutation on full model\")\n",
    "ax.set_ylabel(\"Mean accuracy decrease\")\n",
    "fig.tight_layout()\n",
    "plt.show()"
   ]
  },
  {
   "cell_type": "markdown",
   "id": "47bdc53d-6425-4e5a-a654-8fb74e5d7c7d",
   "metadata": {},
   "source": [
    "As we can see, our model cannot explain anything about movies, which is what we have always heard: We know nothing. However, there are some more that we can dig into."
   ]
  },
  {
   "cell_type": "markdown",
   "id": "4a36aaec-70b3-4d06-8526-23374e8df245",
   "metadata": {},
   "source": [
    "### Dividing up movies based on ROI"
   ]
  },
  {
   "cell_type": "markdown",
   "id": "d511d9b0-5a23-4280-9110-755aa03c6e91",
   "metadata": {},
   "source": [
    "Some thoughts on this being dividing the movies based on their levels of return: Here we are doing the following:\n",
    "- ROI below 0 are classified as \"Loss\"\n",
    "- ROI below median (106.71) are \"Below than average\"\n",
    "- ROI between above median but below 75% (320.26) are \"above average\"\n",
    "- ROI between 75% and 1000 (around 95 percentile) are \"hits\"\n",
    "- ROI above 1000 are \"super hits\""
   ]
  },
  {
   "cell_type": "code",
   "execution_count": 21,
   "id": "7187d766-bcde-4e8d-909c-50630ebd67e7",
   "metadata": {},
   "outputs": [],
   "source": [
    "dataset['hit'] = ''\n",
    "for index, row in dataset.iterrows():\n",
    "    if row['ROI'] <= 0:\n",
    "        dataset.at[index, 'hit'] = 'Loss'\n",
    "    elif row['ROI'] > 0 and row['ROI'] <= 106.71:\n",
    "        dataset.at[index, 'hit'] = 'Below average'\n",
    "    elif row['ROI'] > 106.71 and row['ROI'] <= 320.26:\n",
    "        dataset.at[index, 'hit'] = 'Above average'\n",
    "    elif row['ROI'] > 320.26 and row['ROI'] <= 1000:\n",
    "        dataset.at[index, 'hit'] = 'Hits'\n",
    "    elif row['ROI'] > 1000:\n",
    "        dataset.at[index, 'hit'] = 'Super hits'      "
   ]
  },
  {
   "cell_type": "code",
   "execution_count": 22,
   "id": "6d3dae5d-2589-4f24-9bdd-79acd959ebd6",
   "metadata": {},
   "outputs": [
    {
     "data": {
      "text/plain": [
       "Loss             1606\n",
       "Above average    1393\n",
       "Below average    1179\n",
       "Hits             1014\n",
       "Super hits        379\n",
       "Name: hit, dtype: int64"
      ]
     },
     "execution_count": 22,
     "metadata": {},
     "output_type": "execute_result"
    }
   ],
   "source": [
    "dataset['hit'].value_counts()"
   ]
  },
  {
   "cell_type": "markdown",
   "id": "40d2b5f5-70e8-42fd-9c12-5eaa11a9eeeb",
   "metadata": {},
   "source": [
    "### Run the model again"
   ]
  },
  {
   "cell_type": "code",
   "execution_count": 78,
   "id": "bd0dce6d-ed20-4cc0-a1f5-6ef6591a1597",
   "metadata": {},
   "outputs": [],
   "source": [
    "X = dataset[['Budget', 'Year', 'Month',\n",
    "       'Rating', 'is_Franchise', 'Genre', 'Production Method',\n",
    "       'Creative Type']].copy()\n",
    "X[\"Month\"] = X[\"Month\"].astype(\"category\")\n",
    "X[\"Rating\"] = X[\"Rating\"].astype(\"category\")\n",
    "X[\"is_Franchise\"] = X[\"is_Franchise\"].astype(\"category\")\n",
    "X[\"Genre\"] = X[\"Genre\"].astype(\"category\")\n",
    "X[\"Production Method\"] = X[\"Production Method\"].astype(\"category\")\n",
    "X[\"Creative Type\"] = X[\"Creative Type\"].astype(\"category\")\n",
    "X[\"Year\"] = X[\"Year\"].astype('Int64')"
   ]
  },
  {
   "cell_type": "code",
   "execution_count": 79,
   "id": "23e9298c-1455-4008-945c-51c6a87072db",
   "metadata": {},
   "outputs": [],
   "source": [
    "X_train, X_test, y_train, y_test = train_test_split(\n",
    "    X,\n",
    "    dataset[['hit']], test_size = .2, random_state = 10) #split the data\n",
    "\n",
    "from sklearn.preprocessing import LabelEncoder\n",
    "le = LabelEncoder()\n",
    "y_train = le.fit_transform(y_train.values.ravel())"
   ]
  },
  {
   "cell_type": "code",
   "execution_count": 80,
   "id": "bb8ce87b-847b-4b66-b218-f03f55fa23aa",
   "metadata": {
    "tags": []
   },
   "outputs": [
    {
     "data": {
      "text/html": [
       "<style>#sk-container-id-11 {color: black;background-color: white;}#sk-container-id-11 pre{padding: 0;}#sk-container-id-11 div.sk-toggleable {background-color: white;}#sk-container-id-11 label.sk-toggleable__label {cursor: pointer;display: block;width: 100%;margin-bottom: 0;padding: 0.3em;box-sizing: border-box;text-align: center;}#sk-container-id-11 label.sk-toggleable__label-arrow:before {content: \"▸\";float: left;margin-right: 0.25em;color: #696969;}#sk-container-id-11 label.sk-toggleable__label-arrow:hover:before {color: black;}#sk-container-id-11 div.sk-estimator:hover label.sk-toggleable__label-arrow:before {color: black;}#sk-container-id-11 div.sk-toggleable__content {max-height: 0;max-width: 0;overflow: hidden;text-align: left;background-color: #f0f8ff;}#sk-container-id-11 div.sk-toggleable__content pre {margin: 0.2em;color: black;border-radius: 0.25em;background-color: #f0f8ff;}#sk-container-id-11 input.sk-toggleable__control:checked~div.sk-toggleable__content {max-height: 200px;max-width: 100%;overflow: auto;}#sk-container-id-11 input.sk-toggleable__control:checked~label.sk-toggleable__label-arrow:before {content: \"▾\";}#sk-container-id-11 div.sk-estimator input.sk-toggleable__control:checked~label.sk-toggleable__label {background-color: #d4ebff;}#sk-container-id-11 div.sk-label input.sk-toggleable__control:checked~label.sk-toggleable__label {background-color: #d4ebff;}#sk-container-id-11 input.sk-hidden--visually {border: 0;clip: rect(1px 1px 1px 1px);clip: rect(1px, 1px, 1px, 1px);height: 1px;margin: -1px;overflow: hidden;padding: 0;position: absolute;width: 1px;}#sk-container-id-11 div.sk-estimator {font-family: monospace;background-color: #f0f8ff;border: 1px dotted black;border-radius: 0.25em;box-sizing: border-box;margin-bottom: 0.5em;}#sk-container-id-11 div.sk-estimator:hover {background-color: #d4ebff;}#sk-container-id-11 div.sk-parallel-item::after {content: \"\";width: 100%;border-bottom: 1px solid gray;flex-grow: 1;}#sk-container-id-11 div.sk-label:hover label.sk-toggleable__label {background-color: #d4ebff;}#sk-container-id-11 div.sk-serial::before {content: \"\";position: absolute;border-left: 1px solid gray;box-sizing: border-box;top: 0;bottom: 0;left: 50%;z-index: 0;}#sk-container-id-11 div.sk-serial {display: flex;flex-direction: column;align-items: center;background-color: white;padding-right: 0.2em;padding-left: 0.2em;position: relative;}#sk-container-id-11 div.sk-item {position: relative;z-index: 1;}#sk-container-id-11 div.sk-parallel {display: flex;align-items: stretch;justify-content: center;background-color: white;position: relative;}#sk-container-id-11 div.sk-item::before, #sk-container-id-11 div.sk-parallel-item::before {content: \"\";position: absolute;border-left: 1px solid gray;box-sizing: border-box;top: 0;bottom: 0;left: 50%;z-index: -1;}#sk-container-id-11 div.sk-parallel-item {display: flex;flex-direction: column;z-index: 1;position: relative;background-color: white;}#sk-container-id-11 div.sk-parallel-item:first-child::after {align-self: flex-end;width: 50%;}#sk-container-id-11 div.sk-parallel-item:last-child::after {align-self: flex-start;width: 50%;}#sk-container-id-11 div.sk-parallel-item:only-child::after {width: 0;}#sk-container-id-11 div.sk-dashed-wrapped {border: 1px dashed gray;margin: 0 0.4em 0.5em 0.4em;box-sizing: border-box;padding-bottom: 0.4em;background-color: white;}#sk-container-id-11 div.sk-label label {font-family: monospace;font-weight: bold;display: inline-block;line-height: 1.2em;}#sk-container-id-11 div.sk-label-container {text-align: center;}#sk-container-id-11 div.sk-container {/* jupyter's `normalize.less` sets `[hidden] { display: none; }` but bootstrap.min.css set `[hidden] { display: none !important; }` so we also need the `!important` here to be able to override the default hidden behavior on the sphinx rendered scikit-learn.org. See: https://github.com/scikit-learn/scikit-learn/issues/21755 */display: inline-block !important;position: relative;}#sk-container-id-11 div.sk-text-repr-fallback {display: none;}</style><div id=\"sk-container-id-11\" class=\"sk-top-container\"><div class=\"sk-text-repr-fallback\"><pre>XGBClassifier(base_score=None, booster=None, callbacks=None,\n",
       "              colsample_bylevel=None, colsample_bynode=None,\n",
       "              colsample_bytree=None, early_stopping_rounds=None,\n",
       "              enable_categorical=True, eval_metric=None, feature_types=None,\n",
       "              gamma=None, gpu_id=None, grow_policy=None, importance_type=None,\n",
       "              interaction_constraints=None, learning_rate=None, max_bin=None,\n",
       "              max_cat_threshold=None, max_cat_to_onehot=None,\n",
       "              max_delta_step=None, max_depth=None, max_leaves=None,\n",
       "              min_child_weight=None, missing=nan, monotone_constraints=None,\n",
       "              n_estimators=100, n_jobs=None, num_parallel_tree=None,\n",
       "              objective=&#x27;multi:softprob&#x27;, predictor=None, ...)</pre><b>In a Jupyter environment, please rerun this cell to show the HTML representation or trust the notebook. <br />On GitHub, the HTML representation is unable to render, please try loading this page with nbviewer.org.</b></div><div class=\"sk-container\" hidden><div class=\"sk-item\"><div class=\"sk-estimator sk-toggleable\"><input class=\"sk-toggleable__control sk-hidden--visually\" id=\"sk-estimator-id-11\" type=\"checkbox\" checked><label for=\"sk-estimator-id-11\" class=\"sk-toggleable__label sk-toggleable__label-arrow\">XGBClassifier</label><div class=\"sk-toggleable__content\"><pre>XGBClassifier(base_score=None, booster=None, callbacks=None,\n",
       "              colsample_bylevel=None, colsample_bynode=None,\n",
       "              colsample_bytree=None, early_stopping_rounds=None,\n",
       "              enable_categorical=True, eval_metric=None, feature_types=None,\n",
       "              gamma=None, gpu_id=None, grow_policy=None, importance_type=None,\n",
       "              interaction_constraints=None, learning_rate=None, max_bin=None,\n",
       "              max_cat_threshold=None, max_cat_to_onehot=None,\n",
       "              max_delta_step=None, max_depth=None, max_leaves=None,\n",
       "              min_child_weight=None, missing=nan, monotone_constraints=None,\n",
       "              n_estimators=100, n_jobs=None, num_parallel_tree=None,\n",
       "              objective=&#x27;multi:softprob&#x27;, predictor=None, ...)</pre></div></div></div></div></div>"
      ],
      "text/plain": [
       "XGBClassifier(base_score=None, booster=None, callbacks=None,\n",
       "              colsample_bylevel=None, colsample_bynode=None,\n",
       "              colsample_bytree=None, early_stopping_rounds=None,\n",
       "              enable_categorical=True, eval_metric=None, feature_types=None,\n",
       "              gamma=None, gpu_id=None, grow_policy=None, importance_type=None,\n",
       "              interaction_constraints=None, learning_rate=None, max_bin=None,\n",
       "              max_cat_threshold=None, max_cat_to_onehot=None,\n",
       "              max_delta_step=None, max_depth=None, max_leaves=None,\n",
       "              min_child_weight=None, missing=nan, monotone_constraints=None,\n",
       "              n_estimators=100, n_jobs=None, num_parallel_tree=None,\n",
       "              objective='multi:softprob', predictor=None, ...)"
      ]
     },
     "execution_count": 80,
     "metadata": {},
     "output_type": "execute_result"
    }
   ],
   "source": [
    "import xgboost as xgb\n",
    "clf = xgb.XGBClassifier(enable_categorical = True,  \n",
    "                      tree_method = \"hist\")\n",
    "clf.fit(X_train, y_train)"
   ]
  },
  {
   "cell_type": "code",
   "execution_count": 81,
   "id": "ee49c3b6-74a5-4e33-b2d3-0c0cfd6033cc",
   "metadata": {},
   "outputs": [
    {
     "data": {
      "text/plain": [
       "0.34977578475336324"
      ]
     },
     "execution_count": 81,
     "metadata": {},
     "output_type": "execute_result"
    }
   ],
   "source": [
    "from sklearn.metrics import confusion_matrix, accuracy_score\n",
    "y_pred = clf.predict(X_test)\n",
    "y_pred = le.inverse_transform(y_pred)\n",
    "cm = confusion_matrix(y_test, y_pred)\n",
    "accuracy_score(y_test, y_pred)"
   ]
  },
  {
   "cell_type": "code",
   "execution_count": 82,
   "id": "823e2e6d-086b-4386-89d8-9576422d815b",
   "metadata": {},
   "outputs": [
    {
     "data": {
      "image/png": "[encoded data removed]",
      "text/plain": [
       "<Figure size 640x480 with 2 Axes>"
      ]
     },
     "metadata": {},
     "output_type": "display_data"
    }
   ],
   "source": [
    "from sklearn.metrics import ConfusionMatrixDisplay\n",
    "matrix = ConfusionMatrixDisplay(cm)\n",
    "\n",
    "disp = ConfusionMatrixDisplay(confusion_matrix = cm,\n",
    "                              display_labels = le.inverse_transform(clf.classes_))\n",
    "disp.plot()\n",
    "plt.show()\n",
    "\n",
    "\n",
    "# ordinal regression"
   ]
  },
  {
   "cell_type": "markdown",
   "id": "4aa81ed8-25fe-4aa3-b728-fa4f3d3764b8",
   "metadata": {},
   "source": [
    "### Comments:\n",
    "\n",
    "This classifier is actually doing a fine job: most of the misses were put into classes close to their true labels. \n",
    "\n",
    "**Need to tune the model**"
   ]
  },
  {
   "cell_type": "code",
   "execution_count": 83,
   "id": "614b0c70-a389-4970-9d6b-1a2603409e56",
   "metadata": {},
   "outputs": [
    {
     "data": {
      "image/png": "[encoded data removed]",
      "text/plain": [
       "<Figure size 640x480 with 1 Axes>"
      ]
     },
     "metadata": {},
     "output_type": "display_data"
    }
   ],
   "source": [
    "from sklearn.inspection import permutation_importance\n",
    "result = permutation_importance(\n",
    "    clf, X_test, le.fit_transform(y_test.values.ravel()), n_repeats=10, random_state=10, n_jobs=2\n",
    ")\n",
    "forest_importances = pd.Series(result.importances_mean, index = list(X_train.columns.values))\n",
    "fig, ax = plt.subplots()\n",
    "forest_importances.plot.bar(yerr=result.importances_std, ax=ax)\n",
    "ax.set_title(\"Feature importances using permutation on full model\")\n",
    "ax.set_ylabel(\"Mean accuracy decrease\")\n",
    "fig.tight_layout()\n",
    "plt.show()"
   ]
  },
  {
   "cell_type": "code",
   "execution_count": 84,
   "id": "5b645a42-1593-41be-9347-2ccd06678206",
   "metadata": {},
   "outputs": [
    {
     "data": {
      "image/png": "[encoded data removed]",
      "text/plain": [
       "<Figure size 640x480 with 1 Axes>"
      ]
     },
     "metadata": {},
     "output_type": "display_data"
    }
   ],
   "source": [
    "from xgboost import plot_importance\n",
    "from matplotlib import pyplot\n",
    "\n",
    "plot_importance(clf)\n",
    "pyplot.show()"
   ]
  },
  {
   "cell_type": "code",
   "execution_count": 87,
   "id": "0612dfe9-73fb-4f16-971a-e0e2c408ca2f",
   "metadata": {},
   "outputs": [
    {
     "data": {
      "text/plain": [
       "array([0.09548113, 0.0764198 , 0.1085263 , 0.08631834, 0.3624072 ,\n",
       "       0.10543561, 0.07569038, 0.08972115], dtype=float32)"
      ]
     },
     "execution_count": 87,
     "metadata": {},
     "output_type": "execute_result"
    }
   ],
   "source": [
    "clf.feature_importances_"
   ]
  },
  {
   "cell_type": "markdown",
   "id": "e104d559-ed21-4aeb-8993-2cee757f3450",
   "metadata": {},
   "source": [
    "### Descriptive analysis"
   ]
  },
  {
   "cell_type": "markdown",
   "id": "4f3f7809-52cd-41a1-9ce1-68fc9f84aa04",
   "metadata": {},
   "source": [
    "### Looking into Casts"
   ]
  },
  {
   "cell_type": "code",
   "execution_count": 260,
   "id": "a73b147d-4131-4b9b-8276-e88b533b5b04",
   "metadata": {},
   "outputs": [],
   "source": [
    "import ast\n",
    "dataset['Leading Cast'] = dataset['Leading Cast'].fillna('[]').apply(ast.literal_eval)"
   ]
  },
  {
   "cell_type": "code",
   "execution_count": 261,
   "id": "ca325bcd-92cf-42ca-90eb-45b1c5074b9b",
   "metadata": {},
   "outputs": [],
   "source": [
    "cast = pd.DataFrame(columns = ['name', 'number', 'Total Budget', 'Total Revenue'])\n",
    "# cast.head(1)"
   ]
  },
  {
   "cell_type": "code",
   "execution_count": 262,
   "id": "39ffdd08-03d7-4aad-a1d6-32949886bbfc",
   "metadata": {},
   "outputs": [],
   "source": [
    "for index, row in dataset.iterrows():\n",
    "    lead = row['Leading Cast']\n",
    "    if lead != []:\n",
    "        for name in lead:\n",
    "            if name in cast['name'].values:\n",
    "                rownum = np.where(cast['name'] == name)[0][0]\n",
    "                cast.at[rownum, 'number'] = cast.at[rownum, 'number'] + 1\n",
    "                cast.at[rownum, 'Total Budget'] = cast.at[rownum, 'Total Budget'] + row['Budget']\n",
    "                cast.at[rownum, 'Total Revenue'] = cast.at[rownum, 'Total Revenue'] + row['Revenue']\n",
    "            else: \n",
    "                cast.loc[len(cast)] = [name, 1, row['Budget'], row['Revenue']]"
   ]
  },
  {
   "cell_type": "code",
   "execution_count": 266,
   "id": "32247f03-67ba-4973-a624-9ca816d6e2f9",
   "metadata": {},
   "outputs": [],
   "source": [
    "cast['Average Budget'] = cast['Total Budget']/cast['number']\n",
    "cast['Average Revenue'] = cast['Total Revenue']/cast['number']"
   ]
  },
  {
   "cell_type": "code",
   "execution_count": 282,
   "id": "77958d54-27bb-4fd7-a1a4-f5abd08d8433",
   "metadata": {},
   "outputs": [
    {
     "data": {
      "text/html": [
       "<div>\n",
       "<style scoped>\n",
       "    .dataframe tbody tr th:only-of-type {\n",
       "        vertical-align: middle;\n",
       "    }\n",
       "\n",
       "    .dataframe tbody tr th {\n",
       "        vertical-align: top;\n",
       "    }\n",
       "\n",
       "    .dataframe thead th {\n",
       "        text-align: right;\n",
       "    }\n",
       "</style>\n",
       "<table border=\"1\" class=\"dataframe\">\n",
       "  <thead>\n",
       "    <tr style=\"text-align: right;\">\n",
       "      <th></th>\n",
       "      <th>name</th>\n",
       "      <th>number</th>\n",
       "      <th>Total Budget</th>\n",
       "      <th>Total Revenue</th>\n",
       "      <th>Average Revenue</th>\n",
       "      <th>Average Budget</th>\n",
       "    </tr>\n",
       "  </thead>\n",
       "  <tbody>\n",
       "    <tr>\n",
       "      <th>991</th>\n",
       "      <td>Idina Menzel</td>\n",
       "      <td>1</td>\n",
       "      <td>150000000</td>\n",
       "      <td>1,437,862,795.00</td>\n",
       "      <td>1,437,862,795.00</td>\n",
       "      <td>150,000,000.00</td>\n",
       "    </tr>\n",
       "    <tr>\n",
       "      <th>980</th>\n",
       "      <td>Zendaya</td>\n",
       "      <td>1</td>\n",
       "      <td>160000000</td>\n",
       "      <td>1,132,107,522.00</td>\n",
       "      <td>1,132,107,522.00</td>\n",
       "      <td>160,000,000.00</td>\n",
       "    </tr>\n",
       "    <tr>\n",
       "      <th>884</th>\n",
       "      <td>Nicola Peltz</td>\n",
       "      <td>1</td>\n",
       "      <td>210000000</td>\n",
       "      <td>1,104,054,072.00</td>\n",
       "      <td>1,104,054,072.00</td>\n",
       "      <td>210,000,000.00</td>\n",
       "    </tr>\n",
       "    <tr>\n",
       "      <th>855</th>\n",
       "      <td>Daisy Ridley</td>\n",
       "      <td>2</td>\n",
       "      <td>406000000</td>\n",
       "      <td>2,091,687,986.00</td>\n",
       "      <td>1,045,843,993.00</td>\n",
       "      <td>203,000,000.00</td>\n",
       "    </tr>\n",
       "    <tr>\n",
       "      <th>852</th>\n",
       "      <td>Ian McShane</td>\n",
       "      <td>1</td>\n",
       "      <td>379000000</td>\n",
       "      <td>1,045,713,802.00</td>\n",
       "      <td>1,045,713,802.00</td>\n",
       "      <td>379,000,000.00</td>\n",
       "    </tr>\n",
       "  </tbody>\n",
       "</table>\n",
       "</div>"
      ],
      "text/plain": [
       "             name  number  Total Budget    Total Revenue  Average Revenue  \\\n",
       "991  Idina Menzel       1     150000000 1,437,862,795.00 1,437,862,795.00   \n",
       "980       Zendaya       1     160000000 1,132,107,522.00 1,132,107,522.00   \n",
       "884  Nicola Peltz       1     210000000 1,104,054,072.00 1,104,054,072.00   \n",
       "855  Daisy Ridley       2     406000000 2,091,687,986.00 1,045,843,993.00   \n",
       "852   Ian McShane       1     379000000 1,045,713,802.00 1,045,713,802.00   \n",
       "\n",
       "     Average Budget  \n",
       "991  150,000,000.00  \n",
       "980  160,000,000.00  \n",
       "884  210,000,000.00  \n",
       "855  203,000,000.00  \n",
       "852  379,000,000.00  "
      ]
     },
     "execution_count": 282,
     "metadata": {},
     "output_type": "execute_result"
    }
   ],
   "source": [
    "cast.sort_values(by = ['Average Revenue'], ascending = False).head(5)"
   ]
  },
  {
   "cell_type": "markdown",
   "id": "11752414-b055-44c3-ae3f-b9f7a7b76f03",
   "metadata": {},
   "source": [
    "Due to the fact that some actors were high with Average Revenue (and budget) since they only starred in one movie and that became a hit, we only consider actors with equal or more than 5 movies in our star rankings."
   ]
  },
  {
   "cell_type": "code",
   "execution_count": 283,
   "id": "1f431c50-822c-4a9c-82c8-78766a63c5a7",
   "metadata": {},
   "outputs": [],
   "source": [
    "cast = cast.loc[cast['number'] >= 5].copy()"
   ]
  },
  {
   "cell_type": "code",
   "execution_count": 284,
   "id": "6a62f076-1be0-4b0e-81ff-d62935bddbf2",
   "metadata": {},
   "outputs": [],
   "source": [
    "top20_ave_rev = cast.sort_values(by = ['Average Revenue'], ascending = False)['name'].head(20).reset_index(drop=True)\n",
    "top20_tot_rev = cast.sort_values(by = ['Total Revenue'], ascending = False)['name'].head(20).reset_index(drop=True)\n",
    "top20_ave_bud = cast.sort_values(by = ['Average Budget'], ascending = False)['name'].head(20).reset_index(drop=True)\n",
    "top20_tot_bud = cast.sort_values(by = ['Total Budget'], ascending = False)['name'].head(20).reset_index(drop=True)\n",
    "top20_num = cast.sort_values(by = ['number'], ascending = False)['name'].head(20).reset_index(drop=True)"
   ]
  },
  {
   "cell_type": "code",
   "execution_count": 295,
   "id": "f1fbbc17-c32e-490a-b646-655423447e42",
   "metadata": {},
   "outputs": [
    {
     "name": "stdout",
     "output_type": "stream",
     "text": [
      "Top 20 actors in the world\n"
     ]
    },
    {
     "data": {
      "text/html": [
       "<div>\n",
       "<style scoped>\n",
       "    .dataframe tbody tr th:only-of-type {\n",
       "        vertical-align: middle;\n",
       "    }\n",
       "\n",
       "    .dataframe tbody tr th {\n",
       "        vertical-align: top;\n",
       "    }\n",
       "\n",
       "    .dataframe thead th {\n",
       "        text-align: right;\n",
       "    }\n",
       "</style>\n",
       "<table border=\"1\" class=\"dataframe\">\n",
       "  <thead>\n",
       "    <tr style=\"text-align: right;\">\n",
       "      <th></th>\n",
       "      <th>By Number of Movies</th>\n",
       "      <th>By Average Revenue</th>\n",
       "      <th>By Total Revenue</th>\n",
       "      <th>By Average Budget</th>\n",
       "      <th>By Total Budget</th>\n",
       "    </tr>\n",
       "  </thead>\n",
       "  <tbody>\n",
       "    <tr>\n",
       "      <th>1</th>\n",
       "      <td>Robert De Niro</td>\n",
       "      <td>Sam Worthington</td>\n",
       "      <td>Tom Hanks</td>\n",
       "      <td>Orlando Bloom</td>\n",
       "      <td>Johnny Depp</td>\n",
       "    </tr>\n",
       "    <tr>\n",
       "      <th>2</th>\n",
       "      <td>Nicolas Cage</td>\n",
       "      <td>Zoe Saldana</td>\n",
       "      <td>Tom Cruise</td>\n",
       "      <td>Gal Gadot</td>\n",
       "      <td>Tom Cruise</td>\n",
       "    </tr>\n",
       "    <tr>\n",
       "      <th>3</th>\n",
       "      <td>Bruce Willis</td>\n",
       "      <td>Rupert Grint</td>\n",
       "      <td>Johnny Depp</td>\n",
       "      <td>Chris Pratt</td>\n",
       "      <td>Will Smith</td>\n",
       "    </tr>\n",
       "    <tr>\n",
       "      <th>4</th>\n",
       "      <td>Denzel Washington</td>\n",
       "      <td>Chris Pratt</td>\n",
       "      <td>Emma Watson</td>\n",
       "      <td>Sam Worthington</td>\n",
       "      <td>Nicolas Cage</td>\n",
       "    </tr>\n",
       "    <tr>\n",
       "      <th>5</th>\n",
       "      <td>Matt Damon</td>\n",
       "      <td>Emma Watson</td>\n",
       "      <td>Daniel Radcliffe</td>\n",
       "      <td>Geoffrey Rush</td>\n",
       "      <td>Matt Damon</td>\n",
       "    </tr>\n",
       "    <tr>\n",
       "      <th>6</th>\n",
       "      <td>Tom Cruise</td>\n",
       "      <td>Daniel Radcliffe</td>\n",
       "      <td>Leonardo DiCaprio</td>\n",
       "      <td>Zoe Saldana</td>\n",
       "      <td>Hugh Jackman</td>\n",
       "    </tr>\n",
       "    <tr>\n",
       "      <th>7</th>\n",
       "      <td>Samuel L. Jackson</td>\n",
       "      <td>Tom Holland</td>\n",
       "      <td>Rupert Grint</td>\n",
       "      <td>Martin Freeman</td>\n",
       "      <td>Tom Hanks</td>\n",
       "    </tr>\n",
       "    <tr>\n",
       "      <th>8</th>\n",
       "      <td>Liam Neeson</td>\n",
       "      <td>Ray Romano</td>\n",
       "      <td>Will Smith</td>\n",
       "      <td>Daniel Craig</td>\n",
       "      <td>Bruce Willis</td>\n",
       "    </tr>\n",
       "    <tr>\n",
       "      <th>9</th>\n",
       "      <td>Tom Hanks</td>\n",
       "      <td>Orlando Bloom</td>\n",
       "      <td>Sam Worthington</td>\n",
       "      <td>Rupert Grint</td>\n",
       "      <td>Liam Neeson</td>\n",
       "    </tr>\n",
       "    <tr>\n",
       "      <th>10</th>\n",
       "      <td>Nicole Kidman</td>\n",
       "      <td>Martin Freeman</td>\n",
       "      <td>Steve Carell</td>\n",
       "      <td>Tobey Maguire</td>\n",
       "      <td>Robert De Niro</td>\n",
       "    </tr>\n",
       "    <tr>\n",
       "      <th>11</th>\n",
       "      <td>Johnny Depp</td>\n",
       "      <td>Geoffrey Rush</td>\n",
       "      <td>Harrison Ford</td>\n",
       "      <td>Tom Holland</td>\n",
       "      <td>Brad Pitt</td>\n",
       "    </tr>\n",
       "    <tr>\n",
       "      <th>12</th>\n",
       "      <td>Keanu Reeves</td>\n",
       "      <td>Taylor Lautner</td>\n",
       "      <td>Liam Neeson</td>\n",
       "      <td>Patrick Stewart</td>\n",
       "      <td>Dwayne Johnson</td>\n",
       "    </tr>\n",
       "    <tr>\n",
       "      <th>13</th>\n",
       "      <td>Eddie Murphy</td>\n",
       "      <td>Bryce Dallas Howard</td>\n",
       "      <td>Eddie Murphy</td>\n",
       "      <td>Penélope Cruz</td>\n",
       "      <td>Eddie Murphy</td>\n",
       "    </tr>\n",
       "    <tr>\n",
       "      <th>14</th>\n",
       "      <td>Mark Wahlberg</td>\n",
       "      <td>Ian McKellen</td>\n",
       "      <td>Matt Damon</td>\n",
       "      <td>Emma Watson</td>\n",
       "      <td>Mark Wahlberg</td>\n",
       "    </tr>\n",
       "    <tr>\n",
       "      <th>15</th>\n",
       "      <td>John Travolta</td>\n",
       "      <td>Robert Pattinson</td>\n",
       "      <td>Jennifer Lawrence</td>\n",
       "      <td>Daniel Radcliffe</td>\n",
       "      <td>Denzel Washington</td>\n",
       "    </tr>\n",
       "    <tr>\n",
       "      <th>16</th>\n",
       "      <td>Brad Pitt</td>\n",
       "      <td>Tobey Maguire</td>\n",
       "      <td>Zoe Saldana</td>\n",
       "      <td>Will Smith</td>\n",
       "      <td>Christian Bale</td>\n",
       "    </tr>\n",
       "    <tr>\n",
       "      <th>17</th>\n",
       "      <td>Robin Williams</td>\n",
       "      <td>Jennifer Lawrence</td>\n",
       "      <td>Cameron Diaz</td>\n",
       "      <td>Alexander Skarsgård</td>\n",
       "      <td>Harrison Ford</td>\n",
       "    </tr>\n",
       "    <tr>\n",
       "      <th>18</th>\n",
       "      <td>Sylvester Stallone</td>\n",
       "      <td>Ralph Fiennes</td>\n",
       "      <td>Mark Wahlberg</td>\n",
       "      <td>Megan Fox</td>\n",
       "      <td>Leonardo DiCaprio</td>\n",
       "    </tr>\n",
       "    <tr>\n",
       "      <th>19</th>\n",
       "      <td>Harrison Ford</td>\n",
       "      <td>Daniel Craig</td>\n",
       "      <td>Hugh Jackman</td>\n",
       "      <td>Chris Pine</td>\n",
       "      <td>Samuel L. Jackson</td>\n",
       "    </tr>\n",
       "    <tr>\n",
       "      <th>20</th>\n",
       "      <td>Kevin Costner</td>\n",
       "      <td>Gal Gadot</td>\n",
       "      <td>Dwayne Johnson</td>\n",
       "      <td>Jennifer Lawrence</td>\n",
       "      <td>Jim Carrey</td>\n",
       "    </tr>\n",
       "  </tbody>\n",
       "</table>\n",
       "</div>"
      ],
      "text/plain": [
       "   By Number of Movies   By Average Revenue   By Total Revenue  \\\n",
       "1       Robert De Niro      Sam Worthington          Tom Hanks   \n",
       "2         Nicolas Cage          Zoe Saldana         Tom Cruise   \n",
       "3         Bruce Willis         Rupert Grint        Johnny Depp   \n",
       "4    Denzel Washington          Chris Pratt        Emma Watson   \n",
       "5           Matt Damon          Emma Watson   Daniel Radcliffe   \n",
       "6           Tom Cruise     Daniel Radcliffe  Leonardo DiCaprio   \n",
       "7    Samuel L. Jackson          Tom Holland       Rupert Grint   \n",
       "8          Liam Neeson           Ray Romano         Will Smith   \n",
       "9            Tom Hanks        Orlando Bloom    Sam Worthington   \n",
       "10       Nicole Kidman       Martin Freeman       Steve Carell   \n",
       "11         Johnny Depp        Geoffrey Rush      Harrison Ford   \n",
       "12        Keanu Reeves       Taylor Lautner        Liam Neeson   \n",
       "13        Eddie Murphy  Bryce Dallas Howard       Eddie Murphy   \n",
       "14       Mark Wahlberg         Ian McKellen         Matt Damon   \n",
       "15       John Travolta     Robert Pattinson  Jennifer Lawrence   \n",
       "16           Brad Pitt        Tobey Maguire        Zoe Saldana   \n",
       "17      Robin Williams    Jennifer Lawrence       Cameron Diaz   \n",
       "18  Sylvester Stallone        Ralph Fiennes      Mark Wahlberg   \n",
       "19       Harrison Ford         Daniel Craig       Hugh Jackman   \n",
       "20       Kevin Costner            Gal Gadot     Dwayne Johnson   \n",
       "\n",
       "      By Average Budget    By Total Budget  \n",
       "1         Orlando Bloom        Johnny Depp  \n",
       "2             Gal Gadot         Tom Cruise  \n",
       "3           Chris Pratt         Will Smith  \n",
       "4       Sam Worthington       Nicolas Cage  \n",
       "5         Geoffrey Rush         Matt Damon  \n",
       "6           Zoe Saldana       Hugh Jackman  \n",
       "7        Martin Freeman          Tom Hanks  \n",
       "8          Daniel Craig       Bruce Willis  \n",
       "9          Rupert Grint        Liam Neeson  \n",
       "10        Tobey Maguire     Robert De Niro  \n",
       "11          Tom Holland          Brad Pitt  \n",
       "12      Patrick Stewart     Dwayne Johnson  \n",
       "13        Penélope Cruz       Eddie Murphy  \n",
       "14          Emma Watson      Mark Wahlberg  \n",
       "15     Daniel Radcliffe  Denzel Washington  \n",
       "16           Will Smith     Christian Bale  \n",
       "17  Alexander Skarsgård      Harrison Ford  \n",
       "18            Megan Fox  Leonardo DiCaprio  \n",
       "19           Chris Pine  Samuel L. Jackson  \n",
       "20    Jennifer Lawrence         Jim Carrey  "
      ]
     },
     "execution_count": 295,
     "metadata": {},
     "output_type": "execute_result"
    }
   ],
   "source": [
    "d = pd.DataFrame({\"By Number of Movies\": top20_num,\n",
    "                  \"By Average Revenue\": top20_ave_rev, \n",
    "                  \"By Total Revenue\": top20_tot_rev,\n",
    "                 \"By Average Budget\": top20_ave_bud,\n",
    "                 \"By Total Budget\": top20_tot_bud})\n",
    "d.index += 1 \n",
    "print(\"Top 20 actors in the world\")\n",
    "d"
   ]
  },
  {
   "cell_type": "markdown",
   "id": "3bb1d487-7630-453f-b048-75d9f3ae8b39",
   "metadata": {},
   "source": [
    "For now, count actors in any of these lists as a star."
   ]
  },
  {
   "cell_type": "code",
   "execution_count": 315,
   "id": "7525e6a7-f390-4dbc-88d4-4d1ca57c37d0",
   "metadata": {},
   "outputs": [
    {
     "name": "stdout",
     "output_type": "stream",
     "text": [
      "We have  53  stars\n"
     ]
    }
   ],
   "source": [
    "starlist = top20_num.tolist() + top20_ave_rev.tolist() + \\\n",
    "    top20_tot_rev.tolist() + top20_ave_bud.tolist() + top20_tot_bud.tolist()\n",
    "starlist = list(set(starlist))\n",
    "print(\"We have \", len(starlist), \" stars\")"
   ]
  },
  {
   "cell_type": "code",
   "execution_count": 319,
   "id": "58106188-1584-48e4-981b-972ae3a8baf9",
   "metadata": {},
   "outputs": [],
   "source": [
    "dataset['has_star_actor'] = False\n",
    "for index, row in dataset.iterrows():\n",
    "    lead = row['Leading Cast']\n",
    "    if lead != []:\n",
    "        for name in lead:\n",
    "            if name in starlist:\n",
    "                dataset.at[index, 'has_star_actor'] = True\n",
    "                break"
   ]
  },
  {
   "cell_type": "code",
   "execution_count": 356,
   "id": "3c982795-a4ea-4b1f-8ba9-ae89644a50ef",
   "metadata": {},
   "outputs": [],
   "source": [
    "# pd.crosstab(columns = dataset['has_star_actor'],\n",
    "#             index = dataset['hit'])"
   ]
  },
  {
   "cell_type": "code",
   "execution_count": 365,
   "id": "1344b636-30cd-43fe-91c0-f9f3de5bef42",
   "metadata": {},
   "outputs": [],
   "source": [
    "Y = dataset.loc[dataset['has_star_actor']]['hit'].value_counts()/len(dataset.loc[dataset['has_star_actor']])\n",
    "N = dataset.loc[dataset['has_star_actor'] == False]['hit'].value_counts()/len(dataset.loc[dataset['has_star_actor'] == False])"
   ]
  },
  {
   "cell_type": "code",
   "execution_count": 383,
   "id": "96f46593-028e-47d9-9508-b410e168c817",
   "metadata": {},
   "outputs": [
    {
     "data": {
      "text/html": [
       "<div>\n",
       "<style scoped>\n",
       "    .dataframe tbody tr th:only-of-type {\n",
       "        vertical-align: middle;\n",
       "    }\n",
       "\n",
       "    .dataframe tbody tr th {\n",
       "        vertical-align: top;\n",
       "    }\n",
       "\n",
       "    .dataframe thead th {\n",
       "        text-align: right;\n",
       "    }\n",
       "</style>\n",
       "<table border=\"1\" class=\"dataframe\">\n",
       "  <thead>\n",
       "    <tr style=\"text-align: right;\">\n",
       "      <th></th>\n",
       "      <th>Has Star</th>\n",
       "      <th>No Star</th>\n",
       "    </tr>\n",
       "  </thead>\n",
       "  <tbody>\n",
       "    <tr>\n",
       "      <th>Loss</th>\n",
       "      <td>0.23</td>\n",
       "      <td>0.35</td>\n",
       "    </tr>\n",
       "    <tr>\n",
       "      <th>Below average</th>\n",
       "      <td>0.23</td>\n",
       "      <td>0.19</td>\n",
       "    </tr>\n",
       "    <tr>\n",
       "      <th>Above average</th>\n",
       "      <td>0.31</td>\n",
       "      <td>0.22</td>\n",
       "    </tr>\n",
       "    <tr>\n",
       "      <th>Hits</th>\n",
       "      <td>0.18</td>\n",
       "      <td>0.17</td>\n",
       "    </tr>\n",
       "    <tr>\n",
       "      <th>Super hits</th>\n",
       "      <td>0.05</td>\n",
       "      <td>0.07</td>\n",
       "    </tr>\n",
       "  </tbody>\n",
       "</table>\n",
       "</div>"
      ],
      "text/plain": [
       "               Has Star  No Star\n",
       "Loss               0.23     0.35\n",
       "Below average      0.23     0.19\n",
       "Above average      0.31     0.22\n",
       "Hits               0.18     0.17\n",
       "Super hits         0.05     0.07"
      ]
     },
     "execution_count": 383,
     "metadata": {},
     "output_type": "execute_result"
    }
   ],
   "source": [
    "t = pd.concat([Y, N], axis = 1)\n",
    "t.columns = [\"Has Star\", \"No Star\"]\n",
    "t.loc[['Loss', 'Below average', 'Above average', 'Hits', 'Super hits']]"
   ]
  },
  {
   "cell_type": "markdown",
   "id": "f4974f65-ada8-4b5d-83b4-db83e9a90a9b",
   "metadata": {},
   "source": [
    "### Comment:\n",
    "Star actors do have effect on movie returns? maybe?"
   ]
  },
  {
   "cell_type": "code",
   "execution_count": null,
   "id": "87213dd4-0111-4456-bf94-845b8e7fcd33",
   "metadata": {},
   "outputs": [],
   "source": []
  },
  {
   "cell_type": "markdown",
   "id": "38718a5a-1376-490f-9b42-1f40749f8f23",
   "metadata": {},
   "source": [
    "### Doing the same on Directors"
   ]
  },
  {
   "cell_type": "code",
   "execution_count": 433,
   "id": "c6bd5cf3-ab50-407c-8cc8-c0ab0388c3d6",
   "metadata": {
    "tags": []
   },
   "outputs": [],
   "source": [
    "dataset['Director'] = dataset['Director'].fillna('[]').apply(ast.literal_eval)"
   ]
  },
  {
   "cell_type": "code",
   "execution_count": 418,
   "id": "7b5b9f32-ac20-4d3e-85a0-467473ff541e",
   "metadata": {},
   "outputs": [],
   "source": [
    "director = pd.DataFrame(columns = ['name', 'number', 'Total Budget', 'Total Revenue'])"
   ]
  },
  {
   "cell_type": "code",
   "execution_count": 419,
   "id": "02ead27b-6e56-4886-9980-80a89305b132",
   "metadata": {},
   "outputs": [],
   "source": [
    "for index, row in dataset.iterrows():\n",
    "    lead = row['Director']\n",
    "    if lead != []:\n",
    "        for name in lead:\n",
    "            if name in director['name'].values:\n",
    "                rownum = np.where(director['name'] == name)[0][0]\n",
    "                director.at[rownum, 'number'] = director.at[rownum, 'number'] + 1\n",
    "                director.at[rownum, 'Total Budget'] = director.at[rownum, 'Total Budget'] + row['Budget']\n",
    "                director.at[rownum, 'Total Revenue'] = director.at[rownum, 'Total Revenue'] + row['Revenue']\n",
    "            else: \n",
    "                director.loc[len(director)] = [name, 1, row['Budget'], row['Revenue']]"
   ]
  },
  {
   "cell_type": "code",
   "execution_count": 420,
   "id": "8e43307d-c901-42c3-a4a6-f7469ba0cff4",
   "metadata": {},
   "outputs": [],
   "source": [
    "director['Average Budget'] = director['Total Budget']/director['number']\n",
    "director['Average Revenue'] = director['Total Revenue']/director['number']"
   ]
  },
  {
   "cell_type": "code",
   "execution_count": 425,
   "id": "e1a4d5ac-6c4d-4492-8925-2875f4ec2181",
   "metadata": {},
   "outputs": [],
   "source": [
    "director = director.loc[director['number'] >= 5].copy()"
   ]
  },
  {
   "cell_type": "code",
   "execution_count": 426,
   "id": "d58e433b-fd60-4e70-85e4-86355a8d99f1",
   "metadata": {},
   "outputs": [],
   "source": [
    "top20_ave_rev = director.sort_values(by = ['Average Revenue'], ascending = False)['name'].head(20).reset_index(drop=True)\n",
    "top20_tot_rev = director.sort_values(by = ['Total Revenue'], ascending = False)['name'].head(20).reset_index(drop=True)\n",
    "top20_ave_bud = director.sort_values(by = ['Average Budget'], ascending = False)['name'].head(20).reset_index(drop=True)\n",
    "top20_tot_bud = director.sort_values(by = ['Total Budget'], ascending = False)['name'].head(20).reset_index(drop=True)\n",
    "top20_num = director.sort_values(by = ['number'], ascending = False)['name'].head(20).reset_index(drop=True)"
   ]
  },
  {
   "cell_type": "code",
   "execution_count": 428,
   "id": "f0cde258-39b5-406f-8485-5e82559f2856",
   "metadata": {},
   "outputs": [
    {
     "name": "stdout",
     "output_type": "stream",
     "text": [
      "Top 20 Directors in the world\n"
     ]
    },
    {
     "data": {
      "text/html": [
       "<div>\n",
       "<style scoped>\n",
       "    .dataframe tbody tr th:only-of-type {\n",
       "        vertical-align: middle;\n",
       "    }\n",
       "\n",
       "    .dataframe tbody tr th {\n",
       "        vertical-align: top;\n",
       "    }\n",
       "\n",
       "    .dataframe thead th {\n",
       "        text-align: right;\n",
       "    }\n",
       "</style>\n",
       "<table border=\"1\" class=\"dataframe\">\n",
       "  <thead>\n",
       "    <tr style=\"text-align: right;\">\n",
       "      <th></th>\n",
       "      <th>By Number of Movies</th>\n",
       "      <th>By Average Revenue</th>\n",
       "      <th>By Total Revenue</th>\n",
       "      <th>By Average Budget</th>\n",
       "      <th>By Total Budget</th>\n",
       "    </tr>\n",
       "  </thead>\n",
       "  <tbody>\n",
       "    <tr>\n",
       "      <th>1</th>\n",
       "      <td>Steven Spielberg</td>\n",
       "      <td>Joe Russo</td>\n",
       "      <td>Steven Spielberg</td>\n",
       "      <td>Joe Russo</td>\n",
       "      <td>Steven Spielberg</td>\n",
       "    </tr>\n",
       "    <tr>\n",
       "      <th>2</th>\n",
       "      <td>Clint Eastwood</td>\n",
       "      <td>Anthony Russo</td>\n",
       "      <td>James Cameron</td>\n",
       "      <td>Anthony Russo</td>\n",
       "      <td>Ridley Scott</td>\n",
       "    </tr>\n",
       "    <tr>\n",
       "      <th>3</th>\n",
       "      <td>Woody Allen</td>\n",
       "      <td>James Cameron</td>\n",
       "      <td>Joe Russo</td>\n",
       "      <td>David Yates</td>\n",
       "      <td>Michael Bay</td>\n",
       "    </tr>\n",
       "    <tr>\n",
       "      <th>4</th>\n",
       "      <td>Martin Scorsese</td>\n",
       "      <td>David Yates</td>\n",
       "      <td>Anthony Russo</td>\n",
       "      <td>Zack Snyder</td>\n",
       "      <td>Ron Howard</td>\n",
       "    </tr>\n",
       "    <tr>\n",
       "      <th>5</th>\n",
       "      <td>Ridley Scott</td>\n",
       "      <td>George Lucas</td>\n",
       "      <td>David Yates</td>\n",
       "      <td>James Cameron</td>\n",
       "      <td>David Yates</td>\n",
       "    </tr>\n",
       "    <tr>\n",
       "      <th>6</th>\n",
       "      <td>Steven Soderbergh</td>\n",
       "      <td>Chris Renaud</td>\n",
       "      <td>Michael Bay</td>\n",
       "      <td>Brad Bird</td>\n",
       "      <td>Roland Emmerich</td>\n",
       "    </tr>\n",
       "    <tr>\n",
       "      <th>7</th>\n",
       "      <td>Ron Howard</td>\n",
       "      <td>Peter Jackson</td>\n",
       "      <td>Peter Jackson</td>\n",
       "      <td>Peter Jackson</td>\n",
       "      <td>Joe Russo</td>\n",
       "    </tr>\n",
       "    <tr>\n",
       "      <th>8</th>\n",
       "      <td>Tim Burton</td>\n",
       "      <td>Brad Bird</td>\n",
       "      <td>Christopher Nolan</td>\n",
       "      <td>Jon Favreau</td>\n",
       "      <td>Anthony Russo</td>\n",
       "    </tr>\n",
       "    <tr>\n",
       "      <th>9</th>\n",
       "      <td>Robert Rodriguez</td>\n",
       "      <td>Jon Favreau</td>\n",
       "      <td>Jon Favreau</td>\n",
       "      <td>Gore Verbinski</td>\n",
       "      <td>Christopher Nolan</td>\n",
       "    </tr>\n",
       "    <tr>\n",
       "      <th>10</th>\n",
       "      <td>Spike Lee</td>\n",
       "      <td>Carlos Saldanha</td>\n",
       "      <td>Ridley Scott</td>\n",
       "      <td>Michael Bay</td>\n",
       "      <td>Tim Burton</td>\n",
       "    </tr>\n",
       "    <tr>\n",
       "      <th>11</th>\n",
       "      <td>Robert Zemeckis</td>\n",
       "      <td>Tom McGrath</td>\n",
       "      <td>Sam Raimi</td>\n",
       "      <td>Bryan Singer</td>\n",
       "      <td>Robert Zemeckis</td>\n",
       "    </tr>\n",
       "    <tr>\n",
       "      <th>12</th>\n",
       "      <td>Tyler Perry</td>\n",
       "      <td>Michael Bay</td>\n",
       "      <td>Robert Zemeckis</td>\n",
       "      <td>Rob Marshall</td>\n",
       "      <td>Peter Jackson</td>\n",
       "    </tr>\n",
       "    <tr>\n",
       "      <th>13</th>\n",
       "      <td>Joel Schumacher</td>\n",
       "      <td>Eric Darnell</td>\n",
       "      <td>Tim Burton</td>\n",
       "      <td>Christopher Nolan</td>\n",
       "      <td>James Cameron</td>\n",
       "    </tr>\n",
       "    <tr>\n",
       "      <th>14</th>\n",
       "      <td>Renny Harlin</td>\n",
       "      <td>Francis Lawrence</td>\n",
       "      <td>Roland Emmerich</td>\n",
       "      <td>James Gunn</td>\n",
       "      <td>Gore Verbinski</td>\n",
       "    </tr>\n",
       "    <tr>\n",
       "      <th>15</th>\n",
       "      <td>Oliver Stone</td>\n",
       "      <td>Christopher Nolan</td>\n",
       "      <td>Ron Howard</td>\n",
       "      <td>Roland Emmerich</td>\n",
       "      <td>Bryan Singer</td>\n",
       "    </tr>\n",
       "    <tr>\n",
       "      <th>16</th>\n",
       "      <td>Rob Reiner</td>\n",
       "      <td>Zack Snyder</td>\n",
       "      <td>Bryan Singer</td>\n",
       "      <td>Tom McGrath</td>\n",
       "      <td>Sam Raimi</td>\n",
       "    </tr>\n",
       "    <tr>\n",
       "      <th>17</th>\n",
       "      <td>Francis Ford Coppola</td>\n",
       "      <td>Bryan Singer</td>\n",
       "      <td>Gore Verbinski</td>\n",
       "      <td>Eric Darnell</td>\n",
       "      <td>Martin Scorsese</td>\n",
       "    </tr>\n",
       "    <tr>\n",
       "      <th>18</th>\n",
       "      <td>Barry Levinson</td>\n",
       "      <td>Gore Verbinski</td>\n",
       "      <td>James Wan</td>\n",
       "      <td>Joe Johnston</td>\n",
       "      <td>Zack Snyder</td>\n",
       "    </tr>\n",
       "    <tr>\n",
       "      <th>19</th>\n",
       "      <td>Richard Linklater</td>\n",
       "      <td>James Wan</td>\n",
       "      <td>George Lucas</td>\n",
       "      <td>Francis Lawrence</td>\n",
       "      <td>Jon Favreau</td>\n",
       "    </tr>\n",
       "    <tr>\n",
       "      <th>20</th>\n",
       "      <td>Joel Coen</td>\n",
       "      <td>Jake Kasdan</td>\n",
       "      <td>Chris Columbus</td>\n",
       "      <td>Justin Lin</td>\n",
       "      <td>Brett Ratner</td>\n",
       "    </tr>\n",
       "  </tbody>\n",
       "</table>\n",
       "</div>"
      ],
      "text/plain": [
       "     By Number of Movies By Average Revenue   By Total Revenue  \\\n",
       "1       Steven Spielberg          Joe Russo   Steven Spielberg   \n",
       "2         Clint Eastwood      Anthony Russo      James Cameron   \n",
       "3            Woody Allen      James Cameron          Joe Russo   \n",
       "4        Martin Scorsese        David Yates      Anthony Russo   \n",
       "5           Ridley Scott       George Lucas        David Yates   \n",
       "6      Steven Soderbergh       Chris Renaud        Michael Bay   \n",
       "7             Ron Howard      Peter Jackson      Peter Jackson   \n",
       "8             Tim Burton          Brad Bird  Christopher Nolan   \n",
       "9       Robert Rodriguez        Jon Favreau        Jon Favreau   \n",
       "10             Spike Lee    Carlos Saldanha       Ridley Scott   \n",
       "11       Robert Zemeckis        Tom McGrath          Sam Raimi   \n",
       "12           Tyler Perry        Michael Bay    Robert Zemeckis   \n",
       "13       Joel Schumacher       Eric Darnell         Tim Burton   \n",
       "14          Renny Harlin   Francis Lawrence    Roland Emmerich   \n",
       "15          Oliver Stone  Christopher Nolan         Ron Howard   \n",
       "16            Rob Reiner        Zack Snyder       Bryan Singer   \n",
       "17  Francis Ford Coppola       Bryan Singer     Gore Verbinski   \n",
       "18        Barry Levinson     Gore Verbinski          James Wan   \n",
       "19     Richard Linklater          James Wan       George Lucas   \n",
       "20             Joel Coen        Jake Kasdan     Chris Columbus   \n",
       "\n",
       "    By Average Budget    By Total Budget  \n",
       "1           Joe Russo   Steven Spielberg  \n",
       "2       Anthony Russo       Ridley Scott  \n",
       "3         David Yates        Michael Bay  \n",
       "4         Zack Snyder         Ron Howard  \n",
       "5       James Cameron        David Yates  \n",
       "6           Brad Bird    Roland Emmerich  \n",
       "7       Peter Jackson          Joe Russo  \n",
       "8         Jon Favreau      Anthony Russo  \n",
       "9      Gore Verbinski  Christopher Nolan  \n",
       "10        Michael Bay         Tim Burton  \n",
       "11       Bryan Singer    Robert Zemeckis  \n",
       "12       Rob Marshall      Peter Jackson  \n",
       "13  Christopher Nolan      James Cameron  \n",
       "14         James Gunn     Gore Verbinski  \n",
       "15    Roland Emmerich       Bryan Singer  \n",
       "16        Tom McGrath          Sam Raimi  \n",
       "17       Eric Darnell    Martin Scorsese  \n",
       "18       Joe Johnston        Zack Snyder  \n",
       "19   Francis Lawrence        Jon Favreau  \n",
       "20         Justin Lin       Brett Ratner  "
      ]
     },
     "execution_count": 428,
     "metadata": {},
     "output_type": "execute_result"
    }
   ],
   "source": [
    "d = pd.DataFrame({\"By Number of Movies\": top20_num,\n",
    "                  \"By Average Revenue\": top20_ave_rev, \n",
    "                  \"By Total Revenue\": top20_tot_rev,\n",
    "                 \"By Average Budget\": top20_ave_bud,\n",
    "                 \"By Total Budget\": top20_tot_bud})\n",
    "d.index += 1 \n",
    "print(\"Top 20 Directors in the world\")\n",
    "d"
   ]
  },
  {
   "cell_type": "code",
   "execution_count": 429,
   "id": "fed1d69d-2ac1-41b4-b8fe-28d9c6e57549",
   "metadata": {},
   "outputs": [
    {
     "name": "stdout",
     "output_type": "stream",
     "text": [
      "We have  48  stars\n"
     ]
    }
   ],
   "source": [
    "starlist = top20_num.tolist() + top20_ave_rev.tolist() + \\\n",
    "    top20_tot_rev.tolist() + top20_ave_bud.tolist() + top20_tot_bud.tolist()\n",
    "starlist = list(set(starlist))\n",
    "print(\"We have \", len(starlist), \" stars\")"
   ]
  },
  {
   "cell_type": "code",
   "execution_count": 430,
   "id": "ac297523-3941-421d-bce7-938e35754ac2",
   "metadata": {},
   "outputs": [],
   "source": [
    "dataset['has_star_director'] = False\n",
    "for index, row in dataset.iterrows():\n",
    "    lead = row['Director']\n",
    "    if lead != []:\n",
    "        for name in lead:\n",
    "            if name in starlist:\n",
    "                dataset.at[index, 'has_star_director'] = True\n",
    "                break"
   ]
  },
  {
   "cell_type": "code",
   "execution_count": 431,
   "id": "ed140dd0-011b-4ca2-857e-c5022ac35a36",
   "metadata": {},
   "outputs": [],
   "source": [
    "Y = dataset.loc[dataset['has_star_director']]['hit'].value_counts()/len(dataset.loc[dataset['has_star_director']])\n",
    "N = dataset.loc[dataset['has_star_director'] == False]['hit'].value_counts()/len(dataset.loc[dataset['has_star_director'] == False])"
   ]
  },
  {
   "cell_type": "code",
   "execution_count": 432,
   "id": "167af0b0-1baf-45e3-86f6-e210cd2ef5f5",
   "metadata": {},
   "outputs": [
    {
     "data": {
      "text/html": [
       "<div>\n",
       "<style scoped>\n",
       "    .dataframe tbody tr th:only-of-type {\n",
       "        vertical-align: middle;\n",
       "    }\n",
       "\n",
       "    .dataframe tbody tr th {\n",
       "        vertical-align: top;\n",
       "    }\n",
       "\n",
       "    .dataframe thead th {\n",
       "        text-align: right;\n",
       "    }\n",
       "</style>\n",
       "<table border=\"1\" class=\"dataframe\">\n",
       "  <thead>\n",
       "    <tr style=\"text-align: right;\">\n",
       "      <th></th>\n",
       "      <th>Has Star</th>\n",
       "      <th>No Star</th>\n",
       "    </tr>\n",
       "  </thead>\n",
       "  <tbody>\n",
       "    <tr>\n",
       "      <th>Loss</th>\n",
       "      <td>0.20</td>\n",
       "      <td>0.35</td>\n",
       "    </tr>\n",
       "    <tr>\n",
       "      <th>Below average</th>\n",
       "      <td>0.18</td>\n",
       "      <td>0.20</td>\n",
       "    </tr>\n",
       "    <tr>\n",
       "      <th>Above average</th>\n",
       "      <td>0.31</td>\n",
       "      <td>0.23</td>\n",
       "    </tr>\n",
       "    <tr>\n",
       "      <th>Hits</th>\n",
       "      <td>0.24</td>\n",
       "      <td>0.16</td>\n",
       "    </tr>\n",
       "    <tr>\n",
       "      <th>Super hits</th>\n",
       "      <td>0.07</td>\n",
       "      <td>0.06</td>\n",
       "    </tr>\n",
       "  </tbody>\n",
       "</table>\n",
       "</div>"
      ],
      "text/plain": [
       "               Has Star  No Star\n",
       "Loss               0.20     0.35\n",
       "Below average      0.18     0.20\n",
       "Above average      0.31     0.23\n",
       "Hits               0.24     0.16\n",
       "Super hits         0.07     0.06"
      ]
     },
     "execution_count": 432,
     "metadata": {},
     "output_type": "execute_result"
    }
   ],
   "source": [
    "t = pd.concat([Y, N], axis = 1)\n",
    "t.columns = [\"Has Star\", \"No Star\"]\n",
    "t.loc[['Loss', 'Below average', 'Above average', 'Hits', 'Super hits']]"
   ]
  },
  {
   "cell_type": "markdown",
   "id": "e36bc72b-ed37-4a8b-b292-8213e3556f1b",
   "metadata": {
    "tags": []
   },
   "source": [
    "### Comment:\n",
    "A good director absolutely helps!!!"
   ]
  },
  {
   "cell_type": "code",
   "execution_count": null,
   "id": "6598fdad-a02f-4c8e-a823-99e99c1f33cb",
   "metadata": {},
   "outputs": [],
   "source": []
  },
  {
   "cell_type": "markdown",
   "id": "0a7326e9-1f87-469f-90a1-a95beea0eecb",
   "metadata": {},
   "source": [
    "### Things to do:\n",
    "\n",
    "**Make better decisions on how to classify someone as a star (both actors/directors), finish the analysis**\n",
    "\n",
    "**Figure out how to deal with years, looking for trend**\n",
    "\n",
    "Tune model, feature selection\n",
    "\n"
   ]
  },
  {
   "cell_type": "markdown",
   "id": "8e0ba305-f5c5-4721-9a71-fde1e7753638",
   "metadata": {},
   "source": [
    "### Something I am considering exploring\n",
    "It seems kind of normal if ROI is transformed logrithmically. But this will be basically the same as dividing them into categories"
   ]
  },
  {
   "cell_type": "code",
   "execution_count": 224,
   "id": "69db6797-b16c-42b1-91ec-b710e8eda423",
   "metadata": {},
   "outputs": [
    {
     "data": {
      "image/png": "[encoded data removed]",
      "text/plain": [
       "<Figure size 640x480 with 1 Axes>"
      ]
     },
     "metadata": {},
     "output_type": "display_data"
    }
   ],
   "source": [
    "plt.hist(np.log(dataset['ROI'] + 100), bins = 50)\n",
    "plt.show()"
   ]
  },
  {
   "cell_type": "markdown",
   "id": "35a32dcf-e37e-41b3-84ae-238c10308d1a",
   "metadata": {},
   "source": [
    "### Something with years?"
   ]
  },
  {
   "cell_type": "code",
   "execution_count": 240,
   "id": "d2916703-ef21-4e92-892a-947e04653ce6",
   "metadata": {},
   "outputs": [
    {
     "data": {
      "image/png": "[encoded data removed]",
      "text/plain": [
       "<Figure size 640x480 with 1 Axes>"
      ]
     },
     "metadata": {},
     "output_type": "display_data"
    }
   ],
   "source": [
    "plt.hist(d['Year'], bins = 100)\n",
    "plt.show()"
   ]
  },
  {
   "cell_type": "markdown",
   "id": "c26f3412-2a7a-4c88-896e-9a8740d8fc1c",
   "metadata": {
    "tags": []
   },
   "source": [
    "## Bibliography"
   ]
  },
  {
   "cell_type": "markdown",
   "id": "a903e9f3-54b5-41e3-b62e-1f4f0cf3db6f",
   "metadata": {
    "tags": []
   },
   "source": [
    "Banik, Rounak. “The Movies Dataset.” Kaggle, ROUNAK BANIK, 10 Nov. 2017, https://www.kaggle.com/datasets/rounakbanik/the-movies-dataset?select=movies_metadata.csv. "
   ]
  },
  {
   "cell_type": "markdown",
   "id": "d530032f-6ea3-4254-8e59-bc115b8e1e38",
   "metadata": {},
   "source": [
    "De Vany, Arthur, and W. David Walls. “Uncertainty in the Movie Industry: Does Star Power Reduce the Terror of the Box Office?” Journal of Cultural Economics, vol. 23, no. 4, Nov. 1999, pp. 285–318., https://doi.org/10.1023/a:1007608125988. "
   ]
  },
  {
   "cell_type": "markdown",
   "id": "e9b4581c-53a1-4122-b4ff-3bd847d48d9b",
   "metadata": {},
   "source": [
    "De Vany, Arthur, and W. David Walls. “Bose-Einstein Dynamics and Adaptive Contracting in the Motion Picture Industry.” The Economic Journal, vol. 106, no. 439, 1996, pp. 1493–514. JSTOR, https://doi.org/10.2307/2235197. Accessed 6 Mar. 2023."
   ]
  },
  {
   "cell_type": "markdown",
   "id": "7c4a9bb4-0ca3-4e2a-baad-ad5a6f79f781",
   "metadata": {},
   "source": [
    "Walls, W. David. “Modeling Movie Success When 'Nobody Knows Anything': Conditional Stable-Distribution Analysis of Film Returns - Journal of Cultural Economics.” SpringerLink, Kluwer Academic Publishers, https://link.springer.com/article/10.1007/s10824-005-1156-5. "
   ]
  },
  {
   "cell_type": "markdown",
   "id": "5063b26f-5e54-4daf-a198-4c81aef09f94",
   "metadata": {},
   "source": [
    "### Github link\n",
    "https://github.com/kongwei981126/Movie-Industry/tree/Wei"
   ]
  }
 ],
 "metadata": {
  "kernelspec": {
   "display_name": "Python 3 (ipykernel)",
   "language": "python",
   "name": "python3"
  },
  "language_info": {
   "codemirror_mode": {
    "name": "ipython",
    "version": 3
   },
   "file_extension": ".py",
   "mimetype": "text/x-python",
   "name": "python",
   "nbconvert_exporter": "python",
   "pygments_lexer": "ipython3",
   "version": "3.9.13"
  }
 },
 "nbformat": 4,
 "nbformat_minor": 5
}
