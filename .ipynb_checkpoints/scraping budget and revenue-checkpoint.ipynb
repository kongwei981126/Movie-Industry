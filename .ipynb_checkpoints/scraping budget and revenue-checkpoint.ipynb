{
 "cells": [
  {
   "cell_type": "code",
   "execution_count": 13,
   "id": "fbfa133e-5d17-4851-83c9-bad5fcab1736",
   "metadata": {},
   "outputs": [],
   "source": [
    "# import libs\n",
    "import urllib\n",
    "import numpy as np\n",
    "import re\n",
    "import pandas as pd"
   ]
  },
  {
   "cell_type": "code",
   "execution_count": 2,
   "id": "0d032029-ba04-413a-9154-2db12433e5fb",
   "metadata": {},
   "outputs": [],
   "source": [
    "# sudo code:\n",
    "# for each page:\n",
    "#   take portion between <table> tags\n",
    "#   get number, name, three numbers \n",
    "#   make table\n",
    "#   Append to the full table"
   ]
  },
  {
   "cell_type": "code",
   "execution_count": 112,
   "id": "1d3ac1d6-4f09-42db-92ea-56ab280e3b53",
   "metadata": {},
   "outputs": [],
   "source": [
    "# regexs for getting data\n",
    "regex_number = r\"(?:<td class=\\\"data\\\">)([,\\d]+)(?:</td>)\"\n",
    "regex_moviename = r\"(?:tab=summary\\\">)(.+)(?:<\\/a>)\"\n",
    "regex_data = r\"(?:data\\\">&nbsp;\\$)(.+)(?:</td>)\""
   ]
  },
  {
   "cell_type": "code",
   "execution_count": 117,
   "id": "f5da7e4d-3e6b-4a57-8d82-813bae112965",
   "metadata": {},
   "outputs": [],
   "source": [
    "# index of pages:  the last being 6301\n",
    "page_index = np.linspace(1, 6301, num = 64).astype(int)\n",
    "\n",
    "# storing data\n",
    "dataset = pd.DataFrame(columns = ['number', 'moviename', 'Budget', 'Domestic', 'Worldwide'])\n",
    "for index in page_index:\n",
    "    # create url\n",
    "    url = \"https://www.the-numbers.com/movie/budgets/all/\" + str(index)\n",
    "    # open page\n",
    "    page = urllib.request.Request(url, headers={'User-Agent' : \"Magic Browser\"})\n",
    "    page = urllib.request.urlopen(page)\n",
    "    # read page\n",
    "    html_bytes = page.read()\n",
    "    html = html_bytes.decode(\"utf-8\")\n",
    "    \n",
    "    # get the part between the table tags\n",
    "    start_index = html.find(\"<table\")\n",
    "    end_index = html.find(\"</table\")\n",
    "    html = html[start_index:end_index]\n",
    "    \n",
    "    number = re.findall(regex_number, html)\n",
    "    moviename = re.findall(regex_moviename, html)\n",
    "    data = re.findall(regex_data, html)\n",
    "    \n",
    "    # create dataframe\n",
    "    df1 = pd.DataFrame(list(zip(number, moviename)), columns =['number', 'moviename'])\n",
    "    df2 = pd.DataFrame(columns = ['Budget', 'Domestic', 'Worldwide'])\n",
    "    while len(data) > 0:\n",
    "        df2.loc[len(df2)] = data[0:3]\n",
    "        data = data[3:]\n",
    "    df_c = pd.concat([df1.reset_index(drop=True), df2.reset_index(drop=True)], axis=1)\n",
    "    dataset = pd.concat([dataset, df_c])"
   ]
  },
  {
   "cell_type": "code",
   "execution_count": 120,
   "id": "8f9a70d7-34c0-4e71-a8df-57e18a82a825",
   "metadata": {},
   "outputs": [],
   "source": [
    "dataset.to_csv('Numbers.csv', index = False)"
   ]
  }
 ],
 "metadata": {
  "kernelspec": {
   "display_name": "Python 3 (ipykernel)",
   "language": "python",
   "name": "python3"
  },
  "language_info": {
   "codemirror_mode": {
    "name": "ipython",
    "version": 3
   },
   "file_extension": ".py",
   "mimetype": "text/x-python",
   "name": "python",
   "nbconvert_exporter": "python",
   "pygments_lexer": "ipython3",
   "version": "3.9.13"
  }
 },
 "nbformat": 4,
 "nbformat_minor": 5
}
