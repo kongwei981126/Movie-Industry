{
 "cells": [
  {
   "cell_type": "code",
   "execution_count": 485,
   "id": "6acfee9a-b518-4a58-972f-bec39470b630",
   "metadata": {},
   "outputs": [],
   "source": [
    "# import libs\n",
    "import urllib\n",
    "import numpy as np\n",
    "import re\n",
    "import pandas as pd\n",
    "import warnings\n",
    "\n",
    "from tqdm import tqdm\n",
    "\n",
    "pd.set_option('display.max_columns', None)\n",
    "pd.set_option(\"display.max_rows\", None)"
   ]
  },
  {
   "cell_type": "code",
   "execution_count": 103,
   "id": "576e6b21-8249-4d46-b4a1-db0c69c2fba0",
   "metadata": {},
   "outputs": [],
   "source": [
    "reg_1 = r\"(?:<td><b>)(.+?)(?:<\\/b>.+?)([\\d,]+?)(?:<)\"\n",
    "reg_2 = r\"(?:<b>)([^=]+?)(?:\\:<\\/b>.+?>)(.+?)(?:<\\/td>)\"\n",
    "reg_3 = r\"(?:cast_new.+?<h1>)(.+?)(?:</h1>.+?)(.+?)(?:</div>)\""
   ]
  },
  {
   "cell_type": "code",
   "execution_count": 121,
   "id": "7165758d-ab0f-41a2-b9c3-555af5323da4",
   "metadata": {},
   "outputs": [],
   "source": [
    "save = pd.read_csv('name_and_links.csv')"
   ]
  },
  {
   "cell_type": "code",
   "execution_count": 139,
   "id": "0a84d9e5-43b2-40d2-beb5-b18f9e1a6267",
   "metadata": {},
   "outputs": [],
   "source": [
    "def extract(link, name):\n",
    "    tempurl = \"https://www.the-numbers.com/movie/\" + link\n",
    "    page = urllib.request.Request(tempurl, headers={'User-Agent' : \"Magic Browser\"})\n",
    "    page = urllib.request.urlopen(page)\n",
    "    # read page\n",
    "    html_bytes = page.read()\n",
    "    html = html_bytes.decode(\"utf-8\")\n",
    "\n",
    "    # subset\n",
    "    start_index = html.find('\\\"main\\\"')\n",
    "    end_index = html.find('Further financial d')\n",
    "    financial = html[start_index:end_index]\n",
    "    \n",
    "    start_index = html.find('Movie Details')\n",
    "    end_index = html.find('cast-and-crew')\n",
    "    detail = html[start_index:end_index]\n",
    "    \n",
    "    start_index = html.find('cast-and-crew\\\"')\n",
    "    end_index = html.find('id=\\\"news\\\"')\n",
    "    cast = html[start_index:end_index]\n",
    "    \n",
    "    p_financial = re.findall(reg_1, financial.replace(\"\\n\", \"\"), re.MULTILINE)\n",
    "    p_detail = re.findall(reg_2, detail.replace(\"\\n\", \"\"), re.MULTILINE)\n",
    "    p_cast = re.findall(reg_3, cast.replace(\"\\n\", \"\"), re.MULTILINE)\n",
    "    p = [(\"link\", link), (\"name\", name)] + p_financial + p_detail + p_cast\n",
    "    \n",
    "    temp = pd.DataFrame(p, columns=('key', name))\n",
    "    \n",
    "    return temp"
   ]
  },
  {
   "cell_type": "code",
   "execution_count": 207,
   "id": "acc820cf-3be7-4723-a822-5fde6987da34",
   "metadata": {},
   "outputs": [],
   "source": [
    "df = save[1:10]"
   ]
  },
  {
   "cell_type": "code",
   "execution_count": 200,
   "id": "7060360d-4939-46bc-8336-f168422330bd",
   "metadata": {
    "collapsed": true,
    "jupyter": {
     "outputs_hidden": true
    },
    "tags": []
   },
   "outputs": [
    {
     "name": "stderr",
     "output_type": "stream",
     "text": [
      "  0%|          | 0/99 [00:00<?, ?it/s]C:\\Users\\kongw\\AppData\\Local\\Temp\\ipykernel_29100\\478875361.py:10: PerformanceWarning: DataFrame is highly fragmented.  This is usually the result of calling `frame.insert` many times, which has poor performance.  Consider joining all columns at once using pd.concat(axis=1) instead. To get a de-fragmented frame, use `newframe = frame.copy()`\n",
      "  raw['key'] = raw.axes[0].tolist()\n",
      "  1%|          | 1/99 [00:02<03:31,  2.16s/it]C:\\Users\\kongw\\AppData\\Local\\Temp\\ipykernel_29100\\478875361.py:10: PerformanceWarning: DataFrame is highly fragmented.  This is usually the result of calling `frame.insert` many times, which has poor performance.  Consider joining all columns at once using pd.concat(axis=1) instead. To get a de-fragmented frame, use `newframe = frame.copy()`\n",
      "  raw['key'] = raw.axes[0].tolist()\n",
      "  2%|▏         | 2/99 [00:03<03:07,  1.93s/it]C:\\Users\\kongw\\AppData\\Local\\Temp\\ipykernel_29100\\478875361.py:10: PerformanceWarning: DataFrame is highly fragmented.  This is usually the result of calling `frame.insert` many times, which has poor performance.  Consider joining all columns at once using pd.concat(axis=1) instead. To get a de-fragmented frame, use `newframe = frame.copy()`\n",
      "  raw['key'] = raw.axes[0].tolist()\n",
      "  3%|▎         | 3/99 [00:06<03:25,  2.14s/it]C:\\Users\\kongw\\AppData\\Local\\Temp\\ipykernel_29100\\478875361.py:10: PerformanceWarning: DataFrame is highly fragmented.  This is usually the result of calling `frame.insert` many times, which has poor performance.  Consider joining all columns at once using pd.concat(axis=1) instead. To get a de-fragmented frame, use `newframe = frame.copy()`\n",
      "  raw['key'] = raw.axes[0].tolist()\n",
      "  4%|▍         | 4/99 [00:06<02:26,  1.54s/it]C:\\Users\\kongw\\AppData\\Local\\Temp\\ipykernel_29100\\478875361.py:10: PerformanceWarning: DataFrame is highly fragmented.  This is usually the result of calling `frame.insert` many times, which has poor performance.  Consider joining all columns at once using pd.concat(axis=1) instead. To get a de-fragmented frame, use `newframe = frame.copy()`\n",
      "  raw['key'] = raw.axes[0].tolist()\n",
      "  5%|▌         | 5/99 [00:08<02:26,  1.55s/it]C:\\Users\\kongw\\AppData\\Local\\Temp\\ipykernel_29100\\478875361.py:10: PerformanceWarning: DataFrame is highly fragmented.  This is usually the result of calling `frame.insert` many times, which has poor performance.  Consider joining all columns at once using pd.concat(axis=1) instead. To get a de-fragmented frame, use `newframe = frame.copy()`\n",
      "  raw['key'] = raw.axes[0].tolist()\n",
      "  6%|▌         | 6/99 [00:10<02:45,  1.77s/it]C:\\Users\\kongw\\AppData\\Local\\Temp\\ipykernel_29100\\478875361.py:10: PerformanceWarning: DataFrame is highly fragmented.  This is usually the result of calling `frame.insert` many times, which has poor performance.  Consider joining all columns at once using pd.concat(axis=1) instead. To get a de-fragmented frame, use `newframe = frame.copy()`\n",
      "  raw['key'] = raw.axes[0].tolist()\n",
      "  7%|▋         | 7/99 [00:13<03:20,  2.18s/it]C:\\Users\\kongw\\AppData\\Local\\Temp\\ipykernel_29100\\478875361.py:10: PerformanceWarning: DataFrame is highly fragmented.  This is usually the result of calling `frame.insert` many times, which has poor performance.  Consider joining all columns at once using pd.concat(axis=1) instead. To get a de-fragmented frame, use `newframe = frame.copy()`\n",
      "  raw['key'] = raw.axes[0].tolist()\n",
      "  8%|▊         | 8/99 [00:14<02:45,  1.82s/it]C:\\Users\\kongw\\AppData\\Local\\Temp\\ipykernel_29100\\478875361.py:10: PerformanceWarning: DataFrame is highly fragmented.  This is usually the result of calling `frame.insert` many times, which has poor performance.  Consider joining all columns at once using pd.concat(axis=1) instead. To get a de-fragmented frame, use `newframe = frame.copy()`\n",
      "  raw['key'] = raw.axes[0].tolist()\n",
      "  9%|▉         | 9/99 [00:17<02:59,  2.00s/it]C:\\Users\\kongw\\AppData\\Local\\Temp\\ipykernel_29100\\478875361.py:10: PerformanceWarning: DataFrame is highly fragmented.  This is usually the result of calling `frame.insert` many times, which has poor performance.  Consider joining all columns at once using pd.concat(axis=1) instead. To get a de-fragmented frame, use `newframe = frame.copy()`\n",
      "  raw['key'] = raw.axes[0].tolist()\n",
      " 10%|█         | 10/99 [00:17<02:23,  1.61s/it]C:\\Users\\kongw\\AppData\\Local\\Temp\\ipykernel_29100\\478875361.py:10: PerformanceWarning: DataFrame is highly fragmented.  This is usually the result of calling `frame.insert` many times, which has poor performance.  Consider joining all columns at once using pd.concat(axis=1) instead. To get a de-fragmented frame, use `newframe = frame.copy()`\n",
      "  raw['key'] = raw.axes[0].tolist()\n",
      " 11%|█         | 11/99 [00:19<02:14,  1.53s/it]C:\\Users\\kongw\\AppData\\Local\\Temp\\ipykernel_29100\\478875361.py:10: PerformanceWarning: DataFrame is highly fragmented.  This is usually the result of calling `frame.insert` many times, which has poor performance.  Consider joining all columns at once using pd.concat(axis=1) instead. To get a de-fragmented frame, use `newframe = frame.copy()`\n",
      "  raw['key'] = raw.axes[0].tolist()\n",
      " 12%|█▏        | 12/99 [00:20<02:03,  1.42s/it]C:\\Users\\kongw\\AppData\\Local\\Temp\\ipykernel_29100\\478875361.py:10: PerformanceWarning: DataFrame is highly fragmented.  This is usually the result of calling `frame.insert` many times, which has poor performance.  Consider joining all columns at once using pd.concat(axis=1) instead. To get a de-fragmented frame, use `newframe = frame.copy()`\n",
      "  raw['key'] = raw.axes[0].tolist()\n",
      " 13%|█▎        | 13/99 [00:23<02:32,  1.78s/it]C:\\Users\\kongw\\AppData\\Local\\Temp\\ipykernel_29100\\478875361.py:10: PerformanceWarning: DataFrame is highly fragmented.  This is usually the result of calling `frame.insert` many times, which has poor performance.  Consider joining all columns at once using pd.concat(axis=1) instead. To get a de-fragmented frame, use `newframe = frame.copy()`\n",
      "  raw['key'] = raw.axes[0].tolist()\n",
      " 14%|█▍        | 14/99 [00:25<02:52,  2.03s/it]C:\\Users\\kongw\\AppData\\Local\\Temp\\ipykernel_29100\\478875361.py:10: PerformanceWarning: DataFrame is highly fragmented.  This is usually the result of calling `frame.insert` many times, which has poor performance.  Consider joining all columns at once using pd.concat(axis=1) instead. To get a de-fragmented frame, use `newframe = frame.copy()`\n",
      "  raw['key'] = raw.axes[0].tolist()\n",
      " 15%|█▌        | 15/99 [00:27<02:41,  1.92s/it]C:\\Users\\kongw\\AppData\\Local\\Temp\\ipykernel_29100\\478875361.py:10: PerformanceWarning: DataFrame is highly fragmented.  This is usually the result of calling `frame.insert` many times, which has poor performance.  Consider joining all columns at once using pd.concat(axis=1) instead. To get a de-fragmented frame, use `newframe = frame.copy()`\n",
      "  raw['key'] = raw.axes[0].tolist()\n",
      " 16%|█▌        | 16/99 [00:28<02:25,  1.76s/it]C:\\Users\\kongw\\AppData\\Local\\Temp\\ipykernel_29100\\478875361.py:10: PerformanceWarning: DataFrame is highly fragmented.  This is usually the result of calling `frame.insert` many times, which has poor performance.  Consider joining all columns at once using pd.concat(axis=1) instead. To get a de-fragmented frame, use `newframe = frame.copy()`\n",
      "  raw['key'] = raw.axes[0].tolist()\n",
      " 17%|█▋        | 17/99 [00:32<03:23,  2.48s/it]C:\\Users\\kongw\\AppData\\Local\\Temp\\ipykernel_29100\\478875361.py:10: PerformanceWarning: DataFrame is highly fragmented.  This is usually the result of calling `frame.insert` many times, which has poor performance.  Consider joining all columns at once using pd.concat(axis=1) instead. To get a de-fragmented frame, use `newframe = frame.copy()`\n",
      "  raw['key'] = raw.axes[0].tolist()\n",
      " 18%|█▊        | 18/99 [00:33<02:46,  2.05s/it]C:\\Users\\kongw\\AppData\\Local\\Temp\\ipykernel_29100\\478875361.py:10: PerformanceWarning: DataFrame is highly fragmented.  This is usually the result of calling `frame.insert` many times, which has poor performance.  Consider joining all columns at once using pd.concat(axis=1) instead. To get a de-fragmented frame, use `newframe = frame.copy()`\n",
      "  raw['key'] = raw.axes[0].tolist()\n",
      " 19%|█▉        | 19/99 [00:35<02:22,  1.78s/it]C:\\Users\\kongw\\AppData\\Local\\Temp\\ipykernel_29100\\478875361.py:10: PerformanceWarning: DataFrame is highly fragmented.  This is usually the result of calling `frame.insert` many times, which has poor performance.  Consider joining all columns at once using pd.concat(axis=1) instead. To get a de-fragmented frame, use `newframe = frame.copy()`\n",
      "  raw['key'] = raw.axes[0].tolist()\n",
      " 20%|██        | 20/99 [00:36<02:15,  1.71s/it]C:\\Users\\kongw\\AppData\\Local\\Temp\\ipykernel_29100\\478875361.py:10: PerformanceWarning: DataFrame is highly fragmented.  This is usually the result of calling `frame.insert` many times, which has poor performance.  Consider joining all columns at once using pd.concat(axis=1) instead. To get a de-fragmented frame, use `newframe = frame.copy()`\n",
      "  raw['key'] = raw.axes[0].tolist()\n",
      " 21%|██        | 21/99 [00:37<02:05,  1.61s/it]C:\\Users\\kongw\\AppData\\Local\\Temp\\ipykernel_29100\\478875361.py:10: PerformanceWarning: DataFrame is highly fragmented.  This is usually the result of calling `frame.insert` many times, which has poor performance.  Consider joining all columns at once using pd.concat(axis=1) instead. To get a de-fragmented frame, use `newframe = frame.copy()`\n",
      "  raw['key'] = raw.axes[0].tolist()\n",
      " 22%|██▏       | 22/99 [00:40<02:31,  1.97s/it]C:\\Users\\kongw\\AppData\\Local\\Temp\\ipykernel_29100\\478875361.py:10: PerformanceWarning: DataFrame is highly fragmented.  This is usually the result of calling `frame.insert` many times, which has poor performance.  Consider joining all columns at once using pd.concat(axis=1) instead. To get a de-fragmented frame, use `newframe = frame.copy()`\n",
      "  raw['key'] = raw.axes[0].tolist()\n",
      " 23%|██▎       | 23/99 [00:42<02:20,  1.85s/it]C:\\Users\\kongw\\AppData\\Local\\Temp\\ipykernel_29100\\478875361.py:10: PerformanceWarning: DataFrame is highly fragmented.  This is usually the result of calling `frame.insert` many times, which has poor performance.  Consider joining all columns at once using pd.concat(axis=1) instead. To get a de-fragmented frame, use `newframe = frame.copy()`\n",
      "  raw['key'] = raw.axes[0].tolist()\n",
      " 24%|██▍       | 24/99 [00:43<02:12,  1.77s/it]C:\\Users\\kongw\\AppData\\Local\\Temp\\ipykernel_29100\\478875361.py:10: PerformanceWarning: DataFrame is highly fragmented.  This is usually the result of calling `frame.insert` many times, which has poor performance.  Consider joining all columns at once using pd.concat(axis=1) instead. To get a de-fragmented frame, use `newframe = frame.copy()`\n",
      "  raw['key'] = raw.axes[0].tolist()\n",
      " 25%|██▌       | 25/99 [00:44<01:54,  1.55s/it]C:\\Users\\kongw\\AppData\\Local\\Temp\\ipykernel_29100\\478875361.py:10: PerformanceWarning: DataFrame is highly fragmented.  This is usually the result of calling `frame.insert` many times, which has poor performance.  Consider joining all columns at once using pd.concat(axis=1) instead. To get a de-fragmented frame, use `newframe = frame.copy()`\n",
      "  raw['key'] = raw.axes[0].tolist()\n",
      " 26%|██▋       | 26/99 [00:46<02:02,  1.68s/it]C:\\Users\\kongw\\AppData\\Local\\Temp\\ipykernel_29100\\478875361.py:10: PerformanceWarning: DataFrame is highly fragmented.  This is usually the result of calling `frame.insert` many times, which has poor performance.  Consider joining all columns at once using pd.concat(axis=1) instead. To get a de-fragmented frame, use `newframe = frame.copy()`\n",
      "  raw['key'] = raw.axes[0].tolist()\n",
      " 27%|██▋       | 27/99 [00:51<02:56,  2.46s/it]C:\\Users\\kongw\\AppData\\Local\\Temp\\ipykernel_29100\\478875361.py:10: PerformanceWarning: DataFrame is highly fragmented.  This is usually the result of calling `frame.insert` many times, which has poor performance.  Consider joining all columns at once using pd.concat(axis=1) instead. To get a de-fragmented frame, use `newframe = frame.copy()`\n",
      "  raw['key'] = raw.axes[0].tolist()\n",
      " 28%|██▊       | 28/99 [00:52<02:28,  2.10s/it]C:\\Users\\kongw\\AppData\\Local\\Temp\\ipykernel_29100\\478875361.py:10: PerformanceWarning: DataFrame is highly fragmented.  This is usually the result of calling `frame.insert` many times, which has poor performance.  Consider joining all columns at once using pd.concat(axis=1) instead. To get a de-fragmented frame, use `newframe = frame.copy()`\n",
      "  raw['key'] = raw.axes[0].tolist()\n",
      " 29%|██▉       | 29/99 [00:53<02:11,  1.88s/it]C:\\Users\\kongw\\AppData\\Local\\Temp\\ipykernel_29100\\478875361.py:10: PerformanceWarning: DataFrame is highly fragmented.  This is usually the result of calling `frame.insert` many times, which has poor performance.  Consider joining all columns at once using pd.concat(axis=1) instead. To get a de-fragmented frame, use `newframe = frame.copy()`\n",
      "  raw['key'] = raw.axes[0].tolist()\n",
      " 30%|███       | 30/99 [00:59<03:31,  3.07s/it]C:\\Users\\kongw\\AppData\\Local\\Temp\\ipykernel_29100\\478875361.py:10: PerformanceWarning: DataFrame is highly fragmented.  This is usually the result of calling `frame.insert` many times, which has poor performance.  Consider joining all columns at once using pd.concat(axis=1) instead. To get a de-fragmented frame, use `newframe = frame.copy()`\n",
      "  raw['key'] = raw.axes[0].tolist()\n",
      " 31%|███▏      | 31/99 [01:00<02:47,  2.46s/it]C:\\Users\\kongw\\AppData\\Local\\Temp\\ipykernel_29100\\478875361.py:10: PerformanceWarning: DataFrame is highly fragmented.  This is usually the result of calling `frame.insert` many times, which has poor performance.  Consider joining all columns at once using pd.concat(axis=1) instead. To get a de-fragmented frame, use `newframe = frame.copy()`\n",
      "  raw['key'] = raw.axes[0].tolist()\n",
      " 32%|███▏      | 32/99 [01:03<02:43,  2.44s/it]C:\\Users\\kongw\\AppData\\Local\\Temp\\ipykernel_29100\\478875361.py:10: PerformanceWarning: DataFrame is highly fragmented.  This is usually the result of calling `frame.insert` many times, which has poor performance.  Consider joining all columns at once using pd.concat(axis=1) instead. To get a de-fragmented frame, use `newframe = frame.copy()`\n",
      "  raw['key'] = raw.axes[0].tolist()\n",
      " 33%|███▎      | 33/99 [01:05<02:38,  2.40s/it]C:\\Users\\kongw\\AppData\\Local\\Temp\\ipykernel_29100\\478875361.py:10: PerformanceWarning: DataFrame is highly fragmented.  This is usually the result of calling `frame.insert` many times, which has poor performance.  Consider joining all columns at once using pd.concat(axis=1) instead. To get a de-fragmented frame, use `newframe = frame.copy()`\n",
      "  raw['key'] = raw.axes[0].tolist()\n",
      " 34%|███▍      | 34/99 [01:06<02:07,  1.97s/it]C:\\Users\\kongw\\AppData\\Local\\Temp\\ipykernel_29100\\478875361.py:10: PerformanceWarning: DataFrame is highly fragmented.  This is usually the result of calling `frame.insert` many times, which has poor performance.  Consider joining all columns at once using pd.concat(axis=1) instead. To get a de-fragmented frame, use `newframe = frame.copy()`\n",
      "  raw['key'] = raw.axes[0].tolist()\n",
      " 35%|███▌      | 35/99 [01:07<01:50,  1.72s/it]C:\\Users\\kongw\\AppData\\Local\\Temp\\ipykernel_29100\\478875361.py:10: PerformanceWarning: DataFrame is highly fragmented.  This is usually the result of calling `frame.insert` many times, which has poor performance.  Consider joining all columns at once using pd.concat(axis=1) instead. To get a de-fragmented frame, use `newframe = frame.copy()`\n",
      "  raw['key'] = raw.axes[0].tolist()\n",
      " 36%|███▋      | 36/99 [01:08<01:35,  1.52s/it]C:\\Users\\kongw\\AppData\\Local\\Temp\\ipykernel_29100\\478875361.py:10: PerformanceWarning: DataFrame is highly fragmented.  This is usually the result of calling `frame.insert` many times, which has poor performance.  Consider joining all columns at once using pd.concat(axis=1) instead. To get a de-fragmented frame, use `newframe = frame.copy()`\n",
      "  raw['key'] = raw.axes[0].tolist()\n",
      " 37%|███▋      | 37/99 [01:09<01:26,  1.40s/it]C:\\Users\\kongw\\AppData\\Local\\Temp\\ipykernel_29100\\478875361.py:10: PerformanceWarning: DataFrame is highly fragmented.  This is usually the result of calling `frame.insert` many times, which has poor performance.  Consider joining all columns at once using pd.concat(axis=1) instead. To get a de-fragmented frame, use `newframe = frame.copy()`\n",
      "  raw['key'] = raw.axes[0].tolist()\n",
      " 38%|███▊      | 38/99 [01:10<01:18,  1.29s/it]C:\\Users\\kongw\\AppData\\Local\\Temp\\ipykernel_29100\\478875361.py:10: PerformanceWarning: DataFrame is highly fragmented.  This is usually the result of calling `frame.insert` many times, which has poor performance.  Consider joining all columns at once using pd.concat(axis=1) instead. To get a de-fragmented frame, use `newframe = frame.copy()`\n",
      "  raw['key'] = raw.axes[0].tolist()\n",
      " 39%|███▉      | 39/99 [01:13<01:45,  1.76s/it]C:\\Users\\kongw\\AppData\\Local\\Temp\\ipykernel_29100\\478875361.py:10: PerformanceWarning: DataFrame is highly fragmented.  This is usually the result of calling `frame.insert` many times, which has poor performance.  Consider joining all columns at once using pd.concat(axis=1) instead. To get a de-fragmented frame, use `newframe = frame.copy()`\n",
      "  raw['key'] = raw.axes[0].tolist()\n",
      " 40%|████      | 40/99 [01:16<01:57,  1.98s/it]C:\\Users\\kongw\\AppData\\Local\\Temp\\ipykernel_29100\\478875361.py:10: PerformanceWarning: DataFrame is highly fragmented.  This is usually the result of calling `frame.insert` many times, which has poor performance.  Consider joining all columns at once using pd.concat(axis=1) instead. To get a de-fragmented frame, use `newframe = frame.copy()`\n",
      "  raw['key'] = raw.axes[0].tolist()\n",
      " 41%|████▏     | 41/99 [01:17<01:40,  1.73s/it]C:\\Users\\kongw\\AppData\\Local\\Temp\\ipykernel_29100\\478875361.py:10: PerformanceWarning: DataFrame is highly fragmented.  This is usually the result of calling `frame.insert` many times, which has poor performance.  Consider joining all columns at once using pd.concat(axis=1) instead. To get a de-fragmented frame, use `newframe = frame.copy()`\n",
      "  raw['key'] = raw.axes[0].tolist()\n",
      " 42%|████▏     | 42/99 [01:18<01:34,  1.65s/it]C:\\Users\\kongw\\AppData\\Local\\Temp\\ipykernel_29100\\478875361.py:10: PerformanceWarning: DataFrame is highly fragmented.  This is usually the result of calling `frame.insert` many times, which has poor performance.  Consider joining all columns at once using pd.concat(axis=1) instead. To get a de-fragmented frame, use `newframe = frame.copy()`\n",
      "  raw['key'] = raw.axes[0].tolist()\n",
      " 43%|████▎     | 43/99 [01:21<01:55,  2.07s/it]C:\\Users\\kongw\\AppData\\Local\\Temp\\ipykernel_29100\\478875361.py:10: PerformanceWarning: DataFrame is highly fragmented.  This is usually the result of calling `frame.insert` many times, which has poor performance.  Consider joining all columns at once using pd.concat(axis=1) instead. To get a de-fragmented frame, use `newframe = frame.copy()`\n",
      "  raw['key'] = raw.axes[0].tolist()\n",
      " 44%|████▍     | 44/99 [01:24<02:00,  2.20s/it]C:\\Users\\kongw\\AppData\\Local\\Temp\\ipykernel_29100\\478875361.py:10: PerformanceWarning: DataFrame is highly fragmented.  This is usually the result of calling `frame.insert` many times, which has poor performance.  Consider joining all columns at once using pd.concat(axis=1) instead. To get a de-fragmented frame, use `newframe = frame.copy()`\n",
      "  raw['key'] = raw.axes[0].tolist()\n",
      " 45%|████▌     | 45/99 [01:29<02:43,  3.04s/it]C:\\Users\\kongw\\AppData\\Local\\Temp\\ipykernel_29100\\478875361.py:10: PerformanceWarning: DataFrame is highly fragmented.  This is usually the result of calling `frame.insert` many times, which has poor performance.  Consider joining all columns at once using pd.concat(axis=1) instead. To get a de-fragmented frame, use `newframe = frame.copy()`\n",
      "  raw['key'] = raw.axes[0].tolist()\n",
      " 46%|████▋     | 46/99 [01:30<02:10,  2.47s/it]C:\\Users\\kongw\\AppData\\Local\\Temp\\ipykernel_29100\\478875361.py:10: PerformanceWarning: DataFrame is highly fragmented.  This is usually the result of calling `frame.insert` many times, which has poor performance.  Consider joining all columns at once using pd.concat(axis=1) instead. To get a de-fragmented frame, use `newframe = frame.copy()`\n",
      "  raw['key'] = raw.axes[0].tolist()\n",
      " 47%|████▋     | 47/99 [01:31<01:43,  1.98s/it]C:\\Users\\kongw\\AppData\\Local\\Temp\\ipykernel_29100\\478875361.py:10: PerformanceWarning: DataFrame is highly fragmented.  This is usually the result of calling `frame.insert` many times, which has poor performance.  Consider joining all columns at once using pd.concat(axis=1) instead. To get a de-fragmented frame, use `newframe = frame.copy()`\n",
      "  raw['key'] = raw.axes[0].tolist()\n",
      " 48%|████▊     | 48/99 [01:33<01:42,  2.02s/it]C:\\Users\\kongw\\AppData\\Local\\Temp\\ipykernel_29100\\478875361.py:10: PerformanceWarning: DataFrame is highly fragmented.  This is usually the result of calling `frame.insert` many times, which has poor performance.  Consider joining all columns at once using pd.concat(axis=1) instead. To get a de-fragmented frame, use `newframe = frame.copy()`\n",
      "  raw['key'] = raw.axes[0].tolist()\n",
      " 49%|████▉     | 49/99 [01:34<01:29,  1.79s/it]C:\\Users\\kongw\\AppData\\Local\\Temp\\ipykernel_29100\\478875361.py:10: PerformanceWarning: DataFrame is highly fragmented.  This is usually the result of calling `frame.insert` many times, which has poor performance.  Consider joining all columns at once using pd.concat(axis=1) instead. To get a de-fragmented frame, use `newframe = frame.copy()`\n",
      "  raw['key'] = raw.axes[0].tolist()\n",
      " 51%|█████     | 50/99 [01:37<01:39,  2.03s/it]C:\\Users\\kongw\\AppData\\Local\\Temp\\ipykernel_29100\\478875361.py:10: PerformanceWarning: DataFrame is highly fragmented.  This is usually the result of calling `frame.insert` many times, which has poor performance.  Consider joining all columns at once using pd.concat(axis=1) instead. To get a de-fragmented frame, use `newframe = frame.copy()`\n",
      "  raw['key'] = raw.axes[0].tolist()\n",
      " 52%|█████▏    | 51/99 [01:40<01:51,  2.33s/it]C:\\Users\\kongw\\AppData\\Local\\Temp\\ipykernel_29100\\478875361.py:10: PerformanceWarning: DataFrame is highly fragmented.  This is usually the result of calling `frame.insert` many times, which has poor performance.  Consider joining all columns at once using pd.concat(axis=1) instead. To get a de-fragmented frame, use `newframe = frame.copy()`\n",
      "  raw['key'] = raw.axes[0].tolist()\n",
      " 53%|█████▎    | 52/99 [01:41<01:37,  2.08s/it]C:\\Users\\kongw\\AppData\\Local\\Temp\\ipykernel_29100\\478875361.py:10: PerformanceWarning: DataFrame is highly fragmented.  This is usually the result of calling `frame.insert` many times, which has poor performance.  Consider joining all columns at once using pd.concat(axis=1) instead. To get a de-fragmented frame, use `newframe = frame.copy()`\n",
      "  raw['key'] = raw.axes[0].tolist()\n",
      " 54%|█████▎    | 53/99 [01:46<02:09,  2.82s/it]C:\\Users\\kongw\\AppData\\Local\\Temp\\ipykernel_29100\\478875361.py:10: PerformanceWarning: DataFrame is highly fragmented.  This is usually the result of calling `frame.insert` many times, which has poor performance.  Consider joining all columns at once using pd.concat(axis=1) instead. To get a de-fragmented frame, use `newframe = frame.copy()`\n",
      "  raw['key'] = raw.axes[0].tolist()\n",
      " 55%|█████▍    | 54/99 [01:48<01:54,  2.55s/it]C:\\Users\\kongw\\AppData\\Local\\Temp\\ipykernel_29100\\478875361.py:10: PerformanceWarning: DataFrame is highly fragmented.  This is usually the result of calling `frame.insert` many times, which has poor performance.  Consider joining all columns at once using pd.concat(axis=1) instead. To get a de-fragmented frame, use `newframe = frame.copy()`\n",
      "  raw['key'] = raw.axes[0].tolist()\n",
      " 56%|█████▌    | 55/99 [01:50<01:43,  2.35s/it]C:\\Users\\kongw\\AppData\\Local\\Temp\\ipykernel_29100\\478875361.py:10: PerformanceWarning: DataFrame is highly fragmented.  This is usually the result of calling `frame.insert` many times, which has poor performance.  Consider joining all columns at once using pd.concat(axis=1) instead. To get a de-fragmented frame, use `newframe = frame.copy()`\n",
      "  raw['key'] = raw.axes[0].tolist()\n",
      " 57%|█████▋    | 56/99 [01:52<01:43,  2.40s/it]C:\\Users\\kongw\\AppData\\Local\\Temp\\ipykernel_29100\\478875361.py:10: PerformanceWarning: DataFrame is highly fragmented.  This is usually the result of calling `frame.insert` many times, which has poor performance.  Consider joining all columns at once using pd.concat(axis=1) instead. To get a de-fragmented frame, use `newframe = frame.copy()`\n",
      "  raw['key'] = raw.axes[0].tolist()\n",
      " 58%|█████▊    | 57/99 [01:53<01:24,  2.02s/it]C:\\Users\\kongw\\AppData\\Local\\Temp\\ipykernel_29100\\478875361.py:10: PerformanceWarning: DataFrame is highly fragmented.  This is usually the result of calling `frame.insert` many times, which has poor performance.  Consider joining all columns at once using pd.concat(axis=1) instead. To get a de-fragmented frame, use `newframe = frame.copy()`\n",
      "  raw['key'] = raw.axes[0].tolist()\n",
      " 59%|█████▊    | 58/99 [01:54<01:10,  1.73s/it]C:\\Users\\kongw\\AppData\\Local\\Temp\\ipykernel_29100\\478875361.py:10: PerformanceWarning: DataFrame is highly fragmented.  This is usually the result of calling `frame.insert` many times, which has poor performance.  Consider joining all columns at once using pd.concat(axis=1) instead. To get a de-fragmented frame, use `newframe = frame.copy()`\n",
      "  raw['key'] = raw.axes[0].tolist()\n",
      " 60%|█████▉    | 59/99 [01:55<01:02,  1.55s/it]C:\\Users\\kongw\\AppData\\Local\\Temp\\ipykernel_29100\\478875361.py:10: PerformanceWarning: DataFrame is highly fragmented.  This is usually the result of calling `frame.insert` many times, which has poor performance.  Consider joining all columns at once using pd.concat(axis=1) instead. To get a de-fragmented frame, use `newframe = frame.copy()`\n",
      "  raw['key'] = raw.axes[0].tolist()\n",
      " 61%|██████    | 60/99 [01:57<01:06,  1.71s/it]C:\\Users\\kongw\\AppData\\Local\\Temp\\ipykernel_29100\\478875361.py:10: PerformanceWarning: DataFrame is highly fragmented.  This is usually the result of calling `frame.insert` many times, which has poor performance.  Consider joining all columns at once using pd.concat(axis=1) instead. To get a de-fragmented frame, use `newframe = frame.copy()`\n",
      "  raw['key'] = raw.axes[0].tolist()\n",
      " 62%|██████▏   | 61/99 [02:01<01:24,  2.23s/it]C:\\Users\\kongw\\AppData\\Local\\Temp\\ipykernel_29100\\478875361.py:10: PerformanceWarning: DataFrame is highly fragmented.  This is usually the result of calling `frame.insert` many times, which has poor performance.  Consider joining all columns at once using pd.concat(axis=1) instead. To get a de-fragmented frame, use `newframe = frame.copy()`\n",
      "  raw['key'] = raw.axes[0].tolist()\n",
      " 63%|██████▎   | 62/99 [02:02<01:10,  1.90s/it]C:\\Users\\kongw\\AppData\\Local\\Temp\\ipykernel_29100\\478875361.py:10: PerformanceWarning: DataFrame is highly fragmented.  This is usually the result of calling `frame.insert` many times, which has poor performance.  Consider joining all columns at once using pd.concat(axis=1) instead. To get a de-fragmented frame, use `newframe = frame.copy()`\n",
      "  raw['key'] = raw.axes[0].tolist()\n",
      " 64%|██████▎   | 63/99 [02:06<01:31,  2.53s/it]C:\\Users\\kongw\\AppData\\Local\\Temp\\ipykernel_29100\\478875361.py:10: PerformanceWarning: DataFrame is highly fragmented.  This is usually the result of calling `frame.insert` many times, which has poor performance.  Consider joining all columns at once using pd.concat(axis=1) instead. To get a de-fragmented frame, use `newframe = frame.copy()`\n",
      "  raw['key'] = raw.axes[0].tolist()\n",
      " 65%|██████▍   | 64/99 [02:07<01:13,  2.09s/it]C:\\Users\\kongw\\AppData\\Local\\Temp\\ipykernel_29100\\478875361.py:10: PerformanceWarning: DataFrame is highly fragmented.  This is usually the result of calling `frame.insert` many times, which has poor performance.  Consider joining all columns at once using pd.concat(axis=1) instead. To get a de-fragmented frame, use `newframe = frame.copy()`\n",
      "  raw['key'] = raw.axes[0].tolist()\n",
      " 66%|██████▌   | 65/99 [02:11<01:32,  2.71s/it]C:\\Users\\kongw\\AppData\\Local\\Temp\\ipykernel_29100\\478875361.py:10: PerformanceWarning: DataFrame is highly fragmented.  This is usually the result of calling `frame.insert` many times, which has poor performance.  Consider joining all columns at once using pd.concat(axis=1) instead. To get a de-fragmented frame, use `newframe = frame.copy()`\n",
      "  raw['key'] = raw.axes[0].tolist()\n",
      " 67%|██████▋   | 66/99 [02:12<01:11,  2.18s/it]C:\\Users\\kongw\\AppData\\Local\\Temp\\ipykernel_29100\\478875361.py:10: PerformanceWarning: DataFrame is highly fragmented.  This is usually the result of calling `frame.insert` many times, which has poor performance.  Consider joining all columns at once using pd.concat(axis=1) instead. To get a de-fragmented frame, use `newframe = frame.copy()`\n",
      "  raw['key'] = raw.axes[0].tolist()\n",
      " 68%|██████▊   | 67/99 [02:13<00:58,  1.84s/it]C:\\Users\\kongw\\AppData\\Local\\Temp\\ipykernel_29100\\478875361.py:10: PerformanceWarning: DataFrame is highly fragmented.  This is usually the result of calling `frame.insert` many times, which has poor performance.  Consider joining all columns at once using pd.concat(axis=1) instead. To get a de-fragmented frame, use `newframe = frame.copy()`\n",
      "  raw['key'] = raw.axes[0].tolist()\n",
      " 69%|██████▊   | 68/99 [02:14<00:48,  1.57s/it]C:\\Users\\kongw\\AppData\\Local\\Temp\\ipykernel_29100\\478875361.py:10: PerformanceWarning: DataFrame is highly fragmented.  This is usually the result of calling `frame.insert` many times, which has poor performance.  Consider joining all columns at once using pd.concat(axis=1) instead. To get a de-fragmented frame, use `newframe = frame.copy()`\n",
      "  raw['key'] = raw.axes[0].tolist()\n",
      " 70%|██████▉   | 69/99 [02:16<00:45,  1.50s/it]C:\\Users\\kongw\\AppData\\Local\\Temp\\ipykernel_29100\\478875361.py:10: PerformanceWarning: DataFrame is highly fragmented.  This is usually the result of calling `frame.insert` many times, which has poor performance.  Consider joining all columns at once using pd.concat(axis=1) instead. To get a de-fragmented frame, use `newframe = frame.copy()`\n",
      "  raw['key'] = raw.axes[0].tolist()\n",
      " 71%|███████   | 70/99 [02:17<00:47,  1.62s/it]C:\\Users\\kongw\\AppData\\Local\\Temp\\ipykernel_29100\\478875361.py:10: PerformanceWarning: DataFrame is highly fragmented.  This is usually the result of calling `frame.insert` many times, which has poor performance.  Consider joining all columns at once using pd.concat(axis=1) instead. To get a de-fragmented frame, use `newframe = frame.copy()`\n",
      "  raw['key'] = raw.axes[0].tolist()\n",
      " 72%|███████▏  | 71/99 [02:20<00:57,  2.05s/it]C:\\Users\\kongw\\AppData\\Local\\Temp\\ipykernel_29100\\478875361.py:10: PerformanceWarning: DataFrame is highly fragmented.  This is usually the result of calling `frame.insert` many times, which has poor performance.  Consider joining all columns at once using pd.concat(axis=1) instead. To get a de-fragmented frame, use `newframe = frame.copy()`\n",
      "  raw['key'] = raw.axes[0].tolist()\n",
      " 73%|███████▎  | 72/99 [02:25<01:17,  2.87s/it]C:\\Users\\kongw\\AppData\\Local\\Temp\\ipykernel_29100\\478875361.py:10: PerformanceWarning: DataFrame is highly fragmented.  This is usually the result of calling `frame.insert` many times, which has poor performance.  Consider joining all columns at once using pd.concat(axis=1) instead. To get a de-fragmented frame, use `newframe = frame.copy()`\n",
      "  raw['key'] = raw.axes[0].tolist()\n",
      " 74%|███████▎  | 73/99 [02:26<01:01,  2.35s/it]C:\\Users\\kongw\\AppData\\Local\\Temp\\ipykernel_29100\\478875361.py:10: PerformanceWarning: DataFrame is highly fragmented.  This is usually the result of calling `frame.insert` many times, which has poor performance.  Consider joining all columns at once using pd.concat(axis=1) instead. To get a de-fragmented frame, use `newframe = frame.copy()`\n",
      "  raw['key'] = raw.axes[0].tolist()\n",
      " 75%|███████▍  | 74/99 [02:27<00:49,  1.96s/it]C:\\Users\\kongw\\AppData\\Local\\Temp\\ipykernel_29100\\478875361.py:10: PerformanceWarning: DataFrame is highly fragmented.  This is usually the result of calling `frame.insert` many times, which has poor performance.  Consider joining all columns at once using pd.concat(axis=1) instead. To get a de-fragmented frame, use `newframe = frame.copy()`\n",
      "  raw['key'] = raw.axes[0].tolist()\n",
      " 76%|███████▌  | 75/99 [02:28<00:39,  1.66s/it]C:\\Users\\kongw\\AppData\\Local\\Temp\\ipykernel_29100\\478875361.py:10: PerformanceWarning: DataFrame is highly fragmented.  This is usually the result of calling `frame.insert` many times, which has poor performance.  Consider joining all columns at once using pd.concat(axis=1) instead. To get a de-fragmented frame, use `newframe = frame.copy()`\n",
      "  raw['key'] = raw.axes[0].tolist()\n",
      " 77%|███████▋  | 76/99 [02:29<00:33,  1.47s/it]C:\\Users\\kongw\\AppData\\Local\\Temp\\ipykernel_29100\\478875361.py:10: PerformanceWarning: DataFrame is highly fragmented.  This is usually the result of calling `frame.insert` many times, which has poor performance.  Consider joining all columns at once using pd.concat(axis=1) instead. To get a de-fragmented frame, use `newframe = frame.copy()`\n",
      "  raw['key'] = raw.axes[0].tolist()\n",
      " 78%|███████▊  | 77/99 [02:31<00:30,  1.37s/it]C:\\Users\\kongw\\AppData\\Local\\Temp\\ipykernel_29100\\478875361.py:10: PerformanceWarning: DataFrame is highly fragmented.  This is usually the result of calling `frame.insert` many times, which has poor performance.  Consider joining all columns at once using pd.concat(axis=1) instead. To get a de-fragmented frame, use `newframe = frame.copy()`\n",
      "  raw['key'] = raw.axes[0].tolist()\n",
      " 79%|███████▉  | 78/99 [02:32<00:27,  1.30s/it]C:\\Users\\kongw\\AppData\\Local\\Temp\\ipykernel_29100\\478875361.py:10: PerformanceWarning: DataFrame is highly fragmented.  This is usually the result of calling `frame.insert` many times, which has poor performance.  Consider joining all columns at once using pd.concat(axis=1) instead. To get a de-fragmented frame, use `newframe = frame.copy()`\n",
      "  raw['key'] = raw.axes[0].tolist()\n",
      " 80%|███████▉  | 79/99 [02:33<00:23,  1.17s/it]C:\\Users\\kongw\\AppData\\Local\\Temp\\ipykernel_29100\\478875361.py:10: PerformanceWarning: DataFrame is highly fragmented.  This is usually the result of calling `frame.insert` many times, which has poor performance.  Consider joining all columns at once using pd.concat(axis=1) instead. To get a de-fragmented frame, use `newframe = frame.copy()`\n",
      "  raw['key'] = raw.axes[0].tolist()\n",
      " 81%|████████  | 80/99 [02:34<00:26,  1.38s/it]C:\\Users\\kongw\\AppData\\Local\\Temp\\ipykernel_29100\\478875361.py:10: PerformanceWarning: DataFrame is highly fragmented.  This is usually the result of calling `frame.insert` many times, which has poor performance.  Consider joining all columns at once using pd.concat(axis=1) instead. To get a de-fragmented frame, use `newframe = frame.copy()`\n",
      "  raw['key'] = raw.axes[0].tolist()\n",
      " 82%|████████▏ | 81/99 [02:36<00:23,  1.28s/it]C:\\Users\\kongw\\AppData\\Local\\Temp\\ipykernel_29100\\478875361.py:10: PerformanceWarning: DataFrame is highly fragmented.  This is usually the result of calling `frame.insert` many times, which has poor performance.  Consider joining all columns at once using pd.concat(axis=1) instead. To get a de-fragmented frame, use `newframe = frame.copy()`\n",
      "  raw['key'] = raw.axes[0].tolist()\n",
      " 83%|████████▎ | 82/99 [02:38<00:28,  1.68s/it]C:\\Users\\kongw\\AppData\\Local\\Temp\\ipykernel_29100\\478875361.py:10: PerformanceWarning: DataFrame is highly fragmented.  This is usually the result of calling `frame.insert` many times, which has poor performance.  Consider joining all columns at once using pd.concat(axis=1) instead. To get a de-fragmented frame, use `newframe = frame.copy()`\n",
      "  raw['key'] = raw.axes[0].tolist()\n",
      " 84%|████████▍ | 83/99 [02:39<00:23,  1.46s/it]C:\\Users\\kongw\\AppData\\Local\\Temp\\ipykernel_29100\\478875361.py:10: PerformanceWarning: DataFrame is highly fragmented.  This is usually the result of calling `frame.insert` many times, which has poor performance.  Consider joining all columns at once using pd.concat(axis=1) instead. To get a de-fragmented frame, use `newframe = frame.copy()`\n",
      "  raw['key'] = raw.axes[0].tolist()\n",
      " 85%|████████▍ | 84/99 [02:40<00:20,  1.37s/it]C:\\Users\\kongw\\AppData\\Local\\Temp\\ipykernel_29100\\478875361.py:10: PerformanceWarning: DataFrame is highly fragmented.  This is usually the result of calling `frame.insert` many times, which has poor performance.  Consider joining all columns at once using pd.concat(axis=1) instead. To get a de-fragmented frame, use `newframe = frame.copy()`\n",
      "  raw['key'] = raw.axes[0].tolist()\n",
      " 86%|████████▌ | 85/99 [02:41<00:18,  1.30s/it]C:\\Users\\kongw\\AppData\\Local\\Temp\\ipykernel_29100\\478875361.py:10: PerformanceWarning: DataFrame is highly fragmented.  This is usually the result of calling `frame.insert` many times, which has poor performance.  Consider joining all columns at once using pd.concat(axis=1) instead. To get a de-fragmented frame, use `newframe = frame.copy()`\n",
      "  raw['key'] = raw.axes[0].tolist()\n",
      " 87%|████████▋ | 86/99 [02:43<00:17,  1.37s/it]C:\\Users\\kongw\\AppData\\Local\\Temp\\ipykernel_29100\\478875361.py:10: PerformanceWarning: DataFrame is highly fragmented.  This is usually the result of calling `frame.insert` many times, which has poor performance.  Consider joining all columns at once using pd.concat(axis=1) instead. To get a de-fragmented frame, use `newframe = frame.copy()`\n",
      "  raw['key'] = raw.axes[0].tolist()\n",
      " 88%|████████▊ | 87/99 [02:44<00:15,  1.25s/it]C:\\Users\\kongw\\AppData\\Local\\Temp\\ipykernel_29100\\478875361.py:10: PerformanceWarning: DataFrame is highly fragmented.  This is usually the result of calling `frame.insert` many times, which has poor performance.  Consider joining all columns at once using pd.concat(axis=1) instead. To get a de-fragmented frame, use `newframe = frame.copy()`\n",
      "  raw['key'] = raw.axes[0].tolist()\n",
      " 89%|████████▉ | 88/99 [02:45<00:13,  1.25s/it]C:\\Users\\kongw\\AppData\\Local\\Temp\\ipykernel_29100\\478875361.py:10: PerformanceWarning: DataFrame is highly fragmented.  This is usually the result of calling `frame.insert` many times, which has poor performance.  Consider joining all columns at once using pd.concat(axis=1) instead. To get a de-fragmented frame, use `newframe = frame.copy()`\n",
      "  raw['key'] = raw.axes[0].tolist()\n",
      " 90%|████████▉ | 89/99 [02:46<00:10,  1.09s/it]C:\\Users\\kongw\\AppData\\Local\\Temp\\ipykernel_29100\\478875361.py:10: PerformanceWarning: DataFrame is highly fragmented.  This is usually the result of calling `frame.insert` many times, which has poor performance.  Consider joining all columns at once using pd.concat(axis=1) instead. To get a de-fragmented frame, use `newframe = frame.copy()`\n",
      "  raw['key'] = raw.axes[0].tolist()\n",
      " 91%|█████████ | 90/99 [02:47<00:08,  1.01it/s]C:\\Users\\kongw\\AppData\\Local\\Temp\\ipykernel_29100\\478875361.py:10: PerformanceWarning: DataFrame is highly fragmented.  This is usually the result of calling `frame.insert` many times, which has poor performance.  Consider joining all columns at once using pd.concat(axis=1) instead. To get a de-fragmented frame, use `newframe = frame.copy()`\n",
      "  raw['key'] = raw.axes[0].tolist()\n",
      " 92%|█████████▏| 91/99 [02:48<00:08,  1.01s/it]C:\\Users\\kongw\\AppData\\Local\\Temp\\ipykernel_29100\\478875361.py:10: PerformanceWarning: DataFrame is highly fragmented.  This is usually the result of calling `frame.insert` many times, which has poor performance.  Consider joining all columns at once using pd.concat(axis=1) instead. To get a de-fragmented frame, use `newframe = frame.copy()`\n",
      "  raw['key'] = raw.axes[0].tolist()\n",
      " 93%|█████████▎| 92/99 [02:49<00:07,  1.01s/it]C:\\Users\\kongw\\AppData\\Local\\Temp\\ipykernel_29100\\478875361.py:10: PerformanceWarning: DataFrame is highly fragmented.  This is usually the result of calling `frame.insert` many times, which has poor performance.  Consider joining all columns at once using pd.concat(axis=1) instead. To get a de-fragmented frame, use `newframe = frame.copy()`\n",
      "  raw['key'] = raw.axes[0].tolist()\n",
      " 94%|█████████▍| 93/99 [02:50<00:06,  1.06s/it]C:\\Users\\kongw\\AppData\\Local\\Temp\\ipykernel_29100\\478875361.py:10: PerformanceWarning: DataFrame is highly fragmented.  This is usually the result of calling `frame.insert` many times, which has poor performance.  Consider joining all columns at once using pd.concat(axis=1) instead. To get a de-fragmented frame, use `newframe = frame.copy()`\n",
      "  raw['key'] = raw.axes[0].tolist()\n",
      " 95%|█████████▍| 94/99 [02:52<00:06,  1.28s/it]C:\\Users\\kongw\\AppData\\Local\\Temp\\ipykernel_29100\\478875361.py:10: PerformanceWarning: DataFrame is highly fragmented.  This is usually the result of calling `frame.insert` many times, which has poor performance.  Consider joining all columns at once using pd.concat(axis=1) instead. To get a de-fragmented frame, use `newframe = frame.copy()`\n",
      "  raw['key'] = raw.axes[0].tolist()\n",
      " 96%|█████████▌| 95/99 [02:55<00:07,  1.83s/it]C:\\Users\\kongw\\AppData\\Local\\Temp\\ipykernel_29100\\478875361.py:10: PerformanceWarning: DataFrame is highly fragmented.  This is usually the result of calling `frame.insert` many times, which has poor performance.  Consider joining all columns at once using pd.concat(axis=1) instead. To get a de-fragmented frame, use `newframe = frame.copy()`\n",
      "  raw['key'] = raw.axes[0].tolist()\n",
      " 97%|█████████▋| 96/99 [02:56<00:04,  1.57s/it]C:\\Users\\kongw\\AppData\\Local\\Temp\\ipykernel_29100\\478875361.py:10: PerformanceWarning: DataFrame is highly fragmented.  This is usually the result of calling `frame.insert` many times, which has poor performance.  Consider joining all columns at once using pd.concat(axis=1) instead. To get a de-fragmented frame, use `newframe = frame.copy()`\n",
      "  raw['key'] = raw.axes[0].tolist()\n",
      " 98%|█████████▊| 97/99 [02:57<00:02,  1.40s/it]C:\\Users\\kongw\\AppData\\Local\\Temp\\ipykernel_29100\\478875361.py:10: PerformanceWarning: DataFrame is highly fragmented.  This is usually the result of calling `frame.insert` many times, which has poor performance.  Consider joining all columns at once using pd.concat(axis=1) instead. To get a de-fragmented frame, use `newframe = frame.copy()`\n",
      "  raw['key'] = raw.axes[0].tolist()\n",
      " 99%|█████████▉| 98/99 [02:58<00:01,  1.30s/it]C:\\Users\\kongw\\AppData\\Local\\Temp\\ipykernel_29100\\478875361.py:10: PerformanceWarning: DataFrame is highly fragmented.  This is usually the result of calling `frame.insert` many times, which has poor performance.  Consider joining all columns at once using pd.concat(axis=1) instead. To get a de-fragmented frame, use `newframe = frame.copy()`\n",
      "  raw['key'] = raw.axes[0].tolist()\n",
      "100%|██████████| 99/99 [02:59<00:00,  1.81s/it]\n"
     ]
    }
   ],
   "source": [
    "# for index, row in tqdm(df.iterrows(), total = df.shape[0]):\n",
    "#     name = row['moviename']\n",
    "#     link = row['link']\n",
    "    \n",
    "#     temp = extract(link, name)\n",
    "#     if (index == 0):\n",
    "#         raw = temp\n",
    "#     else:\n",
    "#         raw = raw.set_index('key').join(temp.set_index('key'), how = \"outer\", lsuffix = '_left', rsuffix = '_right')\n",
    "#         raw['key'] = raw.axes[0].tolist()"
   ]
  },
  {
   "cell_type": "code",
   "execution_count": 216,
   "id": "d4f0024b-6a61-4c02-a20a-5808073cf6e0",
   "metadata": {},
   "outputs": [],
   "source": [
    "tqdm.pandas()"
   ]
  },
  {
   "cell_type": "code",
   "execution_count": 290,
   "id": "9d3a4fb4-3db9-483e-a734-1d6336f6081e",
   "metadata": {},
   "outputs": [],
   "source": [
    "def get(df):\n",
    "    print(\"Started working on row \" + str(df.index[0]))\n",
    "    temp = df.progress_apply(lambda x: extract(x['link'], x['moviename']), axis = 1)\n",
    "    # temp = [d.set_index('key') for d in temp]\n",
    "    # temp = temp[0].join(temp[1:])\n",
    "    return temp"
   ]
  },
  {
   "cell_type": "code",
   "execution_count": 292,
   "id": "4f5cf729-a002-401b-bce6-f286d5793c0b",
   "metadata": {
    "tags": []
   },
   "outputs": [],
   "source": [
    "# save_split = np.array_split(save, 2)\n",
    "# res = [get(d) for d in save_split]"
   ]
  },
  {
   "cell_type": "code",
   "execution_count": 307,
   "id": "160e0c22-7f39-4ac2-84be-7b43500618c1",
   "metadata": {
    "collapsed": true,
    "jupyter": {
     "outputs_hidden": true
    },
    "tags": []
   },
   "outputs": [
    {
     "name": "stdout",
     "output_type": "stream",
     "text": [
      "Started working on row 0\n"
     ]
    },
    {
     "name": "stderr",
     "output_type": "stream",
     "text": [
      "  0%|          | 2/6383 [00:03<2:47:28,  1.57s/it]\n"
     ]
    },
    {
     "ename": "KeyboardInterrupt",
     "evalue": "",
     "output_type": "error",
     "traceback": [
      "\u001b[1;31m---------------------------------------------------------------------------\u001b[0m",
      "\u001b[1;31mKeyboardInterrupt\u001b[0m                         Traceback (most recent call last)",
      "\u001b[1;32m~\\AppData\\Local\\Temp\\ipykernel_29100\\1594327424.py\u001b[0m in \u001b[0;36m<module>\u001b[1;34m\u001b[0m\n\u001b[1;32m----> 1\u001b[1;33m \u001b[0mres\u001b[0m \u001b[1;33m=\u001b[0m \u001b[0mget\u001b[0m\u001b[1;33m(\u001b[0m\u001b[0msave\u001b[0m\u001b[1;33m)\u001b[0m\u001b[1;33m\u001b[0m\u001b[1;33m\u001b[0m\u001b[0m\n\u001b[0m",
      "\u001b[1;32m~\\AppData\\Local\\Temp\\ipykernel_29100\\1278187787.py\u001b[0m in \u001b[0;36mget\u001b[1;34m(df)\u001b[0m\n\u001b[0;32m      1\u001b[0m \u001b[1;32mdef\u001b[0m \u001b[0mget\u001b[0m\u001b[1;33m(\u001b[0m\u001b[0mdf\u001b[0m\u001b[1;33m)\u001b[0m\u001b[1;33m:\u001b[0m\u001b[1;33m\u001b[0m\u001b[1;33m\u001b[0m\u001b[0m\n\u001b[0;32m      2\u001b[0m     \u001b[0mprint\u001b[0m\u001b[1;33m(\u001b[0m\u001b[1;34m\"Started working on row \"\u001b[0m \u001b[1;33m+\u001b[0m \u001b[0mstr\u001b[0m\u001b[1;33m(\u001b[0m\u001b[0mdf\u001b[0m\u001b[1;33m.\u001b[0m\u001b[0mindex\u001b[0m\u001b[1;33m[\u001b[0m\u001b[1;36m0\u001b[0m\u001b[1;33m]\u001b[0m\u001b[1;33m)\u001b[0m\u001b[1;33m)\u001b[0m\u001b[1;33m\u001b[0m\u001b[1;33m\u001b[0m\u001b[0m\n\u001b[1;32m----> 3\u001b[1;33m     \u001b[0mtemp\u001b[0m \u001b[1;33m=\u001b[0m \u001b[0mdf\u001b[0m\u001b[1;33m.\u001b[0m\u001b[0mprogress_apply\u001b[0m\u001b[1;33m(\u001b[0m\u001b[1;32mlambda\u001b[0m \u001b[0mx\u001b[0m\u001b[1;33m:\u001b[0m \u001b[0mextract\u001b[0m\u001b[1;33m(\u001b[0m\u001b[0mx\u001b[0m\u001b[1;33m[\u001b[0m\u001b[1;34m'link'\u001b[0m\u001b[1;33m]\u001b[0m\u001b[1;33m,\u001b[0m \u001b[0mx\u001b[0m\u001b[1;33m[\u001b[0m\u001b[1;34m'moviename'\u001b[0m\u001b[1;33m]\u001b[0m\u001b[1;33m)\u001b[0m\u001b[1;33m,\u001b[0m \u001b[0maxis\u001b[0m \u001b[1;33m=\u001b[0m \u001b[1;36m1\u001b[0m\u001b[1;33m)\u001b[0m\u001b[1;33m\u001b[0m\u001b[1;33m\u001b[0m\u001b[0m\n\u001b[0m\u001b[0;32m      4\u001b[0m     \u001b[1;31m# temp = [d.set_index('key') for d in temp]\u001b[0m\u001b[1;33m\u001b[0m\u001b[1;33m\u001b[0m\u001b[0m\n\u001b[0;32m      5\u001b[0m     \u001b[1;31m# temp = temp[0].join(temp[1:])\u001b[0m\u001b[1;33m\u001b[0m\u001b[1;33m\u001b[0m\u001b[0m\n",
      "\u001b[1;32mC:\\ProgramData\\Anaconda3_new\\lib\\site-packages\\tqdm\\std.py\u001b[0m in \u001b[0;36minner\u001b[1;34m(df, func, *args, **kwargs)\u001b[0m\n\u001b[0;32m    812\u001b[0m                 \u001b[1;31m# on the df using our wrapper (which provides bar updating)\u001b[0m\u001b[1;33m\u001b[0m\u001b[1;33m\u001b[0m\u001b[0m\n\u001b[0;32m    813\u001b[0m                 \u001b[1;32mtry\u001b[0m\u001b[1;33m:\u001b[0m\u001b[1;33m\u001b[0m\u001b[1;33m\u001b[0m\u001b[0m\n\u001b[1;32m--> 814\u001b[1;33m                     \u001b[1;32mreturn\u001b[0m \u001b[0mgetattr\u001b[0m\u001b[1;33m(\u001b[0m\u001b[0mdf\u001b[0m\u001b[1;33m,\u001b[0m \u001b[0mdf_function\u001b[0m\u001b[1;33m)\u001b[0m\u001b[1;33m(\u001b[0m\u001b[0mwrapper\u001b[0m\u001b[1;33m,\u001b[0m \u001b[1;33m**\u001b[0m\u001b[0mkwargs\u001b[0m\u001b[1;33m)\u001b[0m\u001b[1;33m\u001b[0m\u001b[1;33m\u001b[0m\u001b[0m\n\u001b[0m\u001b[0;32m    815\u001b[0m                 \u001b[1;32mfinally\u001b[0m\u001b[1;33m:\u001b[0m\u001b[1;33m\u001b[0m\u001b[1;33m\u001b[0m\u001b[0m\n\u001b[0;32m    816\u001b[0m                     \u001b[0mt\u001b[0m\u001b[1;33m.\u001b[0m\u001b[0mclose\u001b[0m\u001b[1;33m(\u001b[0m\u001b[1;33m)\u001b[0m\u001b[1;33m\u001b[0m\u001b[1;33m\u001b[0m\u001b[0m\n",
      "\u001b[1;32mC:\\ProgramData\\Anaconda3_new\\lib\\site-packages\\pandas\\core\\frame.py\u001b[0m in \u001b[0;36mapply\u001b[1;34m(self, func, axis, raw, result_type, args, **kwargs)\u001b[0m\n\u001b[0;32m   8846\u001b[0m             \u001b[0mkwargs\u001b[0m\u001b[1;33m=\u001b[0m\u001b[0mkwargs\u001b[0m\u001b[1;33m,\u001b[0m\u001b[1;33m\u001b[0m\u001b[1;33m\u001b[0m\u001b[0m\n\u001b[0;32m   8847\u001b[0m         )\n\u001b[1;32m-> 8848\u001b[1;33m         \u001b[1;32mreturn\u001b[0m \u001b[0mop\u001b[0m\u001b[1;33m.\u001b[0m\u001b[0mapply\u001b[0m\u001b[1;33m(\u001b[0m\u001b[1;33m)\u001b[0m\u001b[1;33m.\u001b[0m\u001b[0m__finalize__\u001b[0m\u001b[1;33m(\u001b[0m\u001b[0mself\u001b[0m\u001b[1;33m,\u001b[0m \u001b[0mmethod\u001b[0m\u001b[1;33m=\u001b[0m\u001b[1;34m\"apply\"\u001b[0m\u001b[1;33m)\u001b[0m\u001b[1;33m\u001b[0m\u001b[1;33m\u001b[0m\u001b[0m\n\u001b[0m\u001b[0;32m   8849\u001b[0m \u001b[1;33m\u001b[0m\u001b[0m\n\u001b[0;32m   8850\u001b[0m     def applymap(\n",
      "\u001b[1;32mC:\\ProgramData\\Anaconda3_new\\lib\\site-packages\\pandas\\core\\apply.py\u001b[0m in \u001b[0;36mapply\u001b[1;34m(self)\u001b[0m\n\u001b[0;32m    731\u001b[0m             \u001b[1;32mreturn\u001b[0m \u001b[0mself\u001b[0m\u001b[1;33m.\u001b[0m\u001b[0mapply_raw\u001b[0m\u001b[1;33m(\u001b[0m\u001b[1;33m)\u001b[0m\u001b[1;33m\u001b[0m\u001b[1;33m\u001b[0m\u001b[0m\n\u001b[0;32m    732\u001b[0m \u001b[1;33m\u001b[0m\u001b[0m\n\u001b[1;32m--> 733\u001b[1;33m         \u001b[1;32mreturn\u001b[0m \u001b[0mself\u001b[0m\u001b[1;33m.\u001b[0m\u001b[0mapply_standard\u001b[0m\u001b[1;33m(\u001b[0m\u001b[1;33m)\u001b[0m\u001b[1;33m\u001b[0m\u001b[1;33m\u001b[0m\u001b[0m\n\u001b[0m\u001b[0;32m    734\u001b[0m \u001b[1;33m\u001b[0m\u001b[0m\n\u001b[0;32m    735\u001b[0m     \u001b[1;32mdef\u001b[0m \u001b[0magg\u001b[0m\u001b[1;33m(\u001b[0m\u001b[0mself\u001b[0m\u001b[1;33m)\u001b[0m\u001b[1;33m:\u001b[0m\u001b[1;33m\u001b[0m\u001b[1;33m\u001b[0m\u001b[0m\n",
      "\u001b[1;32mC:\\ProgramData\\Anaconda3_new\\lib\\site-packages\\pandas\\core\\apply.py\u001b[0m in \u001b[0;36mapply_standard\u001b[1;34m(self)\u001b[0m\n\u001b[0;32m    855\u001b[0m \u001b[1;33m\u001b[0m\u001b[0m\n\u001b[0;32m    856\u001b[0m     \u001b[1;32mdef\u001b[0m \u001b[0mapply_standard\u001b[0m\u001b[1;33m(\u001b[0m\u001b[0mself\u001b[0m\u001b[1;33m)\u001b[0m\u001b[1;33m:\u001b[0m\u001b[1;33m\u001b[0m\u001b[1;33m\u001b[0m\u001b[0m\n\u001b[1;32m--> 857\u001b[1;33m         \u001b[0mresults\u001b[0m\u001b[1;33m,\u001b[0m \u001b[0mres_index\u001b[0m \u001b[1;33m=\u001b[0m \u001b[0mself\u001b[0m\u001b[1;33m.\u001b[0m\u001b[0mapply_series_generator\u001b[0m\u001b[1;33m(\u001b[0m\u001b[1;33m)\u001b[0m\u001b[1;33m\u001b[0m\u001b[1;33m\u001b[0m\u001b[0m\n\u001b[0m\u001b[0;32m    858\u001b[0m \u001b[1;33m\u001b[0m\u001b[0m\n\u001b[0;32m    859\u001b[0m         \u001b[1;31m# wrap results\u001b[0m\u001b[1;33m\u001b[0m\u001b[1;33m\u001b[0m\u001b[0m\n",
      "\u001b[1;32mC:\\ProgramData\\Anaconda3_new\\lib\\site-packages\\pandas\\core\\apply.py\u001b[0m in \u001b[0;36mapply_series_generator\u001b[1;34m(self)\u001b[0m\n\u001b[0;32m    871\u001b[0m             \u001b[1;32mfor\u001b[0m \u001b[0mi\u001b[0m\u001b[1;33m,\u001b[0m \u001b[0mv\u001b[0m \u001b[1;32min\u001b[0m \u001b[0menumerate\u001b[0m\u001b[1;33m(\u001b[0m\u001b[0mseries_gen\u001b[0m\u001b[1;33m)\u001b[0m\u001b[1;33m:\u001b[0m\u001b[1;33m\u001b[0m\u001b[1;33m\u001b[0m\u001b[0m\n\u001b[0;32m    872\u001b[0m                 \u001b[1;31m# ignore SettingWithCopy here in case the user mutates\u001b[0m\u001b[1;33m\u001b[0m\u001b[1;33m\u001b[0m\u001b[0m\n\u001b[1;32m--> 873\u001b[1;33m                 \u001b[0mresults\u001b[0m\u001b[1;33m[\u001b[0m\u001b[0mi\u001b[0m\u001b[1;33m]\u001b[0m \u001b[1;33m=\u001b[0m \u001b[0mself\u001b[0m\u001b[1;33m.\u001b[0m\u001b[0mf\u001b[0m\u001b[1;33m(\u001b[0m\u001b[0mv\u001b[0m\u001b[1;33m)\u001b[0m\u001b[1;33m\u001b[0m\u001b[1;33m\u001b[0m\u001b[0m\n\u001b[0m\u001b[0;32m    874\u001b[0m                 \u001b[1;32mif\u001b[0m \u001b[0misinstance\u001b[0m\u001b[1;33m(\u001b[0m\u001b[0mresults\u001b[0m\u001b[1;33m[\u001b[0m\u001b[0mi\u001b[0m\u001b[1;33m]\u001b[0m\u001b[1;33m,\u001b[0m \u001b[0mABCSeries\u001b[0m\u001b[1;33m)\u001b[0m\u001b[1;33m:\u001b[0m\u001b[1;33m\u001b[0m\u001b[1;33m\u001b[0m\u001b[0m\n\u001b[0;32m    875\u001b[0m                     \u001b[1;31m# If we have a view on v, we need to make a copy because\u001b[0m\u001b[1;33m\u001b[0m\u001b[1;33m\u001b[0m\u001b[0m\n",
      "\u001b[1;32mC:\\ProgramData\\Anaconda3_new\\lib\\site-packages\\tqdm\\std.py\u001b[0m in \u001b[0;36mwrapper\u001b[1;34m(*args, **kwargs)\u001b[0m\n\u001b[0;32m    807\u001b[0m                     \u001b[1;31m# take a fast or slow code path; so stop when t.total==t.n\u001b[0m\u001b[1;33m\u001b[0m\u001b[1;33m\u001b[0m\u001b[0m\n\u001b[0;32m    808\u001b[0m                     \u001b[0mt\u001b[0m\u001b[1;33m.\u001b[0m\u001b[0mupdate\u001b[0m\u001b[1;33m(\u001b[0m\u001b[0mn\u001b[0m\u001b[1;33m=\u001b[0m\u001b[1;36m1\u001b[0m \u001b[1;32mif\u001b[0m \u001b[1;32mnot\u001b[0m \u001b[0mt\u001b[0m\u001b[1;33m.\u001b[0m\u001b[0mtotal\u001b[0m \u001b[1;32mor\u001b[0m \u001b[0mt\u001b[0m\u001b[1;33m.\u001b[0m\u001b[0mn\u001b[0m \u001b[1;33m<\u001b[0m \u001b[0mt\u001b[0m\u001b[1;33m.\u001b[0m\u001b[0mtotal\u001b[0m \u001b[1;32melse\u001b[0m \u001b[1;36m0\u001b[0m\u001b[1;33m)\u001b[0m\u001b[1;33m\u001b[0m\u001b[1;33m\u001b[0m\u001b[0m\n\u001b[1;32m--> 809\u001b[1;33m                     \u001b[1;32mreturn\u001b[0m \u001b[0mfunc\u001b[0m\u001b[1;33m(\u001b[0m\u001b[1;33m*\u001b[0m\u001b[0margs\u001b[0m\u001b[1;33m,\u001b[0m \u001b[1;33m**\u001b[0m\u001b[0mkwargs\u001b[0m\u001b[1;33m)\u001b[0m\u001b[1;33m\u001b[0m\u001b[1;33m\u001b[0m\u001b[0m\n\u001b[0m\u001b[0;32m    810\u001b[0m \u001b[1;33m\u001b[0m\u001b[0m\n\u001b[0;32m    811\u001b[0m                 \u001b[1;31m# Apply the provided function (in **kwargs)\u001b[0m\u001b[1;33m\u001b[0m\u001b[1;33m\u001b[0m\u001b[0m\n",
      "\u001b[1;32m~\\AppData\\Local\\Temp\\ipykernel_29100\\1278187787.py\u001b[0m in \u001b[0;36m<lambda>\u001b[1;34m(x)\u001b[0m\n\u001b[0;32m      1\u001b[0m \u001b[1;32mdef\u001b[0m \u001b[0mget\u001b[0m\u001b[1;33m(\u001b[0m\u001b[0mdf\u001b[0m\u001b[1;33m)\u001b[0m\u001b[1;33m:\u001b[0m\u001b[1;33m\u001b[0m\u001b[1;33m\u001b[0m\u001b[0m\n\u001b[0;32m      2\u001b[0m     \u001b[0mprint\u001b[0m\u001b[1;33m(\u001b[0m\u001b[1;34m\"Started working on row \"\u001b[0m \u001b[1;33m+\u001b[0m \u001b[0mstr\u001b[0m\u001b[1;33m(\u001b[0m\u001b[0mdf\u001b[0m\u001b[1;33m.\u001b[0m\u001b[0mindex\u001b[0m\u001b[1;33m[\u001b[0m\u001b[1;36m0\u001b[0m\u001b[1;33m]\u001b[0m\u001b[1;33m)\u001b[0m\u001b[1;33m)\u001b[0m\u001b[1;33m\u001b[0m\u001b[1;33m\u001b[0m\u001b[0m\n\u001b[1;32m----> 3\u001b[1;33m     \u001b[0mtemp\u001b[0m \u001b[1;33m=\u001b[0m \u001b[0mdf\u001b[0m\u001b[1;33m.\u001b[0m\u001b[0mprogress_apply\u001b[0m\u001b[1;33m(\u001b[0m\u001b[1;32mlambda\u001b[0m \u001b[0mx\u001b[0m\u001b[1;33m:\u001b[0m \u001b[0mextract\u001b[0m\u001b[1;33m(\u001b[0m\u001b[0mx\u001b[0m\u001b[1;33m[\u001b[0m\u001b[1;34m'link'\u001b[0m\u001b[1;33m]\u001b[0m\u001b[1;33m,\u001b[0m \u001b[0mx\u001b[0m\u001b[1;33m[\u001b[0m\u001b[1;34m'moviename'\u001b[0m\u001b[1;33m]\u001b[0m\u001b[1;33m)\u001b[0m\u001b[1;33m,\u001b[0m \u001b[0maxis\u001b[0m \u001b[1;33m=\u001b[0m \u001b[1;36m1\u001b[0m\u001b[1;33m)\u001b[0m\u001b[1;33m\u001b[0m\u001b[1;33m\u001b[0m\u001b[0m\n\u001b[0m\u001b[0;32m      4\u001b[0m     \u001b[1;31m# temp = [d.set_index('key') for d in temp]\u001b[0m\u001b[1;33m\u001b[0m\u001b[1;33m\u001b[0m\u001b[0m\n\u001b[0;32m      5\u001b[0m     \u001b[1;31m# temp = temp[0].join(temp[1:])\u001b[0m\u001b[1;33m\u001b[0m\u001b[1;33m\u001b[0m\u001b[0m\n",
      "\u001b[1;32m~\\AppData\\Local\\Temp\\ipykernel_29100\\626443991.py\u001b[0m in \u001b[0;36mextract\u001b[1;34m(link, name)\u001b[0m\n\u001b[0;32m      2\u001b[0m     \u001b[0mtempurl\u001b[0m \u001b[1;33m=\u001b[0m \u001b[1;34m\"https://www.the-numbers.com/movie/\"\u001b[0m \u001b[1;33m+\u001b[0m \u001b[0mlink\u001b[0m\u001b[1;33m\u001b[0m\u001b[1;33m\u001b[0m\u001b[0m\n\u001b[0;32m      3\u001b[0m     \u001b[0mpage\u001b[0m \u001b[1;33m=\u001b[0m \u001b[0murllib\u001b[0m\u001b[1;33m.\u001b[0m\u001b[0mrequest\u001b[0m\u001b[1;33m.\u001b[0m\u001b[0mRequest\u001b[0m\u001b[1;33m(\u001b[0m\u001b[0mtempurl\u001b[0m\u001b[1;33m,\u001b[0m \u001b[0mheaders\u001b[0m\u001b[1;33m=\u001b[0m\u001b[1;33m{\u001b[0m\u001b[1;34m'User-Agent'\u001b[0m \u001b[1;33m:\u001b[0m \u001b[1;34m\"Magic Browser\"\u001b[0m\u001b[1;33m}\u001b[0m\u001b[1;33m)\u001b[0m\u001b[1;33m\u001b[0m\u001b[1;33m\u001b[0m\u001b[0m\n\u001b[1;32m----> 4\u001b[1;33m     \u001b[0mpage\u001b[0m \u001b[1;33m=\u001b[0m \u001b[0murllib\u001b[0m\u001b[1;33m.\u001b[0m\u001b[0mrequest\u001b[0m\u001b[1;33m.\u001b[0m\u001b[0murlopen\u001b[0m\u001b[1;33m(\u001b[0m\u001b[0mpage\u001b[0m\u001b[1;33m)\u001b[0m\u001b[1;33m\u001b[0m\u001b[1;33m\u001b[0m\u001b[0m\n\u001b[0m\u001b[0;32m      5\u001b[0m     \u001b[1;31m# read page\u001b[0m\u001b[1;33m\u001b[0m\u001b[1;33m\u001b[0m\u001b[0m\n\u001b[0;32m      6\u001b[0m     \u001b[0mhtml_bytes\u001b[0m \u001b[1;33m=\u001b[0m \u001b[0mpage\u001b[0m\u001b[1;33m.\u001b[0m\u001b[0mread\u001b[0m\u001b[1;33m(\u001b[0m\u001b[1;33m)\u001b[0m\u001b[1;33m\u001b[0m\u001b[1;33m\u001b[0m\u001b[0m\n",
      "\u001b[1;32mC:\\ProgramData\\Anaconda3_new\\lib\\urllib\\request.py\u001b[0m in \u001b[0;36murlopen\u001b[1;34m(url, data, timeout, cafile, capath, cadefault, context)\u001b[0m\n\u001b[0;32m    212\u001b[0m     \u001b[1;32melse\u001b[0m\u001b[1;33m:\u001b[0m\u001b[1;33m\u001b[0m\u001b[1;33m\u001b[0m\u001b[0m\n\u001b[0;32m    213\u001b[0m         \u001b[0mopener\u001b[0m \u001b[1;33m=\u001b[0m \u001b[0m_opener\u001b[0m\u001b[1;33m\u001b[0m\u001b[1;33m\u001b[0m\u001b[0m\n\u001b[1;32m--> 214\u001b[1;33m     \u001b[1;32mreturn\u001b[0m \u001b[0mopener\u001b[0m\u001b[1;33m.\u001b[0m\u001b[0mopen\u001b[0m\u001b[1;33m(\u001b[0m\u001b[0murl\u001b[0m\u001b[1;33m,\u001b[0m \u001b[0mdata\u001b[0m\u001b[1;33m,\u001b[0m \u001b[0mtimeout\u001b[0m\u001b[1;33m)\u001b[0m\u001b[1;33m\u001b[0m\u001b[1;33m\u001b[0m\u001b[0m\n\u001b[0m\u001b[0;32m    215\u001b[0m \u001b[1;33m\u001b[0m\u001b[0m\n\u001b[0;32m    216\u001b[0m \u001b[1;32mdef\u001b[0m \u001b[0minstall_opener\u001b[0m\u001b[1;33m(\u001b[0m\u001b[0mopener\u001b[0m\u001b[1;33m)\u001b[0m\u001b[1;33m:\u001b[0m\u001b[1;33m\u001b[0m\u001b[1;33m\u001b[0m\u001b[0m\n",
      "\u001b[1;32mC:\\ProgramData\\Anaconda3_new\\lib\\urllib\\request.py\u001b[0m in \u001b[0;36mopen\u001b[1;34m(self, fullurl, data, timeout)\u001b[0m\n\u001b[0;32m    515\u001b[0m \u001b[1;33m\u001b[0m\u001b[0m\n\u001b[0;32m    516\u001b[0m         \u001b[0msys\u001b[0m\u001b[1;33m.\u001b[0m\u001b[0maudit\u001b[0m\u001b[1;33m(\u001b[0m\u001b[1;34m'urllib.Request'\u001b[0m\u001b[1;33m,\u001b[0m \u001b[0mreq\u001b[0m\u001b[1;33m.\u001b[0m\u001b[0mfull_url\u001b[0m\u001b[1;33m,\u001b[0m \u001b[0mreq\u001b[0m\u001b[1;33m.\u001b[0m\u001b[0mdata\u001b[0m\u001b[1;33m,\u001b[0m \u001b[0mreq\u001b[0m\u001b[1;33m.\u001b[0m\u001b[0mheaders\u001b[0m\u001b[1;33m,\u001b[0m \u001b[0mreq\u001b[0m\u001b[1;33m.\u001b[0m\u001b[0mget_method\u001b[0m\u001b[1;33m(\u001b[0m\u001b[1;33m)\u001b[0m\u001b[1;33m)\u001b[0m\u001b[1;33m\u001b[0m\u001b[1;33m\u001b[0m\u001b[0m\n\u001b[1;32m--> 517\u001b[1;33m         \u001b[0mresponse\u001b[0m \u001b[1;33m=\u001b[0m \u001b[0mself\u001b[0m\u001b[1;33m.\u001b[0m\u001b[0m_open\u001b[0m\u001b[1;33m(\u001b[0m\u001b[0mreq\u001b[0m\u001b[1;33m,\u001b[0m \u001b[0mdata\u001b[0m\u001b[1;33m)\u001b[0m\u001b[1;33m\u001b[0m\u001b[1;33m\u001b[0m\u001b[0m\n\u001b[0m\u001b[0;32m    518\u001b[0m \u001b[1;33m\u001b[0m\u001b[0m\n\u001b[0;32m    519\u001b[0m         \u001b[1;31m# post-process response\u001b[0m\u001b[1;33m\u001b[0m\u001b[1;33m\u001b[0m\u001b[0m\n",
      "\u001b[1;32mC:\\ProgramData\\Anaconda3_new\\lib\\urllib\\request.py\u001b[0m in \u001b[0;36m_open\u001b[1;34m(self, req, data)\u001b[0m\n\u001b[0;32m    532\u001b[0m \u001b[1;33m\u001b[0m\u001b[0m\n\u001b[0;32m    533\u001b[0m         \u001b[0mprotocol\u001b[0m \u001b[1;33m=\u001b[0m \u001b[0mreq\u001b[0m\u001b[1;33m.\u001b[0m\u001b[0mtype\u001b[0m\u001b[1;33m\u001b[0m\u001b[1;33m\u001b[0m\u001b[0m\n\u001b[1;32m--> 534\u001b[1;33m         result = self._call_chain(self.handle_open, protocol, protocol +\n\u001b[0m\u001b[0;32m    535\u001b[0m                                   '_open', req)\n\u001b[0;32m    536\u001b[0m         \u001b[1;32mif\u001b[0m \u001b[0mresult\u001b[0m\u001b[1;33m:\u001b[0m\u001b[1;33m\u001b[0m\u001b[1;33m\u001b[0m\u001b[0m\n",
      "\u001b[1;32mC:\\ProgramData\\Anaconda3_new\\lib\\urllib\\request.py\u001b[0m in \u001b[0;36m_call_chain\u001b[1;34m(self, chain, kind, meth_name, *args)\u001b[0m\n\u001b[0;32m    492\u001b[0m         \u001b[1;32mfor\u001b[0m \u001b[0mhandler\u001b[0m \u001b[1;32min\u001b[0m \u001b[0mhandlers\u001b[0m\u001b[1;33m:\u001b[0m\u001b[1;33m\u001b[0m\u001b[1;33m\u001b[0m\u001b[0m\n\u001b[0;32m    493\u001b[0m             \u001b[0mfunc\u001b[0m \u001b[1;33m=\u001b[0m \u001b[0mgetattr\u001b[0m\u001b[1;33m(\u001b[0m\u001b[0mhandler\u001b[0m\u001b[1;33m,\u001b[0m \u001b[0mmeth_name\u001b[0m\u001b[1;33m)\u001b[0m\u001b[1;33m\u001b[0m\u001b[1;33m\u001b[0m\u001b[0m\n\u001b[1;32m--> 494\u001b[1;33m             \u001b[0mresult\u001b[0m \u001b[1;33m=\u001b[0m \u001b[0mfunc\u001b[0m\u001b[1;33m(\u001b[0m\u001b[1;33m*\u001b[0m\u001b[0margs\u001b[0m\u001b[1;33m)\u001b[0m\u001b[1;33m\u001b[0m\u001b[1;33m\u001b[0m\u001b[0m\n\u001b[0m\u001b[0;32m    495\u001b[0m             \u001b[1;32mif\u001b[0m \u001b[0mresult\u001b[0m \u001b[1;32mis\u001b[0m \u001b[1;32mnot\u001b[0m \u001b[1;32mNone\u001b[0m\u001b[1;33m:\u001b[0m\u001b[1;33m\u001b[0m\u001b[1;33m\u001b[0m\u001b[0m\n\u001b[0;32m    496\u001b[0m                 \u001b[1;32mreturn\u001b[0m \u001b[0mresult\u001b[0m\u001b[1;33m\u001b[0m\u001b[1;33m\u001b[0m\u001b[0m\n",
      "\u001b[1;32mC:\\ProgramData\\Anaconda3_new\\lib\\urllib\\request.py\u001b[0m in \u001b[0;36mhttps_open\u001b[1;34m(self, req)\u001b[0m\n\u001b[0;32m   1387\u001b[0m \u001b[1;33m\u001b[0m\u001b[0m\n\u001b[0;32m   1388\u001b[0m         \u001b[1;32mdef\u001b[0m \u001b[0mhttps_open\u001b[0m\u001b[1;33m(\u001b[0m\u001b[0mself\u001b[0m\u001b[1;33m,\u001b[0m \u001b[0mreq\u001b[0m\u001b[1;33m)\u001b[0m\u001b[1;33m:\u001b[0m\u001b[1;33m\u001b[0m\u001b[1;33m\u001b[0m\u001b[0m\n\u001b[1;32m-> 1389\u001b[1;33m             return self.do_open(http.client.HTTPSConnection, req,\n\u001b[0m\u001b[0;32m   1390\u001b[0m                 context=self._context, check_hostname=self._check_hostname)\n\u001b[0;32m   1391\u001b[0m \u001b[1;33m\u001b[0m\u001b[0m\n",
      "\u001b[1;32mC:\\ProgramData\\Anaconda3_new\\lib\\urllib\\request.py\u001b[0m in \u001b[0;36mdo_open\u001b[1;34m(self, http_class, req, **http_conn_args)\u001b[0m\n\u001b[0;32m   1344\u001b[0m         \u001b[1;32mtry\u001b[0m\u001b[1;33m:\u001b[0m\u001b[1;33m\u001b[0m\u001b[1;33m\u001b[0m\u001b[0m\n\u001b[0;32m   1345\u001b[0m             \u001b[1;32mtry\u001b[0m\u001b[1;33m:\u001b[0m\u001b[1;33m\u001b[0m\u001b[1;33m\u001b[0m\u001b[0m\n\u001b[1;32m-> 1346\u001b[1;33m                 h.request(req.get_method(), req.selector, req.data, headers,\n\u001b[0m\u001b[0;32m   1347\u001b[0m                           encode_chunked=req.has_header('Transfer-encoding'))\n\u001b[0;32m   1348\u001b[0m             \u001b[1;32mexcept\u001b[0m \u001b[0mOSError\u001b[0m \u001b[1;32mas\u001b[0m \u001b[0merr\u001b[0m\u001b[1;33m:\u001b[0m \u001b[1;31m# timeout error\u001b[0m\u001b[1;33m\u001b[0m\u001b[1;33m\u001b[0m\u001b[0m\n",
      "\u001b[1;32mC:\\ProgramData\\Anaconda3_new\\lib\\http\\client.py\u001b[0m in \u001b[0;36mrequest\u001b[1;34m(self, method, url, body, headers, encode_chunked)\u001b[0m\n\u001b[0;32m   1283\u001b[0m                 encode_chunked=False):\n\u001b[0;32m   1284\u001b[0m         \u001b[1;34m\"\"\"Send a complete request to the server.\"\"\"\u001b[0m\u001b[1;33m\u001b[0m\u001b[1;33m\u001b[0m\u001b[0m\n\u001b[1;32m-> 1285\u001b[1;33m         \u001b[0mself\u001b[0m\u001b[1;33m.\u001b[0m\u001b[0m_send_request\u001b[0m\u001b[1;33m(\u001b[0m\u001b[0mmethod\u001b[0m\u001b[1;33m,\u001b[0m \u001b[0murl\u001b[0m\u001b[1;33m,\u001b[0m \u001b[0mbody\u001b[0m\u001b[1;33m,\u001b[0m \u001b[0mheaders\u001b[0m\u001b[1;33m,\u001b[0m \u001b[0mencode_chunked\u001b[0m\u001b[1;33m)\u001b[0m\u001b[1;33m\u001b[0m\u001b[1;33m\u001b[0m\u001b[0m\n\u001b[0m\u001b[0;32m   1286\u001b[0m \u001b[1;33m\u001b[0m\u001b[0m\n\u001b[0;32m   1287\u001b[0m     \u001b[1;32mdef\u001b[0m \u001b[0m_send_request\u001b[0m\u001b[1;33m(\u001b[0m\u001b[0mself\u001b[0m\u001b[1;33m,\u001b[0m \u001b[0mmethod\u001b[0m\u001b[1;33m,\u001b[0m \u001b[0murl\u001b[0m\u001b[1;33m,\u001b[0m \u001b[0mbody\u001b[0m\u001b[1;33m,\u001b[0m \u001b[0mheaders\u001b[0m\u001b[1;33m,\u001b[0m \u001b[0mencode_chunked\u001b[0m\u001b[1;33m)\u001b[0m\u001b[1;33m:\u001b[0m\u001b[1;33m\u001b[0m\u001b[1;33m\u001b[0m\u001b[0m\n",
      "\u001b[1;32mC:\\ProgramData\\Anaconda3_new\\lib\\http\\client.py\u001b[0m in \u001b[0;36m_send_request\u001b[1;34m(self, method, url, body, headers, encode_chunked)\u001b[0m\n\u001b[0;32m   1329\u001b[0m             \u001b[1;31m# default charset of iso-8859-1.\u001b[0m\u001b[1;33m\u001b[0m\u001b[1;33m\u001b[0m\u001b[0m\n\u001b[0;32m   1330\u001b[0m             \u001b[0mbody\u001b[0m \u001b[1;33m=\u001b[0m \u001b[0m_encode\u001b[0m\u001b[1;33m(\u001b[0m\u001b[0mbody\u001b[0m\u001b[1;33m,\u001b[0m \u001b[1;34m'body'\u001b[0m\u001b[1;33m)\u001b[0m\u001b[1;33m\u001b[0m\u001b[1;33m\u001b[0m\u001b[0m\n\u001b[1;32m-> 1331\u001b[1;33m         \u001b[0mself\u001b[0m\u001b[1;33m.\u001b[0m\u001b[0mendheaders\u001b[0m\u001b[1;33m(\u001b[0m\u001b[0mbody\u001b[0m\u001b[1;33m,\u001b[0m \u001b[0mencode_chunked\u001b[0m\u001b[1;33m=\u001b[0m\u001b[0mencode_chunked\u001b[0m\u001b[1;33m)\u001b[0m\u001b[1;33m\u001b[0m\u001b[1;33m\u001b[0m\u001b[0m\n\u001b[0m\u001b[0;32m   1332\u001b[0m \u001b[1;33m\u001b[0m\u001b[0m\n\u001b[0;32m   1333\u001b[0m     \u001b[1;32mdef\u001b[0m \u001b[0mgetresponse\u001b[0m\u001b[1;33m(\u001b[0m\u001b[0mself\u001b[0m\u001b[1;33m)\u001b[0m\u001b[1;33m:\u001b[0m\u001b[1;33m\u001b[0m\u001b[1;33m\u001b[0m\u001b[0m\n",
      "\u001b[1;32mC:\\ProgramData\\Anaconda3_new\\lib\\http\\client.py\u001b[0m in \u001b[0;36mendheaders\u001b[1;34m(self, message_body, encode_chunked)\u001b[0m\n\u001b[0;32m   1278\u001b[0m         \u001b[1;32melse\u001b[0m\u001b[1;33m:\u001b[0m\u001b[1;33m\u001b[0m\u001b[1;33m\u001b[0m\u001b[0m\n\u001b[0;32m   1279\u001b[0m             \u001b[1;32mraise\u001b[0m \u001b[0mCannotSendHeader\u001b[0m\u001b[1;33m(\u001b[0m\u001b[1;33m)\u001b[0m\u001b[1;33m\u001b[0m\u001b[1;33m\u001b[0m\u001b[0m\n\u001b[1;32m-> 1280\u001b[1;33m         \u001b[0mself\u001b[0m\u001b[1;33m.\u001b[0m\u001b[0m_send_output\u001b[0m\u001b[1;33m(\u001b[0m\u001b[0mmessage_body\u001b[0m\u001b[1;33m,\u001b[0m \u001b[0mencode_chunked\u001b[0m\u001b[1;33m=\u001b[0m\u001b[0mencode_chunked\u001b[0m\u001b[1;33m)\u001b[0m\u001b[1;33m\u001b[0m\u001b[1;33m\u001b[0m\u001b[0m\n\u001b[0m\u001b[0;32m   1281\u001b[0m \u001b[1;33m\u001b[0m\u001b[0m\n\u001b[0;32m   1282\u001b[0m     def request(self, method, url, body=None, headers={}, *,\n",
      "\u001b[1;32mC:\\ProgramData\\Anaconda3_new\\lib\\http\\client.py\u001b[0m in \u001b[0;36m_send_output\u001b[1;34m(self, message_body, encode_chunked)\u001b[0m\n\u001b[0;32m   1038\u001b[0m         \u001b[0mmsg\u001b[0m \u001b[1;33m=\u001b[0m \u001b[1;34mb\"\\r\\n\"\u001b[0m\u001b[1;33m.\u001b[0m\u001b[0mjoin\u001b[0m\u001b[1;33m(\u001b[0m\u001b[0mself\u001b[0m\u001b[1;33m.\u001b[0m\u001b[0m_buffer\u001b[0m\u001b[1;33m)\u001b[0m\u001b[1;33m\u001b[0m\u001b[1;33m\u001b[0m\u001b[0m\n\u001b[0;32m   1039\u001b[0m         \u001b[1;32mdel\u001b[0m \u001b[0mself\u001b[0m\u001b[1;33m.\u001b[0m\u001b[0m_buffer\u001b[0m\u001b[1;33m[\u001b[0m\u001b[1;33m:\u001b[0m\u001b[1;33m]\u001b[0m\u001b[1;33m\u001b[0m\u001b[1;33m\u001b[0m\u001b[0m\n\u001b[1;32m-> 1040\u001b[1;33m         \u001b[0mself\u001b[0m\u001b[1;33m.\u001b[0m\u001b[0msend\u001b[0m\u001b[1;33m(\u001b[0m\u001b[0mmsg\u001b[0m\u001b[1;33m)\u001b[0m\u001b[1;33m\u001b[0m\u001b[1;33m\u001b[0m\u001b[0m\n\u001b[0m\u001b[0;32m   1041\u001b[0m \u001b[1;33m\u001b[0m\u001b[0m\n\u001b[0;32m   1042\u001b[0m         \u001b[1;32mif\u001b[0m \u001b[0mmessage_body\u001b[0m \u001b[1;32mis\u001b[0m \u001b[1;32mnot\u001b[0m \u001b[1;32mNone\u001b[0m\u001b[1;33m:\u001b[0m\u001b[1;33m\u001b[0m\u001b[1;33m\u001b[0m\u001b[0m\n",
      "\u001b[1;32mC:\\ProgramData\\Anaconda3_new\\lib\\http\\client.py\u001b[0m in \u001b[0;36msend\u001b[1;34m(self, data)\u001b[0m\n\u001b[0;32m    978\u001b[0m         \u001b[1;32mif\u001b[0m \u001b[0mself\u001b[0m\u001b[1;33m.\u001b[0m\u001b[0msock\u001b[0m \u001b[1;32mis\u001b[0m \u001b[1;32mNone\u001b[0m\u001b[1;33m:\u001b[0m\u001b[1;33m\u001b[0m\u001b[1;33m\u001b[0m\u001b[0m\n\u001b[0;32m    979\u001b[0m             \u001b[1;32mif\u001b[0m \u001b[0mself\u001b[0m\u001b[1;33m.\u001b[0m\u001b[0mauto_open\u001b[0m\u001b[1;33m:\u001b[0m\u001b[1;33m\u001b[0m\u001b[1;33m\u001b[0m\u001b[0m\n\u001b[1;32m--> 980\u001b[1;33m                 \u001b[0mself\u001b[0m\u001b[1;33m.\u001b[0m\u001b[0mconnect\u001b[0m\u001b[1;33m(\u001b[0m\u001b[1;33m)\u001b[0m\u001b[1;33m\u001b[0m\u001b[1;33m\u001b[0m\u001b[0m\n\u001b[0m\u001b[0;32m    981\u001b[0m             \u001b[1;32melse\u001b[0m\u001b[1;33m:\u001b[0m\u001b[1;33m\u001b[0m\u001b[1;33m\u001b[0m\u001b[0m\n\u001b[0;32m    982\u001b[0m                 \u001b[1;32mraise\u001b[0m \u001b[0mNotConnected\u001b[0m\u001b[1;33m(\u001b[0m\u001b[1;33m)\u001b[0m\u001b[1;33m\u001b[0m\u001b[1;33m\u001b[0m\u001b[0m\n",
      "\u001b[1;32mC:\\ProgramData\\Anaconda3_new\\lib\\http\\client.py\u001b[0m in \u001b[0;36mconnect\u001b[1;34m(self)\u001b[0m\n\u001b[0;32m   1452\u001b[0m                 \u001b[0mserver_hostname\u001b[0m \u001b[1;33m=\u001b[0m \u001b[0mself\u001b[0m\u001b[1;33m.\u001b[0m\u001b[0mhost\u001b[0m\u001b[1;33m\u001b[0m\u001b[1;33m\u001b[0m\u001b[0m\n\u001b[0;32m   1453\u001b[0m \u001b[1;33m\u001b[0m\u001b[0m\n\u001b[1;32m-> 1454\u001b[1;33m             self.sock = self._context.wrap_socket(self.sock,\n\u001b[0m\u001b[0;32m   1455\u001b[0m                                                   server_hostname=server_hostname)\n\u001b[0;32m   1456\u001b[0m \u001b[1;33m\u001b[0m\u001b[0m\n",
      "\u001b[1;32mC:\\ProgramData\\Anaconda3_new\\lib\\ssl.py\u001b[0m in \u001b[0;36mwrap_socket\u001b[1;34m(self, sock, server_side, do_handshake_on_connect, suppress_ragged_eofs, server_hostname, session)\u001b[0m\n\u001b[0;32m    499\u001b[0m         \u001b[1;31m# SSLSocket class handles server_hostname encoding before it calls\u001b[0m\u001b[1;33m\u001b[0m\u001b[1;33m\u001b[0m\u001b[0m\n\u001b[0;32m    500\u001b[0m         \u001b[1;31m# ctx._wrap_socket()\u001b[0m\u001b[1;33m\u001b[0m\u001b[1;33m\u001b[0m\u001b[0m\n\u001b[1;32m--> 501\u001b[1;33m         return self.sslsocket_class._create(\n\u001b[0m\u001b[0;32m    502\u001b[0m             \u001b[0msock\u001b[0m\u001b[1;33m=\u001b[0m\u001b[0msock\u001b[0m\u001b[1;33m,\u001b[0m\u001b[1;33m\u001b[0m\u001b[1;33m\u001b[0m\u001b[0m\n\u001b[0;32m    503\u001b[0m             \u001b[0mserver_side\u001b[0m\u001b[1;33m=\u001b[0m\u001b[0mserver_side\u001b[0m\u001b[1;33m,\u001b[0m\u001b[1;33m\u001b[0m\u001b[1;33m\u001b[0m\u001b[0m\n",
      "\u001b[1;32mC:\\ProgramData\\Anaconda3_new\\lib\\ssl.py\u001b[0m in \u001b[0;36m_create\u001b[1;34m(cls, sock, server_side, do_handshake_on_connect, suppress_ragged_eofs, server_hostname, context, session)\u001b[0m\n\u001b[0;32m   1039\u001b[0m                         \u001b[1;31m# non-blocking\u001b[0m\u001b[1;33m\u001b[0m\u001b[1;33m\u001b[0m\u001b[0m\n\u001b[0;32m   1040\u001b[0m                         \u001b[1;32mraise\u001b[0m \u001b[0mValueError\u001b[0m\u001b[1;33m(\u001b[0m\u001b[1;34m\"do_handshake_on_connect should not be specified for non-blocking sockets\"\u001b[0m\u001b[1;33m)\u001b[0m\u001b[1;33m\u001b[0m\u001b[1;33m\u001b[0m\u001b[0m\n\u001b[1;32m-> 1041\u001b[1;33m                     \u001b[0mself\u001b[0m\u001b[1;33m.\u001b[0m\u001b[0mdo_handshake\u001b[0m\u001b[1;33m(\u001b[0m\u001b[1;33m)\u001b[0m\u001b[1;33m\u001b[0m\u001b[1;33m\u001b[0m\u001b[0m\n\u001b[0m\u001b[0;32m   1042\u001b[0m             \u001b[1;32mexcept\u001b[0m \u001b[1;33m(\u001b[0m\u001b[0mOSError\u001b[0m\u001b[1;33m,\u001b[0m \u001b[0mValueError\u001b[0m\u001b[1;33m)\u001b[0m\u001b[1;33m:\u001b[0m\u001b[1;33m\u001b[0m\u001b[1;33m\u001b[0m\u001b[0m\n\u001b[0;32m   1043\u001b[0m                 \u001b[0mself\u001b[0m\u001b[1;33m.\u001b[0m\u001b[0mclose\u001b[0m\u001b[1;33m(\u001b[0m\u001b[1;33m)\u001b[0m\u001b[1;33m\u001b[0m\u001b[1;33m\u001b[0m\u001b[0m\n",
      "\u001b[1;32mC:\\ProgramData\\Anaconda3_new\\lib\\ssl.py\u001b[0m in \u001b[0;36mdo_handshake\u001b[1;34m(self, block)\u001b[0m\n\u001b[0;32m   1308\u001b[0m             \u001b[1;32mif\u001b[0m \u001b[0mtimeout\u001b[0m \u001b[1;33m==\u001b[0m \u001b[1;36m0.0\u001b[0m \u001b[1;32mand\u001b[0m \u001b[0mblock\u001b[0m\u001b[1;33m:\u001b[0m\u001b[1;33m\u001b[0m\u001b[1;33m\u001b[0m\u001b[0m\n\u001b[0;32m   1309\u001b[0m                 \u001b[0mself\u001b[0m\u001b[1;33m.\u001b[0m\u001b[0msettimeout\u001b[0m\u001b[1;33m(\u001b[0m\u001b[1;32mNone\u001b[0m\u001b[1;33m)\u001b[0m\u001b[1;33m\u001b[0m\u001b[1;33m\u001b[0m\u001b[0m\n\u001b[1;32m-> 1310\u001b[1;33m             \u001b[0mself\u001b[0m\u001b[1;33m.\u001b[0m\u001b[0m_sslobj\u001b[0m\u001b[1;33m.\u001b[0m\u001b[0mdo_handshake\u001b[0m\u001b[1;33m(\u001b[0m\u001b[1;33m)\u001b[0m\u001b[1;33m\u001b[0m\u001b[1;33m\u001b[0m\u001b[0m\n\u001b[0m\u001b[0;32m   1311\u001b[0m         \u001b[1;32mfinally\u001b[0m\u001b[1;33m:\u001b[0m\u001b[1;33m\u001b[0m\u001b[1;33m\u001b[0m\u001b[0m\n\u001b[0;32m   1312\u001b[0m             \u001b[0mself\u001b[0m\u001b[1;33m.\u001b[0m\u001b[0msettimeout\u001b[0m\u001b[1;33m(\u001b[0m\u001b[0mtimeout\u001b[0m\u001b[1;33m)\u001b[0m\u001b[1;33m\u001b[0m\u001b[1;33m\u001b[0m\u001b[0m\n",
      "\u001b[1;31mKeyboardInterrupt\u001b[0m: "
     ]
    }
   ],
   "source": [
    "res = get(save)"
   ]
  },
  {
   "cell_type": "code",
   "execution_count": 308,
   "id": "a8631c44-0e1f-429a-b23c-2f1d9a065060",
   "metadata": {
    "tags": []
   },
   "outputs": [],
   "source": [
    "df = res"
   ]
  },
  {
   "cell_type": "code",
   "execution_count": 316,
   "id": "eeee7df0-ebe8-4f32-a5e4-5af18fced8a6",
   "metadata": {},
   "outputs": [],
   "source": [
    "backup = res"
   ]
  },
  {
   "cell_type": "code",
   "execution_count": 309,
   "id": "552cd7c2-ae8d-41e0-ada3-ab4351ce9134",
   "metadata": {},
   "outputs": [],
   "source": [
    "def f1(df):\n",
    "    df['key'] = df.axes[0].tolist()\n",
    "    return df"
   ]
  },
  {
   "cell_type": "code",
   "execution_count": 310,
   "id": "9772e8ec-0d24-4497-a6de-396d934d5785",
   "metadata": {},
   "outputs": [],
   "source": [
    "df = [d.set_index('key') for d in df]\n",
    "# df = [f1(d) for d in df]"
   ]
  },
  {
   "cell_type": "code",
   "execution_count": 381,
   "id": "5f9a2843-d25b-495d-9add-89420f099493",
   "metadata": {},
   "outputs": [],
   "source": [
    "def f2(df):\n",
    "    df.columns = [df.loc['link'][0]]\n",
    "    return df"
   ]
  },
  {
   "cell_type": "code",
   "execution_count": 382,
   "id": "490c8b06-1553-4237-b29b-58739fd4eb7d",
   "metadata": {
    "tags": []
   },
   "outputs": [],
   "source": [
    "df = [f2(d) for d in df]"
   ]
  },
  {
   "cell_type": "code",
   "execution_count": 387,
   "id": "07931c05-26ca-4584-bfc7-2b2a41d57eb1",
   "metadata": {},
   "outputs": [],
   "source": [
    "rawdata = df[0].join(df[1:], how = \"outer\")"
   ]
  },
  {
   "cell_type": "code",
   "execution_count": 392,
   "id": "74fb7a34-b651-45ad-9897-641efdb6c7ab",
   "metadata": {},
   "outputs": [],
   "source": [
    "raw = rawdata.transpose()"
   ]
  },
  {
   "cell_type": "code",
   "execution_count": 394,
   "id": "1f086260-15cc-4a00-bd04-e40f20693362",
   "metadata": {},
   "outputs": [],
   "source": [
    "raw.to_csv('raw.csv')"
   ]
  },
  {
   "cell_type": "code",
   "execution_count": 395,
   "id": "79e76813-d05f-48b8-8590-1ee42588075e",
   "metadata": {},
   "outputs": [],
   "source": [
    "##################################################################################################################\n",
    "# Extract data\n",
    "##################################################################################################################"
   ]
  },
  {
   "cell_type": "code",
   "execution_count": 399,
   "id": "1f6f7537-9dda-499f-8666-4402febb74d1",
   "metadata": {},
   "outputs": [],
   "source": [
    "df = raw"
   ]
  },
  {
   "cell_type": "code",
   "execution_count": 414,
   "id": "30d3ae42-65d2-4426-8f5f-a564f5bc6be3",
   "metadata": {
    "tags": []
   },
   "outputs": [],
   "source": [
    "link_and_name = df[df.columns[0:2]]"
   ]
  },
  {
   "cell_type": "code",
   "execution_count": 426,
   "id": "e64ffaac-857d-41a4-88a6-c3a602748a72",
   "metadata": {
    "tags": []
   },
   "outputs": [],
   "source": [
    "dom_box = df[df.columns[2]].to_frame()\n",
    "dom_box = dom_box.replace(',', '', regex = True)\n",
    "dom_box = dom_box.apply(pd.to_numeric)"
   ]
  },
  {
   "cell_type": "code",
   "execution_count": 427,
   "id": "5c9fbc6b-bfcf-4de6-aeec-18fba2bf449f",
   "metadata": {},
   "outputs": [],
   "source": [
    "int_box = df[df.columns[3]].to_frame()\n",
    "int_box = int_box.replace(',', '', regex = True)\n",
    "int_box = int_box.apply(pd.to_numeric)"
   ]
  },
  {
   "cell_type": "code",
   "execution_count": 434,
   "id": "fce9b370-4c00-4eee-82f6-328da34a35a1",
   "metadata": {},
   "outputs": [],
   "source": [
    "wor_box = df[df.columns[4]].to_frame()\n",
    "wor_box = wor_box.replace(',', '', regex = True)\n",
    "wor_box = wor_box.apply(pd.to_numeric)"
   ]
  },
  {
   "cell_type": "code",
   "execution_count": 546,
   "id": "8dd1cd72-dd5f-4d1a-ad05-25533397fe60",
   "metadata": {
    "tags": []
   },
   "outputs": [
    {
     "name": "stderr",
     "output_type": "stream",
     "text": [
      "C:\\Users\\kongw\\AppData\\Local\\Temp\\ipykernel_29100\\426625156.py:1: FutureWarning: The default dtype for empty Series will be 'object' instead of 'float64' in a future version. Specify a dtype explicitly to silence this warning.\n",
      "  dom_rel = pd.Series([])\n",
      "C:\\Users\\kongw\\AppData\\Local\\Temp\\ipykernel_29100\\426625156.py:2: FutureWarning: The default dtype for empty Series will be 'object' instead of 'float64' in a future version. Specify a dtype explicitly to silence this warning.\n",
      "  year = pd.Series([])\n"
     ]
    }
   ],
   "source": [
    "dom_rel = pd.Series([])\n",
    "year = pd.Series([])\n",
    "reg_r1 = r\"(?:<td>)(.*?,{0,1} {0,1}\\d{4})\"\n",
    "reg_r2 = r\"\\d{4}\"\n",
    "for index, row in df[df.columns[5]].to_frame().iterrows():\n",
    "    d = \"\"\n",
    "    d2 = \"\"\n",
    "    if not pd.isna(row[0]):\n",
    "        d = re.findall(reg_r1, row[0], re.MULTILINE)\n",
    "        d2 = re.findall(reg_r2, d[0])\n",
    "    with warnings.catch_warnings():\n",
    "        warnings.simplefilter(action='ignore', category=FutureWarning)\n",
    "        dom_rel = dom_rel.append(pd.Series(data = d, index = [index]))\n",
    "        year = year.append(pd.Series(data = d2, index = [index]))"
   ]
  },
  {
   "cell_type": "code",
   "execution_count": 556,
   "id": "c9d6efef-9602-4d7e-a5ce-a5731a0b78f6",
   "metadata": {
    "tags": []
   },
   "outputs": [],
   "source": [
    "rel = pd.DataFrame({'key':dom_rel.index, 'Domestic Release':dom_rel.values, 'Dom Year':year.values})\n",
    "rel = rel.set_index('key')"
   ]
  },
  {
   "cell_type": "code",
   "execution_count": 558,
   "id": "3c2248fa-5ff0-40a8-9a95-088feb49dba8",
   "metadata": {},
   "outputs": [
    {
     "name": "stderr",
     "output_type": "stream",
     "text": [
      "C:\\Users\\kongw\\AppData\\Local\\Temp\\ipykernel_29100\\3760324377.py:1: FutureWarning: The default dtype for empty Series will be 'object' instead of 'float64' in a future version. Specify a dtype explicitly to silence this warning.\n",
      "  int_rel = pd.Series([])\n",
      "C:\\Users\\kongw\\AppData\\Local\\Temp\\ipykernel_29100\\3760324377.py:2: FutureWarning: The default dtype for empty Series will be 'object' instead of 'float64' in a future version. Specify a dtype explicitly to silence this warning.\n",
      "  int_year = pd.Series([])\n"
     ]
    }
   ],
   "source": [
    "int_rel = pd.Series([])\n",
    "int_year = pd.Series([])\n",
    "reg_r1 = r\"(?:<td>)(.*?,{0,1} {0,1}\\d{4})\"\n",
    "reg_r2 = r\"\\d{4}\"\n",
    "for index, row in df[df.columns[6]].to_frame().iterrows():\n",
    "    d = \"\"\n",
    "    d2 = \"\"\n",
    "    if not pd.isna(row[0]):\n",
    "        d = re.findall(reg_r1, row[0], re.MULTILINE)\n",
    "        d2 = re.findall(reg_r2, d[0])\n",
    "    with warnings.catch_warnings():\n",
    "        warnings.simplefilter(action='ignore', category=FutureWarning)\n",
    "        int_rel = int_rel.append(pd.Series(data = d, index = [index]))\n",
    "        int_year = int_year.append(pd.Series(data = d2, index = [index]))"
   ]
  },
  {
   "cell_type": "code",
   "execution_count": 559,
   "id": "fcdf8294-1ed5-4696-92b5-d60c3abfe666",
   "metadata": {},
   "outputs": [],
   "source": [
    "int_rel = pd.DataFrame({'key':int_rel.index, 'International Release':int_rel.values, 'Int Year':int_year.values})\n",
    "int_rel = int_rel.set_index('key')"
   ]
  },
  {
   "cell_type": "code",
   "execution_count": 580,
   "id": "56392aa5-fda0-4ca1-a1ff-95d5158ab535",
   "metadata": {},
   "outputs": [
    {
     "name": "stderr",
     "output_type": "stream",
     "text": [
      "C:\\Users\\kongw\\AppData\\Local\\Temp\\ipykernel_29100\\1044994531.py:1: FutureWarning: The default dtype for empty Series will be 'object' instead of 'float64' in a future version. Specify a dtype explicitly to silence this warning.\n",
      "  rat = pd.Series([])\n"
     ]
    }
   ],
   "source": [
    "rat = pd.Series([])\n",
    "reg_r1 = r\"(?:\\\">)(.+?)(?:<\\/)\"\n",
    "for index, row in df[df.columns[7]].to_frame().iterrows():\n",
    "    d = \"\"\n",
    "    if not pd.isna(row[0]):\n",
    "        d = re.findall(reg_r1, row[0], re.MULTILINE)\n",
    "        d = d[0]\n",
    "    with warnings.catch_warnings():\n",
    "        warnings.simplefilter(action='ignore', category=FutureWarning)\n",
    "        rat = rat.append(pd.Series(data = d, index = [index]))"
   ]
  },
  {
   "cell_type": "code",
   "execution_count": 581,
   "id": "7a4e0e79-caf5-47e7-8f5a-f5d1972cdbc2",
   "metadata": {
    "tags": []
   },
   "outputs": [],
   "source": [
    "rat = rat.to_frame()\n",
    "rat.columns = ['Rating']"
   ]
  },
  {
   "cell_type": "code",
   "execution_count": 596,
   "id": "146185c8-47e1-418b-a91e-d0914b49f0af",
   "metadata": {},
   "outputs": [
    {
     "name": "stderr",
     "output_type": "stream",
     "text": [
      "C:\\Users\\kongw\\AppData\\Local\\Temp\\ipykernel_29100\\1515363466.py:1: FutureWarning: The default dtype for empty Series will be 'object' instead of 'float64' in a future version. Specify a dtype explicitly to silence this warning.\n",
      "  run = pd.Series([])\n"
     ]
    }
   ],
   "source": [
    "run = pd.Series([])\n",
    "reg_r1 = r\"(\\d+?)(?: minutes)\"\n",
    "for index, row in df[df.columns[8]].to_frame().iterrows():\n",
    "    d = np.nan\n",
    "    if not pd.isna(row[0]):\n",
    "        d = re.findall(reg_r1, row[0], re.MULTILINE)\n",
    "        d = d[0]\n",
    "    with warnings.catch_warnings():\n",
    "        warnings.simplefilter(action='ignore', category=FutureWarning)\n",
    "        run = run.append(pd.Series(data = d, index = [index]))"
   ]
  },
  {
   "cell_type": "code",
   "execution_count": 597,
   "id": "9283454a-75bb-44fc-8a28-1371aebb7ae2",
   "metadata": {},
   "outputs": [],
   "source": [
    "run = run.to_frame()\n",
    "run.columns = ['Runtime']\n",
    "run = pd.to_numeric(run['Runtime'])"
   ]
  },
  {
   "cell_type": "code",
   "execution_count": 607,
   "id": "66171f6a-c229-47d6-89e4-1f240cf7026f",
   "metadata": {},
   "outputs": [
    {
     "name": "stderr",
     "output_type": "stream",
     "text": [
      "C:\\Users\\kongw\\AppData\\Local\\Temp\\ipykernel_29100\\503250315.py:1: FutureWarning: The default dtype for empty Series will be 'object' instead of 'float64' in a future version. Specify a dtype explicitly to silence this warning.\n",
      "  fra = pd.Series([])\n"
     ]
    }
   ],
   "source": [
    "fra = pd.Series([])\n",
    "reg_r1 = r\"(?:\\\">)(.+?)(?:<\\/)\"\n",
    "for index, row in df[df.columns[9]].to_frame().iterrows():\n",
    "    d = \"\"\n",
    "    if not pd.isna(row[0]):\n",
    "        d = re.findall(reg_r1, row[0], re.MULTILINE)\n",
    "    with warnings.catch_warnings():\n",
    "        warnings.simplefilter(action='ignore', category=FutureWarning)\n",
    "        fra = fra.append(pd.Series(data = [d], index = [index]))"
   ]
  },
  {
   "cell_type": "code",
   "execution_count": 610,
   "id": "2fde3af8-5c40-4d7f-a402-6e68a8514ca7",
   "metadata": {},
   "outputs": [],
   "source": [
    "fra = fra.to_frame()\n",
    "fra.columns = ['Franchise']"
   ]
  },
  {
   "cell_type": "code",
   "execution_count": 624,
   "id": "3e93ac6b-6f37-4d99-8d6f-3ad1a8f01f36",
   "metadata": {},
   "outputs": [
    {
     "name": "stderr",
     "output_type": "stream",
     "text": [
      "C:\\Users\\kongw\\AppData\\Local\\Temp\\ipykernel_29100\\2161588769.py:1: FutureWarning: The default dtype for empty Series will be 'object' instead of 'float64' in a future version. Specify a dtype explicitly to silence this warning.\n",
      "  keyw = pd.Series([])\n"
     ]
    }
   ],
   "source": [
    "keyw = pd.Series([])\n",
    "reg_r1 = r\"(?:\\\">)(.+?)(?:<\\/a)\"\n",
    "for index, row in df[df.columns[11]].to_frame().iterrows():\n",
    "    d = \"\"\n",
    "    if not pd.isna(row[0]):\n",
    "        d = re.findall(reg_r1, row[0], re.MULTILINE)\n",
    "    with warnings.catch_warnings():\n",
    "        warnings.simplefilter(action='ignore', category=FutureWarning)\n",
    "        keyw = keyw.append(pd.Series(data = [d], index = [index]))"
   ]
  },
  {
   "cell_type": "code",
   "execution_count": 625,
   "id": "88e581eb-3fab-4d26-a032-22b917aa81a8",
   "metadata": {},
   "outputs": [],
   "source": [
    "keyw = keyw.to_frame()\n",
    "keyw.columns = ['Keywords']"
   ]
  },
  {
   "cell_type": "code",
   "execution_count": 633,
   "id": "662a6ba5-1022-4c43-826e-15d4ba86225c",
   "metadata": {},
   "outputs": [
    {
     "name": "stderr",
     "output_type": "stream",
     "text": [
      "C:\\Users\\kongw\\AppData\\Local\\Temp\\ipykernel_29100\\2265188621.py:1: FutureWarning: The default dtype for empty Series will be 'object' instead of 'float64' in a future version. Specify a dtype explicitly to silence this warning.\n",
      "  gen = pd.Series([])\n"
     ]
    }
   ],
   "source": [
    "gen = pd.Series([])\n",
    "reg_r1 = r\"(?:\\\">)(.+?)(?:<\\/a)\"\n",
    "for index, row in df[df.columns[13]].to_frame().iterrows():\n",
    "    d = \"\"\n",
    "    if not pd.isna(row[0]):\n",
    "        d = re.findall(reg_r1, row[0], re.MULTILINE)\n",
    "    with warnings.catch_warnings():\n",
    "        warnings.simplefilter(action='ignore', category=FutureWarning)\n",
    "        gen = gen.append(pd.Series(data = d, index = [index]))"
   ]
  },
  {
   "cell_type": "code",
   "execution_count": 642,
   "id": "48018169-11de-41df-aa5a-c10d3998ce79",
   "metadata": {
    "collapsed": true,
    "jupyter": {
     "outputs_hidden": true
    },
    "tags": []
   },
   "outputs": [
    {
     "ename": "AttributeError",
     "evalue": "'DataFrame' object has no attribute 'to_frame'",
     "output_type": "error",
     "traceback": [
      "\u001b[1;31m---------------------------------------------------------------------------\u001b[0m",
      "\u001b[1;31mAttributeError\u001b[0m                            Traceback (most recent call last)",
      "\u001b[1;32m~\\AppData\\Local\\Temp\\ipykernel_29100\\4252999356.py\u001b[0m in \u001b[0;36m<module>\u001b[1;34m\u001b[0m\n\u001b[1;32m----> 1\u001b[1;33m \u001b[0mgen\u001b[0m \u001b[1;33m=\u001b[0m \u001b[0mgen\u001b[0m\u001b[1;33m.\u001b[0m\u001b[0mto_frame\u001b[0m\u001b[1;33m(\u001b[0m\u001b[1;33m)\u001b[0m\u001b[1;33m\u001b[0m\u001b[1;33m\u001b[0m\u001b[0m\n\u001b[0m\u001b[0;32m      2\u001b[0m \u001b[0mgen\u001b[0m\u001b[1;33m.\u001b[0m\u001b[0mcolumns\u001b[0m \u001b[1;33m=\u001b[0m \u001b[1;33m[\u001b[0m\u001b[1;34m'Genre'\u001b[0m\u001b[1;33m]\u001b[0m\u001b[1;33m\u001b[0m\u001b[1;33m\u001b[0m\u001b[0m\n",
      "\u001b[1;32mC:\\ProgramData\\Anaconda3_new\\lib\\site-packages\\pandas\\core\\generic.py\u001b[0m in \u001b[0;36m__getattr__\u001b[1;34m(self, name)\u001b[0m\n\u001b[0;32m   5573\u001b[0m         ):\n\u001b[0;32m   5574\u001b[0m             \u001b[1;32mreturn\u001b[0m \u001b[0mself\u001b[0m\u001b[1;33m[\u001b[0m\u001b[0mname\u001b[0m\u001b[1;33m]\u001b[0m\u001b[1;33m\u001b[0m\u001b[1;33m\u001b[0m\u001b[0m\n\u001b[1;32m-> 5575\u001b[1;33m         \u001b[1;32mreturn\u001b[0m \u001b[0mobject\u001b[0m\u001b[1;33m.\u001b[0m\u001b[0m__getattribute__\u001b[0m\u001b[1;33m(\u001b[0m\u001b[0mself\u001b[0m\u001b[1;33m,\u001b[0m \u001b[0mname\u001b[0m\u001b[1;33m)\u001b[0m\u001b[1;33m\u001b[0m\u001b[1;33m\u001b[0m\u001b[0m\n\u001b[0m\u001b[0;32m   5576\u001b[0m \u001b[1;33m\u001b[0m\u001b[0m\n\u001b[0;32m   5577\u001b[0m     \u001b[1;32mdef\u001b[0m \u001b[0m__setattr__\u001b[0m\u001b[1;33m(\u001b[0m\u001b[0mself\u001b[0m\u001b[1;33m,\u001b[0m \u001b[0mname\u001b[0m\u001b[1;33m:\u001b[0m \u001b[0mstr\u001b[0m\u001b[1;33m,\u001b[0m \u001b[0mvalue\u001b[0m\u001b[1;33m)\u001b[0m \u001b[1;33m->\u001b[0m \u001b[1;32mNone\u001b[0m\u001b[1;33m:\u001b[0m\u001b[1;33m\u001b[0m\u001b[1;33m\u001b[0m\u001b[0m\n",
      "\u001b[1;31mAttributeError\u001b[0m: 'DataFrame' object has no attribute 'to_frame'"
     ]
    }
   ],
   "source": [
    "gen = gen.to_frame()\n",
    "gen.columns = ['Genre']"
   ]
  },
  {
   "cell_type": "code",
   "execution_count": 651,
   "id": "7263c22d-a5b9-48f9-b2c3-90dca8d48f46",
   "metadata": {},
   "outputs": [
    {
     "name": "stderr",
     "output_type": "stream",
     "text": [
      "C:\\Users\\kongw\\AppData\\Local\\Temp\\ipykernel_29100\\1207845012.py:1: FutureWarning: The default dtype for empty Series will be 'object' instead of 'float64' in a future version. Specify a dtype explicitly to silence this warning.\n",
      "  pro = pd.Series([])\n"
     ]
    }
   ],
   "source": [
    "pro = pd.Series([])\n",
    "reg_r1 = r\"(?:\\\">)(.+?)(?:<\\/a)\"\n",
    "for index, row in df[df.columns[14]].to_frame().iterrows():\n",
    "    d = \"\"\n",
    "    if not pd.isna(row[0]):\n",
    "        d = re.findall(reg_r1, row[0], re.MULTILINE)\n",
    "    with warnings.catch_warnings():\n",
    "        warnings.simplefilter(action='ignore', category=FutureWarning)\n",
    "        pro = pro.append(pd.Series(data = d, index = [index]))"
   ]
  },
  {
   "cell_type": "code",
   "execution_count": 652,
   "id": "d8d51b35-1b4a-4b4e-98ef-690cf660ae47",
   "metadata": {},
   "outputs": [],
   "source": [
    "pro = pro.to_frame()\n",
    "pro.columns = ['Production Method']"
   ]
  },
  {
   "cell_type": "code",
   "execution_count": 659,
   "id": "df6c77fa-3635-4876-80dd-32d0aee064a9",
   "metadata": {},
   "outputs": [
    {
     "name": "stderr",
     "output_type": "stream",
     "text": [
      "C:\\Users\\kongw\\AppData\\Local\\Temp\\ipykernel_29100\\2440901688.py:1: FutureWarning: The default dtype for empty Series will be 'object' instead of 'float64' in a future version. Specify a dtype explicitly to silence this warning.\n",
      "  cre = pd.Series([])\n"
     ]
    }
   ],
   "source": [
    "cre = pd.Series([])\n",
    "reg_r1 = r\"(?:\\\">)(.+?)(?:<\\/a)\"\n",
    "for index, row in df[df.columns[15]].to_frame().iterrows():\n",
    "    d = \"\"\n",
    "    if not pd.isna(row[0]):\n",
    "        d = re.findall(reg_r1, row[0], re.MULTILINE)\n",
    "    with warnings.catch_warnings():\n",
    "        warnings.simplefilter(action='ignore', category=FutureWarning)\n",
    "        cre = cre.append(pd.Series(data = d, index = [index]))"
   ]
  },
  {
   "cell_type": "code",
   "execution_count": 660,
   "id": "70584fc3-3813-4d79-957d-c8456a7fb86e",
   "metadata": {},
   "outputs": [],
   "source": [
    "cre = cre.to_frame()\n",
    "cre.columns = ['Creative Type']"
   ]
  },
  {
   "cell_type": "code",
   "execution_count": 665,
   "id": "5f73e4d2-9c44-4847-af04-a995ff748134",
   "metadata": {},
   "outputs": [
    {
     "name": "stderr",
     "output_type": "stream",
     "text": [
      "C:\\Users\\kongw\\AppData\\Local\\Temp\\ipykernel_29100\\3104245943.py:1: FutureWarning: The default dtype for empty Series will be 'object' instead of 'float64' in a future version. Specify a dtype explicitly to silence this warning.\n",
      "  com = pd.Series([])\n"
     ]
    }
   ],
   "source": [
    "com = pd.Series([])\n",
    "reg_r1 = r\"(?:\\\">)(.+?)(?:<\\/a)\"\n",
    "for index, row in df[df.columns[16]].to_frame().iterrows():\n",
    "    d = \"\"\n",
    "    if not pd.isna(row[0]):\n",
    "        d = re.findall(reg_r1, row[0], re.MULTILINE)\n",
    "    with warnings.catch_warnings():\n",
    "        warnings.simplefilter(action='ignore', category=FutureWarning)\n",
    "        com = com.append(pd.Series(data = [d], index = [index]))"
   ]
  },
  {
   "cell_type": "code",
   "execution_count": 666,
   "id": "b82282f3-e363-4240-a20e-79d6144e9b11",
   "metadata": {},
   "outputs": [],
   "source": [
    "com = com.to_frame()\n",
    "com.columns = ['Production/Financing Companies']"
   ]
  },
  {
   "cell_type": "code",
   "execution_count": 672,
   "id": "744c315a-fcc7-4944-9a5d-ffac56e9d5e1",
   "metadata": {},
   "outputs": [
    {
     "name": "stderr",
     "output_type": "stream",
     "text": [
      "C:\\Users\\kongw\\AppData\\Local\\Temp\\ipykernel_29100\\4123167272.py:1: FutureWarning: The default dtype for empty Series will be 'object' instead of 'float64' in a future version. Specify a dtype explicitly to silence this warning.\n",
      "  cou = pd.Series([])\n"
     ]
    }
   ],
   "source": [
    "cou = pd.Series([])\n",
    "reg_r1 = r\"(?:\\\">)(.+?)(?:<\\/a)\"\n",
    "for index, row in df[df.columns[17]].to_frame().iterrows():\n",
    "    d = \"\"\n",
    "    if not pd.isna(row[0]):\n",
    "        d = re.findall(reg_r1, row[0], re.MULTILINE)\n",
    "    with warnings.catch_warnings():\n",
    "        warnings.simplefilter(action='ignore', category=FutureWarning)\n",
    "        cou = cou.append(pd.Series(data = [d], index = [index]))"
   ]
  },
  {
   "cell_type": "code",
   "execution_count": 673,
   "id": "bbdd1354-7ef2-4c31-8e0b-f1e7fec80789",
   "metadata": {},
   "outputs": [],
   "source": [
    "cou = cou.to_frame()\n",
    "cou.columns = ['Production Country']"
   ]
  },
  {
   "cell_type": "code",
   "execution_count": 677,
   "id": "08ae4094-847d-4a4d-9a8b-68977c36130c",
   "metadata": {},
   "outputs": [
    {
     "name": "stderr",
     "output_type": "stream",
     "text": [
      "C:\\Users\\kongw\\AppData\\Local\\Temp\\ipykernel_29100\\4183855760.py:1: FutureWarning: The default dtype for empty Series will be 'object' instead of 'float64' in a future version. Specify a dtype explicitly to silence this warning.\n",
      "  lan = pd.Series([])\n"
     ]
    }
   ],
   "source": [
    "lan = pd.Series([])\n",
    "reg_r1 = r\"(?:\\\">)(.+?)(?:<\\/a)\"\n",
    "for index, row in df[df.columns[18]].to_frame().iterrows():\n",
    "    d = \"\"\n",
    "    if not pd.isna(row[0]):\n",
    "        d = re.findall(reg_r1, row[0], re.MULTILINE)\n",
    "    with warnings.catch_warnings():\n",
    "        warnings.simplefilter(action='ignore', category=FutureWarning)\n",
    "        lan = lan.append(pd.Series(data = [d], index = [index]))"
   ]
  },
  {
   "cell_type": "code",
   "execution_count": 678,
   "id": "d86bff10-8b05-452a-94a5-70d44917c0b8",
   "metadata": {},
   "outputs": [],
   "source": [
    "lan = lan.to_frame()\n",
    "lan.columns = ['Languages']"
   ]
  },
  {
   "cell_type": "code",
   "execution_count": 682,
   "id": "c9c19ade-2da4-4012-bd0c-f7da0e5ecee8",
   "metadata": {},
   "outputs": [
    {
     "name": "stderr",
     "output_type": "stream",
     "text": [
      "C:\\Users\\kongw\\AppData\\Local\\Temp\\ipykernel_29100\\2397918207.py:1: FutureWarning: The default dtype for empty Series will be 'object' instead of 'float64' in a future version. Specify a dtype explicitly to silence this warning.\n",
      "  lead = pd.Series([])\n"
     ]
    }
   ],
   "source": [
    "lead = pd.Series([])\n",
    "reg_r1 = r\"(?:\\\">)([^<>]+?)(?:<\\/a)\"\n",
    "for index, row in df[df.columns[19]].to_frame().iterrows():\n",
    "    d = \"\"\n",
    "    if not pd.isna(row[0]):\n",
    "        d = re.findall(reg_r1, row[0], re.MULTILINE)\n",
    "    with warnings.catch_warnings():\n",
    "        warnings.simplefilter(action='ignore', category=FutureWarning)\n",
    "        lead = lead.append(pd.Series(data = [d], index = [index]))"
   ]
  },
  {
   "cell_type": "code",
   "execution_count": 683,
   "id": "3aa3a158-77ec-4b01-b8c7-98ebc99f849a",
   "metadata": {},
   "outputs": [],
   "source": [
    "lead = lead.to_frame()\n",
    "lead.columns = ['Leading Cast']"
   ]
  },
  {
   "cell_type": "code",
   "execution_count": 690,
   "id": "a3f9f10c-811b-409c-900f-80f65420a79f",
   "metadata": {},
   "outputs": [
    {
     "name": "stderr",
     "output_type": "stream",
     "text": [
      "C:\\Users\\kongw\\AppData\\Local\\Temp\\ipykernel_29100\\3410085375.py:1: FutureWarning: The default dtype for empty Series will be 'object' instead of 'float64' in a future version. Specify a dtype explicitly to silence this warning.\n",
      "  sup = pd.Series([])\n"
     ]
    }
   ],
   "source": [
    "sup = pd.Series([])\n",
    "reg_r1 = r\"(?:\\\">)([^<>]+?)(?:<\\/a)\"\n",
    "for index, row in df[df.columns[20]].to_frame().iterrows():\n",
    "    d = \"\"\n",
    "    if not pd.isna(row[0]):\n",
    "        d = re.findall(reg_r1, row[0], re.MULTILINE)\n",
    "    with warnings.catch_warnings():\n",
    "        warnings.simplefilter(action='ignore', category=FutureWarning)\n",
    "        sup = sup.append(pd.Series(data = [d], index = [index]))"
   ]
  },
  {
   "cell_type": "code",
   "execution_count": 691,
   "id": "84395d74-46fb-43ba-8841-cabfe2457b9f",
   "metadata": {},
   "outputs": [],
   "source": [
    "sup = sup.to_frame()\n",
    "sup.columns = ['Supporting Cast']"
   ]
  },
  {
   "cell_type": "code",
   "execution_count": 779,
   "id": "59648717-6203-40a2-8998-44a72c294b51",
   "metadata": {},
   "outputs": [
    {
     "name": "stderr",
     "output_type": "stream",
     "text": [
      "C:\\Users\\kongw\\AppData\\Local\\Temp\\ipykernel_29100\\334820549.py:1: FutureWarning: The default dtype for empty Series will be 'object' instead of 'float64' in a future version. Specify a dtype explicitly to silence this warning.\n",
      "  tec = pd.Series([])\n",
      "C:\\Users\\kongw\\AppData\\Local\\Temp\\ipykernel_29100\\334820549.py:2: FutureWarning: The default dtype for empty Series will be 'object' instead of 'float64' in a future version. Specify a dtype explicitly to silence this warning.\n",
      "  dirc = pd.Series([])\n"
     ]
    }
   ],
   "source": [
    "tec = pd.Series([])\n",
    "dirc = pd.Series([])\n",
    "reg_r1 = r\"(?:\\\">)([^<>]+?)(?:<\\/a)\"\n",
    "reg_r2 = r\"(?:\\\">)([^<>]+?)(?:<.+?>Director<)\"\n",
    "for index, row in df[df.columns[21]].to_frame().iterrows():\n",
    "    d = \"\"\n",
    "    d2 = \"\"\n",
    "    if not pd.isna(row[0]):\n",
    "        d = re.findall(reg_r1, row[0], re.MULTILINE)\n",
    "        d2 = re.findall(reg_r2, row[0], re.MULTILINE)\n",
    "    with warnings.catch_warnings():\n",
    "        warnings.simplefilter(action='ignore', category=FutureWarning)\n",
    "        tec = tec.append(pd.Series(data = [d], index = [index]))\n",
    "        dirc = dirc.append(pd.Series(data = [d2], index = [index]))"
   ]
  },
  {
   "cell_type": "code",
   "execution_count": 780,
   "id": "04901dcc-3e40-4254-b242-a5a04ffaca7d",
   "metadata": {},
   "outputs": [],
   "source": [
    "tec = tec.to_frame()\n",
    "tec.columns = ['Production and Technical Credits']"
   ]
  },
  {
   "cell_type": "code",
   "execution_count": 781,
   "id": "fdfb9789-3773-49ba-93cb-95b7837fbc40",
   "metadata": {},
   "outputs": [],
   "source": [
    "dirc = dirc.to_frame()\n",
    "dirc.columns = ['Director']"
   ]
  },
  {
   "cell_type": "code",
   "execution_count": 708,
   "id": "d64164b6-893c-48a6-8d8a-998632e24cea",
   "metadata": {},
   "outputs": [],
   "source": [
    "est_dom_dvd = df[df.columns[22]].to_frame()\n",
    "est_dom_dvd = est_dom_dvd.replace(',', '', regex = True)\n",
    "est_dom_dvd = est_dom_dvd.apply(pd.to_numeric)"
   ]
  },
  {
   "cell_type": "code",
   "execution_count": 712,
   "id": "20800697-7048-4de0-9dfb-b1dffb7d8f91",
   "metadata": {},
   "outputs": [],
   "source": [
    "est_dom_blue = df[df.columns[23]].to_frame()\n",
    "est_dom_blue = est_dom_blue.replace(',', '', regex = True)\n",
    "est_dom_blue = est_dom_blue.apply(pd.to_numeric)"
   ]
  },
  {
   "cell_type": "code",
   "execution_count": 715,
   "id": "4e5e1f2c-6c59-4427-bc1f-0c0e8df46c6d",
   "metadata": {},
   "outputs": [],
   "source": [
    "est_dom_tol = df[df.columns[24]].to_frame()\n",
    "est_dom_tol = est_dom_tol.replace(',', '', regex = True)\n",
    "est_dom_tol = est_dom_tol.apply(pd.to_numeric)"
   ]
  },
  {
   "cell_type": "code",
   "execution_count": 718,
   "id": "168dce3e-aea9-4535-bb68-f837a66efd71",
   "metadata": {},
   "outputs": [
    {
     "name": "stderr",
     "output_type": "stream",
     "text": [
      "C:\\Users\\kongw\\AppData\\Local\\Temp\\ipykernel_29100\\2377893270.py:1: FutureWarning: The default dtype for empty Series will be 'object' instead of 'float64' in a future version. Specify a dtype explicitly to silence this warning.\n",
      "  ens = pd.Series([])\n"
     ]
    }
   ],
   "source": [
    "ens = pd.Series([])\n",
    "reg_r1 = r\"(?:\\\">)([^<>]+?)(?:<\\/a)\"\n",
    "for index, row in df[df.columns[25]].to_frame().iterrows():\n",
    "    d = \"\"\n",
    "    if not pd.isna(row[0]):\n",
    "        d = re.findall(reg_r1, row[0], re.MULTILINE)\n",
    "    with warnings.catch_warnings():\n",
    "        warnings.simplefilter(action='ignore', category=FutureWarning)\n",
    "        ens = ens.append(pd.Series(data = [d], index = [index]))"
   ]
  },
  {
   "cell_type": "code",
   "execution_count": 719,
   "id": "2f9d4360-97a5-4793-bc55-6172315370cd",
   "metadata": {},
   "outputs": [],
   "source": [
    "ens = ens.to_frame()\n",
    "ens.columns = ['Lead Ensemble Members']"
   ]
  },
  {
   "cell_type": "code",
   "execution_count": 724,
   "id": "60575822-0b1e-4495-98ab-392f79ed2d46",
   "metadata": {},
   "outputs": [
    {
     "name": "stderr",
     "output_type": "stream",
     "text": [
      "C:\\Users\\kongw\\AppData\\Local\\Temp\\ipykernel_29100\\2700461392.py:1: FutureWarning: The default dtype for empty Series will be 'object' instead of 'float64' in a future version. Specify a dtype explicitly to silence this warning.\n",
      "  cam = pd.Series([])\n"
     ]
    }
   ],
   "source": [
    "cam = pd.Series([])\n",
    "reg_r1 = r\"(?:\\\">)([^<>]+?)(?:<\\/a)\"\n",
    "for index, row in df[df.columns[26]].to_frame().iterrows():\n",
    "    d = \"\"\n",
    "    if not pd.isna(row[0]):\n",
    "        d = re.findall(reg_r1, row[0], re.MULTILINE)\n",
    "    with warnings.catch_warnings():\n",
    "        warnings.simplefilter(action='ignore', category=FutureWarning)\n",
    "        cam = cam.append(pd.Series(data = [d], index = [index]))"
   ]
  },
  {
   "cell_type": "code",
   "execution_count": 725,
   "id": "b3a5f094-ce0e-4393-8a87-135064c8daef",
   "metadata": {},
   "outputs": [],
   "source": [
    "cam = cam.to_frame()\n",
    "cam.columns = ['Cameos']"
   ]
  },
  {
   "cell_type": "code",
   "execution_count": 863,
   "id": "810875e4-79c1-4a70-ab75-58f8ea4752dd",
   "metadata": {},
   "outputs": [],
   "source": [
    "t = df[df.columns[27]].to_frame().iloc[:, 0][1]\n",
    "reg_r1 = r\"(?:\\\">)([^<>]+?)(?:<\\/a)\"\n",
    "reg_r2 = r\"(?:\\\">)([^<>]+?)(?:<.+?>Director<)\"\n",
    "d = \"\"\n",
    "d2 = \"\"\n",
    "d = re.findall(reg_r1, t, re.MULTILINE)\n",
    "d2 = re.findall(reg_r2, t, re.MULTILINE)"
   ]
  },
  {
   "cell_type": "code",
   "execution_count": 864,
   "id": "c9ae6c26-be62-477a-bf79-acbafa704f68",
   "metadata": {},
   "outputs": [],
   "source": [
    "tec.iloc[1] = [d]\n",
    "dirc.iloc[1] = [d2]"
   ]
  },
  {
   "cell_type": "code",
   "execution_count": 861,
   "id": "ee9c3bea-c7c3-4f90-ae2f-9ecc7e13e95f",
   "metadata": {},
   "outputs": [],
   "source": [
    "ind = df[df[df.columns[28]].notnull()].index\n",
    "t = df[df.columns[28]].to_frame().loc[ind].iloc[:,0][0]\n",
    "reg_r1 = r\"(?:\\\">)([^<>]+?)(?:<\\/a)\"\n",
    "reg_r2 = r\"(?:\\\">)([^<>]+?)(?:<.+?>Director<)\"\n",
    "d = \"\"\n",
    "d2 = \"\"\n",
    "d = re.findall(reg_r1, t, re.MULTILINE)\n",
    "d2 = re.findall(reg_r2, t, re.MULTILINE)"
   ]
  },
  {
   "cell_type": "code",
   "execution_count": 862,
   "id": "92f7e213-ff0b-4eca-9e3e-88a40d9419b4",
   "metadata": {},
   "outputs": [],
   "source": [
    "tec.loc[ind].iloc[0, 0] = [d]\n",
    "dirc.loc[ind].iloc[0, 0] = [d2]"
   ]
  },
  {
   "cell_type": "code",
   "execution_count": 805,
   "id": "e43127ce-d848-4198-807f-82e9aca53323",
   "metadata": {},
   "outputs": [
    {
     "name": "stderr",
     "output_type": "stream",
     "text": [
      "C:\\Users\\kongw\\AppData\\Local\\Temp\\ipykernel_29100\\1981062566.py:1: FutureWarning: The default dtype for empty Series will be 'object' instead of 'float64' in a future version. Specify a dtype explicitly to silence this warning.\n",
      "  unc = pd.Series([])\n"
     ]
    }
   ],
   "source": [
    "unc = pd.Series([])\n",
    "reg_r1 = r\"(?:\\\">)([^<>]+?)(?:<\\/a)\"\n",
    "for index, row in df[df.columns[29]].to_frame().iterrows():\n",
    "    d = \"\"\n",
    "    if not pd.isna(row[0]):\n",
    "        d = re.findall(reg_r1, row[0], re.MULTILINE)\n",
    "    with warnings.catch_warnings():\n",
    "        warnings.simplefilter(action='ignore', category=FutureWarning)\n",
    "        unc = unc.append(pd.Series(data = [d], index = [index]))"
   ]
  },
  {
   "cell_type": "code",
   "execution_count": 806,
   "id": "a02eb5e3-a246-444f-a822-2171e8cc0b23",
   "metadata": {},
   "outputs": [],
   "source": [
    "unc = unc.to_frame()\n",
    "unc.columns = ['Uncategorized Crew']"
   ]
  },
  {
   "cell_type": "code",
   "execution_count": 810,
   "id": "c009b7bd-cb30-4b6d-8dd2-46e7c892cc1b",
   "metadata": {},
   "outputs": [
    {
     "name": "stderr",
     "output_type": "stream",
     "text": [
      "C:\\Users\\kongw\\AppData\\Local\\Temp\\ipykernel_29100\\4025616791.py:1: FutureWarning: The default dtype for empty Series will be 'object' instead of 'float64' in a future version. Specify a dtype explicitly to silence this warning.\n",
      "  nar = pd.Series([])\n"
     ]
    }
   ],
   "source": [
    "nar = pd.Series([])\n",
    "reg_r1 = r\"(?:\\\">)([^<>]+?)(?:<\\/a)\"\n",
    "for index, row in df[df.columns[30]].to_frame().iterrows():\n",
    "    d = \"\"\n",
    "    if not pd.isna(row[0]):\n",
    "        d = re.findall(reg_r1, row[0], re.MULTILINE)\n",
    "    with warnings.catch_warnings():\n",
    "        warnings.simplefilter(action='ignore', category=FutureWarning)\n",
    "        nar = nar.append(pd.Series(data = [d], index = [index]))"
   ]
  },
  {
   "cell_type": "code",
   "execution_count": 811,
   "id": "3bfb8ded-df5f-4f0e-9794-2a04ecc30f25",
   "metadata": {},
   "outputs": [],
   "source": [
    "nar = nar.to_frame()\n",
    "nar.columns = ['Narrator(s)']"
   ]
  },
  {
   "cell_type": "code",
   "execution_count": 859,
   "id": "f6751126-8532-4de2-b2be-4bb8d89f37cd",
   "metadata": {},
   "outputs": [],
   "source": [
    "ind = df[df[df.columns[31]].notnull()].index\n",
    "t = df[df.columns[31]].to_frame().loc[ind].iloc[:,0][0]\n",
    "reg_r1 = r\"(?:\\\">)([^<>]+?)(?:<\\/a)\"\n",
    "reg_r2 = r\"(?:\\\">)([^<>]+?)(?:<.+?>Director<)\"\n",
    "d = \"\"\n",
    "d2 = \"\"\n",
    "d = re.findall(reg_r1, t, re.MULTILINE)\n",
    "d2 = re.findall(reg_r2, t, re.MULTILINE)"
   ]
  },
  {
   "cell_type": "code",
   "execution_count": 860,
   "id": "e71791e2-c06f-44e5-ae89-7b821c30a39e",
   "metadata": {},
   "outputs": [],
   "source": [
    "tec.loc[ind].iloc[0, 0] = [d]\n",
    "dirc.loc[ind].iloc[0, 0] = [d2]"
   ]
  },
  {
   "cell_type": "code",
   "execution_count": 828,
   "id": "ff266252-9561-4239-ad29-61650d0733e8",
   "metadata": {},
   "outputs": [
    {
     "name": "stderr",
     "output_type": "stream",
     "text": [
      "C:\\Users\\kongw\\AppData\\Local\\Temp\\ipykernel_29100\\2512667907.py:1: FutureWarning: The default dtype for empty Series will be 'object' instead of 'float64' in a future version. Specify a dtype explicitly to silence this warning.\n",
      "  ext = pd.Series([])\n"
     ]
    }
   ],
   "source": [
    "ext = pd.Series([])\n",
    "reg_r1 = r\"(?:\\\">)([^<>]+?)(?:<\\/a)\"\n",
    "for index, row in df[df.columns[32]].to_frame().iterrows():\n",
    "    d = \"\"\n",
    "    if not pd.isna(row[0]):\n",
    "        d = re.findall(reg_r1, row[0], re.MULTILINE)\n",
    "    with warnings.catch_warnings():\n",
    "        warnings.simplefilter(action='ignore', category=FutureWarning)\n",
    "        ext = ext.append(pd.Series(data = [d], index = [index]))"
   ]
  },
  {
   "cell_type": "code",
   "execution_count": 829,
   "id": "14c1bc8b-e938-467e-8254-e124b663f95c",
   "metadata": {},
   "outputs": [],
   "source": [
    "ext = ext.to_frame()\n",
    "ext.columns = ['Extras']"
   ]
  },
  {
   "cell_type": "code",
   "execution_count": 857,
   "id": "905266e6-9876-4d6e-be5e-6488ad9333e9",
   "metadata": {},
   "outputs": [],
   "source": [
    "ind = df[df[df.columns[33]].notnull()].index\n",
    "t = df[df.columns[33]].to_frame().loc[ind].iloc[:,0][0]\n",
    "reg_r1 = r\"(?:\\\">)([^<>]+?)(?:<\\/a)\"\n",
    "reg_r2 = r\"(?:\\\">)([^<>]+?)(?:<.+?>Director<)\"\n",
    "d = \"\"\n",
    "d2 = \"\"\n",
    "d = re.findall(reg_r1, t, re.MULTILINE)\n",
    "d2 = re.findall(reg_r2, t, re.MULTILINE)"
   ]
  },
  {
   "cell_type": "code",
   "execution_count": 858,
   "id": "4f2fd21e-3204-46e3-b872-dcb136f8bb9d",
   "metadata": {},
   "outputs": [],
   "source": [
    "tec.loc[ind].iloc[0, 0] = [d]\n",
    "dirc.loc[ind].iloc[0, 0] = [d2]"
   ]
  },
  {
   "cell_type": "code",
   "execution_count": 867,
   "id": "ac700164-b614-4329-9f07-2bded38556fa",
   "metadata": {},
   "outputs": [],
   "source": [
    "ind = df[df[df.columns[34]].notnull()].index\n",
    "t = df[df.columns[34]].to_frame().loc[ind].iloc[:,0][0]\n",
    "reg_r1 = r\"(?:\\\">)([^<>]+?)(?:<\\/a)\"\n",
    "d = \"\"\n",
    "d = re.findall(reg_r1, t, re.MULTILINE)"
   ]
  },
  {
   "cell_type": "code",
   "execution_count": 868,
   "id": "08a7ace8-df30-454b-a2c2-aeaab3688681",
   "metadata": {},
   "outputs": [],
   "source": [
    "unc.loc[ind].iloc[0, 0] = [d]"
   ]
  },
  {
   "cell_type": "code",
   "execution_count": 855,
   "id": "2d8cea9c-d8c6-4781-9e94-bd48ccb1641b",
   "metadata": {},
   "outputs": [],
   "source": [
    "ind = df[df[df.columns[35]].notnull()].index\n",
    "t = df[df.columns[35]].to_frame().loc[ind].iloc[:,0][0]\n",
    "reg_r1 = r\"(?:\\\">)([^<>]+?)(?:<\\/a)\"\n",
    "reg_r2 = r\"(?:\\\">)([^<>]+?)(?:<.+?>Director<)\"\n",
    "d = \"\"\n",
    "d2 = \"\"\n",
    "d = re.findall(reg_r1, t, re.MULTILINE)\n",
    "d2 = re.findall(reg_r2, t, re.MULTILINE)"
   ]
  },
  {
   "cell_type": "code",
   "execution_count": 856,
   "id": "6d193eae-2baf-4bfc-aac7-be42bc62017d",
   "metadata": {},
   "outputs": [],
   "source": [
    "tec.loc[ind].iloc[0, 0] = [d]\n",
    "dirc.loc[ind].iloc[0, 0] = [d2]"
   ]
  },
  {
   "cell_type": "code",
   "execution_count": 853,
   "id": "e9c3671e-d639-473c-99d7-d9d85e39577a",
   "metadata": {},
   "outputs": [],
   "source": [
    "ind = df[df[df.columns[36]].notnull()].index\n",
    "t = df[df.columns[36]].to_frame().loc[ind].iloc[:,0][0]\n",
    "reg_r1 = r\"(?:\\\">)([^<>]+?)(?:<\\/a)\"\n",
    "reg_r2 = r\"(?:\\\">)([^<>]+?)(?:<.+?>Director<)\"\n",
    "d = \"\"\n",
    "d2 = \"\"\n",
    "d = re.findall(reg_r1, t, re.MULTILINE)\n",
    "d2 = re.findall(reg_r2, t, re.MULTILINE)"
   ]
  },
  {
   "cell_type": "code",
   "execution_count": 854,
   "id": "54ef6801-38f1-4afe-b60d-02a8d948346a",
   "metadata": {},
   "outputs": [],
   "source": [
    "tec.loc[ind].iloc[0, 0] = [d]\n",
    "dirc.loc[ind].iloc[0, 0] = [d2]"
   ]
  },
  {
   "cell_type": "code",
   "execution_count": 847,
   "id": "227cc968-d437-42a8-9ed0-530cc3f38400",
   "metadata": {},
   "outputs": [
    {
     "name": "stderr",
     "output_type": "stream",
     "text": [
      "C:\\Users\\kongw\\AppData\\Local\\Temp\\ipykernel_29100\\1114625216.py:1: FutureWarning: The default dtype for empty Series will be 'object' instead of 'float64' in a future version. Specify a dtype explicitly to silence this warning.\n",
      "  doc_sub = pd.Series([])\n"
     ]
    }
   ],
   "source": [
    "doc_sub = pd.Series([])\n",
    "reg_r1 = r\"(?:\\\">)([^<>]+?)(?:<\\/a)\"\n",
    "for index, row in df[df.columns[37]].to_frame().iterrows():\n",
    "    d = \"\"\n",
    "    if not pd.isna(row[0]):\n",
    "        d = re.findall(reg_r1, row[0], re.MULTILINE)\n",
    "    with warnings.catch_warnings():\n",
    "        warnings.simplefilter(action='ignore', category=FutureWarning)\n",
    "        doc_sub = doc_sub.append(pd.Series(data = [d], index = [index]))"
   ]
  },
  {
   "cell_type": "code",
   "execution_count": 848,
   "id": "5ef5f1cf-0eb4-4fe8-8c53-50e1539ec93e",
   "metadata": {},
   "outputs": [],
   "source": [
    "doc_sub = doc_sub.to_frame()\n",
    "doc_sub.columns = ['Documentary Subject(s)']"
   ]
  },
  {
   "cell_type": "code",
   "execution_count": 851,
   "id": "27ef4be3-2acf-4097-894a-1d106d55130c",
   "metadata": {},
   "outputs": [],
   "source": [
    "ind = df[df[df.columns[38]].notnull()].index\n",
    "t = df[df.columns[38]].to_frame().loc[ind].iloc[:,0][0]\n",
    "reg_r1 = r\"(?:\\\">)([^<>]+?)(?:<\\/a)\"\n",
    "reg_r2 = r\"(?:\\\">)([^<>]+?)(?:<.+?>Director<)\"\n",
    "d = \"\"\n",
    "d2 = \"\"\n",
    "d = re.findall(reg_r1, t, re.MULTILINE)\n",
    "d2 = re.findall(reg_r2, t, re.MULTILINE)"
   ]
  },
  {
   "cell_type": "code",
   "execution_count": 852,
   "id": "da1d03ee-32ee-45c6-a957-4b1e61170db0",
   "metadata": {},
   "outputs": [],
   "source": [
    "tec.loc[ind].iloc[0, 0] = [d]\n",
    "dirc.loc[ind].iloc[0, 0] = [d2]"
   ]
  },
  {
   "cell_type": "code",
   "execution_count": 872,
   "id": "8572a9b0-c950-42d2-8925-a30940fa892d",
   "metadata": {},
   "outputs": [],
   "source": [
    "ind = df[df[df.columns[39]].notnull()].index\n",
    "t = df[df.columns[39]].to_frame().loc[ind].iloc[:,0][0]\n",
    "reg_r1 = r\"(?:\\\">)([^<>]+?)(?:<\\/a)\"\n",
    "reg_r2 = r\"(?:\\\">)([^<>]+?)(?:<.+?>Director<)\"\n",
    "d = \"\"\n",
    "d2 = \"\"\n",
    "d = re.findall(reg_r1, t, re.MULTILINE)\n",
    "d2 = re.findall(reg_r2, t, re.MULTILINE)"
   ]
  },
  {
   "cell_type": "code",
   "execution_count": 873,
   "id": "82c78e67-aa77-4318-9ddd-f455acc90d22",
   "metadata": {},
   "outputs": [],
   "source": [
    "tec.loc[ind].iloc[0, 0] = [d]\n",
    "dirc.loc[ind].iloc[0, 0] = [d2]"
   ]
  },
  {
   "cell_type": "code",
   "execution_count": 877,
   "id": "f497006b-2d7d-4114-bd7b-f7adbfe0ed85",
   "metadata": {},
   "outputs": [
    {
     "name": "stderr",
     "output_type": "stream",
     "text": [
      "C:\\Users\\kongw\\AppData\\Local\\Temp\\ipykernel_29100\\1385328225.py:1: FutureWarning: The default dtype for empty Series will be 'object' instead of 'float64' in a future version. Specify a dtype explicitly to silence this warning.\n",
      "  interviewee = pd.Series([])\n"
     ]
    }
   ],
   "source": [
    "interviewee = pd.Series([])\n",
    "reg_r1 = r\"(?:\\\">)([^<>]+?)(?:<\\/a)\"\n",
    "for index, row in df[df.columns[37]].to_frame().iterrows():\n",
    "    d = \"\"\n",
    "    if not pd.isna(row[0]):\n",
    "        d = re.findall(reg_r1, row[0], re.MULTILINE)\n",
    "    with warnings.catch_warnings():\n",
    "        warnings.simplefilter(action='ignore', category=FutureWarning)\n",
    "        interviewee = interviewee.append(pd.Series(data = [d], index = [index]))"
   ]
  },
  {
   "cell_type": "code",
   "execution_count": 878,
   "id": "634d9961-0ad4-4cc7-a90b-758cc2d77320",
   "metadata": {},
   "outputs": [],
   "source": [
    "interviewee = interviewee.to_frame()\n",
    "interviewee.columns = ['Interviewee(s)']"
   ]
  },
  {
   "cell_type": "code",
   "execution_count": 881,
   "id": "42c21654-f723-43de-9e1b-eb89abd9a780",
   "metadata": {},
   "outputs": [],
   "source": [
    "ind = df[df[df.columns[41]].notnull()].index\n",
    "t = df[df.columns[41]].to_frame().loc[ind].iloc[:,0][0]\n",
    "reg_r1 = r\"(?:\\\">)([^<>]+?)(?:<\\/a)\"\n",
    "reg_r2 = r\"(?:\\\">)([^<>]+?)(?:<.+?>Director<)\"\n",
    "d = \"\"\n",
    "d2 = \"\"\n",
    "d = re.findall(reg_r1, t, re.MULTILINE)\n",
    "d2 = re.findall(reg_r2, t, re.MULTILINE)"
   ]
  },
  {
   "cell_type": "code",
   "execution_count": 882,
   "id": "ed3f9964-5206-46ed-b820-88b8d4d9440b",
   "metadata": {},
   "outputs": [],
   "source": [
    "tec.loc[ind].iloc[0, 0] = [d]\n",
    "dirc.loc[ind].iloc[0, 0] = [d2]"
   ]
  },
  {
   "cell_type": "code",
   "execution_count": 884,
   "id": "d15b8016-cf8b-4fcd-93fd-3056c5dff5a9",
   "metadata": {},
   "outputs": [],
   "source": [
    "ind = df[df[df.columns[42]].notnull()].index\n",
    "t = df[df.columns[42]].to_frame().loc[ind].iloc[:,0][0]\n",
    "reg_r1 = r\"(?:\\\">)([^<>]+?)(?:<\\/a)\"\n",
    "reg_r2 = r\"(?:\\\">)([^<>]+?)(?:<.+?>Director<)\"\n",
    "d = \"\"\n",
    "d2 = \"\"\n",
    "d = re.findall(reg_r1, t, re.MULTILINE)\n",
    "d2 = re.findall(reg_r2, t, re.MULTILINE)"
   ]
  },
  {
   "cell_type": "code",
   "execution_count": 885,
   "id": "3e0eb9f5-0c19-450a-b99e-0de03c8f1a99",
   "metadata": {},
   "outputs": [],
   "source": [
    "tec.loc[ind].iloc[0, 0] = [d]\n",
    "dirc.loc[ind].iloc[0, 0] = [d2]"
   ]
  },
  {
   "cell_type": "code",
   "execution_count": 893,
   "id": "145bda8e-7e50-4841-a3df-1c5559719970",
   "metadata": {
    "tags": []
   },
   "outputs": [],
   "source": [
    "cleaned = [link_and_name, dom_box, int_box, wor_box, rel, int_rel, rat, run, fra, keyw, gen, pro, cre, com, cou, \n",
    "           lan, lead, sup, tec, dirc, est_dom_dvd, est_dom_blue, est_dom_tol, ens, cam, unc, nar, ext, doc_sub, interviewee]\n",
    "data = cleaned[0].join(cleaned[1:], how = \"outer\")"
   ]
  },
  {
   "cell_type": "code",
   "execution_count": 891,
   "id": "5c487c6e-449a-4bbe-ab1d-44cea68a30f4",
   "metadata": {},
   "outputs": [],
   "source": [
    "# i = 42\n",
    "# print(df[df.columns[i]].to_frame().head(3))\n",
    "# print(df[df.columns[i]].to_frame().iloc[:, 0][0])"
   ]
  },
  {
   "cell_type": "code",
   "execution_count": 895,
   "id": "2e9fda22-b126-4e3e-991f-653ac928bb48",
   "metadata": {},
   "outputs": [],
   "source": [
    "#####################################################################################################################\n",
    "# more cleaning"
   ]
  },
  {
   "cell_type": "code",
   "execution_count": 896,
   "id": "72a82367-e2f2-4685-8baf-e8c14a45c97c",
   "metadata": {},
   "outputs": [],
   "source": [
    "numbers = pd.read_csv('numbers.csv')"
   ]
  },
  {
   "cell_type": "code",
   "execution_count": 971,
   "id": "30218f04-d29f-41f2-bc04-7182fe713052",
   "metadata": {},
   "outputs": [],
   "source": [
    "dataset = pd.concat([numbers.reset_index(drop=True), data.reset_index(drop=True)], axis=1)"
   ]
  },
  {
   "cell_type": "code",
   "execution_count": 972,
   "id": "ab498463-7dce-42dc-b5ed-4b55225d6a8d",
   "metadata": {},
   "outputs": [],
   "source": [
    "# fix merging datasets\n",
    "good = dataset[dataset.iloc[:, 1] == dataset.iloc[:, 6]]\n",
    "bad = dataset[dataset.iloc[:, 1] != dataset.iloc[:, 6]]\n",
    "\n",
    "df_1 = bad.iloc[:, range(1, 3)]\n",
    "df_2 = bad.iloc[:, 5:]\n",
    "\n",
    "df_1 = df_1.drop(index = [4834])\n",
    "\n",
    "temp = pd.concat([df_1.reset_index(drop=True), df_2.reset_index(drop=True)], axis=1)\n",
    "dataset = pd.concat([temp, good])"
   ]
  },
  {
   "cell_type": "code",
   "execution_count": 974,
   "id": "5d1b0df3-5e0b-4663-83cb-1166f0a05e44",
   "metadata": {},
   "outputs": [],
   "source": [
    "good = dataset[dataset.iloc[:, 0] == dataset.iloc[:, 3]]\n",
    "bad = dataset[dataset.iloc[:, 0] != dataset.iloc[:, 3]]"
   ]
  },
  {
   "cell_type": "code",
   "execution_count": 976,
   "id": "96096580-cdcb-4fd9-bebc-b8c831f09e8c",
   "metadata": {},
   "outputs": [],
   "source": [
    "# fix merging datasets\n",
    "dataset = dataset.drop(index = [1525])\n",
    "good = dataset[dataset.iloc[:, 0] == dataset.iloc[:, 3]]\n",
    "bad = dataset[dataset.iloc[:, 0] != dataset.iloc[:, 3]]\n",
    "\n",
    "df_1 = bad.iloc[:, range(0, 2)]\n",
    "df_2 = bad.iloc[:, 2:]\n",
    "\n",
    "bad = df_1.join(df_2.set_index('name'), on = 'moviename')\n",
    "dataset = pd.concat([bad, good])"
   ]
  },
  {
   "cell_type": "code",
   "execution_count": 978,
   "id": "f2dafcdb-e232-46d2-abc1-5ac4ec8513da",
   "metadata": {},
   "outputs": [],
   "source": [
    "dataset = dataset.drop(['name', 'number', 'Domestic', 'Worldwide'], axis = 1)"
   ]
  },
  {
   "cell_type": "code",
   "execution_count": 983,
   "id": "2aa4e50b-9eba-4430-9814-c44619bd84f5",
   "metadata": {},
   "outputs": [],
   "source": [
    "dataset.to_csv('metadata.csv', index = False)"
   ]
  }
 ],
 "metadata": {
  "kernelspec": {
   "display_name": "Python 3 (ipykernel)",
   "language": "python",
   "name": "python3"
  },
  "language_info": {
   "codemirror_mode": {
    "name": "ipython",
    "version": 3
   },
   "file_extension": ".py",
   "mimetype": "text/x-python",
   "name": "python",
   "nbconvert_exporter": "python",
   "pygments_lexer": "ipython3",
   "version": "3.9.13"
  }
 },
 "nbformat": 4,
 "nbformat_minor": 5
}
