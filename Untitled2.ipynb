{
 "cells": [
  {
   "cell_type": "code",
   "execution_count": 6,
   "id": "bff06102-4e78-4c22-b625-4264e20620d7",
   "metadata": {
    "tags": []
   },
   "outputs": [
    {
     "name": "stdout",
     "output_type": "stream",
     "text": [
      "Rows: 6382\n",
      "Colums: 34\n",
      "---------Info of dataset--------------\n",
      "<class 'pandas.core.frame.DataFrame'>\n",
      "RangeIndex: 6382 entries, 0 to 6381\n",
      "Data columns (total 34 columns):\n",
      " #   Column                            Non-Null Count  Dtype  \n",
      "---  ------                            --------------  -----  \n",
      " 0   moviename                         6382 non-null   object \n",
      " 1   Budget                            6382 non-null   int64  \n",
      " 2   link                              6382 non-null   object \n",
      " 3   Domestic Box Office               6053 non-null   float64\n",
      " 4   International Box Office          4533 non-null   float64\n",
      " 5   Worldwide Box Office              4819 non-null   float64\n",
      " 6   Domestic Release                  5967 non-null   object \n",
      " 7   Dom Year                          5967 non-null   float64\n",
      " 8   International Release             2942 non-null   object \n",
      " 9   Int Year                          2942 non-null   float64\n",
      " 10  Rating                            5983 non-null   object \n",
      " 11  Runtime                           5399 non-null   float64\n",
      " 12  Franchise                         1333 non-null   object \n",
      " 13  Keywords                          5242 non-null   object \n",
      " 14  Genre                             6224 non-null   object \n",
      " 15  Production Method                 6212 non-null   object \n",
      " 16  Creative Type                     6096 non-null   object \n",
      " 17  Production/Financing Companies    4050 non-null   object \n",
      " 18  Production Country                5887 non-null   object \n",
      " 19  Languages                         5388 non-null   object \n",
      " 20  Leading Cast                      3948 non-null   object \n",
      " 21  Supporting Cast                   4381 non-null   object \n",
      " 22  Production and Technical Credits  5769 non-null   object \n",
      " 23  Director                          5769 non-null   object \n",
      " 24  Est. Domestic DVD Sales           2418 non-null   float64\n",
      " 25  Est. Domestic Blu-ray Sales       2061 non-null   float64\n",
      " 26  Total Est. Domestic Video Sales   2672 non-null   float64\n",
      " 27  Lead Ensemble Members             704 non-null    object \n",
      " 28  Cameos                            583 non-null    object \n",
      " 29  Uncategorized Crew                1757 non-null   object \n",
      " 30  Narrator(s)                       81 non-null     object \n",
      " 31  Extras                            7 non-null      object \n",
      " 32  Documentary Subject(s)            26 non-null     object \n",
      " 33  Interviewee(s)                    26 non-null     object \n",
      "dtypes: float64(9), int64(1), object(24)\n",
      "memory usage: 1.7+ MB\n",
      "None\n"
     ]
    }
   ],
   "source": [
    "#Preparations\n",
    "#Import the libraries\n",
    "import pandas as pd\n",
    "import numpy as np\n",
    "import matplotlib.pyplot as plt\n",
    "from sklearn.model_selection import train_test_split\n",
    "from tqdm import tqdm\n",
    "import re\n",
    "import warnings\n",
    "\n",
    "\n",
    "#Settings\n",
    "pd.set_option('display.max_columns', None)\n",
    "pd.set_option('display.float_format',  '{:,.2f}'.format)\n",
    "pd.set_option('display.precision', 2)\n",
    "\n",
    "#import the dataset\n",
    "df = pd.read_csv('metadata.csv', low_memory=False, thousands=',')\n",
    "\n",
    "#some more information\n",
    "print('Rows: ' + str(df.shape[0]))\n",
    "print('Colums: ' + str(df.shape[1]))\n",
    "print('---------Info of dataset--------------')\n",
    "print(df.info())\n",
    "# print('---------Number of missing values----------')\n",
    "# print(df.isnull().sum())"
   ]
  },
  {
   "cell_type": "code",
   "execution_count": null,
   "id": "0703a825-82c6-4a07-9fda-d582113ac3f5",
   "metadata": {},
   "outputs": [],
   "source": []
  }
 ],
 "metadata": {
  "kernelspec": {
   "display_name": "Python 3 (ipykernel)",
   "language": "python",
   "name": "python3"
  },
  "language_info": {
   "codemirror_mode": {
    "name": "ipython",
    "version": 3
   },
   "file_extension": ".py",
   "mimetype": "text/x-python",
   "name": "python",
   "nbconvert_exporter": "python",
   "pygments_lexer": "ipython3",
   "version": "3.9.13"
  }
 },
 "nbformat": 4,
 "nbformat_minor": 5
}
