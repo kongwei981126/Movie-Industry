{
 "cells": [
  {
   "cell_type": "code",
   "execution_count": 1,
   "id": "aa1fe7f7-eb54-4aa2-8f0d-8d44929f4a21",
   "metadata": {
    "tags": []
   },
   "outputs": [],
   "source": [
    "#Preparations\n",
    "#Import the libraries\n",
    "import pandas as pd\n",
    "import numpy as np\n",
    "import matplotlib.pyplot as plt\n",
    "from sklearn.model_selection import train_test_split\n",
    "from tqdm import tqdm\n",
    "import re\n",
    "import warnings\n",
    "\n",
    "\n",
    "#Settings\n",
    "pd.set_option('display.max_columns', None)\n",
    "pd.set_option('display.float_format',  '{:,.2f}'.format)\n",
    "pd.set_option('display.precision', 2)\n",
    "\n",
    "#import the dataset\n",
    "df = pd.read_csv('metadata.csv', low_memory=False, thousands=',')\n",
    "\n",
    "# Fix some entires\n",
    "df['Domestic Box Office'] = df['Domestic Box Office'].fillna(0)\n",
    "df['International Box Office'] = df['International Box Office'].fillna(0)\n",
    "df['Worldwide Box Office'] = df['Worldwide Box Office'].fillna(0)\n",
    "\n",
    "df['Revenue'] = np.maximum(df['Domestic Box Office'] + df['International Box Office'], df['Worldwide Box Office'])\n",
    "for index, row in df.iterrows():\n",
    "    if pd.isna(row['Leading Cast']):\n",
    "        df.at[index, 'Leading Cast'] = df.at[index, 'Lead Ensemble Members']\n",
    "        \n",
    "        # Subsetting rows with both Budget and Revenue\n",
    "df_sub = df.loc[(df['Revenue'] != 0) & (df['Budget'] != 0)].copy()\n",
    "# Compute ROI\n",
    "df_sub['ROI'] = (df_sub['Revenue']-df_sub['Budget'])/df_sub['Budget']*100"
   ]
  },
  {
   "cell_type": "code",
   "execution_count": 2,
   "id": "11536e19-f44d-4d18-a7a8-0bb38d6e29d4",
   "metadata": {
    "tags": []
   },
   "outputs": [
    {
     "name": "stderr",
     "output_type": "stream",
     "text": [
      "C:\\Users\\kongw\\AppData\\Local\\Temp\\ipykernel_9764\\3740225237.py:2: FutureWarning: The default dtype for empty Series will be 'object' instead of 'float64' in a future version. Specify a dtype explicitly to silence this warning.\n",
      "  dom_rel_month = pd.Series([])\n"
     ]
    }
   ],
   "source": [
    "mon = ['January', 'February', 'March', 'April', 'May', 'June', 'July', 'August', 'September', 'October', 'November', 'December']\n",
    "dom_rel_month = pd.Series([])\n",
    "for index, row in df_sub['Domestic Release'].to_frame().iterrows():\n",
    "    d = \"\"\n",
    "    if not pd.isna(row[0]):\n",
    "        d = re.findall(r\"([a-zA-Z]+)\", row[0])\n",
    "        if d != [] and d[0] in mon:\n",
    "            t = d[0]\n",
    "        else:\n",
    "            t = np.nan\n",
    "    else: \n",
    "        t = np.nan\n",
    "    with warnings.catch_warnings():\n",
    "        warnings.simplefilter(action = 'ignore', category = FutureWarning)\n",
    "        dom_rel_month = dom_rel_month.append(pd.Series(data = t))"
   ]
  },
  {
   "cell_type": "code",
   "execution_count": 3,
   "id": "a0f459f0-7c5d-456c-b3bd-203b8d3f16f4",
   "metadata": {
    "tags": []
   },
   "outputs": [
    {
     "name": "stderr",
     "output_type": "stream",
     "text": [
      "C:\\Users\\kongw\\AppData\\Local\\Temp\\ipykernel_9764\\3402644605.py:1: FutureWarning: The default dtype for empty Series will be 'object' instead of 'float64' in a future version. Specify a dtype explicitly to silence this warning.\n",
      "  int_rel_month = pd.Series([])\n"
     ]
    }
   ],
   "source": [
    "int_rel_month = pd.Series([])\n",
    "for index, row in df_sub['International Release'].to_frame().iterrows():\n",
    "    d = \"\"\n",
    "    if not pd.isna(row[0]):\n",
    "        d = re.findall(r\"([a-zA-Z]+)\", row[0])\n",
    "        if d != [] and d[0] in mon:\n",
    "            t = d[0]\n",
    "        else:\n",
    "            t = np.nan\n",
    "    else: \n",
    "        t = np.nan\n",
    "    with warnings.catch_warnings():\n",
    "        warnings.simplefilter(action = 'ignore', category = FutureWarning)\n",
    "        int_rel_month = int_rel_month.append(pd.Series(data = t))"
   ]
  },
  {
   "cell_type": "code",
   "execution_count": 4,
   "id": "c5c8c13f-e31a-40d1-b42a-399e047dc4ec",
   "metadata": {},
   "outputs": [],
   "source": [
    "df_sub['int_rel_month'] = int_rel_month.to_list()\n",
    "df_sub['dom_rel_month'] = dom_rel_month.to_list()\n",
    "df_sub['Year'] = ''\n",
    "df_sub['Month'] = ''\n",
    "\n",
    "from datetime import datetime\n",
    "\n",
    "for index, row in df_sub.iterrows():\n",
    "    if pd.isna(row['Dom Year']):\n",
    "        df_sub.at[index, 'Year'] = row['Int Year']\n",
    "        df_sub.at[index, 'Month'] = row['int_rel_month']\n",
    "    else: \n",
    "        # dom year not na\n",
    "        if pd.isna(row['Int Year']):\n",
    "            df_sub.at[index, 'Year'] = row['Dom Year']\n",
    "            df_sub.at[index, 'Month'] = row['dom_rel_month']\n",
    "        else:\n",
    "            #both year not na\n",
    "            if row['Dom Year'] == row['Int Year']:\n",
    "                df_sub.at[index, 'Year'] = row['Dom Year']\n",
    "                # month\n",
    "                if pd.isna(row['int_rel_month']):\n",
    "                    df_sub.at[index, 'Month'] = row['dom_rel_month']\n",
    "                elif pd.isna(row['dom_rel_month']):\n",
    "                    df_sub.at[index, 'Month'] = row['int_rel_month']\n",
    "                else:\n",
    "                    #compare month\n",
    "                    i = datetime.strptime(row['int_rel_month'], '%B').month\n",
    "                    d = datetime.strptime(row['dom_rel_month'], '%B').month\n",
    "                    if i <= d:\n",
    "                        df_sub.at[index, 'Month'] = row['int_rel_month']\n",
    "                    else:\n",
    "                        df_sub.at[index, 'Month'] = row['dom_rel_month']\n",
    "            elif row['Dom Year'] < row['Int Year']:\n",
    "                df_sub.at[index, 'Year'] = row['Dom Year']\n",
    "                df_sub.at[index, 'Month'] = row['dom_rel_month']\n",
    "            else: \n",
    "                df_sub.at[index, 'Year'] = row['Int Year']\n",
    "                df_sub.at[index, 'Month'] = row['int_rel_month']"
   ]
  },
  {
   "cell_type": "code",
   "execution_count": 5,
   "id": "8b31060f-282e-4533-ae0f-fd42d6d41c7d",
   "metadata": {},
   "outputs": [],
   "source": [
    "df_sub['is_Franchise'] = np.where(pd.isna(df_sub['Franchise']), False, True)"
   ]
  },
  {
   "cell_type": "code",
   "execution_count": 6,
   "id": "0a7f321d-8214-4a7e-8151-5fe924097a38",
   "metadata": {},
   "outputs": [],
   "source": [
    "dataset = df_sub[['moviename', 'Budget', 'Revenue', 'ROI', 'Year', 'Month',\n",
    "            'Rating', 'Franchise', 'is_Franchise', 'Keywords', 'Genre', 'Production Method',\n",
    "            'Creative Type', 'Production/Financing Companies', 'Leading Cast', 'Director']].copy()\n",
    "dataset = dataset[~dataset['Year'].isna()]\n",
    "dataset = dataset.loc[dataset['ROI'] < 50000]\n",
    "dataset = dataset.loc[dataset['ROI'] > -95]"
   ]
  },
  {
   "cell_type": "code",
   "execution_count": null,
   "id": "1ff0a8cb-b0b1-4fc8-9978-598f4a765d5e",
   "metadata": {},
   "outputs": [],
   "source": []
  },
  {
   "cell_type": "code",
   "execution_count": 237,
   "id": "db569c9e-406f-4aca-bdc9-287df8fedf3b",
   "metadata": {},
   "outputs": [
    {
     "data": {
      "image/png": "[encoded data removed]",
      "text/plain": [
       "<Figure size 640x480 with 1 Axes>"
      ]
     },
     "metadata": {},
     "output_type": "display_data"
    }
   ],
   "source": [
    "plt.hist(dataset['Year'].astype('int'), bins = 110)\n",
    "plt.show()"
   ]
  },
  {
   "cell_type": "code",
   "execution_count": 11,
   "id": "c99da718-0934-4122-a103-f9661b506041",
   "metadata": {},
   "outputs": [
    {
     "data": {
      "text/plain": [
       "(5571, 16)"
      ]
     },
     "execution_count": 11,
     "metadata": {},
     "output_type": "execute_result"
    }
   ],
   "source": [
    "dataset.shape"
   ]
  },
  {
   "cell_type": "code",
   "execution_count": 13,
   "id": "df899c32-bc34-410d-a1a4-e8df20b80937",
   "metadata": {},
   "outputs": [
    {
     "data": {
      "text/plain": [
       "5275"
      ]
     },
     "execution_count": 13,
     "metadata": {},
     "output_type": "execute_result"
    }
   ],
   "source": [
    "sum(dataset['Year'] > 1980)"
   ]
  },
  {
   "cell_type": "code",
   "execution_count": null,
   "id": "15ad9c6d-8a51-4b14-932d-de3e9d3e9e9d",
   "metadata": {},
   "outputs": [],
   "source": [
    "# We only consider movies after 1980 for our prediction problem:"
   ]
  },
  {
   "cell_type": "markdown",
   "id": "29e1deb8-3b0f-44f2-87a7-63663fd38bf1",
   "metadata": {},
   "source": [
    "### Consider Time Windows:"
   ]
  },
  {
   "cell_type": "code",
   "execution_count": 143,
   "id": "d1f5847c-6a11-4424-ae86-40113a25c2e8",
   "metadata": {},
   "outputs": [],
   "source": [
    "# length of time window (in years)\n",
    "# for example: if timewindoe = 3, then for year 2020, \n",
    "# we consider year 2016, 2017, 2018\n",
    "timewindow_actor = 3\n",
    "timewindow_director = 3\n",
    "timewindow_genre = 3\n",
    "# number of stars we consider for each time period\n",
    "star_actor_num = 10\n",
    "# number of directors we consider for each time period\n",
    "star_director_num = 5"
   ]
  },
  {
   "cell_type": "code",
   "execution_count": 88,
   "id": "e938474e-1ac5-4e4a-92b5-fe3bf3ce43ec",
   "metadata": {},
   "outputs": [],
   "source": [
    "import ast\n",
    "dataset['Leading Cast'] = dataset['Leading Cast'].fillna('[]').apply(ast.literal_eval)\n",
    "dataset['Director'] = dataset['Director'].fillna('[]').apply(ast.literal_eval)"
   ]
  },
  {
   "cell_type": "code",
   "execution_count": 186,
   "id": "c5c9a914-5929-4fad-a9d3-489b70948d59",
   "metadata": {},
   "outputs": [],
   "source": [
    "def castinfo(timewindow_actor, star_actor_num):\n",
    "    cast_table = pd.DataFrame()\n",
    "\n",
    "    for y in range(1980, 2024, 1):\n",
    "        # get reference set for movie to be released in year y \n",
    "        subset = dataset.loc[dataset['Year'] <= y - 2].copy()\n",
    "        subset = subset.loc[subset['Year'] > y - 2 - timewindow_actor].copy()\n",
    "\n",
    "        # create table of total revenue of all actors in the past timewindow\n",
    "        cast_year = pd.DataFrame(columns = ['name', 'year', 'Total Revenue', 'Star Actor'])\n",
    "        for index, row in subset.iterrows():\n",
    "            lead = row['Leading Cast']\n",
    "            if lead != []:\n",
    "                for name in lead:\n",
    "                    if name in cast_year['name'].values:\n",
    "                        rownum = np.where(cast_year['name'] == name)[0][0]\n",
    "                        cast_year.at[rownum, 'Total Revenue'] = cast_year.at[rownum, 'Total Revenue'] + row['Revenue']\n",
    "                    else:\n",
    "                        cast_year.loc[len(cast_year)] = [name, y, row['Revenue'], False]\n",
    "\n",
    "        # Find stars in this timewindow\n",
    "        topactor = cast_year.sort_values(by = ['Total Revenue'], ascending = False)['name'].head(star_actor_num).reset_index(drop = True)\n",
    "        for name in topactor:\n",
    "            rownum = np.where(cast_year['name'] == name)[0][0]\n",
    "            cast_year.at[rownum, 'Star Actor'] = True\n",
    "\n",
    "        # Append to the main table\n",
    "        cast_table = pd.concat([cast_table, cast_year], ignore_index = True)\n",
    "\n",
    "    # Create two new features\n",
    "    dataset['has_star_actor'] = False\n",
    "    dataset['actor_revenue_before'] = 0\n",
    "    for index, row in dataset.iterrows():\n",
    "        lead = row['Leading Cast']\n",
    "        if lead != []:\n",
    "            temp = cast_table.loc[cast_table['year'] == row['Year']].copy()\n",
    "            star_of_year = temp.loc[temp['Star Actor']]['name'].values\n",
    "            namelist = temp['name'].values\n",
    "            for name in lead:\n",
    "                if name in star_of_year:\n",
    "                    dataset.at[index, 'has_star_actor'] = True\n",
    "                if name in namelist:\n",
    "                    dataset.at[index, 'actor_revenue_before'] = dataset.at[index, 'actor_revenue_before'] + temp.loc[temp['name'] == name]['Total Revenue'].values[0]"
   ]
  },
  {
   "cell_type": "markdown",
   "id": "af89961d-366c-4eee-a71c-87ee7cdd4067",
   "metadata": {},
   "source": [
    "### Do the same for directors:"
   ]
  },
  {
   "cell_type": "code",
   "execution_count": 189,
   "id": "5893cf96-8121-41c3-80a9-3b66b26fe258",
   "metadata": {},
   "outputs": [],
   "source": [
    "def directorinfo(timewindow_director, star_director_num):\n",
    "    director_table = pd.DataFrame()\n",
    "\n",
    "    for y in range(1980, 2024, 1):\n",
    "        # get reference set for movie to be released in year y \n",
    "        subset = dataset.loc[dataset['Year'] <= y - 2].copy()\n",
    "        subset = subset.loc[subset['Year'] > y - 2 - timewindow_director].copy()\n",
    "\n",
    "        # create table of total revenue of all directors in the past timewindow\n",
    "        director_year = pd.DataFrame(columns = ['name', 'year', 'Total Revenue', 'Star Director'])\n",
    "        for index, row in subset.iterrows():\n",
    "            lead = row['Director']\n",
    "            if lead != []:\n",
    "                for name in lead:\n",
    "                    if name in director_year['name'].values:\n",
    "                        rownum = np.where(director_year['name'] == name)[0][0]\n",
    "                        director_year.at[rownum, 'Total Revenue'] = director_year.at[rownum, 'Total Revenue'] + row['Revenue']\n",
    "                    else:\n",
    "                        director_year.loc[len(director_year)] = [name, y, row['Revenue'], False]\n",
    "\n",
    "        # Find stars in this timewindow\n",
    "        topdirector = director_year.sort_values(by = ['Total Revenue'], ascending = False)['name'].head(star_director_num).reset_index(drop = True)\n",
    "        for name in topdirector:\n",
    "            rownum = np.where(director_year['name'] == name)[0][0]\n",
    "            director_year.at[rownum, 'Star Director'] = True\n",
    "\n",
    "        # Append to the main table\n",
    "        director_table = pd.concat([director_table, director_year], ignore_index = True)\n",
    "\n",
    "    # Create two new features\n",
    "    dataset['has_star_director'] = False\n",
    "    dataset['director_revenue_before'] = 0\n",
    "    for index, row in dataset.iterrows():\n",
    "        lead = row['Director']\n",
    "        if lead != []:\n",
    "            temp = director_table.loc[director_table['year'] == row['Year']].copy()\n",
    "            star_of_year = temp.loc[temp['Star Director']]['name'].values\n",
    "            namelist = temp['name'].values\n",
    "            for name in lead:\n",
    "                if name in star_of_year:\n",
    "                    dataset.at[index, 'has_star_director'] = True\n",
    "                if name in namelist:\n",
    "                    dataset.at[index, 'director_revenue_before'] = dataset.at[index, 'director_revenue_before'] + temp.loc[temp['name'] == name]['Total Revenue'].values[0]"
   ]
  },
  {
   "cell_type": "markdown",
   "id": "5c3113c6-a54d-44e0-adcf-c3835fc1ddeb",
   "metadata": {},
   "source": [
    "### Genre"
   ]
  },
  {
   "cell_type": "code",
   "execution_count": 190,
   "id": "02e48b2d-afd7-4454-951f-156508c62e47",
   "metadata": {},
   "outputs": [],
   "source": [
    "def genreinfo(timewindow_genre):\n",
    "    genre_table = pd.DataFrame()\n",
    "\n",
    "    for y in range(1980, 2024, 1):\n",
    "        # get reference set for movie to be released in year y \n",
    "        subset = dataset.loc[dataset['Year'] <= y - 2].copy()\n",
    "        subset = subset.loc[subset['Year'] > y - 2 - timewindow_genre].copy()\n",
    "\n",
    "        # create table of total revenue of all actors in the past timewindow\n",
    "        genre_year = pd.DataFrame(columns = ['genre', 'year', 'Total Revenue'])\n",
    "        for index, row in subset.iterrows():\n",
    "            g = row['Genre']\n",
    "            if pd.notna(g):\n",
    "                if g in genre_year['genre'].values:\n",
    "                    rownum = np.where(genre_year['genre'] == g)[0][0]\n",
    "                    genre_year.at[rownum, 'Total Revenue'] = genre_year.at[rownum, 'Total Revenue'] + row['Revenue']\n",
    "                else:\n",
    "                    genre_year.loc[len(genre_year)] = [g, y, row['Revenue']]\n",
    "\n",
    "        genre_table = pd.concat([genre_table, genre_year], ignore_index = True)       \n",
    "\n",
    "    dataset['genre_revenue_before'] = 0\n",
    "    for index, row in dataset.iterrows():\n",
    "        g = row['Genre']\n",
    "        temp = genre_table.loc[genre_table['year'] == row['Year']].copy()\n",
    "        genrelist = temp['genre'].values\n",
    "        if pd.notna(g):\n",
    "            if g in genrelist:\n",
    "                dataset.at[index, 'genre_revenue_before'] = temp.loc[temp['genre'] == g]['Total Revenue'].values[0]\n",
    "            else:\n",
    "                dataset.at[index, 'genre_revenue_before'] = 0"
   ]
  },
  {
   "cell_type": "markdown",
   "id": "b90e84e9-a241-4cdc-8f55-96432d805980",
   "metadata": {},
   "source": [
    "### Model"
   ]
  },
  {
   "cell_type": "code",
   "execution_count": 441,
   "id": "0dc7b255-955e-4f39-adb0-55c6d89671fc",
   "metadata": {
    "collapsed": true,
    "jupyter": {
     "outputs_hidden": true
    },
    "tags": []
   },
   "outputs": [
    {
     "data": {
      "text/html": [
       "<div>\n",
       "<style scoped>\n",
       "    .dataframe tbody tr th:only-of-type {\n",
       "        vertical-align: middle;\n",
       "    }\n",
       "\n",
       "    .dataframe tbody tr th {\n",
       "        vertical-align: top;\n",
       "    }\n",
       "\n",
       "    .dataframe thead th {\n",
       "        text-align: right;\n",
       "    }\n",
       "</style>\n",
       "<table border=\"1\" class=\"dataframe\">\n",
       "  <thead>\n",
       "    <tr style=\"text-align: right;\">\n",
       "      <th></th>\n",
       "      <th>moviename</th>\n",
       "      <th>Budget</th>\n",
       "      <th>Revenue</th>\n",
       "      <th>ROI</th>\n",
       "      <th>Year</th>\n",
       "      <th>Month</th>\n",
       "      <th>Rating</th>\n",
       "      <th>Franchise</th>\n",
       "      <th>is_Franchise</th>\n",
       "      <th>Keywords</th>\n",
       "      <th>Genre</th>\n",
       "      <th>Production Method</th>\n",
       "      <th>Creative Type</th>\n",
       "      <th>Production/Financing Companies</th>\n",
       "      <th>Leading Cast</th>\n",
       "      <th>Director</th>\n",
       "      <th>has_star_actor</th>\n",
       "      <th>actor_revenue_before</th>\n",
       "      <th>has_star_director</th>\n",
       "      <th>director_revenue_before</th>\n",
       "      <th>hit</th>\n",
       "      <th>genre_revenue_before</th>\n",
       "    </tr>\n",
       "  </thead>\n",
       "  <tbody>\n",
       "    <tr>\n",
       "      <th>0</th>\n",
       "      <td>The Super Mario Bros. Movie</td>\n",
       "      <td>100000000</td>\n",
       "      <td>509,221,843.00</td>\n",
       "      <td>409.22</td>\n",
       "      <td>2,023.00</td>\n",
       "      <td>April</td>\n",
       "      <td>PG</td>\n",
       "      <td>NaN</td>\n",
       "      <td>False</td>\n",
       "      <td>['Ensemble', 'Prince/Princess', 'Royalty', 'Go...</td>\n",
       "      <td>Action</td>\n",
       "      <td>Digital Animation</td>\n",
       "      <td>Kids Fiction</td>\n",
       "      <td>['Universal Pictures', 'Nintendo', 'Illuminati...</td>\n",
       "      <td>[Chris Pratt, Anya Taylor-Joy, Charlie Day, Ja...</td>\n",
       "      <td>[Aaron Horvath, Michael Jelenic]</td>\n",
       "      <td>True</td>\n",
       "      <td>14305072670</td>\n",
       "      <td>False</td>\n",
       "      <td>51620593</td>\n",
       "      <td>Hits</td>\n",
       "      <td>39962497649</td>\n",
       "    </tr>\n",
       "    <tr>\n",
       "      <th>1</th>\n",
       "      <td>Harry Potter and the Chamber of Secrets</td>\n",
       "      <td>100000000</td>\n",
       "      <td>874,954,530.00</td>\n",
       "      <td>774.95</td>\n",
       "      <td>2,002.00</td>\n",
       "      <td>November</td>\n",
       "      <td>PG</td>\n",
       "      <td>['Harry Potter']</td>\n",
       "      <td>True</td>\n",
       "      <td>['Boarding School', 'IMAX: DMR']</td>\n",
       "      <td>Adventure</td>\n",
       "      <td>Animation/Live Action</td>\n",
       "      <td>Fantasy</td>\n",
       "      <td>['Warner Bros.', 'Heyday Films', '1492 Pictures']</td>\n",
       "      <td>[Daniel Radcliffe, Rupert Grint, Emma Watson, ...</td>\n",
       "      <td>[Chris Columbus]</td>\n",
       "      <td>False</td>\n",
       "      <td>191035966</td>\n",
       "      <td>False</td>\n",
       "      <td>606160905</td>\n",
       "      <td>Hits</td>\n",
       "      <td>12102381328</td>\n",
       "    </tr>\n",
       "    <tr>\n",
       "      <th>2</th>\n",
       "      <td>Rudderless</td>\n",
       "      <td>5000000</td>\n",
       "      <td>584,499.00</td>\n",
       "      <td>-88.31</td>\n",
       "      <td>2,014.00</td>\n",
       "      <td>October</td>\n",
       "      <td>R</td>\n",
       "      <td>NaN</td>\n",
       "      <td>False</td>\n",
       "      <td>['Death of a Son or Daughter', 'Singers', 'Mus...</td>\n",
       "      <td>Drama</td>\n",
       "      <td>Live Action</td>\n",
       "      <td>Contemporary Fiction</td>\n",
       "      <td>['Unified Pictures', 'Dog Pond']</td>\n",
       "      <td>[Billy Crudup, Anton Yelchin]</td>\n",
       "      <td>[William H. Macy]</td>\n",
       "      <td>False</td>\n",
       "      <td>623360822</td>\n",
       "      <td>False</td>\n",
       "      <td>0</td>\n",
       "      <td>Loss</td>\n",
       "      <td>16060988973</td>\n",
       "    </tr>\n",
       "    <tr>\n",
       "      <th>7</th>\n",
       "      <td>Mientras duermes</td>\n",
       "      <td>5000000</td>\n",
       "      <td>9,109,597.00</td>\n",
       "      <td>82.19</td>\n",
       "      <td>2,012.00</td>\n",
       "      <td>May</td>\n",
       "      <td>Not Rated</td>\n",
       "      <td>NaN</td>\n",
       "      <td>False</td>\n",
       "      <td>['Home Invasion', 'Mental Illness', 'Fired', '...</td>\n",
       "      <td>Thriller/Suspense</td>\n",
       "      <td>Live Action</td>\n",
       "      <td>Contemporary Fiction</td>\n",
       "      <td>['Filmax Entertainment', 'Castelao Produccione...</td>\n",
       "      <td>[Luis Tosar, Marta Etura]</td>\n",
       "      <td>[Jaume Balaguero]</td>\n",
       "      <td>False</td>\n",
       "      <td>0</td>\n",
       "      <td>False</td>\n",
       "      <td>57676027</td>\n",
       "      <td>Below average</td>\n",
       "      <td>9275043679</td>\n",
       "    </tr>\n",
       "    <tr>\n",
       "      <th>9</th>\n",
       "      <td>Palm Springs</td>\n",
       "      <td>5000000</td>\n",
       "      <td>1,818,417.00</td>\n",
       "      <td>-63.63</td>\n",
       "      <td>2,020.00</td>\n",
       "      <td>July</td>\n",
       "      <td>R</td>\n",
       "      <td>NaN</td>\n",
       "      <td>False</td>\n",
       "      <td>['Sundance Film Festival 2020']</td>\n",
       "      <td>Comedy</td>\n",
       "      <td>Live Action</td>\n",
       "      <td>Contemporary Fiction</td>\n",
       "      <td>['Limelight', 'Hulu', 'Sun Entertainment Cultu...</td>\n",
       "      <td>[Andy Samberg, Cristin Milioti]</td>\n",
       "      <td>[Max Barbakow]</td>\n",
       "      <td>False</td>\n",
       "      <td>1900116196</td>\n",
       "      <td>False</td>\n",
       "      <td>0</td>\n",
       "      <td>Loss</td>\n",
       "      <td>9566585567</td>\n",
       "    </tr>\n",
       "    <tr>\n",
       "      <th>32</th>\n",
       "      <td>Every Day</td>\n",
       "      <td>4900000</td>\n",
       "      <td>12,826,031.00</td>\n",
       "      <td>161.76</td>\n",
       "      <td>2,018.00</td>\n",
       "      <td>February</td>\n",
       "      <td>PG-13</td>\n",
       "      <td>NaN</td>\n",
       "      <td>False</td>\n",
       "      <td>['Romance', 'Body Swap', 'Same Role, Multiple ...</td>\n",
       "      <td>Drama</td>\n",
       "      <td>Live Action</td>\n",
       "      <td>Contemporary Fiction</td>\n",
       "      <td>['Likely Story', 'Filmwave', 'Orion Pictures',...</td>\n",
       "      <td>[Angourie Rice, Justice Smith]</td>\n",
       "      <td>[Michael Sucsy]</td>\n",
       "      <td>False</td>\n",
       "      <td>59596747</td>\n",
       "      <td>False</td>\n",
       "      <td>197618160</td>\n",
       "      <td>Above average</td>\n",
       "      <td>15331828406</td>\n",
       "    </tr>\n",
       "    <tr>\n",
       "      <th>33</th>\n",
       "      <td>Mommy</td>\n",
       "      <td>4900000</td>\n",
       "      <td>17,536,004.00</td>\n",
       "      <td>257.88</td>\n",
       "      <td>2,014.00</td>\n",
       "      <td>November</td>\n",
       "      <td>R</td>\n",
       "      <td>NaN</td>\n",
       "      <td>False</td>\n",
       "      <td>['Widow/Widower', 'Single Parent', 'Death of a...</td>\n",
       "      <td>Drama</td>\n",
       "      <td>Live Action</td>\n",
       "      <td>Contemporary Fiction</td>\n",
       "      <td>['Metafilms', 'Sons of Manuel']</td>\n",
       "      <td>[Suzanne Clement, Antoine Olivier Pilon]</td>\n",
       "      <td>[Xavier Dolan]</td>\n",
       "      <td>False</td>\n",
       "      <td>0</td>\n",
       "      <td>False</td>\n",
       "      <td>0</td>\n",
       "      <td>Above average</td>\n",
       "      <td>16060988973</td>\n",
       "    </tr>\n",
       "    <tr>\n",
       "      <th>34</th>\n",
       "      <td>Obsluhoval jsem anglického krále</td>\n",
       "      <td>4900000</td>\n",
       "      <td>7,174,984.00</td>\n",
       "      <td>46.43</td>\n",
       "      <td>2,008.00</td>\n",
       "      <td>August</td>\n",
       "      <td>R</td>\n",
       "      <td>NaN</td>\n",
       "      <td>False</td>\n",
       "      <td>['Foreign Language']</td>\n",
       "      <td>Black Comedy</td>\n",
       "      <td>Live Action</td>\n",
       "      <td>Historical Fiction</td>\n",
       "      <td>NaN</td>\n",
       "      <td>[]</td>\n",
       "      <td>[]</td>\n",
       "      <td>False</td>\n",
       "      <td>0</td>\n",
       "      <td>False</td>\n",
       "      <td>0</td>\n",
       "      <td>Below average</td>\n",
       "      <td>388023564</td>\n",
       "    </tr>\n",
       "    <tr>\n",
       "      <th>35</th>\n",
       "      <td>Soul Kitchen</td>\n",
       "      <td>4900000</td>\n",
       "      <td>23,347,461.00</td>\n",
       "      <td>376.48</td>\n",
       "      <td>2,010.00</td>\n",
       "      <td>April</td>\n",
       "      <td>Not Rated</td>\n",
       "      <td>NaN</td>\n",
       "      <td>False</td>\n",
       "      <td>NaN</td>\n",
       "      <td>NaN</td>\n",
       "      <td>NaN</td>\n",
       "      <td>NaN</td>\n",
       "      <td>NaN</td>\n",
       "      <td>[]</td>\n",
       "      <td>[]</td>\n",
       "      <td>False</td>\n",
       "      <td>0</td>\n",
       "      <td>False</td>\n",
       "      <td>0</td>\n",
       "      <td>Hits</td>\n",
       "      <td>0</td>\n",
       "    </tr>\n",
       "    <tr>\n",
       "      <th>36</th>\n",
       "      <td>The Awakening</td>\n",
       "      <td>4900000</td>\n",
       "      <td>6,924,321.00</td>\n",
       "      <td>41.31</td>\n",
       "      <td>2,012.00</td>\n",
       "      <td>August</td>\n",
       "      <td>R</td>\n",
       "      <td>NaN</td>\n",
       "      <td>False</td>\n",
       "      <td>['Paranormal Investigation', 'Boarding School'...</td>\n",
       "      <td>Horror</td>\n",
       "      <td>Live Action</td>\n",
       "      <td>Fantasy</td>\n",
       "      <td>['Optimum Releasing', 'BBC Films', 'StudioCana...</td>\n",
       "      <td>[Rebecca Hall, Dominic West, Imelda Staunton]</td>\n",
       "      <td>[Nick Murphy]</td>\n",
       "      <td>False</td>\n",
       "      <td>183872150</td>\n",
       "      <td>False</td>\n",
       "      <td>0</td>\n",
       "      <td>Below average</td>\n",
       "      <td>5589183592</td>\n",
       "    </tr>\n",
       "  </tbody>\n",
       "</table>\n",
       "</div>"
      ],
      "text/plain": [
       "                                  moviename     Budget        Revenue    ROI  \\\n",
       "0               The Super Mario Bros. Movie  100000000 509,221,843.00 409.22   \n",
       "1   Harry Potter and the Chamber of Secrets  100000000 874,954,530.00 774.95   \n",
       "2                                Rudderless    5000000     584,499.00 -88.31   \n",
       "7                          Mientras duermes    5000000   9,109,597.00  82.19   \n",
       "9                              Palm Springs    5000000   1,818,417.00 -63.63   \n",
       "32                                Every Day    4900000  12,826,031.00 161.76   \n",
       "33                                    Mommy    4900000  17,536,004.00 257.88   \n",
       "34         Obsluhoval jsem anglického krále    4900000   7,174,984.00  46.43   \n",
       "35                             Soul Kitchen    4900000  23,347,461.00 376.48   \n",
       "36                            The Awakening    4900000   6,924,321.00  41.31   \n",
       "\n",
       "       Year     Month     Rating         Franchise  is_Franchise  \\\n",
       "0  2,023.00     April         PG               NaN         False   \n",
       "1  2,002.00  November         PG  ['Harry Potter']          True   \n",
       "2  2,014.00   October          R               NaN         False   \n",
       "7  2,012.00       May  Not Rated               NaN         False   \n",
       "9  2,020.00      July          R               NaN         False   \n",
       "32 2,018.00  February      PG-13               NaN         False   \n",
       "33 2,014.00  November          R               NaN         False   \n",
       "34 2,008.00    August          R               NaN         False   \n",
       "35 2,010.00     April  Not Rated               NaN         False   \n",
       "36 2,012.00    August          R               NaN         False   \n",
       "\n",
       "                                             Keywords              Genre  \\\n",
       "0   ['Ensemble', 'Prince/Princess', 'Royalty', 'Go...             Action   \n",
       "1                    ['Boarding School', 'IMAX: DMR']          Adventure   \n",
       "2   ['Death of a Son or Daughter', 'Singers', 'Mus...              Drama   \n",
       "7   ['Home Invasion', 'Mental Illness', 'Fired', '...  Thriller/Suspense   \n",
       "9                     ['Sundance Film Festival 2020']             Comedy   \n",
       "32  ['Romance', 'Body Swap', 'Same Role, Multiple ...              Drama   \n",
       "33  ['Widow/Widower', 'Single Parent', 'Death of a...              Drama   \n",
       "34                               ['Foreign Language']       Black Comedy   \n",
       "35                                                NaN                NaN   \n",
       "36  ['Paranormal Investigation', 'Boarding School'...             Horror   \n",
       "\n",
       "        Production Method         Creative Type  \\\n",
       "0       Digital Animation          Kids Fiction   \n",
       "1   Animation/Live Action               Fantasy   \n",
       "2             Live Action  Contemporary Fiction   \n",
       "7             Live Action  Contemporary Fiction   \n",
       "9             Live Action  Contemporary Fiction   \n",
       "32            Live Action  Contemporary Fiction   \n",
       "33            Live Action  Contemporary Fiction   \n",
       "34            Live Action    Historical Fiction   \n",
       "35                    NaN                   NaN   \n",
       "36            Live Action               Fantasy   \n",
       "\n",
       "                       Production/Financing Companies  \\\n",
       "0   ['Universal Pictures', 'Nintendo', 'Illuminati...   \n",
       "1   ['Warner Bros.', 'Heyday Films', '1492 Pictures']   \n",
       "2                    ['Unified Pictures', 'Dog Pond']   \n",
       "7   ['Filmax Entertainment', 'Castelao Produccione...   \n",
       "9   ['Limelight', 'Hulu', 'Sun Entertainment Cultu...   \n",
       "32  ['Likely Story', 'Filmwave', 'Orion Pictures',...   \n",
       "33                    ['Metafilms', 'Sons of Manuel']   \n",
       "34                                                NaN   \n",
       "35                                                NaN   \n",
       "36  ['Optimum Releasing', 'BBC Films', 'StudioCana...   \n",
       "\n",
       "                                         Leading Cast  \\\n",
       "0   [Chris Pratt, Anya Taylor-Joy, Charlie Day, Ja...   \n",
       "1   [Daniel Radcliffe, Rupert Grint, Emma Watson, ...   \n",
       "2                       [Billy Crudup, Anton Yelchin]   \n",
       "7                           [Luis Tosar, Marta Etura]   \n",
       "9                     [Andy Samberg, Cristin Milioti]   \n",
       "32                     [Angourie Rice, Justice Smith]   \n",
       "33           [Suzanne Clement, Antoine Olivier Pilon]   \n",
       "34                                                 []   \n",
       "35                                                 []   \n",
       "36      [Rebecca Hall, Dominic West, Imelda Staunton]   \n",
       "\n",
       "                            Director  has_star_actor  actor_revenue_before  \\\n",
       "0   [Aaron Horvath, Michael Jelenic]            True           14305072670   \n",
       "1                   [Chris Columbus]           False             191035966   \n",
       "2                  [William H. Macy]           False             623360822   \n",
       "7                  [Jaume Balaguero]           False                     0   \n",
       "9                     [Max Barbakow]           False            1900116196   \n",
       "32                   [Michael Sucsy]           False              59596747   \n",
       "33                    [Xavier Dolan]           False                     0   \n",
       "34                                []           False                     0   \n",
       "35                                []           False                     0   \n",
       "36                     [Nick Murphy]           False             183872150   \n",
       "\n",
       "    has_star_director  director_revenue_before            hit  \\\n",
       "0               False                 51620593           Hits   \n",
       "1               False                606160905           Hits   \n",
       "2               False                        0           Loss   \n",
       "7               False                 57676027  Below average   \n",
       "9               False                        0           Loss   \n",
       "32              False                197618160  Above average   \n",
       "33              False                        0  Above average   \n",
       "34              False                        0  Below average   \n",
       "35              False                        0           Hits   \n",
       "36              False                        0  Below average   \n",
       "\n",
       "    genre_revenue_before  \n",
       "0            39962497649  \n",
       "1            12102381328  \n",
       "2            16060988973  \n",
       "7             9275043679  \n",
       "9             9566585567  \n",
       "32           15331828406  \n",
       "33           16060988973  \n",
       "34             388023564  \n",
       "35                     0  \n",
       "36            5589183592  "
      ]
     },
     "execution_count": 441,
     "metadata": {},
     "output_type": "execute_result"
    }
   ],
   "source": [
    "dataset.head(10)"
   ]
  },
  {
   "cell_type": "code",
   "execution_count": 442,
   "id": "8385ad4d-171d-435d-97c4-86c7c1d820fc",
   "metadata": {},
   "outputs": [
    {
     "data": {
      "text/plain": [
       "Loss             1606\n",
       "Hits             1393\n",
       "Above average    1393\n",
       "Below average    1179\n",
       "Name: hit, dtype: int64"
      ]
     },
     "execution_count": 442,
     "metadata": {},
     "output_type": "execute_result"
    }
   ],
   "source": [
    "dataset['hit'].value_counts()"
   ]
  },
  {
   "cell_type": "code",
   "execution_count": 191,
   "id": "0f9d8a6d-a3c5-4e7a-9f5e-5a78209ba0ce",
   "metadata": {
    "tags": []
   },
   "outputs": [],
   "source": [
    "dataset['hit'] = ''\n",
    "for index, row in dataset.iterrows():\n",
    "    if row['ROI'] <= 0:\n",
    "        dataset.at[index, 'hit'] = 'Loss'\n",
    "    elif row['ROI'] > 0 and row['ROI'] <= 106.71:\n",
    "        dataset.at[index, 'hit'] = 'Below average'\n",
    "    elif row['ROI'] > 106.71 and row['ROI'] <= 320.26:\n",
    "        dataset.at[index, 'hit'] = 'Above average'\n",
    "    elif row['ROI'] > 320.26:\n",
    "        dataset.at[index, 'hit'] = 'Hits'"
   ]
  },
  {
   "cell_type": "code",
   "execution_count": 192,
   "id": "ff8cc6d4-c28c-446a-9130-8b82b878a9dc",
   "metadata": {},
   "outputs": [],
   "source": [
    "final = dataset.loc[dataset['Year'] >= 1980].copy()\n",
    "X = final[['Budget', 'Year', 'Month',\n",
    "       'Rating', 'is_Franchise', 'Production Method',\n",
    "       'Creative Type', 'has_star_actor', 'has_star_director',\n",
    "       'actor_revenue_before', 'director_revenue_before',\n",
    "        'genre_revenue_before']].copy()\n",
    "X[\"Month\"] = X[\"Month\"].astype(\"category\")\n",
    "X[\"Rating\"] = X[\"Rating\"].astype(\"category\")\n",
    "X[\"is_Franchise\"] = X[\"is_Franchise\"].astype(\"category\")\n",
    "# X[\"Genre\"] = X[\"Genre\"].astype(\"category\")\n",
    "X[\"Production Method\"] = X[\"Production Method\"].astype(\"category\")\n",
    "X[\"Creative Type\"] = X[\"Creative Type\"].astype(\"category\")\n",
    "X[\"Year\"] = X[\"Year\"].astype('Int64')\n",
    "\n",
    "X[\"has_star_actor\"] = X[\"has_star_actor\"].astype(\"category\")\n",
    "X[\"has_star_director\"] = X[\"has_star_director\"].astype(\"category\")"
   ]
  },
  {
   "cell_type": "code",
   "execution_count": 284,
   "id": "65c8c80d-f891-4fd2-9d2e-7b2f6908855a",
   "metadata": {},
   "outputs": [
    {
     "name": "stdout",
     "output_type": "stream",
     "text": [
      "accuracy score:  0.36757775683317623\n",
      "MCC:  0.14999605286956\n"
     ]
    },
    {
     "data": {
      "image/png": "[encoded data removed]",
      "text/plain": [
       "<Figure size 640x480 with 2 Axes>"
      ]
     },
     "metadata": {},
     "output_type": "display_data"
    }
   ],
   "source": [
    "X_train, X_test, y_train, y_test = train_test_split(\n",
    "    X,\n",
    "    final[['hit']], test_size = .2, random_state = 10) #split the data\n",
    "\n",
    "classes = {\n",
    "    \"Classes\": [\n",
    "        \"Loss\",\n",
    "        \"Below average\",\n",
    "        \"Above average\",\n",
    "        \"Hits\",\n",
    "    ]\n",
    "}\n",
    "df_classes = pd.DataFrame(data = classes)\n",
    "\n",
    "from sklearn.preprocessing import LabelEncoder\n",
    "le = LabelEncoder()\n",
    "le.fit(classes['Classes'])\n",
    "y_train = le.fit_transform(y_train.values.ravel())\n",
    "\n",
    "import xgboost as xgb\n",
    "clf = xgb.XGBClassifier(enable_categorical = True,  \n",
    "                      tree_method = \"hist\")\n",
    "clf.fit(X_train, y_train)\n",
    "\n",
    "from sklearn.metrics import confusion_matrix, accuracy_score\n",
    "y_pred = clf.predict(X_test)\n",
    "y_pred = le.inverse_transform(y_pred)\n",
    "cm = confusion_matrix(y_test, y_pred, labels = classes['Classes'])\n",
    "from sklearn.metrics import matthews_corrcoef\n",
    "print(\"accuracy score: \", accuracy_score(y_test, y_pred))\n",
    "print(\"MCC: \", matthews_corrcoef(y_test, y_pred))\n",
    "\n",
    "from sklearn.metrics import ConfusionMatrixDisplay\n",
    "disp = ConfusionMatrixDisplay(confusion_matrix = cm,\n",
    "                              display_labels = classes['Classes'])\n",
    "disp.plot()\n",
    "plt.show()"
   ]
  },
  {
   "cell_type": "code",
   "execution_count": 187,
   "id": "5f62ea56-c120-404a-a2b6-afb44fed19a0",
   "metadata": {
    "jupyter": {
     "source_hidden": true
    },
    "tags": []
   },
   "outputs": [
    {
     "data": {
      "image/png": "[encoded data removed]",
      "text/plain": [
       "<Figure size 640x480 with 1 Axes>"
      ]
     },
     "metadata": {},
     "output_type": "display_data"
    }
   ],
   "source": [
    "from sklearn.inspection import permutation_importance\n",
    "result = permutation_importance(\n",
    "    clf, X_test, le.fit_transform(y_test.values.ravel()), n_repeats=10, random_state=10, n_jobs=2\n",
    ")\n",
    "forest_importances = pd.Series(result.importances_mean, index = list(X_train.columns.values))\n",
    "fig, ax = plt.subplots()\n",
    "forest_importances.plot.bar(yerr=result.importances_std, ax=ax)\n",
    "ax.set_title(\"Feature importances using permutation on full model\")\n",
    "ax.set_ylabel(\"Mean accuracy decrease\")\n",
    "fig.tight_layout()\n",
    "plt.show()"
   ]
  },
  {
   "cell_type": "code",
   "execution_count": 277,
   "id": "f0aab36c-3ffd-4987-93db-22d1174dff43",
   "metadata": {
    "tags": []
   },
   "outputs": [
    {
     "name": "stderr",
     "output_type": "stream",
     "text": [
      "100%|██████████| 243/243 [7:33:08<00:00, 111.89s/it]  \n"
     ]
    }
   ],
   "source": [
    "my_super_search = pd.DataFrame(columns = [\"timewindow_actor\",\n",
    "                                          \"timewindow_director\",\n",
    "                                          \"timewindow_genre\",\n",
    "                                          \"star_actor_num\",\n",
    "                                          \"star_director_num\",\n",
    "                                          \"params\",\n",
    "                                          \"MCC\"])\n",
    "\n",
    "import itertools\n",
    "tuning_list = {\n",
    "    \"timewindow_actor\": [3, 5, 10],\n",
    "    \"timewindow_director\": [3, 5, 10],\n",
    "    \"timewindow_genre\": [3, 5, 10],\n",
    "    \"star_actor_num\": [3, 5, 10],\n",
    "    \"star_director_num\": [3, 5, 10],\n",
    "    }\n",
    "tuning_grid = list(itertools.product(*tuning_list.values()))\n",
    "\n",
    "from tqdm import tqdm   \n",
    "for s in tqdm(tuning_grid):\n",
    "    timewindow_actor = s[0]\n",
    "    timewindow_director = s[1]\n",
    "    timewindow_genre = s[2]\n",
    "    star_actor_num = s[3]\n",
    "    star_director_num = s[4]\n",
    "    \n",
    "    castinfo(timewindow_actor, star_actor_num)\n",
    "    directorinfo(timewindow_director, star_director_num)\n",
    "    genreinfo(timewindow_genre)\n",
    "    \n",
    "    final = dataset.loc[dataset['Year'] >= 1980].copy()\n",
    "    X = final[['Budget', 'Year', 'Month',\n",
    "           'Rating', 'is_Franchise', 'Production Method',\n",
    "           'Creative Type', 'has_star_actor', 'has_star_director',\n",
    "           'actor_revenue_before', 'director_revenue_before',\n",
    "            'genre_revenue_before']].copy()\n",
    "    X[\"Month\"] = X[\"Month\"].astype(\"category\")\n",
    "    X[\"Rating\"] = X[\"Rating\"].astype(\"category\")\n",
    "    X[\"is_Franchise\"] = X[\"is_Franchise\"].astype(\"category\")\n",
    "    # X[\"Genre\"] = X[\"Genre\"].astype(\"category\")\n",
    "    X[\"Production Method\"] = X[\"Production Method\"].astype(\"category\")\n",
    "    X[\"Creative Type\"] = X[\"Creative Type\"].astype(\"category\")\n",
    "    X[\"Year\"] = X[\"Year\"].astype('Int64')\n",
    "\n",
    "    X[\"has_star_actor\"] = X[\"has_star_actor\"].astype(\"category\")\n",
    "    X[\"has_star_director\"] = X[\"has_star_director\"].astype(\"category\")\n",
    "    \n",
    "    from sklearn.preprocessing import LabelEncoder\n",
    "    le = LabelEncoder()\n",
    "    Y = le.fit_transform(final['hit'].values)\n",
    "\n",
    "    from xgboost import XGBClassifier\n",
    "    from sklearn.model_selection import GridSearchCV\n",
    "    from sklearn.metrics import make_scorer\n",
    "    estimator = XGBClassifier(\n",
    "        enable_categorical = True,\n",
    "        tree_method = \"hist\",\n",
    "        seed = 42,\n",
    "        eval_metric = matthews_corrcoef,\n",
    "        n_estimators = 100\n",
    "    )\n",
    "    parameters = {\n",
    "        'max_depth': range (3, 15, 3),\n",
    "        'learning_rate': [0.01, 0.05, 0.1]\n",
    "    }\n",
    "    grid_search = GridSearchCV(\n",
    "        estimator = estimator,\n",
    "        param_grid = parameters,\n",
    "        scoring = make_scorer(matthews_corrcoef),\n",
    "        n_jobs = -1,\n",
    "        cv = 5,\n",
    "        return_train_score = True\n",
    "    )\n",
    "    grid_search.fit(X, Y)\n",
    "    \n",
    "    my_super_search.loc[len(my_super_search)] = list(s) + [grid_search.best_params_, grid_search.best_score_]\n"
   ]
  },
  {
   "cell_type": "code",
   "execution_count": null,
   "id": "ed6be038-36ca-4578-bb6f-b9d1465554d8",
   "metadata": {},
   "outputs": [],
   "source": []
  },
  {
   "cell_type": "code",
   "execution_count": null,
   "id": "6b1d86b8-55b8-4b45-a31b-2831e0a2a5bd",
   "metadata": {},
   "outputs": [],
   "source": []
  },
  {
   "cell_type": "code",
   "execution_count": 285,
   "id": "cc9486b3-5384-4337-ad24-3bf01deaf941",
   "metadata": {},
   "outputs": [
    {
     "data": {
      "text/plain": [
       "count   243.00\n",
       "mean      0.03\n",
       "std       0.01\n",
       "min       0.02\n",
       "25%       0.02\n",
       "50%       0.03\n",
       "75%       0.03\n",
       "max       0.04\n",
       "Name: MCC, dtype: float64"
      ]
     },
     "execution_count": 285,
     "metadata": {},
     "output_type": "execute_result"
    }
   ],
   "source": [
    "my_super_search['MCC'].describe()"
   ]
  },
  {
   "cell_type": "code",
   "execution_count": 290,
   "id": "91304a9b-7156-461d-9d42-16dd14249fe0",
   "metadata": {},
   "outputs": [
    {
     "data": {
      "text/html": [
       "<style>#sk-container-id-11 {color: black;background-color: white;}#sk-container-id-11 pre{padding: 0;}#sk-container-id-11 div.sk-toggleable {background-color: white;}#sk-container-id-11 label.sk-toggleable__label {cursor: pointer;display: block;width: 100%;margin-bottom: 0;padding: 0.3em;box-sizing: border-box;text-align: center;}#sk-container-id-11 label.sk-toggleable__label-arrow:before {content: \"▸\";float: left;margin-right: 0.25em;color: #696969;}#sk-container-id-11 label.sk-toggleable__label-arrow:hover:before {color: black;}#sk-container-id-11 div.sk-estimator:hover label.sk-toggleable__label-arrow:before {color: black;}#sk-container-id-11 div.sk-toggleable__content {max-height: 0;max-width: 0;overflow: hidden;text-align: left;background-color: #f0f8ff;}#sk-container-id-11 div.sk-toggleable__content pre {margin: 0.2em;color: black;border-radius: 0.25em;background-color: #f0f8ff;}#sk-container-id-11 input.sk-toggleable__control:checked~div.sk-toggleable__content {max-height: 200px;max-width: 100%;overflow: auto;}#sk-container-id-11 input.sk-toggleable__control:checked~label.sk-toggleable__label-arrow:before {content: \"▾\";}#sk-container-id-11 div.sk-estimator input.sk-toggleable__control:checked~label.sk-toggleable__label {background-color: #d4ebff;}#sk-container-id-11 div.sk-label input.sk-toggleable__control:checked~label.sk-toggleable__label {background-color: #d4ebff;}#sk-container-id-11 input.sk-hidden--visually {border: 0;clip: rect(1px 1px 1px 1px);clip: rect(1px, 1px, 1px, 1px);height: 1px;margin: -1px;overflow: hidden;padding: 0;position: absolute;width: 1px;}#sk-container-id-11 div.sk-estimator {font-family: monospace;background-color: #f0f8ff;border: 1px dotted black;border-radius: 0.25em;box-sizing: border-box;margin-bottom: 0.5em;}#sk-container-id-11 div.sk-estimator:hover {background-color: #d4ebff;}#sk-container-id-11 div.sk-parallel-item::after {content: \"\";width: 100%;border-bottom: 1px solid gray;flex-grow: 1;}#sk-container-id-11 div.sk-label:hover label.sk-toggleable__label {background-color: #d4ebff;}#sk-container-id-11 div.sk-serial::before {content: \"\";position: absolute;border-left: 1px solid gray;box-sizing: border-box;top: 0;bottom: 0;left: 50%;z-index: 0;}#sk-container-id-11 div.sk-serial {display: flex;flex-direction: column;align-items: center;background-color: white;padding-right: 0.2em;padding-left: 0.2em;position: relative;}#sk-container-id-11 div.sk-item {position: relative;z-index: 1;}#sk-container-id-11 div.sk-parallel {display: flex;align-items: stretch;justify-content: center;background-color: white;position: relative;}#sk-container-id-11 div.sk-item::before, #sk-container-id-11 div.sk-parallel-item::before {content: \"\";position: absolute;border-left: 1px solid gray;box-sizing: border-box;top: 0;bottom: 0;left: 50%;z-index: -1;}#sk-container-id-11 div.sk-parallel-item {display: flex;flex-direction: column;z-index: 1;position: relative;background-color: white;}#sk-container-id-11 div.sk-parallel-item:first-child::after {align-self: flex-end;width: 50%;}#sk-container-id-11 div.sk-parallel-item:last-child::after {align-self: flex-start;width: 50%;}#sk-container-id-11 div.sk-parallel-item:only-child::after {width: 0;}#sk-container-id-11 div.sk-dashed-wrapped {border: 1px dashed gray;margin: 0 0.4em 0.5em 0.4em;box-sizing: border-box;padding-bottom: 0.4em;background-color: white;}#sk-container-id-11 div.sk-label label {font-family: monospace;font-weight: bold;display: inline-block;line-height: 1.2em;}#sk-container-id-11 div.sk-label-container {text-align: center;}#sk-container-id-11 div.sk-container {/* jupyter's `normalize.less` sets `[hidden] { display: none; }` but bootstrap.min.css set `[hidden] { display: none !important; }` so we also need the `!important` here to be able to override the default hidden behavior on the sphinx rendered scikit-learn.org. See: https://github.com/scikit-learn/scikit-learn/issues/21755 */display: inline-block !important;position: relative;}#sk-container-id-11 div.sk-text-repr-fallback {display: none;}</style><div id=\"sk-container-id-11\" class=\"sk-top-container\"><div class=\"sk-text-repr-fallback\"><pre>GridSearchCV(cv=5,\n",
       "             estimator=XGBClassifier(base_score=None, booster=None,\n",
       "                                     callbacks=None, colsample_bylevel=None,\n",
       "                                     colsample_bynode=None,\n",
       "                                     colsample_bytree=None,\n",
       "                                     early_stopping_rounds=None,\n",
       "                                     enable_categorical=True, eval_metric=None,\n",
       "                                     feature_types=None, gamma=None,\n",
       "                                     gpu_id=None, grow_policy=None,\n",
       "                                     importance_type=None,\n",
       "                                     interaction_constraints=None,\n",
       "                                     learning_rate=None, m...\n",
       "                                     max_cat_to_onehot=None,\n",
       "                                     max_delta_step=None, max_depth=None,\n",
       "                                     max_leaves=None, min_child_weight=None,\n",
       "                                     missing=nan, monotone_constraints=None,\n",
       "                                     n_estimators=100, n_jobs=None,\n",
       "                                     num_parallel_tree=None, predictor=None,\n",
       "                                     random_state=None, ...),\n",
       "             n_jobs=-1,\n",
       "             param_grid={&#x27;learning_rate&#x27;: [0.01, 0.05, 0.1],\n",
       "                         &#x27;max_depth&#x27;: range(3, 15, 3)},\n",
       "             return_train_score=True, scoring=make_scorer(matthews_corrcoef))</pre><b>In a Jupyter environment, please rerun this cell to show the HTML representation or trust the notebook. <br />On GitHub, the HTML representation is unable to render, please try loading this page with nbviewer.org.</b></div><div class=\"sk-container\" hidden><div class=\"sk-item sk-dashed-wrapped\"><div class=\"sk-label-container\"><div class=\"sk-label sk-toggleable\"><input class=\"sk-toggleable__control sk-hidden--visually\" id=\"sk-estimator-id-31\" type=\"checkbox\" ><label for=\"sk-estimator-id-31\" class=\"sk-toggleable__label sk-toggleable__label-arrow\">GridSearchCV</label><div class=\"sk-toggleable__content\"><pre>GridSearchCV(cv=5,\n",
       "             estimator=XGBClassifier(base_score=None, booster=None,\n",
       "                                     callbacks=None, colsample_bylevel=None,\n",
       "                                     colsample_bynode=None,\n",
       "                                     colsample_bytree=None,\n",
       "                                     early_stopping_rounds=None,\n",
       "                                     enable_categorical=True, eval_metric=None,\n",
       "                                     feature_types=None, gamma=None,\n",
       "                                     gpu_id=None, grow_policy=None,\n",
       "                                     importance_type=None,\n",
       "                                     interaction_constraints=None,\n",
       "                                     learning_rate=None, m...\n",
       "                                     max_cat_to_onehot=None,\n",
       "                                     max_delta_step=None, max_depth=None,\n",
       "                                     max_leaves=None, min_child_weight=None,\n",
       "                                     missing=nan, monotone_constraints=None,\n",
       "                                     n_estimators=100, n_jobs=None,\n",
       "                                     num_parallel_tree=None, predictor=None,\n",
       "                                     random_state=None, ...),\n",
       "             n_jobs=-1,\n",
       "             param_grid={&#x27;learning_rate&#x27;: [0.01, 0.05, 0.1],\n",
       "                         &#x27;max_depth&#x27;: range(3, 15, 3)},\n",
       "             return_train_score=True, scoring=make_scorer(matthews_corrcoef))</pre></div></div></div><div class=\"sk-parallel\"><div class=\"sk-parallel-item\"><div class=\"sk-item\"><div class=\"sk-label-container\"><div class=\"sk-label sk-toggleable\"><input class=\"sk-toggleable__control sk-hidden--visually\" id=\"sk-estimator-id-32\" type=\"checkbox\" ><label for=\"sk-estimator-id-32\" class=\"sk-toggleable__label sk-toggleable__label-arrow\">estimator: XGBClassifier</label><div class=\"sk-toggleable__content\"><pre>XGBClassifier(base_score=None, booster=None, callbacks=None,\n",
       "              colsample_bylevel=None, colsample_bynode=None,\n",
       "              colsample_bytree=None, early_stopping_rounds=None,\n",
       "              enable_categorical=True, eval_metric=None, feature_types=None,\n",
       "              gamma=None, gpu_id=None, grow_policy=None, importance_type=None,\n",
       "              interaction_constraints=None, learning_rate=None, max_bin=None,\n",
       "              max_cat_threshold=None, max_cat_to_onehot=None,\n",
       "              max_delta_step=None, max_depth=None, max_leaves=None,\n",
       "              min_child_weight=None, missing=nan, monotone_constraints=None,\n",
       "              n_estimators=100, n_jobs=None, num_parallel_tree=None,\n",
       "              predictor=None, random_state=None, ...)</pre></div></div></div><div class=\"sk-serial\"><div class=\"sk-item\"><div class=\"sk-estimator sk-toggleable\"><input class=\"sk-toggleable__control sk-hidden--visually\" id=\"sk-estimator-id-33\" type=\"checkbox\" ><label for=\"sk-estimator-id-33\" class=\"sk-toggleable__label sk-toggleable__label-arrow\">XGBClassifier</label><div class=\"sk-toggleable__content\"><pre>XGBClassifier(base_score=None, booster=None, callbacks=None,\n",
       "              colsample_bylevel=None, colsample_bynode=None,\n",
       "              colsample_bytree=None, early_stopping_rounds=None,\n",
       "              enable_categorical=True, eval_metric=None, feature_types=None,\n",
       "              gamma=None, gpu_id=None, grow_policy=None, importance_type=None,\n",
       "              interaction_constraints=None, learning_rate=None, max_bin=None,\n",
       "              max_cat_threshold=None, max_cat_to_onehot=None,\n",
       "              max_delta_step=None, max_depth=None, max_leaves=None,\n",
       "              min_child_weight=None, missing=nan, monotone_constraints=None,\n",
       "              n_estimators=100, n_jobs=None, num_parallel_tree=None,\n",
       "              predictor=None, random_state=None, ...)</pre></div></div></div></div></div></div></div></div></div></div>"
      ],
      "text/plain": [
       "GridSearchCV(cv=5,\n",
       "             estimator=XGBClassifier(base_score=None, booster=None,\n",
       "                                     callbacks=None, colsample_bylevel=None,\n",
       "                                     colsample_bynode=None,\n",
       "                                     colsample_bytree=None,\n",
       "                                     early_stopping_rounds=None,\n",
       "                                     enable_categorical=True, eval_metric=None,\n",
       "                                     feature_types=None, gamma=None,\n",
       "                                     gpu_id=None, grow_policy=None,\n",
       "                                     importance_type=None,\n",
       "                                     interaction_constraints=None,\n",
       "                                     learning_rate=None, m...\n",
       "                                     max_cat_to_onehot=None,\n",
       "                                     max_delta_step=None, max_depth=None,\n",
       "                                     max_leaves=None, min_child_weight=None,\n",
       "                                     missing=nan, monotone_constraints=None,\n",
       "                                     n_estimators=100, n_jobs=None,\n",
       "                                     num_parallel_tree=None, predictor=None,\n",
       "                                     random_state=None, ...),\n",
       "             n_jobs=-1,\n",
       "             param_grid={'learning_rate': [0.01, 0.05, 0.1],\n",
       "                         'max_depth': range(3, 15, 3)},\n",
       "             return_train_score=True, scoring=make_scorer(matthews_corrcoef))"
      ]
     },
     "execution_count": 290,
     "metadata": {},
     "output_type": "execute_result"
    }
   ],
   "source": [
    "    from xgboost import XGBClassifier\n",
    "    from sklearn.model_selection import GridSearchCV\n",
    "    from sklearn.metrics import make_scorer\n",
    "    estimator = XGBClassifier(\n",
    "        enable_categorical = True,\n",
    "        tree_method = \"hist\",\n",
    "        seed = 42,\n",
    "        n_estimators = 100\n",
    "    )\n",
    "    parameters = {\n",
    "        'max_depth': range (3, 15, 3),\n",
    "        'learning_rate': [0.01, 0.05, 0.1]\n",
    "    }\n",
    "    grid_search = GridSearchCV(\n",
    "        estimator = estimator,\n",
    "        param_grid = parameters,\n",
    "        scoring = make_scorer(matthews_corrcoef),\n",
    "        n_jobs = -1,\n",
    "        cv = 5,\n",
    "        return_train_score = True\n",
    "    )\n",
    "    grid_search.fit(X, Y)"
   ]
  },
  {
   "cell_type": "code",
   "execution_count": 291,
   "id": "ca699be3-c7e2-4c19-81cb-4297d24c521d",
   "metadata": {},
   "outputs": [
    {
     "data": {
      "text/plain": [
       "0.020513469626041593"
      ]
     },
     "execution_count": 291,
     "metadata": {},
     "output_type": "execute_result"
    }
   ],
   "source": [
    "grid_search.best_score_"
   ]
  },
  {
   "cell_type": "code",
   "execution_count": 292,
   "id": "1d5f48ef-ab63-43ca-9548-113416dcdf84",
   "metadata": {},
   "outputs": [
    {
     "data": {
      "text/plain": [
       "{'learning_rate': 0.01, 'max_depth': 3}"
      ]
     },
     "execution_count": 292,
     "metadata": {},
     "output_type": "execute_result"
    }
   ],
   "source": [
    "grid_search.best_params_"
   ]
  },
  {
   "cell_type": "code",
   "execution_count": 293,
   "id": "720b3246-1cd3-41d5-911b-7cf5e97b5a5a",
   "metadata": {
    "collapsed": true,
    "jupyter": {
     "outputs_hidden": true
    },
    "tags": []
   },
   "outputs": [
    {
     "data": {
      "text/plain": [
       "{'mean_fit_time': array([0.53079462, 1.39259853, 3.48420038, 6.54983368, 0.51255503,\n",
       "        1.23480105, 2.99720097, 6.09209919, 0.64240255, 1.49805417,\n",
       "        3.20100226, 4.25945449]),\n",
       " 'std_fit_time': array([0.01724452, 0.10031391, 0.31154663, 0.43914852, 0.01240012,\n",
       "        0.08350206, 0.27618684, 0.72325808, 0.08410351, 0.09963524,\n",
       "        0.15378599, 0.31549126]),\n",
       " 'mean_score_time': array([0.02620077, 0.04240088, 0.05480208, 0.07520161, 0.03020101,\n",
       "        0.04300284, 0.06780877, 0.0912003 , 0.0365994 , 0.05379806,\n",
       "        0.07559881, 0.06380758]),\n",
       " 'std_score_time': array([0.00159979, 0.0061506 , 0.00711012, 0.01375866, 0.00248058,\n",
       "        0.00419477, 0.02027838, 0.02188721, 0.00173913, 0.00426253,\n",
       "        0.00835924, 0.00843773]),\n",
       " 'param_learning_rate': masked_array(data=[0.01, 0.01, 0.01, 0.01, 0.05, 0.05, 0.05, 0.05, 0.1,\n",
       "                    0.1, 0.1, 0.1],\n",
       "              mask=[False, False, False, False, False, False, False, False,\n",
       "                    False, False, False, False],\n",
       "        fill_value='?',\n",
       "             dtype=object),\n",
       " 'param_max_depth': masked_array(data=[3, 6, 9, 12, 3, 6, 9, 12, 3, 6, 9, 12],\n",
       "              mask=[False, False, False, False, False, False, False, False,\n",
       "                    False, False, False, False],\n",
       "        fill_value='?',\n",
       "             dtype=object),\n",
       " 'params': [{'learning_rate': 0.01, 'max_depth': 3},\n",
       "  {'learning_rate': 0.01, 'max_depth': 6},\n",
       "  {'learning_rate': 0.01, 'max_depth': 9},\n",
       "  {'learning_rate': 0.01, 'max_depth': 12},\n",
       "  {'learning_rate': 0.05, 'max_depth': 3},\n",
       "  {'learning_rate': 0.05, 'max_depth': 6},\n",
       "  {'learning_rate': 0.05, 'max_depth': 9},\n",
       "  {'learning_rate': 0.05, 'max_depth': 12},\n",
       "  {'learning_rate': 0.1, 'max_depth': 3},\n",
       "  {'learning_rate': 0.1, 'max_depth': 6},\n",
       "  {'learning_rate': 0.1, 'max_depth': 9},\n",
       "  {'learning_rate': 0.1, 'max_depth': 12}],\n",
       " 'split0_test_score': array([-0.01020816, -0.0221341 , -0.0416905 , -0.03610308, -0.00960716,\n",
       "        -0.01908012, -0.02158132, -0.02736139, -0.00446342, -0.02414446,\n",
       "        -0.02141587, -0.02166554]),\n",
       " 'split1_test_score': array([-0.01940195, -0.111695  , -0.1838256 , -0.18768214, -0.24135802,\n",
       "        -0.24227126, -0.23788524, -0.23894554, -0.24137086, -0.23660679,\n",
       "        -0.2394392 , -0.2398351 ]),\n",
       " 'split2_test_score': array([-0.0982067 , -0.02431381, -0.03066674, -0.0335836 , -0.02988239,\n",
       "        -0.02248132, -0.03676923, -0.02052713, -0.0445954 , -0.04484481,\n",
       "        -0.03427213, -0.02645882]),\n",
       " 'split3_test_score': array([ 0.10921569, -0.01992834, -0.01014424, -0.01037455,  0.0668318 ,\n",
       "        -0.0270397 , -0.02203446,  0.00188808,  0.00392755, -0.01413884,\n",
       "        -0.03808723,  0.01283243]),\n",
       " 'split4_test_score': array([0.12116847, 0.10454947, 0.10073057, 0.10327941, 0.13450683,\n",
       "        0.13332087, 0.12090982, 0.13080185, 0.14278883, 0.13440502,\n",
       "        0.13140888, 0.14324511]),\n",
       " 'mean_test_score': array([ 0.02051347, -0.01470436, -0.0331193 , -0.03289279, -0.01590179,\n",
       "        -0.03551031, -0.03947209, -0.03082883, -0.02874266, -0.03706598,\n",
       "        -0.04036111, -0.02637638]),\n",
       " 'std_test_score': array([0.08322386, 0.06899781, 0.09081356, 0.09275825, 0.12691193,\n",
       "        0.11980444, 0.11464867, 0.11884913, 0.12372707, 0.1182979 ,\n",
       "        0.11793065, 0.12320358]),\n",
       " 'rank_test_score': array([ 1,  2,  8,  7,  3,  9, 11,  6,  5, 10, 12,  4]),\n",
       " 'split0_train_score': array([0.23951956, 0.39042652, 0.65215311, 0.87796871, 0.29484829,\n",
       "        0.54097251, 0.85730644, 0.98082252, 0.35156006, 0.69714584,\n",
       "        0.9638981 , 0.99842247]),\n",
       " 'split1_train_score': array([0.25823691, 0.37600537, 0.61888759, 0.84635119, 0.28903586,\n",
       "        0.54035056, 0.82177708, 0.97071816, 0.35762332, 0.67158145,\n",
       "        0.91561962, 0.99211266]),\n",
       " 'split2_train_score': array([0.25932094, 0.4082928 , 0.66463788, 0.86604151, 0.31491832,\n",
       "        0.58517945, 0.90150798, 0.97796008, 0.3608287 , 0.71965237,\n",
       "        0.96018442, 0.99652812]),\n",
       " 'split3_train_score': array([0.25779773, 0.42019548, 0.70526935, 0.87489174, 0.30857787,\n",
       "        0.58414836, 0.89790286, 0.98801395, 0.36838589, 0.71507818,\n",
       "        0.95670745, 0.99747627]),\n",
       " 'split4_train_score': array([0.25664331, 0.42286988, 0.70379841, 0.90732699, 0.31313207,\n",
       "        0.60139613, 0.91703333, 0.99368927, 0.357579  , 0.74374083,\n",
       "        0.97287121, 0.99936897]),\n",
       " 'mean_train_score': array([0.25430369, 0.40355801, 0.66894927, 0.87451603, 0.30410248,\n",
       "        0.5704094 , 0.87910554, 0.9822408 , 0.35919539, 0.70943974,\n",
       "        0.95385616, 0.9967817 ]),\n",
       " 'std_train_score': array([0.00744171, 0.01790953, 0.03268174, 0.01976713, 0.01030716,\n",
       "        0.02504857, 0.0348008 , 0.00796874, 0.00548663, 0.02407091,\n",
       "        0.01986264, 0.00251924])}"
      ]
     },
     "execution_count": 293,
     "metadata": {},
     "output_type": "execute_result"
    }
   ],
   "source": [
    "grid_search.cv_results_"
   ]
  },
  {
   "cell_type": "code",
   "execution_count": null,
   "id": "d0210c11-6c28-46c5-af21-1058b77eb126",
   "metadata": {},
   "outputs": [],
   "source": []
  },
  {
   "cell_type": "code",
   "execution_count": 440,
   "id": "b96dd3c8-3358-4b60-93ba-d7d6174f1ebf",
   "metadata": {
    "collapsed": true,
    "jupyter": {
     "outputs_hidden": true
    },
    "tags": []
   },
   "outputs": [
    {
     "name": "stderr",
     "output_type": "stream",
     "text": [
      "  1%|          | 1/162 [00:51<2:17:44, 51.33s/it]"
     ]
    },
    {
     "name": "stdout",
     "output_type": "stream",
     "text": [
      "accuracy score:  0.3892554194156456\n",
      "MCC:  0.17959813462592833\n"
     ]
    },
    {
     "name": "stderr",
     "output_type": "stream",
     "text": [
      "  1%|          | 2/162 [01:42<2:16:45, 51.28s/it]"
     ]
    },
    {
     "name": "stdout",
     "output_type": "stream",
     "text": [
      "accuracy score:  0.3836003770028275\n",
      "MCC:  0.1715638348826353\n"
     ]
    },
    {
     "name": "stderr",
     "output_type": "stream",
     "text": [
      "  2%|▏         | 3/162 [02:34<2:16:08, 51.38s/it]"
     ]
    },
    {
     "name": "stdout",
     "output_type": "stream",
     "text": [
      "accuracy score:  0.3770028275212064\n",
      "MCC:  0.1624286312580571\n"
     ]
    },
    {
     "name": "stderr",
     "output_type": "stream",
     "text": [
      "  2%|▏         | 4/162 [03:25<2:15:13, 51.35s/it]"
     ]
    },
    {
     "name": "stdout",
     "output_type": "stream",
     "text": [
      "accuracy score:  0.37134778510838834\n",
      "MCC:  0.1552020124275332\n"
     ]
    },
    {
     "name": "stderr",
     "output_type": "stream",
     "text": [
      "  3%|▎         | 5/162 [04:18<2:15:53, 51.93s/it]"
     ]
    },
    {
     "name": "stdout",
     "output_type": "stream",
     "text": [
      "accuracy score:  0.37229029217719134\n",
      "MCC:  0.15704950616832217\n"
     ]
    },
    {
     "name": "stderr",
     "output_type": "stream",
     "text": [
      "  4%|▎         | 6/162 [05:11<2:16:13, 52.40s/it]"
     ]
    },
    {
     "name": "stdout",
     "output_type": "stream",
     "text": [
      "accuracy score:  0.38077285579641845\n",
      "MCC:  0.1679706382705796\n"
     ]
    },
    {
     "name": "stderr",
     "output_type": "stream",
     "text": [
      "  4%|▍         | 7/162 [06:01<2:13:22, 51.63s/it]"
     ]
    },
    {
     "name": "stdout",
     "output_type": "stream",
     "text": [
      "accuracy score:  0.36380772855796417\n",
      "MCC:  0.14493617197397193\n"
     ]
    },
    {
     "name": "stderr",
     "output_type": "stream",
     "text": [
      "  5%|▍         | 8/162 [06:52<2:11:37, 51.28s/it]"
     ]
    },
    {
     "name": "stdout",
     "output_type": "stream",
     "text": [
      "accuracy score:  0.38077285579641845\n",
      "MCC:  0.1675758793584237\n"
     ]
    },
    {
     "name": "stderr",
     "output_type": "stream",
     "text": [
      "  6%|▌         | 9/162 [07:44<2:11:17, 51.49s/it]"
     ]
    },
    {
     "name": "stdout",
     "output_type": "stream",
     "text": [
      "accuracy score:  0.38077285579641845\n",
      "MCC:  0.16768854582664147\n"
     ]
    },
    {
     "name": "stderr",
     "output_type": "stream",
     "text": [
      "  6%|▌         | 10/162 [08:36<2:11:04, 51.74s/it]"
     ]
    },
    {
     "name": "stdout",
     "output_type": "stream",
     "text": [
      "accuracy score:  0.3883129123468426\n",
      "MCC:  0.17808885779802053\n"
     ]
    },
    {
     "name": "stderr",
     "output_type": "stream",
     "text": [
      "  7%|▋         | 11/162 [09:29<2:10:50, 51.99s/it]"
     ]
    },
    {
     "name": "stdout",
     "output_type": "stream",
     "text": [
      "accuracy score:  0.3826578699340245\n",
      "MCC:  0.1700060463289181\n"
     ]
    },
    {
     "name": "stderr",
     "output_type": "stream",
     "text": [
      "  7%|▋         | 12/162 [10:22<2:10:52, 52.35s/it]"
     ]
    },
    {
     "name": "stdout",
     "output_type": "stream",
     "text": [
      "accuracy score:  0.36380772855796417\n",
      "MCC:  0.14450072963216576\n"
     ]
    },
    {
     "name": "stderr",
     "output_type": "stream",
     "text": [
      "  8%|▊         | 13/162 [11:17<2:12:32, 53.37s/it]"
     ]
    },
    {
     "name": "stdout",
     "output_type": "stream",
     "text": [
      "accuracy score:  0.36286522148916117\n",
      "MCC:  0.14317041296827868\n"
     ]
    },
    {
     "name": "stderr",
     "output_type": "stream",
     "text": [
      "  9%|▊         | 14/162 [12:14<2:14:22, 54.48s/it]"
     ]
    },
    {
     "name": "stdout",
     "output_type": "stream",
     "text": [
      "accuracy score:  0.3770028275212064\n",
      "MCC:  0.1625014647227118\n"
     ]
    },
    {
     "name": "stderr",
     "output_type": "stream",
     "text": [
      "  9%|▉         | 15/162 [13:11<2:15:09, 55.16s/it]"
     ]
    },
    {
     "name": "stdout",
     "output_type": "stream",
     "text": [
      "accuracy score:  0.3600377002827521\n",
      "MCC:  0.13955649311257892\n"
     ]
    },
    {
     "name": "stderr",
     "output_type": "stream",
     "text": [
      " 10%|▉         | 16/162 [14:10<2:16:32, 56.11s/it]"
     ]
    },
    {
     "name": "stdout",
     "output_type": "stream",
     "text": [
      "accuracy score:  0.3694627709707823\n",
      "MCC:  0.15176211838294454\n"
     ]
    },
    {
     "name": "stderr",
     "output_type": "stream",
     "text": [
      " 10%|█         | 17/162 [15:08<2:17:02, 56.71s/it]"
     ]
    },
    {
     "name": "stdout",
     "output_type": "stream",
     "text": [
      "accuracy score:  0.37417530631479734\n",
      "MCC:  0.15855694622490235\n"
     ]
    },
    {
     "name": "stderr",
     "output_type": "stream",
     "text": [
      " 11%|█         | 18/162 [16:05<2:16:29, 56.87s/it]"
     ]
    },
    {
     "name": "stdout",
     "output_type": "stream",
     "text": [
      "accuracy score:  0.37229029217719134\n",
      "MCC:  0.15634139181749745\n"
     ]
    },
    {
     "name": "stderr",
     "output_type": "stream",
     "text": [
      " 12%|█▏        | 19/162 [17:05<2:17:58, 57.89s/it]"
     ]
    },
    {
     "name": "stdout",
     "output_type": "stream",
     "text": [
      "accuracy score:  0.38454288407163056\n",
      "MCC:  0.17290616764462108\n"
     ]
    },
    {
     "name": "stderr",
     "output_type": "stream",
     "text": [
      " 12%|█▏        | 20/162 [18:07<2:20:01, 59.16s/it]"
     ]
    },
    {
     "name": "stdout",
     "output_type": "stream",
     "text": [
      "accuracy score:  0.37134778510838834\n",
      "MCC:  0.15543473983113498\n"
     ]
    },
    {
     "name": "stderr",
     "output_type": "stream",
     "text": [
      " 13%|█▎        | 21/162 [19:06<2:18:52, 59.09s/it]"
     ]
    },
    {
     "name": "stdout",
     "output_type": "stream",
     "text": [
      "accuracy score:  0.37134778510838834\n",
      "MCC:  0.1543010730994398\n"
     ]
    },
    {
     "name": "stderr",
     "output_type": "stream",
     "text": [
      " 14%|█▎        | 22/162 [20:06<2:18:38, 59.42s/it]"
     ]
    },
    {
     "name": "stdout",
     "output_type": "stream",
     "text": [
      "accuracy score:  0.38737040527803956\n",
      "MCC:  0.17689732067803063\n"
     ]
    },
    {
     "name": "stderr",
     "output_type": "stream",
     "text": [
      " 14%|█▍        | 23/162 [21:06<2:17:55, 59.54s/it]"
     ]
    },
    {
     "name": "stdout",
     "output_type": "stream",
     "text": [
      "accuracy score:  0.3751178133836004\n",
      "MCC:  0.15948704200071756\n"
     ]
    },
    {
     "name": "stderr",
     "output_type": "stream",
     "text": [
      " 15%|█▍        | 24/162 [22:07<2:17:43, 59.88s/it]"
     ]
    },
    {
     "name": "stdout",
     "output_type": "stream",
     "text": [
      "accuracy score:  0.3911404335532517\n",
      "MCC:  0.18168868797681853\n"
     ]
    },
    {
     "name": "stderr",
     "output_type": "stream",
     "text": [
      " 15%|█▌        | 25/162 [23:09<2:18:03, 60.47s/it]"
     ]
    },
    {
     "name": "stdout",
     "output_type": "stream",
     "text": [
      "accuracy score:  0.37794533459000945\n",
      "MCC:  0.16344819259786808\n"
     ]
    },
    {
     "name": "stderr",
     "output_type": "stream",
     "text": [
      " 16%|█▌        | 26/162 [24:08<2:16:13, 60.10s/it]"
     ]
    },
    {
     "name": "stdout",
     "output_type": "stream",
     "text": [
      "accuracy score:  0.3751178133836004\n",
      "MCC:  0.1599844628318057\n"
     ]
    },
    {
     "name": "stderr",
     "output_type": "stream",
     "text": [
      " 17%|█▋        | 27/162 [25:09<2:15:39, 60.29s/it]"
     ]
    },
    {
     "name": "stdout",
     "output_type": "stream",
     "text": [
      "accuracy score:  0.3817153628652215\n",
      "MCC:  0.16868388033676177\n"
     ]
    },
    {
     "name": "stderr",
     "output_type": "stream",
     "text": [
      " 17%|█▋        | 28/162 [26:09<2:14:34, 60.26s/it]"
     ]
    },
    {
     "name": "stdout",
     "output_type": "stream",
     "text": [
      "accuracy score:  0.37794533459000945\n",
      "MCC:  0.16347306098441225\n"
     ]
    },
    {
     "name": "stderr",
     "output_type": "stream",
     "text": [
      " 18%|█▊        | 29/162 [27:08<2:13:04, 60.03s/it]"
     ]
    },
    {
     "name": "stdout",
     "output_type": "stream",
     "text": [
      "accuracy score:  0.37888784165881245\n",
      "MCC:  0.1649731427140031\n"
     ]
    },
    {
     "name": "stderr",
     "output_type": "stream",
     "text": [
      " 19%|█▊        | 30/162 [28:08<2:11:40, 59.85s/it]"
     ]
    },
    {
     "name": "stdout",
     "output_type": "stream",
     "text": [
      "accuracy score:  0.38548539114043356\n",
      "MCC:  0.1738781805556483\n"
     ]
    },
    {
     "name": "stderr",
     "output_type": "stream",
     "text": [
      " 19%|█▉        | 31/162 [29:12<2:13:22, 61.09s/it]"
     ]
    },
    {
     "name": "stdout",
     "output_type": "stream",
     "text": [
      "accuracy score:  0.38642789820923656\n",
      "MCC:  0.1749391646993616\n"
     ]
    },
    {
     "name": "stderr",
     "output_type": "stream",
     "text": [
      " 20%|█▉        | 32/162 [30:16<2:14:10, 61.93s/it]"
     ]
    },
    {
     "name": "stdout",
     "output_type": "stream",
     "text": [
      "accuracy score:  0.37229029217719134\n",
      "MCC:  0.155428250082279\n"
     ]
    },
    {
     "name": "stderr",
     "output_type": "stream",
     "text": [
      " 20%|██        | 33/162 [31:20<2:14:26, 62.53s/it]"
     ]
    },
    {
     "name": "stdout",
     "output_type": "stream",
     "text": [
      "accuracy score:  0.37983034872761545\n",
      "MCC:  0.16585899809545449\n"
     ]
    },
    {
     "name": "stderr",
     "output_type": "stream",
     "text": [
      " 21%|██        | 34/162 [32:23<2:14:07, 62.87s/it]"
     ]
    },
    {
     "name": "stdout",
     "output_type": "stream",
     "text": [
      "accuracy score:  0.3770028275212064\n",
      "MCC:  0.1618110790097939\n"
     ]
    },
    {
     "name": "stderr",
     "output_type": "stream",
     "text": [
      " 22%|██▏       | 35/162 [33:29<2:14:36, 63.60s/it]"
     ]
    },
    {
     "name": "stdout",
     "output_type": "stream",
     "text": [
      "accuracy score:  0.38454288407163056\n",
      "MCC:  0.17249196421364643\n"
     ]
    },
    {
     "name": "stderr",
     "output_type": "stream",
     "text": [
      " 22%|██▏       | 36/162 [34:34<2:14:30, 64.05s/it]"
     ]
    },
    {
     "name": "stdout",
     "output_type": "stream",
     "text": [
      "accuracy score:  0.36757775683317623\n",
      "MCC:  0.14997814038161694\n"
     ]
    },
    {
     "name": "stderr",
     "output_type": "stream",
     "text": [
      " 23%|██▎       | 37/162 [35:45<2:18:03, 66.27s/it]"
     ]
    },
    {
     "name": "stdout",
     "output_type": "stream",
     "text": [
      "accuracy score:  0.37323279924599434\n",
      "MCC:  0.15795078905892673\n"
     ]
    },
    {
     "name": "stderr",
     "output_type": "stream",
     "text": [
      " 23%|██▎       | 38/162 [36:55<2:19:09, 67.34s/it]"
     ]
    },
    {
     "name": "stdout",
     "output_type": "stream",
     "text": [
      "accuracy score:  0.3694627709707823\n",
      "MCC:  0.15222407423352216\n"
     ]
    },
    {
     "name": "stderr",
     "output_type": "stream",
     "text": [
      " 24%|██▍       | 39/162 [38:07<2:20:51, 68.71s/it]"
     ]
    },
    {
     "name": "stdout",
     "output_type": "stream",
     "text": [
      "accuracy score:  0.37794533459000945\n",
      "MCC:  0.16447672381273098\n"
     ]
    },
    {
     "name": "stderr",
     "output_type": "stream",
     "text": [
      " 25%|██▍       | 40/162 [39:17<2:20:39, 69.18s/it]"
     ]
    },
    {
     "name": "stdout",
     "output_type": "stream",
     "text": [
      "accuracy score:  0.38548539114043356\n",
      "MCC:  0.17391901089876466\n"
     ]
    },
    {
     "name": "stderr",
     "output_type": "stream",
     "text": [
      " 25%|██▌       | 41/162 [40:27<2:20:07, 69.48s/it]"
     ]
    },
    {
     "name": "stdout",
     "output_type": "stream",
     "text": [
      "accuracy score:  0.3760603204524034\n",
      "MCC:  0.1617259174625102\n"
     ]
    },
    {
     "name": "stderr",
     "output_type": "stream",
     "text": [
      " 26%|██▌       | 42/162 [41:38<2:19:44, 69.87s/it]"
     ]
    },
    {
     "name": "stdout",
     "output_type": "stream",
     "text": [
      "accuracy score:  0.38548539114043356\n",
      "MCC:  0.17423774336630787\n"
     ]
    },
    {
     "name": "stderr",
     "output_type": "stream",
     "text": [
      " 27%|██▋       | 43/162 [42:50<2:20:01, 70.60s/it]"
     ]
    },
    {
     "name": "stdout",
     "output_type": "stream",
     "text": [
      "accuracy score:  0.37794533459000945\n",
      "MCC:  0.16402988648010178\n"
     ]
    },
    {
     "name": "stderr",
     "output_type": "stream",
     "text": [
      " 27%|██▋       | 44/162 [44:04<2:20:22, 71.38s/it]"
     ]
    },
    {
     "name": "stdout",
     "output_type": "stream",
     "text": [
      "accuracy score:  0.36286522148916117\n",
      "MCC:  0.1431914479486069\n"
     ]
    },
    {
     "name": "stderr",
     "output_type": "stream",
     "text": [
      " 28%|██▊       | 45/162 [45:18<2:21:00, 72.32s/it]"
     ]
    },
    {
     "name": "stdout",
     "output_type": "stream",
     "text": [
      "accuracy score:  0.3760603204524034\n",
      "MCC:  0.16130676879893222\n"
     ]
    },
    {
     "name": "stderr",
     "output_type": "stream",
     "text": [
      " 28%|██▊       | 46/162 [46:31<2:19:59, 72.41s/it]"
     ]
    },
    {
     "name": "stdout",
     "output_type": "stream",
     "text": [
      "accuracy score:  0.36663524976437323\n",
      "MCC:  0.14858859736915236\n"
     ]
    },
    {
     "name": "stderr",
     "output_type": "stream",
     "text": [
      " 29%|██▉       | 47/162 [47:44<2:19:16, 72.67s/it]"
     ]
    },
    {
     "name": "stdout",
     "output_type": "stream",
     "text": [
      "accuracy score:  0.3647502356267672\n",
      "MCC:  0.14548343645946377\n"
     ]
    },
    {
     "name": "stderr",
     "output_type": "stream",
     "text": [
      " 30%|██▉       | 48/162 [48:57<2:18:05, 72.68s/it]"
     ]
    },
    {
     "name": "stdout",
     "output_type": "stream",
     "text": [
      "accuracy score:  0.37134778510838834\n",
      "MCC:  0.15529382722645904\n"
     ]
    },
    {
     "name": "stderr",
     "output_type": "stream",
     "text": [
      " 30%|███       | 49/162 [50:12<2:18:37, 73.60s/it]"
     ]
    },
    {
     "name": "stdout",
     "output_type": "stream",
     "text": [
      "accuracy score:  0.37323279924599434\n",
      "MCC:  0.15760341911722156\n"
     ]
    },
    {
     "name": "stderr",
     "output_type": "stream",
     "text": [
      " 31%|███       | 50/162 [51:29<2:18:51, 74.39s/it]"
     ]
    },
    {
     "name": "stdout",
     "output_type": "stream",
     "text": [
      "accuracy score:  0.3694627709707823\n",
      "MCC:  0.15281273534376585\n"
     ]
    },
    {
     "name": "stderr",
     "output_type": "stream",
     "text": [
      " 31%|███▏      | 51/162 [52:44<2:18:05, 74.64s/it]"
     ]
    },
    {
     "name": "stdout",
     "output_type": "stream",
     "text": [
      "accuracy score:  0.35532516493873706\n",
      "MCC:  0.13350995690106288\n"
     ]
    },
    {
     "name": "stderr",
     "output_type": "stream",
     "text": [
      " 32%|███▏      | 52/162 [53:59<2:17:18, 74.89s/it]"
     ]
    },
    {
     "name": "stdout",
     "output_type": "stream",
     "text": [
      "accuracy score:  0.3609802073515551\n",
      "MCC:  0.14086919985019936\n"
     ]
    },
    {
     "name": "stderr",
     "output_type": "stream",
     "text": [
      " 33%|███▎      | 53/162 [55:16<2:17:07, 75.48s/it]"
     ]
    },
    {
     "name": "stdout",
     "output_type": "stream",
     "text": [
      "accuracy score:  0.36380772855796417\n",
      "MCC:  0.1444653153664891\n"
     ]
    },
    {
     "name": "stderr",
     "output_type": "stream",
     "text": [
      " 33%|███▎      | 54/162 [56:33<2:16:27, 75.81s/it]"
     ]
    },
    {
     "name": "stdout",
     "output_type": "stream",
     "text": [
      "accuracy score:  0.38454288407163056\n",
      "MCC:  0.17255840338241607\n"
     ]
    },
    {
     "name": "stderr",
     "output_type": "stream",
     "text": [
      " 34%|███▍      | 55/162 [57:37<2:08:45, 72.20s/it]"
     ]
    },
    {
     "name": "stdout",
     "output_type": "stream",
     "text": [
      "accuracy score:  0.3694627709707823\n",
      "MCC:  0.15250220597187228\n"
     ]
    },
    {
     "name": "stderr",
     "output_type": "stream",
     "text": [
      " 35%|███▍      | 56/162 [58:41<2:03:12, 69.74s/it]"
     ]
    },
    {
     "name": "stdout",
     "output_type": "stream",
     "text": [
      "accuracy score:  0.3704052780395853\n",
      "MCC:  0.1535302562544698\n"
     ]
    },
    {
     "name": "stderr",
     "output_type": "stream",
     "text": [
      " 35%|███▌      | 57/162 [59:45<1:59:12, 68.12s/it]"
     ]
    },
    {
     "name": "stdout",
     "output_type": "stream",
     "text": [
      "accuracy score:  0.3647502356267672\n",
      "MCC:  0.14658112138370055\n"
     ]
    },
    {
     "name": "stderr",
     "output_type": "stream",
     "text": [
      " 36%|███▌      | 58/162 [1:00:49<1:55:49, 66.82s/it]"
     ]
    },
    {
     "name": "stdout",
     "output_type": "stream",
     "text": [
      "accuracy score:  0.3656927426955702\n",
      "MCC:  0.14813422506707896\n"
     ]
    },
    {
     "name": "stderr",
     "output_type": "stream",
     "text": [
      " 36%|███▋      | 59/162 [1:01:53<1:53:23, 66.05s/it]"
     ]
    },
    {
     "name": "stdout",
     "output_type": "stream",
     "text": [
      "accuracy score:  0.37323279924599434\n",
      "MCC:  0.1578146971916704\n"
     ]
    },
    {
     "name": "stderr",
     "output_type": "stream",
     "text": [
      " 37%|███▋      | 60/162 [1:02:56<1:50:57, 65.27s/it]"
     ]
    },
    {
     "name": "stdout",
     "output_type": "stream",
     "text": [
      "accuracy score:  0.3901979264844486\n",
      "MCC:  0.18058539902916582\n"
     ]
    },
    {
     "name": "stderr",
     "output_type": "stream",
     "text": [
      " 38%|███▊      | 61/162 [1:04:03<1:50:18, 65.53s/it]"
     ]
    },
    {
     "name": "stdout",
     "output_type": "stream",
     "text": [
      "accuracy score:  0.37888784165881245\n",
      "MCC:  0.16566879405091695\n"
     ]
    },
    {
     "name": "stderr",
     "output_type": "stream",
     "text": [
      " 38%|███▊      | 62/162 [1:05:09<1:49:51, 65.91s/it]"
     ]
    },
    {
     "name": "stdout",
     "output_type": "stream",
     "text": [
      "accuracy score:  0.36663524976437323\n",
      "MCC:  0.1486624097567924\n"
     ]
    },
    {
     "name": "stderr",
     "output_type": "stream",
     "text": [
      " 39%|███▉      | 63/162 [1:06:15<1:48:29, 65.75s/it]"
     ]
    },
    {
     "name": "stdout",
     "output_type": "stream",
     "text": [
      "accuracy score:  0.38077285579641845\n",
      "MCC:  0.16769718641516207\n"
     ]
    },
    {
     "name": "stderr",
     "output_type": "stream",
     "text": [
      " 40%|███▉      | 64/162 [1:07:20<1:47:20, 65.72s/it]"
     ]
    },
    {
     "name": "stdout",
     "output_type": "stream",
     "text": [
      "accuracy score:  0.37134778510838834\n",
      "MCC:  0.15479822463889367\n"
     ]
    },
    {
     "name": "stderr",
     "output_type": "stream",
     "text": [
      " 40%|████      | 65/162 [1:08:25<1:45:50, 65.46s/it]"
     ]
    },
    {
     "name": "stdout",
     "output_type": "stream",
     "text": [
      "accuracy score:  0.3760603204524034\n",
      "MCC:  0.16223716261113627\n"
     ]
    },
    {
     "name": "stderr",
     "output_type": "stream",
     "text": [
      " 41%|████      | 66/162 [1:09:30<1:44:34, 65.36s/it]"
     ]
    },
    {
     "name": "stdout",
     "output_type": "stream",
     "text": [
      "accuracy score:  0.37323279924599434\n",
      "MCC:  0.15764318783908368\n"
     ]
    },
    {
     "name": "stderr",
     "output_type": "stream",
     "text": [
      " 41%|████▏     | 67/162 [1:10:39<1:45:09, 66.42s/it]"
     ]
    },
    {
     "name": "stdout",
     "output_type": "stream",
     "text": [
      "accuracy score:  0.3760603204524034\n",
      "MCC:  0.16191778728447448\n"
     ]
    },
    {
     "name": "stderr",
     "output_type": "stream",
     "text": [
      " 42%|████▏     | 68/162 [1:11:47<1:44:43, 66.84s/it]"
     ]
    },
    {
     "name": "stdout",
     "output_type": "stream",
     "text": [
      "accuracy score:  0.37794533459000945\n",
      "MCC:  0.1643668608503412\n"
     ]
    },
    {
     "name": "stderr",
     "output_type": "stream",
     "text": [
      " 43%|████▎     | 69/162 [1:12:55<1:44:13, 67.24s/it]"
     ]
    },
    {
     "name": "stdout",
     "output_type": "stream",
     "text": [
      "accuracy score:  0.3656927426955702\n",
      "MCC:  0.14687173000914158\n"
     ]
    },
    {
     "name": "stderr",
     "output_type": "stream",
     "text": [
      " 43%|████▎     | 70/162 [1:14:04<1:43:47, 67.69s/it]"
     ]
    },
    {
     "name": "stdout",
     "output_type": "stream",
     "text": [
      "accuracy score:  0.3826578699340245\n",
      "MCC:  0.169853238591645\n"
     ]
    },
    {
     "name": "stderr",
     "output_type": "stream",
     "text": [
      " 44%|████▍     | 71/162 [1:15:18<1:45:21, 69.47s/it]"
     ]
    },
    {
     "name": "stdout",
     "output_type": "stream",
     "text": [
      "accuracy score:  0.3770028275212064\n",
      "MCC:  0.1632833695307158\n"
     ]
    },
    {
     "name": "stderr",
     "output_type": "stream",
     "text": [
      " 44%|████▍     | 72/162 [1:16:26<1:43:46, 69.18s/it]"
     ]
    },
    {
     "name": "stdout",
     "output_type": "stream",
     "text": [
      "accuracy score:  0.3836003770028275\n",
      "MCC:  0.17174889742990876\n"
     ]
    },
    {
     "name": "stderr",
     "output_type": "stream",
     "text": [
      " 45%|████▌     | 73/162 [1:17:37<1:43:16, 69.62s/it]"
     ]
    },
    {
     "name": "stdout",
     "output_type": "stream",
     "text": [
      "accuracy score:  0.37794533459000945\n",
      "MCC:  0.16439274843901067\n"
     ]
    },
    {
     "name": "stderr",
     "output_type": "stream",
     "text": [
      " 46%|████▌     | 74/162 [1:18:47<1:42:20, 69.78s/it]"
     ]
    },
    {
     "name": "stdout",
     "output_type": "stream",
     "text": [
      "accuracy score:  0.37323279924599434\n",
      "MCC:  0.15841212021676224\n"
     ]
    },
    {
     "name": "stderr",
     "output_type": "stream",
     "text": [
      " 46%|████▋     | 75/162 [1:19:59<1:42:09, 70.45s/it]"
     ]
    },
    {
     "name": "stdout",
     "output_type": "stream",
     "text": [
      "accuracy score:  0.3826578699340245\n",
      "MCC:  0.17030935296249206\n"
     ]
    },
    {
     "name": "stderr",
     "output_type": "stream",
     "text": [
      " 47%|████▋     | 76/162 [1:21:10<1:41:08, 70.57s/it]"
     ]
    },
    {
     "name": "stdout",
     "output_type": "stream",
     "text": [
      "accuracy score:  0.37888784165881245\n",
      "MCC:  0.1654594688590369\n"
     ]
    },
    {
     "name": "stderr",
     "output_type": "stream",
     "text": [
      " 48%|████▊     | 77/162 [1:22:21<1:40:18, 70.81s/it]"
     ]
    },
    {
     "name": "stdout",
     "output_type": "stream",
     "text": [
      "accuracy score:  0.37229029217719134\n",
      "MCC:  0.15643779755229403\n"
     ]
    },
    {
     "name": "stderr",
     "output_type": "stream",
     "text": [
      " 48%|████▊     | 78/162 [1:23:32<1:39:01, 70.73s/it]"
     ]
    },
    {
     "name": "stdout",
     "output_type": "stream",
     "text": [
      "accuracy score:  0.3760603204524034\n",
      "MCC:  0.16171149859602132\n"
     ]
    },
    {
     "name": "stderr",
     "output_type": "stream",
     "text": [
      " 49%|████▉     | 79/162 [1:24:45<1:38:59, 71.56s/it]"
     ]
    },
    {
     "name": "stdout",
     "output_type": "stream",
     "text": [
      "accuracy score:  0.38077285579641845\n",
      "MCC:  0.1685056020549348\n"
     ]
    },
    {
     "name": "stderr",
     "output_type": "stream",
     "text": [
      " 49%|████▉     | 80/162 [1:25:58<1:38:10, 71.84s/it]"
     ]
    },
    {
     "name": "stdout",
     "output_type": "stream",
     "text": [
      "accuracy score:  0.3685202639019793\n",
      "MCC:  0.15115087013958622\n"
     ]
    },
    {
     "name": "stderr",
     "output_type": "stream",
     "text": [
      " 50%|█████     | 81/162 [1:27:10<1:36:59, 71.84s/it]"
     ]
    },
    {
     "name": "stdout",
     "output_type": "stream",
     "text": [
      "accuracy score:  0.37983034872761545\n",
      "MCC:  0.1670330870026663\n"
     ]
    },
    {
     "name": "stderr",
     "output_type": "stream",
     "text": [
      " 51%|█████     | 82/162 [1:28:21<1:35:35, 71.70s/it]"
     ]
    },
    {
     "name": "stdout",
     "output_type": "stream",
     "text": [
      "accuracy score:  0.3685202639019793\n",
      "MCC:  0.15146657799644392\n"
     ]
    },
    {
     "name": "stderr",
     "output_type": "stream",
     "text": [
      " 51%|█████     | 83/162 [1:29:33<1:34:32, 71.80s/it]"
     ]
    },
    {
     "name": "stdout",
     "output_type": "stream",
     "text": [
      "accuracy score:  0.3836003770028275\n",
      "MCC:  0.1716937503725537\n"
     ]
    },
    {
     "name": "stderr",
     "output_type": "stream",
     "text": [
      " 52%|█████▏    | 84/162 [1:30:44<1:33:11, 71.68s/it]"
     ]
    },
    {
     "name": "stdout",
     "output_type": "stream",
     "text": [
      "accuracy score:  0.37417530631479734\n",
      "MCC:  0.15884713057281666\n"
     ]
    },
    {
     "name": "stderr",
     "output_type": "stream",
     "text": [
      " 52%|█████▏    | 85/162 [1:32:00<1:33:26, 72.82s/it]"
     ]
    },
    {
     "name": "stdout",
     "output_type": "stream",
     "text": [
      "accuracy score:  0.37134778510838834\n",
      "MCC:  0.1546153423190454\n"
     ]
    },
    {
     "name": "stderr",
     "output_type": "stream",
     "text": [
      " 53%|█████▎    | 86/162 [1:33:15<1:33:14, 73.61s/it]"
     ]
    },
    {
     "name": "stdout",
     "output_type": "stream",
     "text": [
      "accuracy score:  0.3901979264844486\n",
      "MCC:  0.18043451602233151\n"
     ]
    },
    {
     "name": "stderr",
     "output_type": "stream",
     "text": [
      " 54%|█████▎    | 87/162 [1:34:31<1:32:47, 74.23s/it]"
     ]
    },
    {
     "name": "stdout",
     "output_type": "stream",
     "text": [
      "accuracy score:  0.37323279924599434\n",
      "MCC:  0.1574370228309253\n"
     ]
    },
    {
     "name": "stderr",
     "output_type": "stream",
     "text": [
      " 54%|█████▍    | 88/162 [1:35:46<1:31:45, 74.40s/it]"
     ]
    },
    {
     "name": "stdout",
     "output_type": "stream",
     "text": [
      "accuracy score:  0.3590951932139491\n",
      "MCC:  0.13832394883436464\n"
     ]
    },
    {
     "name": "stderr",
     "output_type": "stream",
     "text": [
      " 55%|█████▍    | 89/162 [1:37:00<1:30:37, 74.49s/it]"
     ]
    },
    {
     "name": "stdout",
     "output_type": "stream",
     "text": [
      "accuracy score:  0.37229029217719134\n",
      "MCC:  0.15626211933849887\n"
     ]
    },
    {
     "name": "stderr",
     "output_type": "stream",
     "text": [
      " 56%|█████▌    | 90/162 [1:38:14<1:29:10, 74.31s/it]"
     ]
    },
    {
     "name": "stdout",
     "output_type": "stream",
     "text": [
      "accuracy score:  0.37323279924599434\n",
      "MCC:  0.15771948731061344\n"
     ]
    },
    {
     "name": "stderr",
     "output_type": "stream",
     "text": [
      " 56%|█████▌    | 91/162 [1:39:36<1:30:29, 76.48s/it]"
     ]
    },
    {
     "name": "stdout",
     "output_type": "stream",
     "text": [
      "accuracy score:  0.3590951932139491\n",
      "MCC:  0.13876041893281163\n"
     ]
    },
    {
     "name": "stderr",
     "output_type": "stream",
     "text": [
      " 57%|█████▋    | 92/162 [1:40:57<1:30:58, 77.98s/it]"
     ]
    },
    {
     "name": "stdout",
     "output_type": "stream",
     "text": [
      "accuracy score:  0.36663524976437323\n",
      "MCC:  0.1484303137776134\n"
     ]
    },
    {
     "name": "stderr",
     "output_type": "stream",
     "text": [
      " 57%|█████▋    | 93/162 [1:42:19<1:30:52, 79.03s/it]"
     ]
    },
    {
     "name": "stdout",
     "output_type": "stream",
     "text": [
      "accuracy score:  0.37983034872761545\n",
      "MCC:  0.16667670590198444\n"
     ]
    },
    {
     "name": "stderr",
     "output_type": "stream",
     "text": [
      " 58%|█████▊    | 94/162 [1:43:42<1:31:01, 80.32s/it]"
     ]
    },
    {
     "name": "stdout",
     "output_type": "stream",
     "text": [
      "accuracy score:  0.38548539114043356\n",
      "MCC:  0.1744594630680232\n"
     ]
    },
    {
     "name": "stderr",
     "output_type": "stream",
     "text": [
      " 59%|█████▊    | 95/162 [1:45:06<1:30:52, 81.38s/it]"
     ]
    },
    {
     "name": "stdout",
     "output_type": "stream",
     "text": [
      "accuracy score:  0.3694627709707823\n",
      "MCC:  0.15252721874540986\n"
     ]
    },
    {
     "name": "stderr",
     "output_type": "stream",
     "text": [
      " 59%|█████▉    | 96/162 [1:46:29<1:29:56, 81.76s/it]"
     ]
    },
    {
     "name": "stdout",
     "output_type": "stream",
     "text": [
      "accuracy score:  0.36757775683317623\n",
      "MCC:  0.14963549020343742\n"
     ]
    },
    {
     "name": "stderr",
     "output_type": "stream",
     "text": [
      " 60%|█████▉    | 97/162 [1:47:57<1:30:34, 83.61s/it]"
     ]
    },
    {
     "name": "stdout",
     "output_type": "stream",
     "text": [
      "accuracy score:  0.3817153628652215\n",
      "MCC:  0.16869349376303144\n"
     ]
    },
    {
     "name": "stderr",
     "output_type": "stream",
     "text": [
      " 60%|██████    | 98/162 [1:49:21<1:29:28, 83.88s/it]"
     ]
    },
    {
     "name": "stdout",
     "output_type": "stream",
     "text": [
      "accuracy score:  0.38077285579641845\n",
      "MCC:  0.1680392669252785\n"
     ]
    },
    {
     "name": "stderr",
     "output_type": "stream",
     "text": [
      " 61%|██████    | 99/162 [1:50:45<1:27:56, 83.75s/it]"
     ]
    },
    {
     "name": "stdout",
     "output_type": "stream",
     "text": [
      "accuracy score:  0.37417530631479734\n",
      "MCC:  0.1589898071412826\n"
     ]
    },
    {
     "name": "stderr",
     "output_type": "stream",
     "text": [
      " 62%|██████▏   | 100/162 [1:52:09<1:26:38, 83.85s/it]"
     ]
    },
    {
     "name": "stdout",
     "output_type": "stream",
     "text": [
      "accuracy score:  0.37229029217719134\n",
      "MCC:  0.15651194737115384\n"
     ]
    },
    {
     "name": "stderr",
     "output_type": "stream",
     "text": [
      " 62%|██████▏   | 101/162 [1:53:33<1:25:19, 83.93s/it]"
     ]
    },
    {
     "name": "stdout",
     "output_type": "stream",
     "text": [
      "accuracy score:  0.37983034872761545\n",
      "MCC:  0.1661697943668551\n"
     ]
    },
    {
     "name": "stderr",
     "output_type": "stream",
     "text": [
      " 63%|██████▎   | 102/162 [1:54:57<1:24:03, 84.07s/it]"
     ]
    },
    {
     "name": "stdout",
     "output_type": "stream",
     "text": [
      "accuracy score:  0.37134778510838834\n",
      "MCC:  0.15523417229817285\n"
     ]
    },
    {
     "name": "stderr",
     "output_type": "stream",
     "text": [
      " 64%|██████▎   | 103/162 [1:56:25<1:23:48, 85.23s/it]"
     ]
    },
    {
     "name": "stdout",
     "output_type": "stream",
     "text": [
      "accuracy score:  0.37417530631479734\n",
      "MCC:  0.15964251632679166\n"
     ]
    },
    {
     "name": "stderr",
     "output_type": "stream",
     "text": [
      " 64%|██████▍   | 104/162 [1:57:53<1:23:13, 86.09s/it]"
     ]
    },
    {
     "name": "stdout",
     "output_type": "stream",
     "text": [
      "accuracy score:  0.36192271442035817\n",
      "MCC:  0.14279194011182864\n"
     ]
    },
    {
     "name": "stderr",
     "output_type": "stream",
     "text": [
      " 65%|██████▍   | 105/162 [1:59:20<1:22:02, 86.37s/it]"
     ]
    },
    {
     "name": "stdout",
     "output_type": "stream",
     "text": [
      "accuracy score:  0.3751178133836004\n",
      "MCC:  0.16003639760763277\n"
     ]
    },
    {
     "name": "stderr",
     "output_type": "stream",
     "text": [
      " 65%|██████▌   | 106/162 [2:00:47<1:20:46, 86.55s/it]"
     ]
    },
    {
     "name": "stdout",
     "output_type": "stream",
     "text": [
      "accuracy score:  0.37323279924599434\n",
      "MCC:  0.15771962109774634\n"
     ]
    },
    {
     "name": "stderr",
     "output_type": "stream",
     "text": [
      " 66%|██████▌   | 107/162 [2:02:14<1:19:31, 86.76s/it]"
     ]
    },
    {
     "name": "stdout",
     "output_type": "stream",
     "text": [
      "accuracy score:  0.3836003770028275\n",
      "MCC:  0.17146073737178694\n"
     ]
    },
    {
     "name": "stderr",
     "output_type": "stream",
     "text": [
      " 67%|██████▋   | 108/162 [2:03:42<1:18:17, 86.98s/it]"
     ]
    },
    {
     "name": "stdout",
     "output_type": "stream",
     "text": [
      "accuracy score:  0.36757775683317623\n",
      "MCC:  0.15087318534031097\n"
     ]
    },
    {
     "name": "stderr",
     "output_type": "stream",
     "text": [
      " 67%|██████▋   | 109/162 [2:05:08<1:16:30, 86.60s/it]"
     ]
    },
    {
     "name": "stdout",
     "output_type": "stream",
     "text": [
      "accuracy score:  0.3817153628652215\n",
      "MCC:  0.1684349617924482\n"
     ]
    },
    {
     "name": "stderr",
     "output_type": "stream",
     "text": [
      " 68%|██████▊   | 110/162 [2:06:32<1:14:21, 85.80s/it]"
     ]
    },
    {
     "name": "stdout",
     "output_type": "stream",
     "text": [
      "accuracy score:  0.3920829406220547\n",
      "MCC:  0.18283469235235228\n"
     ]
    },
    {
     "name": "stderr",
     "output_type": "stream",
     "text": [
      " 69%|██████▊   | 111/162 [2:07:56<1:12:38, 85.45s/it]"
     ]
    },
    {
     "name": "stdout",
     "output_type": "stream",
     "text": [
      "accuracy score:  0.3751178133836004\n",
      "MCC:  0.16047047044583815\n"
     ]
    },
    {
     "name": "stderr",
     "output_type": "stream",
     "text": [
      " 69%|██████▉   | 112/162 [2:09:20<1:10:54, 85.10s/it]"
     ]
    },
    {
     "name": "stdout",
     "output_type": "stream",
     "text": [
      "accuracy score:  0.3694627709707823\n",
      "MCC:  0.15198171071547983\n"
     ]
    },
    {
     "name": "stderr",
     "output_type": "stream",
     "text": [
      " 70%|██████▉   | 113/162 [2:10:44<1:09:11, 84.73s/it]"
     ]
    },
    {
     "name": "stdout",
     "output_type": "stream",
     "text": [
      "accuracy score:  0.37983034872761545\n",
      "MCC:  0.16661900510365588\n"
     ]
    },
    {
     "name": "stderr",
     "output_type": "stream",
     "text": [
      " 70%|███████   | 114/162 [2:12:10<1:07:56, 84.93s/it]"
     ]
    },
    {
     "name": "stdout",
     "output_type": "stream",
     "text": [
      "accuracy score:  0.36192271442035817\n",
      "MCC:  0.1418719416643063\n"
     ]
    },
    {
     "name": "stderr",
     "output_type": "stream",
     "text": [
      " 71%|███████   | 115/162 [2:13:37<1:07:00, 85.55s/it]"
     ]
    },
    {
     "name": "stdout",
     "output_type": "stream",
     "text": [
      "accuracy score:  0.37417530631479734\n",
      "MCC:  0.15877724565048937\n"
     ]
    },
    {
     "name": "stderr",
     "output_type": "stream",
     "text": [
      " 72%|███████▏  | 116/162 [2:15:02<1:05:35, 85.56s/it]"
     ]
    },
    {
     "name": "stdout",
     "output_type": "stream",
     "text": [
      "accuracy score:  0.3826578699340245\n",
      "MCC:  0.17041719468651956\n"
     ]
    },
    {
     "name": "stderr",
     "output_type": "stream",
     "text": [
      " 72%|███████▏  | 117/162 [2:16:29<1:04:20, 85.78s/it]"
     ]
    },
    {
     "name": "stdout",
     "output_type": "stream",
     "text": [
      "accuracy score:  0.3704052780395853\n",
      "MCC:  0.15350676802908228\n"
     ]
    },
    {
     "name": "stderr",
     "output_type": "stream",
     "text": [
      " 73%|███████▎  | 118/162 [2:17:53<1:02:40, 85.46s/it]"
     ]
    },
    {
     "name": "stdout",
     "output_type": "stream",
     "text": [
      "accuracy score:  0.37794533459000945\n",
      "MCC:  0.16383523210598744\n"
     ]
    },
    {
     "name": "stderr",
     "output_type": "stream",
     "text": [
      " 73%|███████▎  | 119/162 [2:19:18<1:01:06, 85.26s/it]"
     ]
    },
    {
     "name": "stdout",
     "output_type": "stream",
     "text": [
      "accuracy score:  0.37888784165881245\n",
      "MCC:  0.1648674448677614\n"
     ]
    },
    {
     "name": "stderr",
     "output_type": "stream",
     "text": [
      " 74%|███████▍  | 120/162 [2:20:43<59:41, 85.28s/it]  "
     ]
    },
    {
     "name": "stdout",
     "output_type": "stream",
     "text": [
      "accuracy score:  0.3920829406220547\n",
      "MCC:  0.1829589394582645\n"
     ]
    },
    {
     "name": "stderr",
     "output_type": "stream",
     "text": [
      " 75%|███████▍  | 121/162 [2:22:12<58:53, 86.18s/it]"
     ]
    },
    {
     "name": "stdout",
     "output_type": "stream",
     "text": [
      "accuracy score:  0.3770028275212064\n",
      "MCC:  0.16278619576707948\n"
     ]
    },
    {
     "name": "stderr",
     "output_type": "stream",
     "text": [
      " 75%|███████▌  | 122/162 [2:23:40<57:51, 86.80s/it]"
     ]
    },
    {
     "name": "stdout",
     "output_type": "stream",
     "text": [
      "accuracy score:  0.37417530631479734\n",
      "MCC:  0.15830474587190896\n"
     ]
    },
    {
     "name": "stderr",
     "output_type": "stream",
     "text": [
      " 76%|███████▌  | 123/162 [2:25:08<56:43, 87.27s/it]"
     ]
    },
    {
     "name": "stdout",
     "output_type": "stream",
     "text": [
      "accuracy score:  0.36380772855796417\n",
      "MCC:  0.1444043802288712\n"
     ]
    },
    {
     "name": "stderr",
     "output_type": "stream",
     "text": [
      " 77%|███████▋  | 124/162 [2:26:37<55:28, 87.60s/it]"
     ]
    },
    {
     "name": "stdout",
     "output_type": "stream",
     "text": [
      "accuracy score:  0.37417530631479734\n",
      "MCC:  0.15860649635438354\n"
     ]
    },
    {
     "name": "stderr",
     "output_type": "stream",
     "text": [
      " 77%|███████▋  | 125/162 [2:28:05<54:03, 87.67s/it]"
     ]
    },
    {
     "name": "stdout",
     "output_type": "stream",
     "text": [
      "accuracy score:  0.37323279924599434\n",
      "MCC:  0.15740041374793126\n"
     ]
    },
    {
     "name": "stderr",
     "output_type": "stream",
     "text": [
      " 78%|███████▊  | 126/162 [2:29:33<52:41, 87.82s/it]"
     ]
    },
    {
     "name": "stdout",
     "output_type": "stream",
     "text": [
      "accuracy score:  0.3751178133836004\n",
      "MCC:  0.1593505447182147\n"
     ]
    },
    {
     "name": "stderr",
     "output_type": "stream",
     "text": [
      " 78%|███████▊  | 127/162 [2:31:03<51:35, 88.45s/it]"
     ]
    },
    {
     "name": "stdout",
     "output_type": "stream",
     "text": [
      "accuracy score:  0.3590951932139491\n",
      "MCC:  0.137859428099838\n"
     ]
    },
    {
     "name": "stderr",
     "output_type": "stream",
     "text": [
      " 79%|███████▉  | 128/162 [2:32:33<50:28, 89.08s/it]"
     ]
    },
    {
     "name": "stdout",
     "output_type": "stream",
     "text": [
      "accuracy score:  0.353440150801131\n",
      "MCC:  0.1309645104946857\n"
     ]
    },
    {
     "name": "stderr",
     "output_type": "stream",
     "text": [
      " 80%|███████▉  | 129/162 [2:34:03<49:09, 89.37s/it]"
     ]
    },
    {
     "name": "stdout",
     "output_type": "stream",
     "text": [
      "accuracy score:  0.36286522148916117\n",
      "MCC:  0.14297821432966185\n"
     ]
    },
    {
     "name": "stderr",
     "output_type": "stream",
     "text": [
      " 80%|████████  | 130/162 [2:35:36<48:07, 90.24s/it]"
     ]
    },
    {
     "name": "stdout",
     "output_type": "stream",
     "text": [
      "accuracy score:  0.35626767200754006\n",
      "MCC:  0.13481806852131\n"
     ]
    },
    {
     "name": "stderr",
     "output_type": "stream",
     "text": [
      " 81%|████████  | 131/162 [2:37:06<46:38, 90.27s/it]"
     ]
    },
    {
     "name": "stdout",
     "output_type": "stream",
     "text": [
      "accuracy score:  0.3590951932139491\n",
      "MCC:  0.13736526517831957\n"
     ]
    },
    {
     "name": "stderr",
     "output_type": "stream",
     "text": [
      " 81%|████████▏ | 132/162 [2:38:37<45:12, 90.41s/it]"
     ]
    },
    {
     "name": "stdout",
     "output_type": "stream",
     "text": [
      "accuracy score:  0.3704052780395853\n",
      "MCC:  0.15367692867330487\n"
     ]
    },
    {
     "name": "stderr",
     "output_type": "stream",
     "text": [
      " 82%|████████▏ | 133/162 [2:40:08<43:54, 90.83s/it]"
     ]
    },
    {
     "name": "stdout",
     "output_type": "stream",
     "text": [
      "accuracy score:  0.37229029217719134\n",
      "MCC:  0.15545871601501046\n"
     ]
    },
    {
     "name": "stderr",
     "output_type": "stream",
     "text": [
      " 83%|████████▎ | 134/162 [2:41:42<42:46, 91.65s/it]"
     ]
    },
    {
     "name": "stdout",
     "output_type": "stream",
     "text": [
      "accuracy score:  0.37229029217719134\n",
      "MCC:  0.1561874611995028\n"
     ]
    },
    {
     "name": "stderr",
     "output_type": "stream",
     "text": [
      " 83%|████████▎ | 135/162 [2:43:15<41:24, 92.01s/it]"
     ]
    },
    {
     "name": "stdout",
     "output_type": "stream",
     "text": [
      "accuracy score:  0.352497643732328\n",
      "MCC:  0.12960508658056344\n"
     ]
    },
    {
     "name": "stderr",
     "output_type": "stream",
     "text": [
      " 84%|████████▍ | 136/162 [2:44:49<40:06, 92.56s/it]"
     ]
    },
    {
     "name": "stdout",
     "output_type": "stream",
     "text": [
      "accuracy score:  0.3647502356267672\n",
      "MCC:  0.14585960293946829\n"
     ]
    },
    {
     "name": "stderr",
     "output_type": "stream",
     "text": [
      " 85%|████████▍ | 137/162 [2:46:22<38:42, 92.89s/it]"
     ]
    },
    {
     "name": "stdout",
     "output_type": "stream",
     "text": [
      "accuracy score:  0.3760603204524034\n",
      "MCC:  0.16084037698111456\n"
     ]
    },
    {
     "name": "stderr",
     "output_type": "stream",
     "text": [
      " 85%|████████▌ | 138/162 [2:47:54<37:02, 92.59s/it]"
     ]
    },
    {
     "name": "stdout",
     "output_type": "stream",
     "text": [
      "accuracy score:  0.36663524976437323\n",
      "MCC:  0.1488579188977872\n"
     ]
    },
    {
     "name": "stderr",
     "output_type": "stream",
     "text": [
      " 86%|████████▌ | 139/162 [2:49:30<35:50, 93.48s/it]"
     ]
    },
    {
     "name": "stdout",
     "output_type": "stream",
     "text": [
      "accuracy score:  0.36663524976437323\n",
      "MCC:  0.14840902308684803\n"
     ]
    },
    {
     "name": "stderr",
     "output_type": "stream",
     "text": [
      " 86%|████████▋ | 140/162 [2:51:06<34:33, 94.24s/it]"
     ]
    },
    {
     "name": "stdout",
     "output_type": "stream",
     "text": [
      "accuracy score:  0.36380772855796417\n",
      "MCC:  0.14442166102811205\n"
     ]
    },
    {
     "name": "stderr",
     "output_type": "stream",
     "text": [
      " 87%|████████▋ | 141/162 [2:52:40<32:59, 94.27s/it]"
     ]
    },
    {
     "name": "stdout",
     "output_type": "stream",
     "text": [
      "accuracy score:  0.37794533459000945\n",
      "MCC:  0.16333525810639382\n"
     ]
    },
    {
     "name": "stderr",
     "output_type": "stream",
     "text": [
      " 88%|████████▊ | 142/162 [2:54:15<31:31, 94.59s/it]"
     ]
    },
    {
     "name": "stdout",
     "output_type": "stream",
     "text": [
      "accuracy score:  0.3647502356267672\n",
      "MCC:  0.14584451072617463\n"
     ]
    },
    {
     "name": "stderr",
     "output_type": "stream",
     "text": [
      " 88%|████████▊ | 143/162 [2:55:50<29:56, 94.55s/it]"
     ]
    },
    {
     "name": "stdout",
     "output_type": "stream",
     "text": [
      "accuracy score:  0.37134778510838834\n",
      "MCC:  0.15452837946589568\n"
     ]
    },
    {
     "name": "stderr",
     "output_type": "stream",
     "text": [
      " 89%|████████▉ | 144/162 [2:57:26<28:32, 95.15s/it]"
     ]
    },
    {
     "name": "stdout",
     "output_type": "stream",
     "text": [
      "accuracy score:  0.37323279924599434\n",
      "MCC:  0.1572024785030852\n"
     ]
    },
    {
     "name": "stderr",
     "output_type": "stream",
     "text": [
      " 90%|████████▉ | 145/162 [2:59:28<29:10, 102.97s/it]"
     ]
    },
    {
     "name": "stdout",
     "output_type": "stream",
     "text": [
      "accuracy score:  0.36757775683317623\n",
      "MCC:  0.1497700151997066\n"
     ]
    },
    {
     "name": "stderr",
     "output_type": "stream",
     "text": [
      " 90%|█████████ | 146/162 [3:01:15<27:50, 104.39s/it]"
     ]
    },
    {
     "name": "stdout",
     "output_type": "stream",
     "text": [
      "accuracy score:  0.37794533459000945\n",
      "MCC:  0.16378684737025495\n"
     ]
    },
    {
     "name": "stderr",
     "output_type": "stream",
     "text": [
      " 91%|█████████ | 147/162 [3:03:16<27:16, 109.13s/it]"
     ]
    },
    {
     "name": "stdout",
     "output_type": "stream",
     "text": [
      "accuracy score:  0.3704052780395853\n",
      "MCC:  0.15339554838229016\n"
     ]
    },
    {
     "name": "stderr",
     "output_type": "stream",
     "text": [
      " 91%|█████████▏| 148/162 [3:05:15<26:11, 112.27s/it]"
     ]
    },
    {
     "name": "stdout",
     "output_type": "stream",
     "text": [
      "accuracy score:  0.3590951932139491\n",
      "MCC:  0.13871358696858063\n"
     ]
    },
    {
     "name": "stderr",
     "output_type": "stream",
     "text": [
      " 92%|█████████▏| 149/162 [3:07:15<24:47, 114.46s/it]"
     ]
    },
    {
     "name": "stdout",
     "output_type": "stream",
     "text": [
      "accuracy score:  0.3694627709707823\n",
      "MCC:  0.15189254220460507\n"
     ]
    },
    {
     "name": "stderr",
     "output_type": "stream",
     "text": [
      " 93%|█████████▎| 150/162 [3:09:59<25:53, 129.43s/it]"
     ]
    },
    {
     "name": "stdout",
     "output_type": "stream",
     "text": [
      "accuracy score:  0.3459000942507069\n",
      "MCC:  0.12038943429298178\n"
     ]
    },
    {
     "name": "stderr",
     "output_type": "stream",
     "text": [
      " 93%|█████████▎| 151/162 [3:13:30<28:13, 153.94s/it]"
     ]
    },
    {
     "name": "stdout",
     "output_type": "stream",
     "text": [
      "accuracy score:  0.37417530631479734\n",
      "MCC:  0.15877509302645834\n"
     ]
    },
    {
     "name": "stderr",
     "output_type": "stream",
     "text": [
      " 94%|█████████▍| 152/162 [3:16:57<28:18, 169.85s/it]"
     ]
    },
    {
     "name": "stdout",
     "output_type": "stream",
     "text": [
      "accuracy score:  0.3836003770028275\n",
      "MCC:  0.17152190458971286\n"
     ]
    },
    {
     "name": "stderr",
     "output_type": "stream",
     "text": [
      " 94%|█████████▍| 153/162 [3:20:32<27:30, 183.43s/it]"
     ]
    },
    {
     "name": "stdout",
     "output_type": "stream",
     "text": [
      "accuracy score:  0.37888784165881245\n",
      "MCC:  0.16532160385900826\n"
     ]
    },
    {
     "name": "stderr",
     "output_type": "stream",
     "text": [
      " 95%|█████████▌| 154/162 [3:23:44<24:47, 185.92s/it]"
     ]
    },
    {
     "name": "stdout",
     "output_type": "stream",
     "text": [
      "accuracy score:  0.3600377002827521\n",
      "MCC:  0.13940109178374135\n"
     ]
    },
    {
     "name": "stderr",
     "output_type": "stream",
     "text": [
      " 95%|█████████▌| 154/162 [3:26:40<10:44, 80.52s/it] \n"
     ]
    },
    {
     "ename": "KeyboardInterrupt",
     "evalue": "",
     "output_type": "error",
     "traceback": [
      "\u001b[1;31m---------------------------------------------------------------------------\u001b[0m",
      "\u001b[1;31mKeyboardInterrupt\u001b[0m                         Traceback (most recent call last)",
      "\u001b[1;32m~\\AppData\\Local\\Temp\\ipykernel_9764\\3889456277.py\u001b[0m in \u001b[0;36m<module>\u001b[1;34m\u001b[0m\n\u001b[0;32m     19\u001b[0m \u001b[1;33m\u001b[0m\u001b[0m\n\u001b[0;32m     20\u001b[0m     \u001b[0mcastinfo\u001b[0m\u001b[1;33m(\u001b[0m\u001b[0mtimewindow_actor\u001b[0m\u001b[1;33m,\u001b[0m \u001b[0mstar_actor_num\u001b[0m\u001b[1;33m)\u001b[0m\u001b[1;33m\u001b[0m\u001b[1;33m\u001b[0m\u001b[0m\n\u001b[1;32m---> 21\u001b[1;33m     \u001b[0mdirectorinfo\u001b[0m\u001b[1;33m(\u001b[0m\u001b[0mtimewindow_director\u001b[0m\u001b[1;33m,\u001b[0m \u001b[0mstar_director_num\u001b[0m\u001b[1;33m)\u001b[0m\u001b[1;33m\u001b[0m\u001b[1;33m\u001b[0m\u001b[0m\n\u001b[0m\u001b[0;32m     22\u001b[0m     \u001b[0mgenreinfo\u001b[0m\u001b[1;33m(\u001b[0m\u001b[0mtimewindow_genre\u001b[0m\u001b[1;33m)\u001b[0m\u001b[1;33m\u001b[0m\u001b[1;33m\u001b[0m\u001b[0m\n\u001b[0;32m     23\u001b[0m \u001b[1;33m\u001b[0m\u001b[0m\n",
      "\u001b[1;32m~\\AppData\\Local\\Temp\\ipykernel_9764\\3524501765.py\u001b[0m in \u001b[0;36mdirectorinfo\u001b[1;34m(timewindow_director, star_director_num)\u001b[0m\n\u001b[0;32m     17\u001b[0m                         \u001b[0mdirector_year\u001b[0m\u001b[1;33m.\u001b[0m\u001b[0mat\u001b[0m\u001b[1;33m[\u001b[0m\u001b[0mrownum\u001b[0m\u001b[1;33m,\u001b[0m \u001b[1;34m'Total Revenue'\u001b[0m\u001b[1;33m]\u001b[0m \u001b[1;33m=\u001b[0m \u001b[0mdirector_year\u001b[0m\u001b[1;33m.\u001b[0m\u001b[0mat\u001b[0m\u001b[1;33m[\u001b[0m\u001b[0mrownum\u001b[0m\u001b[1;33m,\u001b[0m \u001b[1;34m'Total Revenue'\u001b[0m\u001b[1;33m]\u001b[0m \u001b[1;33m+\u001b[0m \u001b[0mrow\u001b[0m\u001b[1;33m[\u001b[0m\u001b[1;34m'Revenue'\u001b[0m\u001b[1;33m]\u001b[0m\u001b[1;33m\u001b[0m\u001b[1;33m\u001b[0m\u001b[0m\n\u001b[0;32m     18\u001b[0m                     \u001b[1;32melse\u001b[0m\u001b[1;33m:\u001b[0m\u001b[1;33m\u001b[0m\u001b[1;33m\u001b[0m\u001b[0m\n\u001b[1;32m---> 19\u001b[1;33m                         \u001b[0mdirector_year\u001b[0m\u001b[1;33m.\u001b[0m\u001b[0mloc\u001b[0m\u001b[1;33m[\u001b[0m\u001b[0mlen\u001b[0m\u001b[1;33m(\u001b[0m\u001b[0mdirector_year\u001b[0m\u001b[1;33m)\u001b[0m\u001b[1;33m]\u001b[0m \u001b[1;33m=\u001b[0m \u001b[1;33m[\u001b[0m\u001b[0mname\u001b[0m\u001b[1;33m,\u001b[0m \u001b[0my\u001b[0m\u001b[1;33m,\u001b[0m \u001b[0mrow\u001b[0m\u001b[1;33m[\u001b[0m\u001b[1;34m'Revenue'\u001b[0m\u001b[1;33m]\u001b[0m\u001b[1;33m,\u001b[0m \u001b[1;32mFalse\u001b[0m\u001b[1;33m]\u001b[0m\u001b[1;33m\u001b[0m\u001b[1;33m\u001b[0m\u001b[0m\n\u001b[0m\u001b[0;32m     20\u001b[0m \u001b[1;33m\u001b[0m\u001b[0m\n\u001b[0;32m     21\u001b[0m         \u001b[1;31m# Find stars in this timewindow\u001b[0m\u001b[1;33m\u001b[0m\u001b[1;33m\u001b[0m\u001b[0m\n",
      "\u001b[1;32mC:\\ProgramData\\Anaconda3_new\\lib\\site-packages\\pandas\\core\\indexing.py\u001b[0m in \u001b[0;36m__setitem__\u001b[1;34m(self, key, value)\u001b[0m\n\u001b[0;32m    714\u001b[0m \u001b[1;33m\u001b[0m\u001b[0m\n\u001b[0;32m    715\u001b[0m         \u001b[0miloc\u001b[0m \u001b[1;33m=\u001b[0m \u001b[0mself\u001b[0m \u001b[1;32mif\u001b[0m \u001b[0mself\u001b[0m\u001b[1;33m.\u001b[0m\u001b[0mname\u001b[0m \u001b[1;33m==\u001b[0m \u001b[1;34m\"iloc\"\u001b[0m \u001b[1;32melse\u001b[0m \u001b[0mself\u001b[0m\u001b[1;33m.\u001b[0m\u001b[0mobj\u001b[0m\u001b[1;33m.\u001b[0m\u001b[0miloc\u001b[0m\u001b[1;33m\u001b[0m\u001b[1;33m\u001b[0m\u001b[0m\n\u001b[1;32m--> 716\u001b[1;33m         \u001b[0miloc\u001b[0m\u001b[1;33m.\u001b[0m\u001b[0m_setitem_with_indexer\u001b[0m\u001b[1;33m(\u001b[0m\u001b[0mindexer\u001b[0m\u001b[1;33m,\u001b[0m \u001b[0mvalue\u001b[0m\u001b[1;33m,\u001b[0m \u001b[0mself\u001b[0m\u001b[1;33m.\u001b[0m\u001b[0mname\u001b[0m\u001b[1;33m)\u001b[0m\u001b[1;33m\u001b[0m\u001b[1;33m\u001b[0m\u001b[0m\n\u001b[0m\u001b[0;32m    717\u001b[0m \u001b[1;33m\u001b[0m\u001b[0m\n\u001b[0;32m    718\u001b[0m     \u001b[1;32mdef\u001b[0m \u001b[0m_validate_key\u001b[0m\u001b[1;33m(\u001b[0m\u001b[0mself\u001b[0m\u001b[1;33m,\u001b[0m \u001b[0mkey\u001b[0m\u001b[1;33m,\u001b[0m \u001b[0maxis\u001b[0m\u001b[1;33m:\u001b[0m \u001b[0mint\u001b[0m\u001b[1;33m)\u001b[0m\u001b[1;33m:\u001b[0m\u001b[1;33m\u001b[0m\u001b[1;33m\u001b[0m\u001b[0m\n",
      "\u001b[1;32mC:\\ProgramData\\Anaconda3_new\\lib\\site-packages\\pandas\\core\\indexing.py\u001b[0m in \u001b[0;36m_setitem_with_indexer\u001b[1;34m(self, indexer, value, name)\u001b[0m\n\u001b[0;32m   1683\u001b[0m \u001b[1;33m\u001b[0m\u001b[0m\n\u001b[0;32m   1684\u001b[0m             \u001b[1;32mif\u001b[0m \u001b[0mmissing\u001b[0m\u001b[1;33m:\u001b[0m\u001b[1;33m\u001b[0m\u001b[1;33m\u001b[0m\u001b[0m\n\u001b[1;32m-> 1685\u001b[1;33m                 \u001b[0mself\u001b[0m\u001b[1;33m.\u001b[0m\u001b[0m_setitem_with_indexer_missing\u001b[0m\u001b[1;33m(\u001b[0m\u001b[0mindexer\u001b[0m\u001b[1;33m,\u001b[0m \u001b[0mvalue\u001b[0m\u001b[1;33m)\u001b[0m\u001b[1;33m\u001b[0m\u001b[1;33m\u001b[0m\u001b[0m\n\u001b[0m\u001b[0;32m   1686\u001b[0m                 \u001b[1;32mreturn\u001b[0m\u001b[1;33m\u001b[0m\u001b[1;33m\u001b[0m\u001b[0m\n\u001b[0;32m   1687\u001b[0m \u001b[1;33m\u001b[0m\u001b[0m\n",
      "\u001b[1;32mC:\\ProgramData\\Anaconda3_new\\lib\\site-packages\\pandas\\core\\indexing.py\u001b[0m in \u001b[0;36m_setitem_with_indexer_missing\u001b[1;34m(self, indexer, value)\u001b[0m\n\u001b[0;32m   2023\u001b[0m                 \u001b[0mself\u001b[0m\u001b[1;33m.\u001b[0m\u001b[0mobj\u001b[0m\u001b[1;33m.\u001b[0m\u001b[0m_mgr\u001b[0m \u001b[1;33m=\u001b[0m \u001b[0mdf\u001b[0m\u001b[1;33m.\u001b[0m\u001b[0m_mgr\u001b[0m\u001b[1;33m\u001b[0m\u001b[1;33m\u001b[0m\u001b[0m\n\u001b[0;32m   2024\u001b[0m             \u001b[1;32melse\u001b[0m\u001b[1;33m:\u001b[0m\u001b[1;33m\u001b[0m\u001b[1;33m\u001b[0m\u001b[0m\n\u001b[1;32m-> 2025\u001b[1;33m                 \u001b[0mself\u001b[0m\u001b[1;33m.\u001b[0m\u001b[0mobj\u001b[0m\u001b[1;33m.\u001b[0m\u001b[0m_mgr\u001b[0m \u001b[1;33m=\u001b[0m \u001b[0mself\u001b[0m\u001b[1;33m.\u001b[0m\u001b[0mobj\u001b[0m\u001b[1;33m.\u001b[0m\u001b[0m_append\u001b[0m\u001b[1;33m(\u001b[0m\u001b[0mvalue\u001b[0m\u001b[1;33m)\u001b[0m\u001b[1;33m.\u001b[0m\u001b[0m_mgr\u001b[0m\u001b[1;33m\u001b[0m\u001b[1;33m\u001b[0m\u001b[0m\n\u001b[0m\u001b[0;32m   2026\u001b[0m             \u001b[0mself\u001b[0m\u001b[1;33m.\u001b[0m\u001b[0mobj\u001b[0m\u001b[1;33m.\u001b[0m\u001b[0m_maybe_update_cacher\u001b[0m\u001b[1;33m(\u001b[0m\u001b[0mclear\u001b[0m\u001b[1;33m=\u001b[0m\u001b[1;32mTrue\u001b[0m\u001b[1;33m)\u001b[0m\u001b[1;33m\u001b[0m\u001b[1;33m\u001b[0m\u001b[0m\n\u001b[0;32m   2027\u001b[0m \u001b[1;33m\u001b[0m\u001b[0m\n",
      "\u001b[1;32mC:\\ProgramData\\Anaconda3_new\\lib\\site-packages\\pandas\\core\\frame.py\u001b[0m in \u001b[0;36m_append\u001b[1;34m(self, other, ignore_index, verify_integrity, sort)\u001b[0m\n\u001b[0;32m   9073\u001b[0m             \u001b[1;31m# infer_objects is needed for\u001b[0m\u001b[1;33m\u001b[0m\u001b[1;33m\u001b[0m\u001b[0m\n\u001b[0;32m   9074\u001b[0m             \u001b[1;31m#  test_append_empty_frame_to_series_with_dateutil_tz\u001b[0m\u001b[1;33m\u001b[0m\u001b[1;33m\u001b[0m\u001b[0m\n\u001b[1;32m-> 9075\u001b[1;33m             \u001b[0mother\u001b[0m \u001b[1;33m=\u001b[0m \u001b[0mrow_df\u001b[0m\u001b[1;33m.\u001b[0m\u001b[0minfer_objects\u001b[0m\u001b[1;33m(\u001b[0m\u001b[1;33m)\u001b[0m\u001b[1;33m.\u001b[0m\u001b[0mrename_axis\u001b[0m\u001b[1;33m(\u001b[0m\u001b[0mindex\u001b[0m\u001b[1;33m.\u001b[0m\u001b[0mnames\u001b[0m\u001b[1;33m,\u001b[0m \u001b[0mcopy\u001b[0m\u001b[1;33m=\u001b[0m\u001b[1;32mFalse\u001b[0m\u001b[1;33m)\u001b[0m\u001b[1;33m\u001b[0m\u001b[1;33m\u001b[0m\u001b[0m\n\u001b[0m\u001b[0;32m   9076\u001b[0m         \u001b[1;32melif\u001b[0m \u001b[0misinstance\u001b[0m\u001b[1;33m(\u001b[0m\u001b[0mother\u001b[0m\u001b[1;33m,\u001b[0m \u001b[0mlist\u001b[0m\u001b[1;33m)\u001b[0m\u001b[1;33m:\u001b[0m\u001b[1;33m\u001b[0m\u001b[1;33m\u001b[0m\u001b[0m\n\u001b[0;32m   9077\u001b[0m             \u001b[1;32mif\u001b[0m \u001b[1;32mnot\u001b[0m \u001b[0mother\u001b[0m\u001b[1;33m:\u001b[0m\u001b[1;33m\u001b[0m\u001b[1;33m\u001b[0m\u001b[0m\n",
      "\u001b[1;32mC:\\ProgramData\\Anaconda3_new\\lib\\site-packages\\pandas\\util\\_decorators.py\u001b[0m in \u001b[0;36mwrapper\u001b[1;34m(*args, **kwargs)\u001b[0m\n\u001b[0;32m    322\u001b[0m         \u001b[1;33m@\u001b[0m\u001b[0mwraps\u001b[0m\u001b[1;33m(\u001b[0m\u001b[0mfunc\u001b[0m\u001b[1;33m)\u001b[0m\u001b[1;33m\u001b[0m\u001b[1;33m\u001b[0m\u001b[0m\n\u001b[0;32m    323\u001b[0m         \u001b[1;32mdef\u001b[0m \u001b[0mwrapper\u001b[0m\u001b[1;33m(\u001b[0m\u001b[1;33m*\u001b[0m\u001b[0margs\u001b[0m\u001b[1;33m,\u001b[0m \u001b[1;33m**\u001b[0m\u001b[0mkwargs\u001b[0m\u001b[1;33m)\u001b[0m \u001b[1;33m->\u001b[0m \u001b[0mCallable\u001b[0m\u001b[1;33m[\u001b[0m\u001b[1;33m...\u001b[0m\u001b[1;33m,\u001b[0m \u001b[0mAny\u001b[0m\u001b[1;33m]\u001b[0m\u001b[1;33m:\u001b[0m\u001b[1;33m\u001b[0m\u001b[1;33m\u001b[0m\u001b[0m\n\u001b[1;32m--> 324\u001b[1;33m             \u001b[1;32mreturn\u001b[0m \u001b[0mfunc\u001b[0m\u001b[1;33m(\u001b[0m\u001b[1;33m*\u001b[0m\u001b[0margs\u001b[0m\u001b[1;33m,\u001b[0m \u001b[1;33m**\u001b[0m\u001b[0mkwargs\u001b[0m\u001b[1;33m)\u001b[0m\u001b[1;33m\u001b[0m\u001b[1;33m\u001b[0m\u001b[0m\n\u001b[0m\u001b[0;32m    325\u001b[0m \u001b[1;33m\u001b[0m\u001b[0m\n\u001b[0;32m    326\u001b[0m         \u001b[0mkind\u001b[0m \u001b[1;33m=\u001b[0m \u001b[0minspect\u001b[0m\u001b[1;33m.\u001b[0m\u001b[0mParameter\u001b[0m\u001b[1;33m.\u001b[0m\u001b[0mPOSITIONAL_OR_KEYWORD\u001b[0m\u001b[1;33m\u001b[0m\u001b[1;33m\u001b[0m\u001b[0m\n",
      "\u001b[1;32mC:\\ProgramData\\Anaconda3_new\\lib\\site-packages\\pandas\\core\\generic.py\u001b[0m in \u001b[0;36mrename_axis\u001b[1;34m(self, mapper, **kwargs)\u001b[0m\n\u001b[0;32m   1311\u001b[0m             )\n\u001b[0;32m   1312\u001b[0m             \u001b[1;32mif\u001b[0m \u001b[0mnon_mapper\u001b[0m\u001b[1;33m:\u001b[0m\u001b[1;33m\u001b[0m\u001b[1;33m\u001b[0m\u001b[0m\n\u001b[1;32m-> 1313\u001b[1;33m                 \u001b[1;32mreturn\u001b[0m \u001b[0mself\u001b[0m\u001b[1;33m.\u001b[0m\u001b[0m_set_axis_name\u001b[0m\u001b[1;33m(\u001b[0m\u001b[0mmapper\u001b[0m\u001b[1;33m,\u001b[0m \u001b[0maxis\u001b[0m\u001b[1;33m=\u001b[0m\u001b[0maxis\u001b[0m\u001b[1;33m,\u001b[0m \u001b[0minplace\u001b[0m\u001b[1;33m=\u001b[0m\u001b[0minplace\u001b[0m\u001b[1;33m)\u001b[0m\u001b[1;33m\u001b[0m\u001b[1;33m\u001b[0m\u001b[0m\n\u001b[0m\u001b[0;32m   1314\u001b[0m             \u001b[1;32melse\u001b[0m\u001b[1;33m:\u001b[0m\u001b[1;33m\u001b[0m\u001b[1;33m\u001b[0m\u001b[0m\n\u001b[0;32m   1315\u001b[0m                 \u001b[1;32mraise\u001b[0m \u001b[0mValueError\u001b[0m\u001b[1;33m(\u001b[0m\u001b[1;34m\"Use `.rename` to alter labels with a mapper.\"\u001b[0m\u001b[1;33m)\u001b[0m\u001b[1;33m\u001b[0m\u001b[1;33m\u001b[0m\u001b[0m\n",
      "\u001b[1;32mC:\\ProgramData\\Anaconda3_new\\lib\\site-packages\\pandas\\core\\generic.py\u001b[0m in \u001b[0;36m_set_axis_name\u001b[1;34m(self, name, axis, inplace)\u001b[0m\n\u001b[0;32m   1389\u001b[0m \u001b[1;33m\u001b[0m\u001b[0m\n\u001b[0;32m   1390\u001b[0m         \u001b[0minplace\u001b[0m \u001b[1;33m=\u001b[0m \u001b[0mvalidate_bool_kwarg\u001b[0m\u001b[1;33m(\u001b[0m\u001b[0minplace\u001b[0m\u001b[1;33m,\u001b[0m \u001b[1;34m\"inplace\"\u001b[0m\u001b[1;33m)\u001b[0m\u001b[1;33m\u001b[0m\u001b[1;33m\u001b[0m\u001b[0m\n\u001b[1;32m-> 1391\u001b[1;33m         \u001b[0mrenamed\u001b[0m \u001b[1;33m=\u001b[0m \u001b[0mself\u001b[0m \u001b[1;32mif\u001b[0m \u001b[0minplace\u001b[0m \u001b[1;32melse\u001b[0m \u001b[0mself\u001b[0m\u001b[1;33m.\u001b[0m\u001b[0mcopy\u001b[0m\u001b[1;33m(\u001b[0m\u001b[1;33m)\u001b[0m\u001b[1;33m\u001b[0m\u001b[1;33m\u001b[0m\u001b[0m\n\u001b[0m\u001b[0;32m   1392\u001b[0m         \u001b[0mrenamed\u001b[0m\u001b[1;33m.\u001b[0m\u001b[0mset_axis\u001b[0m\u001b[1;33m(\u001b[0m\u001b[0midx\u001b[0m\u001b[1;33m,\u001b[0m \u001b[0maxis\u001b[0m\u001b[1;33m=\u001b[0m\u001b[0maxis\u001b[0m\u001b[1;33m,\u001b[0m \u001b[0minplace\u001b[0m\u001b[1;33m=\u001b[0m\u001b[1;32mTrue\u001b[0m\u001b[1;33m)\u001b[0m\u001b[1;33m\u001b[0m\u001b[1;33m\u001b[0m\u001b[0m\n\u001b[0;32m   1393\u001b[0m         \u001b[1;32mif\u001b[0m \u001b[1;32mnot\u001b[0m \u001b[0minplace\u001b[0m\u001b[1;33m:\u001b[0m\u001b[1;33m\u001b[0m\u001b[1;33m\u001b[0m\u001b[0m\n",
      "\u001b[1;32mC:\\ProgramData\\Anaconda3_new\\lib\\site-packages\\pandas\\core\\generic.py\u001b[0m in \u001b[0;36mcopy\u001b[1;34m(self, deep)\u001b[0m\n\u001b[0;32m   6030\u001b[0m         \u001b[0mdtype\u001b[0m\u001b[1;33m:\u001b[0m \u001b[0mobject\u001b[0m\u001b[1;33m\u001b[0m\u001b[1;33m\u001b[0m\u001b[0m\n\u001b[0;32m   6031\u001b[0m         \"\"\"\n\u001b[1;32m-> 6032\u001b[1;33m         \u001b[0mdata\u001b[0m \u001b[1;33m=\u001b[0m \u001b[0mself\u001b[0m\u001b[1;33m.\u001b[0m\u001b[0m_mgr\u001b[0m\u001b[1;33m.\u001b[0m\u001b[0mcopy\u001b[0m\u001b[1;33m(\u001b[0m\u001b[0mdeep\u001b[0m\u001b[1;33m=\u001b[0m\u001b[0mdeep\u001b[0m\u001b[1;33m)\u001b[0m\u001b[1;33m\u001b[0m\u001b[1;33m\u001b[0m\u001b[0m\n\u001b[0m\u001b[0;32m   6033\u001b[0m         \u001b[0mself\u001b[0m\u001b[1;33m.\u001b[0m\u001b[0m_clear_item_cache\u001b[0m\u001b[1;33m(\u001b[0m\u001b[1;33m)\u001b[0m\u001b[1;33m\u001b[0m\u001b[1;33m\u001b[0m\u001b[0m\n\u001b[0;32m   6034\u001b[0m         \u001b[1;32mreturn\u001b[0m \u001b[0mself\u001b[0m\u001b[1;33m.\u001b[0m\u001b[0m_constructor\u001b[0m\u001b[1;33m(\u001b[0m\u001b[0mdata\u001b[0m\u001b[1;33m)\u001b[0m\u001b[1;33m.\u001b[0m\u001b[0m__finalize__\u001b[0m\u001b[1;33m(\u001b[0m\u001b[0mself\u001b[0m\u001b[1;33m,\u001b[0m \u001b[0mmethod\u001b[0m\u001b[1;33m=\u001b[0m\u001b[1;34m\"copy\"\u001b[0m\u001b[1;33m)\u001b[0m\u001b[1;33m\u001b[0m\u001b[1;33m\u001b[0m\u001b[0m\n",
      "\u001b[1;32mC:\\ProgramData\\Anaconda3_new\\lib\\site-packages\\pandas\\core\\internals\\managers.py\u001b[0m in \u001b[0;36mcopy\u001b[1;34m(self, deep)\u001b[0m\n\u001b[0;32m    601\u001b[0m             \u001b[0mnew_axes\u001b[0m \u001b[1;33m=\u001b[0m \u001b[0mlist\u001b[0m\u001b[1;33m(\u001b[0m\u001b[0mself\u001b[0m\u001b[1;33m.\u001b[0m\u001b[0maxes\u001b[0m\u001b[1;33m)\u001b[0m\u001b[1;33m\u001b[0m\u001b[1;33m\u001b[0m\u001b[0m\n\u001b[0;32m    602\u001b[0m \u001b[1;33m\u001b[0m\u001b[0m\n\u001b[1;32m--> 603\u001b[1;33m         \u001b[0mres\u001b[0m \u001b[1;33m=\u001b[0m \u001b[0mself\u001b[0m\u001b[1;33m.\u001b[0m\u001b[0mapply\u001b[0m\u001b[1;33m(\u001b[0m\u001b[1;34m\"copy\"\u001b[0m\u001b[1;33m,\u001b[0m \u001b[0mdeep\u001b[0m\u001b[1;33m=\u001b[0m\u001b[0mdeep\u001b[0m\u001b[1;33m)\u001b[0m\u001b[1;33m\u001b[0m\u001b[1;33m\u001b[0m\u001b[0m\n\u001b[0m\u001b[0;32m    604\u001b[0m \u001b[1;33m\u001b[0m\u001b[0m\n\u001b[0;32m    605\u001b[0m         \u001b[0mres\u001b[0m\u001b[1;33m.\u001b[0m\u001b[0maxes\u001b[0m \u001b[1;33m=\u001b[0m \u001b[0mnew_axes\u001b[0m\u001b[1;33m\u001b[0m\u001b[1;33m\u001b[0m\u001b[0m\n",
      "\u001b[1;32mC:\\ProgramData\\Anaconda3_new\\lib\\site-packages\\pandas\\core\\internals\\managers.py\u001b[0m in \u001b[0;36mapply\u001b[1;34m(self, f, align_keys, ignore_failures, **kwargs)\u001b[0m\n\u001b[0;32m    302\u001b[0m                     \u001b[0mapplied\u001b[0m \u001b[1;33m=\u001b[0m \u001b[0mb\u001b[0m\u001b[1;33m.\u001b[0m\u001b[0mapply\u001b[0m\u001b[1;33m(\u001b[0m\u001b[0mf\u001b[0m\u001b[1;33m,\u001b[0m \u001b[1;33m**\u001b[0m\u001b[0mkwargs\u001b[0m\u001b[1;33m)\u001b[0m\u001b[1;33m\u001b[0m\u001b[1;33m\u001b[0m\u001b[0m\n\u001b[0;32m    303\u001b[0m                 \u001b[1;32melse\u001b[0m\u001b[1;33m:\u001b[0m\u001b[1;33m\u001b[0m\u001b[1;33m\u001b[0m\u001b[0m\n\u001b[1;32m--> 304\u001b[1;33m                     \u001b[0mapplied\u001b[0m \u001b[1;33m=\u001b[0m \u001b[0mgetattr\u001b[0m\u001b[1;33m(\u001b[0m\u001b[0mb\u001b[0m\u001b[1;33m,\u001b[0m \u001b[0mf\u001b[0m\u001b[1;33m)\u001b[0m\u001b[1;33m(\u001b[0m\u001b[1;33m**\u001b[0m\u001b[0mkwargs\u001b[0m\u001b[1;33m)\u001b[0m\u001b[1;33m\u001b[0m\u001b[1;33m\u001b[0m\u001b[0m\n\u001b[0m\u001b[0;32m    305\u001b[0m             \u001b[1;32mexcept\u001b[0m \u001b[1;33m(\u001b[0m\u001b[0mTypeError\u001b[0m\u001b[1;33m,\u001b[0m \u001b[0mNotImplementedError\u001b[0m\u001b[1;33m)\u001b[0m\u001b[1;33m:\u001b[0m\u001b[1;33m\u001b[0m\u001b[1;33m\u001b[0m\u001b[0m\n\u001b[0;32m    306\u001b[0m                 \u001b[1;32mif\u001b[0m \u001b[1;32mnot\u001b[0m \u001b[0mignore_failures\u001b[0m\u001b[1;33m:\u001b[0m\u001b[1;33m\u001b[0m\u001b[1;33m\u001b[0m\u001b[0m\n",
      "\u001b[1;32mC:\\ProgramData\\Anaconda3_new\\lib\\site-packages\\pandas\\core\\internals\\blocks.py\u001b[0m in \u001b[0;36mcopy\u001b[1;34m(self, deep)\u001b[0m\n\u001b[0;32m    641\u001b[0m         \u001b[0mvalues\u001b[0m \u001b[1;33m=\u001b[0m \u001b[0mself\u001b[0m\u001b[1;33m.\u001b[0m\u001b[0mvalues\u001b[0m\u001b[1;33m\u001b[0m\u001b[1;33m\u001b[0m\u001b[0m\n\u001b[0;32m    642\u001b[0m         \u001b[1;32mif\u001b[0m \u001b[0mdeep\u001b[0m\u001b[1;33m:\u001b[0m\u001b[1;33m\u001b[0m\u001b[1;33m\u001b[0m\u001b[0m\n\u001b[1;32m--> 643\u001b[1;33m             \u001b[0mvalues\u001b[0m \u001b[1;33m=\u001b[0m \u001b[0mvalues\u001b[0m\u001b[1;33m.\u001b[0m\u001b[0mcopy\u001b[0m\u001b[1;33m(\u001b[0m\u001b[1;33m)\u001b[0m\u001b[1;33m\u001b[0m\u001b[1;33m\u001b[0m\u001b[0m\n\u001b[0m\u001b[0;32m    644\u001b[0m         \u001b[1;32mreturn\u001b[0m \u001b[0mtype\u001b[0m\u001b[1;33m(\u001b[0m\u001b[0mself\u001b[0m\u001b[1;33m)\u001b[0m\u001b[1;33m(\u001b[0m\u001b[0mvalues\u001b[0m\u001b[1;33m,\u001b[0m \u001b[0mplacement\u001b[0m\u001b[1;33m=\u001b[0m\u001b[0mself\u001b[0m\u001b[1;33m.\u001b[0m\u001b[0m_mgr_locs\u001b[0m\u001b[1;33m,\u001b[0m \u001b[0mndim\u001b[0m\u001b[1;33m=\u001b[0m\u001b[0mself\u001b[0m\u001b[1;33m.\u001b[0m\u001b[0mndim\u001b[0m\u001b[1;33m)\u001b[0m\u001b[1;33m\u001b[0m\u001b[1;33m\u001b[0m\u001b[0m\n\u001b[0;32m    645\u001b[0m \u001b[1;33m\u001b[0m\u001b[0m\n",
      "\u001b[1;31mKeyboardInterrupt\u001b[0m: "
     ]
    }
   ],
   "source": [
    "import itertools\n",
    "tuning_list = {\n",
    "    \"timewindow_actor\": [3, 5, 10],\n",
    "    \"timewindow_director\": [3, 5, 10],\n",
    "    \"timewindow_genre\": [3, 5, 10],\n",
    "    \"star_actor_num\": [3, 5, 10],\n",
    "    \"star_director_num\": [3, 5],\n",
    "    }\n",
    "tuning_grid = list(itertools.product(*tuning_list.values()))\n",
    "\n",
    "from tqdm import tqdm   \n",
    "for s in tqdm(tuning_grid):\n",
    "    timewindow_actor = s[0]\n",
    "    timewindow_director = s[1]\n",
    "    timewindow_genre = s[2]\n",
    "    star_actor_num = s[3]\n",
    "    star_director_num = s[4] \n",
    "\n",
    "\n",
    "    castinfo(timewindow_actor, star_actor_num)\n",
    "    directorinfo(timewindow_director, star_director_num)\n",
    "    genreinfo(timewindow_genre)\n",
    "\n",
    "    final = dataset.loc[dataset['Year'] >= 1980].copy()\n",
    "    X = final[['Budget', 'Year', 'Month',\n",
    "           'Rating', 'is_Franchise', 'Production Method',\n",
    "           'Creative Type', 'has_star_actor', 'has_star_director',\n",
    "           'actor_revenue_before', 'director_revenue_before',\n",
    "            'genre_revenue_before']].copy()\n",
    "    X[\"Month\"] = X[\"Month\"].astype(\"category\")\n",
    "    X[\"Rating\"] = X[\"Rating\"].astype(\"category\")\n",
    "    X[\"is_Franchise\"] = X[\"is_Franchise\"].astype(\"category\")\n",
    "    # X[\"Genre\"] = X[\"Genre\"].astype(\"category\")\n",
    "    X[\"Production Method\"] = X[\"Production Method\"].astype(\"category\")\n",
    "    X[\"Creative Type\"] = X[\"Creative Type\"].astype(\"category\")\n",
    "    X[\"Year\"] = X[\"Year\"].astype('Int64')\n",
    "\n",
    "    X[\"has_star_actor\"] = X[\"has_star_actor\"].astype(\"category\")\n",
    "    X[\"has_star_director\"] = X[\"has_star_director\"].astype(\"category\")\n",
    "\n",
    "    from sklearn.preprocessing import LabelEncoder\n",
    "    le = LabelEncoder()\n",
    "    Y = le.fit_transform(final['hit'].values)\n",
    "\n",
    "    X_train, X_test, y_train, y_test = train_test_split(\n",
    "        X,\n",
    "        final[['hit']], test_size = .2, random_state = 10) #split the data\n",
    "\n",
    "    classes = {\n",
    "        \"Classes\": [\n",
    "            \"Loss\",\n",
    "            \"Below average\",\n",
    "            \"Above average\",\n",
    "            \"Hits\",\n",
    "        ]\n",
    "    }\n",
    "    df_classes = pd.DataFrame(data = classes)\n",
    "\n",
    "    from sklearn.preprocessing import LabelEncoder\n",
    "    le = LabelEncoder()\n",
    "    le.fit(classes['Classes'])\n",
    "    y_train = le.fit_transform(y_train.values.ravel())\n",
    "\n",
    "    import xgboost as xgb\n",
    "    clf = xgb.XGBClassifier(enable_categorical = True,  \n",
    "                          tree_method = \"hist\")\n",
    "    clf.fit(X_train, y_train)\n",
    "\n",
    "    from sklearn.metrics import confusion_matrix, accuracy_score\n",
    "    y_pred = clf.predict(X_test)\n",
    "    y_pred = le.inverse_transform(y_pred)\n",
    "    cm = confusion_matrix(y_test, y_pred, labels = classes['Classes'])\n",
    "    from sklearn.metrics import matthews_corrcoef\n",
    "    print(\"accuracy score: \", accuracy_score(y_test, y_pred))\n",
    "    print(\"MCC: \", matthews_corrcoef(y_test, y_pred))\n",
    "\n",
    "    from sklearn.metrics import ConfusionMatrixDisplay\n",
    "    disp = ConfusionMatrixDisplay(confusion_matrix = cm,\n",
    "                                  display_labels = classes['Classes'])\n",
    "#     disp.plot()\n",
    "#     plt.show()\n",
    "\n",
    "\n",
    "    hand_tune.loc[len(hand_tune)] = [timewindow_actor,\n",
    "                                            timewindow_director,\n",
    "                                            timewindow_genre,\n",
    "                                            star_actor_num,\n",
    "                                            star_director_num, \n",
    "                                            cm,\n",
    "                                            matthews_corrcoef(y_test, y_pred),\n",
    "                                            accuracy_score(y_test, y_pred)]"
   ]
  },
  {
   "cell_type": "code",
   "execution_count": 308,
   "id": "52ee6eca-fc9e-4614-8c50-ab85bf56e181",
   "metadata": {
    "collapsed": true,
    "jupyter": {
     "outputs_hidden": true
    },
    "tags": []
   },
   "outputs": [
    {
     "data": {
      "text/html": [
       "<div>\n",
       "<style scoped>\n",
       "    .dataframe tbody tr th:only-of-type {\n",
       "        vertical-align: middle;\n",
       "    }\n",
       "\n",
       "    .dataframe tbody tr th {\n",
       "        vertical-align: top;\n",
       "    }\n",
       "\n",
       "    .dataframe thead th {\n",
       "        text-align: right;\n",
       "    }\n",
       "</style>\n",
       "<table border=\"1\" class=\"dataframe\">\n",
       "  <thead>\n",
       "    <tr style=\"text-align: right;\">\n",
       "      <th></th>\n",
       "      <th>timewindow_actor</th>\n",
       "      <th>timewindow_director</th>\n",
       "      <th>timewindow_genre</th>\n",
       "      <th>star_actor_num</th>\n",
       "      <th>star_director_num</th>\n",
       "      <th>CM</th>\n",
       "      <th>MCC</th>\n",
       "      <th>accuracy</th>\n",
       "    </tr>\n",
       "  </thead>\n",
       "  <tbody>\n",
       "    <tr>\n",
       "      <th>0</th>\n",
       "      <td>3</td>\n",
       "      <td>3</td>\n",
       "      <td>3</td>\n",
       "      <td>10</td>\n",
       "      <td>5</td>\n",
       "      <td>[[173, 50, 46, 31], [84, 52, 69, 31], [75, 51,...</td>\n",
       "      <td>0.17</td>\n",
       "      <td>0.38</td>\n",
       "    </tr>\n",
       "    <tr>\n",
       "      <th>1</th>\n",
       "      <td>3</td>\n",
       "      <td>3</td>\n",
       "      <td>3</td>\n",
       "      <td>10</td>\n",
       "      <td>10</td>\n",
       "      <td>[[170, 45, 48, 37], [84, 52, 68, 32], [77, 47,...</td>\n",
       "      <td>0.17</td>\n",
       "      <td>0.39</td>\n",
       "    </tr>\n",
       "    <tr>\n",
       "      <th>2</th>\n",
       "      <td>3</td>\n",
       "      <td>3</td>\n",
       "      <td>5</td>\n",
       "      <td>10</td>\n",
       "      <td>10</td>\n",
       "      <td>[[174, 44, 50, 32], [89, 44, 73, 30], [72, 56,...</td>\n",
       "      <td>0.18</td>\n",
       "      <td>0.39</td>\n",
       "    </tr>\n",
       "  </tbody>\n",
       "</table>\n",
       "</div>"
      ],
      "text/plain": [
       "   timewindow_actor  timewindow_director  timewindow_genre  star_actor_num  \\\n",
       "0                 3                    3                 3              10   \n",
       "1                 3                    3                 3              10   \n",
       "2                 3                    3                 5              10   \n",
       "\n",
       "   star_director_num                                                 CM  MCC  \\\n",
       "0                  5  [[173, 50, 46, 31], [84, 52, 69, 31], [75, 51,... 0.17   \n",
       "1                 10  [[170, 45, 48, 37], [84, 52, 68, 32], [77, 47,... 0.17   \n",
       "2                 10  [[174, 44, 50, 32], [89, 44, 73, 30], [72, 56,... 0.18   \n",
       "\n",
       "   accuracy  \n",
       "0      0.38  \n",
       "1      0.39  \n",
       "2      0.39  "
      ]
     },
     "execution_count": 308,
     "metadata": {},
     "output_type": "execute_result"
    }
   ],
   "source": [
    "hand_tune"
   ]
  },
  {
   "cell_type": "code",
   "execution_count": 309,
   "id": "b7255494-2e9a-4813-ab90-97e42a1bd0d7",
   "metadata": {},
   "outputs": [],
   "source": [
    "hand_tune = pd.DataFrame(columns = [\"timewindow_actor\",\n",
    "                                          \"timewindow_director\",\n",
    "                                          \"timewindow_genre\",\n",
    "                                          \"star_actor_num\",\n",
    "                                          \"star_director_num\",\n",
    "                                          \"CM\",\n",
    "                                          \"MCC\",\n",
    "                                           \"accuracy\"])\n",
    "\n",
    "hand_tune.loc[len(hand_tune)] = [timewindow_actor,\n",
    "                                        timewindow_director,\n",
    "                                        timewindow_genre,\n",
    "                                        star_actor_num,\n",
    "                                        star_director_num, \n",
    "                                        cm,\n",
    "                                        matthews_corrcoef(y_test, y_pred),\n",
    "                                        accuracy_score(y_test, y_pred)]\n"
   ]
  },
  {
   "cell_type": "code",
   "execution_count": null,
   "id": "dd4eb842-ac16-41e7-9e56-6122568f1c4a",
   "metadata": {},
   "outputs": [],
   "source": []
  },
  {
   "cell_type": "code",
   "execution_count": null,
   "id": "3389acf2-37ea-4d32-ac35-185aeebf3947",
   "metadata": {},
   "outputs": [],
   "source": []
  },
  {
   "cell_type": "code",
   "execution_count": 397,
   "id": "48ba5d07-e108-4a9b-99b3-d35eaa91bc83",
   "metadata": {
    "collapsed": true,
    "jupyter": {
     "outputs_hidden": true
    },
    "tags": []
   },
   "outputs": [
    {
     "data": {
      "text/html": [
       "<div>\n",
       "<style scoped>\n",
       "    .dataframe tbody tr th:only-of-type {\n",
       "        vertical-align: middle;\n",
       "    }\n",
       "\n",
       "    .dataframe tbody tr th {\n",
       "        vertical-align: top;\n",
       "    }\n",
       "\n",
       "    .dataframe thead th {\n",
       "        text-align: right;\n",
       "    }\n",
       "</style>\n",
       "<table border=\"1\" class=\"dataframe\">\n",
       "  <thead>\n",
       "    <tr style=\"text-align: right;\">\n",
       "      <th></th>\n",
       "      <th>April</th>\n",
       "      <th>August</th>\n",
       "      <th>December</th>\n",
       "      <th>February</th>\n",
       "      <th>January</th>\n",
       "      <th>July</th>\n",
       "      <th>June</th>\n",
       "      <th>March</th>\n",
       "      <th>May</th>\n",
       "      <th>November</th>\n",
       "      <th>October</th>\n",
       "      <th>September</th>\n",
       "      <th>G</th>\n",
       "      <th>NC-17</th>\n",
       "      <th>Not Rated</th>\n",
       "      <th>Open</th>\n",
       "      <th>PG</th>\n",
       "      <th>PG-13</th>\n",
       "      <th>R</th>\n",
       "      <th>is_Franchise</th>\n",
       "      <th>Animation/Live Action</th>\n",
       "      <th>Digital Animation</th>\n",
       "      <th>Hand Animation</th>\n",
       "      <th>Live Action</th>\n",
       "      <th>Multiple Production Methods</th>\n",
       "      <th>Rotoscoping</th>\n",
       "      <th>Stop-Motion Animation</th>\n",
       "      <th>Contemporary Fiction</th>\n",
       "      <th>Dramatization</th>\n",
       "      <th>Factual</th>\n",
       "      <th>Fantasy</th>\n",
       "      <th>Historical Fiction</th>\n",
       "      <th>Kids Fiction</th>\n",
       "      <th>Multiple Creative Types</th>\n",
       "      <th>Science Fiction</th>\n",
       "      <th>Super Hero</th>\n",
       "      <th>has_star_actor</th>\n",
       "      <th>has_star_director</th>\n",
       "      <th>actor_revenue_before</th>\n",
       "      <th>director_revenue_before</th>\n",
       "      <th>genre_revenue_before</th>\n",
       "    </tr>\n",
       "  </thead>\n",
       "  <tbody>\n",
       "    <tr>\n",
       "      <th>0</th>\n",
       "      <td>1</td>\n",
       "      <td>0</td>\n",
       "      <td>0</td>\n",
       "      <td>0</td>\n",
       "      <td>0</td>\n",
       "      <td>0</td>\n",
       "      <td>0</td>\n",
       "      <td>0</td>\n",
       "      <td>0</td>\n",
       "      <td>0</td>\n",
       "      <td>0</td>\n",
       "      <td>0</td>\n",
       "      <td>0</td>\n",
       "      <td>0</td>\n",
       "      <td>0</td>\n",
       "      <td>0</td>\n",
       "      <td>1</td>\n",
       "      <td>0</td>\n",
       "      <td>0</td>\n",
       "      <td>0</td>\n",
       "      <td>0</td>\n",
       "      <td>1</td>\n",
       "      <td>0</td>\n",
       "      <td>0</td>\n",
       "      <td>0</td>\n",
       "      <td>0</td>\n",
       "      <td>0</td>\n",
       "      <td>0</td>\n",
       "      <td>0</td>\n",
       "      <td>0</td>\n",
       "      <td>0</td>\n",
       "      <td>0</td>\n",
       "      <td>1</td>\n",
       "      <td>0</td>\n",
       "      <td>0</td>\n",
       "      <td>0</td>\n",
       "      <td>0</td>\n",
       "      <td>0</td>\n",
       "      <td>4238513828</td>\n",
       "      <td>0</td>\n",
       "      <td>17836917933</td>\n",
       "    </tr>\n",
       "    <tr>\n",
       "      <th>1</th>\n",
       "      <td>0</td>\n",
       "      <td>0</td>\n",
       "      <td>0</td>\n",
       "      <td>0</td>\n",
       "      <td>0</td>\n",
       "      <td>0</td>\n",
       "      <td>0</td>\n",
       "      <td>0</td>\n",
       "      <td>0</td>\n",
       "      <td>1</td>\n",
       "      <td>0</td>\n",
       "      <td>0</td>\n",
       "      <td>0</td>\n",
       "      <td>0</td>\n",
       "      <td>0</td>\n",
       "      <td>0</td>\n",
       "      <td>1</td>\n",
       "      <td>0</td>\n",
       "      <td>0</td>\n",
       "      <td>1</td>\n",
       "      <td>1</td>\n",
       "      <td>0</td>\n",
       "      <td>0</td>\n",
       "      <td>0</td>\n",
       "      <td>0</td>\n",
       "      <td>0</td>\n",
       "      <td>0</td>\n",
       "      <td>0</td>\n",
       "      <td>0</td>\n",
       "      <td>0</td>\n",
       "      <td>1</td>\n",
       "      <td>0</td>\n",
       "      <td>0</td>\n",
       "      <td>0</td>\n",
       "      <td>0</td>\n",
       "      <td>0</td>\n",
       "      <td>0</td>\n",
       "      <td>0</td>\n",
       "      <td>71900000</td>\n",
       "      <td>247166055</td>\n",
       "      <td>9157422421</td>\n",
       "    </tr>\n",
       "    <tr>\n",
       "      <th>2</th>\n",
       "      <td>0</td>\n",
       "      <td>0</td>\n",
       "      <td>0</td>\n",
       "      <td>0</td>\n",
       "      <td>0</td>\n",
       "      <td>0</td>\n",
       "      <td>0</td>\n",
       "      <td>0</td>\n",
       "      <td>0</td>\n",
       "      <td>0</td>\n",
       "      <td>1</td>\n",
       "      <td>0</td>\n",
       "      <td>0</td>\n",
       "      <td>0</td>\n",
       "      <td>0</td>\n",
       "      <td>0</td>\n",
       "      <td>0</td>\n",
       "      <td>0</td>\n",
       "      <td>1</td>\n",
       "      <td>0</td>\n",
       "      <td>0</td>\n",
       "      <td>0</td>\n",
       "      <td>0</td>\n",
       "      <td>1</td>\n",
       "      <td>0</td>\n",
       "      <td>0</td>\n",
       "      <td>0</td>\n",
       "      <td>1</td>\n",
       "      <td>0</td>\n",
       "      <td>0</td>\n",
       "      <td>0</td>\n",
       "      <td>0</td>\n",
       "      <td>0</td>\n",
       "      <td>0</td>\n",
       "      <td>0</td>\n",
       "      <td>0</td>\n",
       "      <td>0</td>\n",
       "      <td>0</td>\n",
       "      <td>44249049</td>\n",
       "      <td>0</td>\n",
       "      <td>9984983199</td>\n",
       "    </tr>\n",
       "    <tr>\n",
       "      <th>7</th>\n",
       "      <td>0</td>\n",
       "      <td>0</td>\n",
       "      <td>0</td>\n",
       "      <td>0</td>\n",
       "      <td>0</td>\n",
       "      <td>0</td>\n",
       "      <td>0</td>\n",
       "      <td>0</td>\n",
       "      <td>1</td>\n",
       "      <td>0</td>\n",
       "      <td>0</td>\n",
       "      <td>0</td>\n",
       "      <td>0</td>\n",
       "      <td>0</td>\n",
       "      <td>1</td>\n",
       "      <td>0</td>\n",
       "      <td>0</td>\n",
       "      <td>0</td>\n",
       "      <td>0</td>\n",
       "      <td>0</td>\n",
       "      <td>0</td>\n",
       "      <td>0</td>\n",
       "      <td>0</td>\n",
       "      <td>1</td>\n",
       "      <td>0</td>\n",
       "      <td>0</td>\n",
       "      <td>0</td>\n",
       "      <td>1</td>\n",
       "      <td>0</td>\n",
       "      <td>0</td>\n",
       "      <td>0</td>\n",
       "      <td>0</td>\n",
       "      <td>0</td>\n",
       "      <td>0</td>\n",
       "      <td>0</td>\n",
       "      <td>0</td>\n",
       "      <td>0</td>\n",
       "      <td>0</td>\n",
       "      <td>0</td>\n",
       "      <td>0</td>\n",
       "      <td>6202454213</td>\n",
       "    </tr>\n",
       "    <tr>\n",
       "      <th>9</th>\n",
       "      <td>0</td>\n",
       "      <td>0</td>\n",
       "      <td>0</td>\n",
       "      <td>0</td>\n",
       "      <td>0</td>\n",
       "      <td>1</td>\n",
       "      <td>0</td>\n",
       "      <td>0</td>\n",
       "      <td>0</td>\n",
       "      <td>0</td>\n",
       "      <td>0</td>\n",
       "      <td>0</td>\n",
       "      <td>0</td>\n",
       "      <td>0</td>\n",
       "      <td>0</td>\n",
       "      <td>0</td>\n",
       "      <td>0</td>\n",
       "      <td>0</td>\n",
       "      <td>1</td>\n",
       "      <td>0</td>\n",
       "      <td>0</td>\n",
       "      <td>0</td>\n",
       "      <td>0</td>\n",
       "      <td>1</td>\n",
       "      <td>0</td>\n",
       "      <td>0</td>\n",
       "      <td>0</td>\n",
       "      <td>1</td>\n",
       "      <td>0</td>\n",
       "      <td>0</td>\n",
       "      <td>0</td>\n",
       "      <td>0</td>\n",
       "      <td>0</td>\n",
       "      <td>0</td>\n",
       "      <td>0</td>\n",
       "      <td>0</td>\n",
       "      <td>0</td>\n",
       "      <td>0</td>\n",
       "      <td>711059998</td>\n",
       "      <td>0</td>\n",
       "      <td>5164099194</td>\n",
       "    </tr>\n",
       "    <tr>\n",
       "      <th>...</th>\n",
       "      <td>...</td>\n",
       "      <td>...</td>\n",
       "      <td>...</td>\n",
       "      <td>...</td>\n",
       "      <td>...</td>\n",
       "      <td>...</td>\n",
       "      <td>...</td>\n",
       "      <td>...</td>\n",
       "      <td>...</td>\n",
       "      <td>...</td>\n",
       "      <td>...</td>\n",
       "      <td>...</td>\n",
       "      <td>...</td>\n",
       "      <td>...</td>\n",
       "      <td>...</td>\n",
       "      <td>...</td>\n",
       "      <td>...</td>\n",
       "      <td>...</td>\n",
       "      <td>...</td>\n",
       "      <td>...</td>\n",
       "      <td>...</td>\n",
       "      <td>...</td>\n",
       "      <td>...</td>\n",
       "      <td>...</td>\n",
       "      <td>...</td>\n",
       "      <td>...</td>\n",
       "      <td>...</td>\n",
       "      <td>...</td>\n",
       "      <td>...</td>\n",
       "      <td>...</td>\n",
       "      <td>...</td>\n",
       "      <td>...</td>\n",
       "      <td>...</td>\n",
       "      <td>...</td>\n",
       "      <td>...</td>\n",
       "      <td>...</td>\n",
       "      <td>...</td>\n",
       "      <td>...</td>\n",
       "      <td>...</td>\n",
       "      <td>...</td>\n",
       "      <td>...</td>\n",
       "    </tr>\n",
       "    <tr>\n",
       "      <th>6345</th>\n",
       "      <td>1</td>\n",
       "      <td>0</td>\n",
       "      <td>0</td>\n",
       "      <td>0</td>\n",
       "      <td>0</td>\n",
       "      <td>0</td>\n",
       "      <td>0</td>\n",
       "      <td>0</td>\n",
       "      <td>0</td>\n",
       "      <td>0</td>\n",
       "      <td>0</td>\n",
       "      <td>0</td>\n",
       "      <td>0</td>\n",
       "      <td>0</td>\n",
       "      <td>0</td>\n",
       "      <td>0</td>\n",
       "      <td>0</td>\n",
       "      <td>0</td>\n",
       "      <td>1</td>\n",
       "      <td>0</td>\n",
       "      <td>0</td>\n",
       "      <td>0</td>\n",
       "      <td>0</td>\n",
       "      <td>1</td>\n",
       "      <td>0</td>\n",
       "      <td>0</td>\n",
       "      <td>0</td>\n",
       "      <td>0</td>\n",
       "      <td>0</td>\n",
       "      <td>1</td>\n",
       "      <td>0</td>\n",
       "      <td>0</td>\n",
       "      <td>0</td>\n",
       "      <td>0</td>\n",
       "      <td>0</td>\n",
       "      <td>0</td>\n",
       "      <td>0</td>\n",
       "      <td>0</td>\n",
       "      <td>0</td>\n",
       "      <td>0</td>\n",
       "      <td>566212521</td>\n",
       "    </tr>\n",
       "    <tr>\n",
       "      <th>6346</th>\n",
       "      <td>0</td>\n",
       "      <td>0</td>\n",
       "      <td>0</td>\n",
       "      <td>0</td>\n",
       "      <td>0</td>\n",
       "      <td>1</td>\n",
       "      <td>0</td>\n",
       "      <td>0</td>\n",
       "      <td>0</td>\n",
       "      <td>0</td>\n",
       "      <td>0</td>\n",
       "      <td>0</td>\n",
       "      <td>0</td>\n",
       "      <td>0</td>\n",
       "      <td>0</td>\n",
       "      <td>0</td>\n",
       "      <td>0</td>\n",
       "      <td>0</td>\n",
       "      <td>1</td>\n",
       "      <td>0</td>\n",
       "      <td>0</td>\n",
       "      <td>0</td>\n",
       "      <td>0</td>\n",
       "      <td>1</td>\n",
       "      <td>0</td>\n",
       "      <td>0</td>\n",
       "      <td>0</td>\n",
       "      <td>1</td>\n",
       "      <td>0</td>\n",
       "      <td>0</td>\n",
       "      <td>0</td>\n",
       "      <td>0</td>\n",
       "      <td>0</td>\n",
       "      <td>0</td>\n",
       "      <td>0</td>\n",
       "      <td>0</td>\n",
       "      <td>0</td>\n",
       "      <td>0</td>\n",
       "      <td>0</td>\n",
       "      <td>0</td>\n",
       "      <td>392942949</td>\n",
       "    </tr>\n",
       "    <tr>\n",
       "      <th>6350</th>\n",
       "      <td>0</td>\n",
       "      <td>0</td>\n",
       "      <td>0</td>\n",
       "      <td>0</td>\n",
       "      <td>0</td>\n",
       "      <td>0</td>\n",
       "      <td>0</td>\n",
       "      <td>0</td>\n",
       "      <td>0</td>\n",
       "      <td>0</td>\n",
       "      <td>0</td>\n",
       "      <td>1</td>\n",
       "      <td>0</td>\n",
       "      <td>0</td>\n",
       "      <td>0</td>\n",
       "      <td>0</td>\n",
       "      <td>1</td>\n",
       "      <td>0</td>\n",
       "      <td>0</td>\n",
       "      <td>0</td>\n",
       "      <td>0</td>\n",
       "      <td>0</td>\n",
       "      <td>0</td>\n",
       "      <td>1</td>\n",
       "      <td>0</td>\n",
       "      <td>0</td>\n",
       "      <td>0</td>\n",
       "      <td>1</td>\n",
       "      <td>0</td>\n",
       "      <td>0</td>\n",
       "      <td>0</td>\n",
       "      <td>0</td>\n",
       "      <td>0</td>\n",
       "      <td>0</td>\n",
       "      <td>0</td>\n",
       "      <td>0</td>\n",
       "      <td>0</td>\n",
       "      <td>0</td>\n",
       "      <td>0</td>\n",
       "      <td>0</td>\n",
       "      <td>8160232605</td>\n",
       "    </tr>\n",
       "    <tr>\n",
       "      <th>6355</th>\n",
       "      <td>0</td>\n",
       "      <td>0</td>\n",
       "      <td>0</td>\n",
       "      <td>0</td>\n",
       "      <td>0</td>\n",
       "      <td>0</td>\n",
       "      <td>0</td>\n",
       "      <td>0</td>\n",
       "      <td>0</td>\n",
       "      <td>1</td>\n",
       "      <td>0</td>\n",
       "      <td>0</td>\n",
       "      <td>0</td>\n",
       "      <td>0</td>\n",
       "      <td>0</td>\n",
       "      <td>0</td>\n",
       "      <td>0</td>\n",
       "      <td>0</td>\n",
       "      <td>1</td>\n",
       "      <td>0</td>\n",
       "      <td>0</td>\n",
       "      <td>0</td>\n",
       "      <td>0</td>\n",
       "      <td>1</td>\n",
       "      <td>0</td>\n",
       "      <td>0</td>\n",
       "      <td>0</td>\n",
       "      <td>0</td>\n",
       "      <td>1</td>\n",
       "      <td>0</td>\n",
       "      <td>0</td>\n",
       "      <td>0</td>\n",
       "      <td>0</td>\n",
       "      <td>0</td>\n",
       "      <td>0</td>\n",
       "      <td>0</td>\n",
       "      <td>0</td>\n",
       "      <td>0</td>\n",
       "      <td>0</td>\n",
       "      <td>0</td>\n",
       "      <td>6035627984</td>\n",
       "    </tr>\n",
       "    <tr>\n",
       "      <th>6381</th>\n",
       "      <td>0</td>\n",
       "      <td>0</td>\n",
       "      <td>0</td>\n",
       "      <td>0</td>\n",
       "      <td>0</td>\n",
       "      <td>0</td>\n",
       "      <td>0</td>\n",
       "      <td>0</td>\n",
       "      <td>0</td>\n",
       "      <td>1</td>\n",
       "      <td>0</td>\n",
       "      <td>0</td>\n",
       "      <td>0</td>\n",
       "      <td>0</td>\n",
       "      <td>0</td>\n",
       "      <td>0</td>\n",
       "      <td>0</td>\n",
       "      <td>0</td>\n",
       "      <td>0</td>\n",
       "      <td>0</td>\n",
       "      <td>0</td>\n",
       "      <td>0</td>\n",
       "      <td>0</td>\n",
       "      <td>1</td>\n",
       "      <td>0</td>\n",
       "      <td>0</td>\n",
       "      <td>0</td>\n",
       "      <td>1</td>\n",
       "      <td>0</td>\n",
       "      <td>0</td>\n",
       "      <td>0</td>\n",
       "      <td>0</td>\n",
       "      <td>0</td>\n",
       "      <td>0</td>\n",
       "      <td>0</td>\n",
       "      <td>0</td>\n",
       "      <td>0</td>\n",
       "      <td>0</td>\n",
       "      <td>0</td>\n",
       "      <td>0</td>\n",
       "      <td>402747514</td>\n",
       "    </tr>\n",
       "  </tbody>\n",
       "</table>\n",
       "<p>5304 rows × 41 columns</p>\n",
       "</div>"
      ],
      "text/plain": [
       "      April  August  December  February  January  July  June  March  May  \\\n",
       "0         1       0         0         0        0     0     0      0    0   \n",
       "1         0       0         0         0        0     0     0      0    0   \n",
       "2         0       0         0         0        0     0     0      0    0   \n",
       "7         0       0         0         0        0     0     0      0    1   \n",
       "9         0       0         0         0        0     1     0      0    0   \n",
       "...     ...     ...       ...       ...      ...   ...   ...    ...  ...   \n",
       "6345      1       0         0         0        0     0     0      0    0   \n",
       "6346      0       0         0         0        0     1     0      0    0   \n",
       "6350      0       0         0         0        0     0     0      0    0   \n",
       "6355      0       0         0         0        0     0     0      0    0   \n",
       "6381      0       0         0         0        0     0     0      0    0   \n",
       "\n",
       "      November  October  September  G  NC-17  Not Rated  Open  PG  PG-13  R  \\\n",
       "0            0        0          0  0      0          0     0   1      0  0   \n",
       "1            1        0          0  0      0          0     0   1      0  0   \n",
       "2            0        1          0  0      0          0     0   0      0  1   \n",
       "7            0        0          0  0      0          1     0   0      0  0   \n",
       "9            0        0          0  0      0          0     0   0      0  1   \n",
       "...        ...      ...        ... ..    ...        ...   ...  ..    ... ..   \n",
       "6345         0        0          0  0      0          0     0   0      0  1   \n",
       "6346         0        0          0  0      0          0     0   0      0  1   \n",
       "6350         0        0          1  0      0          0     0   1      0  0   \n",
       "6355         1        0          0  0      0          0     0   0      0  1   \n",
       "6381         1        0          0  0      0          0     0   0      0  0   \n",
       "\n",
       "      is_Franchise  Animation/Live Action  Digital Animation  Hand Animation  \\\n",
       "0                0                      0                  1               0   \n",
       "1                1                      1                  0               0   \n",
       "2                0                      0                  0               0   \n",
       "7                0                      0                  0               0   \n",
       "9                0                      0                  0               0   \n",
       "...            ...                    ...                ...             ...   \n",
       "6345             0                      0                  0               0   \n",
       "6346             0                      0                  0               0   \n",
       "6350             0                      0                  0               0   \n",
       "6355             0                      0                  0               0   \n",
       "6381             0                      0                  0               0   \n",
       "\n",
       "      Live Action  Multiple Production Methods  Rotoscoping  \\\n",
       "0               0                            0            0   \n",
       "1               0                            0            0   \n",
       "2               1                            0            0   \n",
       "7               1                            0            0   \n",
       "9               1                            0            0   \n",
       "...           ...                          ...          ...   \n",
       "6345            1                            0            0   \n",
       "6346            1                            0            0   \n",
       "6350            1                            0            0   \n",
       "6355            1                            0            0   \n",
       "6381            1                            0            0   \n",
       "\n",
       "      Stop-Motion Animation  Contemporary Fiction  Dramatization  Factual  \\\n",
       "0                         0                     0              0        0   \n",
       "1                         0                     0              0        0   \n",
       "2                         0                     1              0        0   \n",
       "7                         0                     1              0        0   \n",
       "9                         0                     1              0        0   \n",
       "...                     ...                   ...            ...      ...   \n",
       "6345                      0                     0              0        1   \n",
       "6346                      0                     1              0        0   \n",
       "6350                      0                     1              0        0   \n",
       "6355                      0                     0              1        0   \n",
       "6381                      0                     1              0        0   \n",
       "\n",
       "      Fantasy  Historical Fiction  Kids Fiction  Multiple Creative Types  \\\n",
       "0           0                   0             1                        0   \n",
       "1           1                   0             0                        0   \n",
       "2           0                   0             0                        0   \n",
       "7           0                   0             0                        0   \n",
       "9           0                   0             0                        0   \n",
       "...       ...                 ...           ...                      ...   \n",
       "6345        0                   0             0                        0   \n",
       "6346        0                   0             0                        0   \n",
       "6350        0                   0             0                        0   \n",
       "6355        0                   0             0                        0   \n",
       "6381        0                   0             0                        0   \n",
       "\n",
       "      Science Fiction  Super Hero  has_star_actor  has_star_director  \\\n",
       "0                   0           0               0                  0   \n",
       "1                   0           0               0                  0   \n",
       "2                   0           0               0                  0   \n",
       "7                   0           0               0                  0   \n",
       "9                   0           0               0                  0   \n",
       "...               ...         ...             ...                ...   \n",
       "6345                0           0               0                  0   \n",
       "6346                0           0               0                  0   \n",
       "6350                0           0               0                  0   \n",
       "6355                0           0               0                  0   \n",
       "6381                0           0               0                  0   \n",
       "\n",
       "      actor_revenue_before  director_revenue_before  genre_revenue_before  \n",
       "0               4238513828                        0           17836917933  \n",
       "1                 71900000                247166055            9157422421  \n",
       "2                 44249049                        0            9984983199  \n",
       "7                        0                        0            6202454213  \n",
       "9                711059998                        0            5164099194  \n",
       "...                    ...                      ...                   ...  \n",
       "6345                     0                        0             566212521  \n",
       "6346                     0                        0             392942949  \n",
       "6350                     0                        0            8160232605  \n",
       "6355                     0                        0            6035627984  \n",
       "6381                     0                        0             402747514  \n",
       "\n",
       "[5304 rows x 41 columns]"
      ]
     },
     "execution_count": 397,
     "metadata": {},
     "output_type": "execute_result"
    }
   ],
   "source": [
    "final = dataset.loc[dataset['Year'] >= 1980].copy()\n",
    "X = pd.concat([pd.get_dummies(final[\"Month\"]), \n",
    "               pd.get_dummies(final['Rating']),\n",
    "               final['is_Franchise'].astype(int),\n",
    "               pd.get_dummies(final['Production Method']),\n",
    "               pd.get_dummies(final['Creative Type']),\n",
    "               final['has_star_actor'].astype(int),\n",
    "               final['has_star_director'].astype(int),\n",
    "               final[['actor_revenue_before', 'director_revenue_before',\n",
    "        'genre_revenue_before']].copy()\n",
    "              ], axis = 1)\n"
   ]
  },
  {
   "cell_type": "code",
   "execution_count": 415,
   "id": "a137fafe-78b8-41b7-94b6-5301adc9a3c3",
   "metadata": {
    "tags": []
   },
   "outputs": [
    {
     "name": "stdout",
     "output_type": "stream",
     "text": [
      "Warning: Desired error not necessarily achieved due to precision loss.\n",
      "         Current function value: 1.378635\n",
      "         Iterations: 0\n",
      "         Function evaluations: 96\n",
      "         Gradient evaluations: 84\n"
     ]
    },
    {
     "name": "stderr",
     "output_type": "stream",
     "text": [
      "C:\\ProgramData\\Anaconda3_new\\lib\\site-packages\\statsmodels\\base\\model.py:592: HessianInversionWarning: Inverting hessian failed, no bse or cov_params available\n",
      "  warnings.warn('Inverting hessian failed, no bse or cov_params '\n",
      "C:\\ProgramData\\Anaconda3_new\\lib\\site-packages\\statsmodels\\base\\model.py:604: ConvergenceWarning: Maximum Likelihood optimization failed to converge. Check mle_retvals\n",
      "  warnings.warn(\"Maximum Likelihood optimization failed to \"\n",
      "C:\\ProgramData\\Anaconda3_new\\lib\\site-packages\\statsmodels\\miscmodels\\ordinal_model.py:419: FutureWarning: Support for multi-dimensional indexing (e.g. `obj[:, None]`) is deprecated and will be removed in a future version.  Convert to a numpy array before indexing instead.\n",
      "  xb = xb[:, None]\n"
     ]
    }
   ],
   "source": [
    "final = dataset.loc[dataset['Year'] >= 1980].copy()\n",
    "X = pd.concat([pd.get_dummies(final[\"Month\"]), \n",
    "               pd.get_dummies(final['Rating']),\n",
    "               final['is_Franchise'].astype(int),\n",
    "               pd.get_dummies(final['Production Method']),\n",
    "               pd.get_dummies(final['Creative Type']),\n",
    "               final['has_star_actor'].astype(int),\n",
    "               final['has_star_director'].astype(int),\n",
    "               final[['Budget', 'actor_revenue_before', 'director_revenue_before',\n",
    "        'genre_revenue_before']].copy()\n",
    "              ], axis = 1)\n",
    "\n",
    "\n",
    "hit_mapper = {\"Loss\":1, \"Below average\": 2, \"Above average\":3, \"Hits\":4}\n",
    "Y = final[['hit']].replace(hit_mapper)\n",
    "    \n",
    "X_train, X_test, y_train, y_test = train_test_split(\n",
    "X,\n",
    "Y, test_size = .2, random_state = 10) #split the data\n",
    "\n",
    "from statsmodels.miscmodels.ordinal_model import OrderedModel\n",
    "mod_prob = OrderedModel(y_train, X_train,\n",
    "                        distr='probit')\n",
    "res_prob = mod_prob.fit(method='bfgs')\n",
    "res_prob.summary()\n",
    "y_pred = res_prob.model.predict(res_prob.params, \n",
    "                         exog=X_test)\n",
    "# y_pred = np.argmax(y_pred, axis = 1) + 1\n",
    "\n",
    "# cm = confusion_matrix(y_test, y_pred)\n",
    "# from sklearn.metrics import matthews_corrcoef\n",
    "# print(\"accuracy score: \", accuracy_score(y_test, y_pred))\n",
    "# print(\"MCC: \", matthews_corrcoef(y_test, y_pred))\n",
    "\n",
    "# from sklearn.metrics import ConfusionMatrixDisplay\n",
    "# disp = ConfusionMatrixDisplay(confusion_matrix = cm)\n",
    "# disp.plot()\n",
    "# plt.show()"
   ]
  },
  {
   "cell_type": "code",
   "execution_count": null,
   "id": "c42ceeb1-4ef6-45fa-91fa-6cb078e3d73a",
   "metadata": {},
   "outputs": [],
   "source": [
    "np.array"
   ]
  },
  {
   "cell_type": "code",
   "execution_count": 439,
   "id": "c58c63e2-ce2c-417e-a695-c3b2b3011156",
   "metadata": {},
   "outputs": [
    {
     "name": "stdout",
     "output_type": "stream",
     "text": [
      "accuracy score:  0.2573044297832234\n",
      "MCC:  0.0517859638972476\n"
     ]
    },
    {
     "data": {
      "image/png": "[encoded data removed]",
      "text/plain": [
       "<Figure size 640x480 with 2 Axes>"
      ]
     },
     "metadata": {},
     "output_type": "display_data"
    }
   ],
   "source": [
    "import mord as mord\n",
    "c = mord.LogisticAT()\n",
    "c.fit(X_train.to_numpy(), y_train.to_numpy().ravel())\n",
    "y_pred = c.predict(X_test.to_numpy())\n",
    "\n",
    "cm = confusion_matrix(y_test, y_pred)\n",
    "from sklearn.metrics import matthews_corrcoef\n",
    "print(\"accuracy score: \", accuracy_score(y_test, y_pred))\n",
    "print(\"MCC: \", matthews_corrcoef(y_test, y_pred))\n",
    "\n",
    "from sklearn.metrics import ConfusionMatrixDisplay\n",
    "disp = ConfusionMatrixDisplay(confusion_matrix = cm)\n",
    "disp.plot()\n",
    "plt.show()"
   ]
  },
  {
   "cell_type": "code",
   "execution_count": null,
   "id": "63776ee7-72fe-4f36-9b3e-c405d2fe9738",
   "metadata": {},
   "outputs": [],
   "source": []
  },
  {
   "cell_type": "code",
   "execution_count": null,
   "id": "00373ea2-d1cd-4c07-9244-3c185304696d",
   "metadata": {},
   "outputs": [],
   "source": []
  },
  {
   "cell_type": "code",
   "execution_count": null,
   "id": "9644ba0e-a204-43a3-85bd-8884b1e72289",
   "metadata": {},
   "outputs": [],
   "source": []
  },
  {
   "cell_type": "code",
   "execution_count": null,
   "id": "c9625e45-d29f-4fd4-b91a-615a4d04d761",
   "metadata": {},
   "outputs": [],
   "source": []
  },
  {
   "cell_type": "code",
   "execution_count": null,
   "id": "b61c660d-eba2-4ead-a169-ee7cb5cee6f6",
   "metadata": {},
   "outputs": [],
   "source": []
  },
  {
   "cell_type": "code",
   "execution_count": 444,
   "id": "6b619750-a2f5-48e8-b27d-9d49655c266e",
   "metadata": {},
   "outputs": [
    {
     "data": {
      "text/plain": [
       "<AxesSubplot:>"
      ]
     },
     "execution_count": 444,
     "metadata": {},
     "output_type": "execute_result"
    },
    {
     "data": {
      "image/png": "[encoded data removed]",
      "text/plain": [
       "<Figure size 1100x900 with 2 Axes>"
      ]
     },
     "metadata": {},
     "output_type": "display_data"
    }
   ],
   "source": [
    "from string import ascii_letters\n",
    "import numpy as np\n",
    "import pandas as pd\n",
    "import seaborn as sns\n",
    "import matplotlib.pyplot as plt\n",
    "\n",
    "sns.set_theme(style=\"white\")\n",
    "\n",
    "# Compute the correlation matrix\n",
    "corr = dataset.corr()\n",
    "\n",
    "# Generate a mask for the upper triangle\n",
    "mask = np.triu(np.ones_like(corr, dtype=bool))\n",
    "\n",
    "# Set up the matplotlib figure\n",
    "f, ax = plt.subplots(figsize=(11, 9))\n",
    "\n",
    "# Generate a custom diverging colormap\n",
    "cmap = sns.diverging_palette(230, 20, as_cmap=True)\n",
    "\n",
    "# Draw the heatmap with the mask and correct aspect ratio\n",
    "sns.heatmap(corr, mask=mask, cmap=cmap, vmax=.3, center=0,\n",
    "            square=True, linewidths=.5, cbar_kws={\"shrink\": .5})"
   ]
  },
  {
   "cell_type": "code",
   "execution_count": null,
   "id": "55ec2539-35d1-4604-8e5e-0b7c5da3771f",
   "metadata": {},
   "outputs": [],
   "source": []
  },
  {
   "cell_type": "code",
   "execution_count": null,
   "id": "befad941-e266-47f9-b138-d04380b0a5ed",
   "metadata": {},
   "outputs": [],
   "source": [
    "    timewindow_actor = s[0]\n",
    "    timewindow_director = s[1]\n",
    "    timewindow_genre = s[2]\n",
    "    star_actor_num = s[3]\n",
    "    star_director_num = s[4] \n",
    "\n",
    "\n",
    "    castinfo(timewindow_actor, star_actor_num)\n",
    "    directorinfo(timewindow_director, star_director_num)\n",
    "    genreinfo(timewindow_genre)"
   ]
  },
  {
   "cell_type": "code",
   "execution_count": 447,
   "id": "35cfa40a-ef6b-4fb6-a133-97aec154f11f",
   "metadata": {},
   "outputs": [
    {
     "data": {
      "text/html": [
       "<div>\n",
       "<style scoped>\n",
       "    .dataframe tbody tr th:only-of-type {\n",
       "        vertical-align: middle;\n",
       "    }\n",
       "\n",
       "    .dataframe tbody tr th {\n",
       "        vertical-align: top;\n",
       "    }\n",
       "\n",
       "    .dataframe thead th {\n",
       "        text-align: right;\n",
       "    }\n",
       "</style>\n",
       "<table border=\"1\" class=\"dataframe\">\n",
       "  <thead>\n",
       "    <tr style=\"text-align: right;\">\n",
       "      <th></th>\n",
       "      <th>moviename</th>\n",
       "      <th>Budget</th>\n",
       "      <th>Revenue</th>\n",
       "      <th>ROI</th>\n",
       "      <th>Year</th>\n",
       "      <th>Month</th>\n",
       "      <th>Rating</th>\n",
       "      <th>Franchise</th>\n",
       "      <th>is_Franchise</th>\n",
       "      <th>Keywords</th>\n",
       "      <th>Genre</th>\n",
       "      <th>Production Method</th>\n",
       "      <th>Creative Type</th>\n",
       "      <th>Production/Financing Companies</th>\n",
       "      <th>Leading Cast</th>\n",
       "      <th>Director</th>\n",
       "      <th>has_star_actor</th>\n",
       "      <th>actor_revenue_before</th>\n",
       "      <th>has_star_director</th>\n",
       "      <th>director_revenue_before</th>\n",
       "      <th>hit</th>\n",
       "      <th>genre_revenue_before</th>\n",
       "    </tr>\n",
       "  </thead>\n",
       "  <tbody>\n",
       "    <tr>\n",
       "      <th>0</th>\n",
       "      <td>The Super Mario Bros. Movie</td>\n",
       "      <td>100000000</td>\n",
       "      <td>509,221,843.00</td>\n",
       "      <td>409.22</td>\n",
       "      <td>2,023.00</td>\n",
       "      <td>April</td>\n",
       "      <td>PG</td>\n",
       "      <td>NaN</td>\n",
       "      <td>False</td>\n",
       "      <td>['Ensemble', 'Prince/Princess', 'Royalty', 'Go...</td>\n",
       "      <td>Action</td>\n",
       "      <td>Digital Animation</td>\n",
       "      <td>Kids Fiction</td>\n",
       "      <td>['Universal Pictures', 'Nintendo', 'Illuminati...</td>\n",
       "      <td>[Chris Pratt, Anya Taylor-Joy, Charlie Day, Ja...</td>\n",
       "      <td>[Aaron Horvath, Michael Jelenic]</td>\n",
       "      <td>True</td>\n",
       "      <td>14305072670</td>\n",
       "      <td>False</td>\n",
       "      <td>51620593</td>\n",
       "      <td>Hits</td>\n",
       "      <td>39962497649</td>\n",
       "    </tr>\n",
       "  </tbody>\n",
       "</table>\n",
       "</div>"
      ],
      "text/plain": [
       "                     moviename     Budget        Revenue    ROI     Year  \\\n",
       "0  The Super Mario Bros. Movie  100000000 509,221,843.00 409.22 2,023.00   \n",
       "\n",
       "   Month Rating Franchise  is_Franchise  \\\n",
       "0  April     PG       NaN         False   \n",
       "\n",
       "                                            Keywords   Genre  \\\n",
       "0  ['Ensemble', 'Prince/Princess', 'Royalty', 'Go...  Action   \n",
       "\n",
       "   Production Method Creative Type  \\\n",
       "0  Digital Animation  Kids Fiction   \n",
       "\n",
       "                      Production/Financing Companies  \\\n",
       "0  ['Universal Pictures', 'Nintendo', 'Illuminati...   \n",
       "\n",
       "                                        Leading Cast  \\\n",
       "0  [Chris Pratt, Anya Taylor-Joy, Charlie Day, Ja...   \n",
       "\n",
       "                           Director  has_star_actor  actor_revenue_before  \\\n",
       "0  [Aaron Horvath, Michael Jelenic]            True           14305072670   \n",
       "\n",
       "   has_star_director  director_revenue_before   hit  genre_revenue_before  \n",
       "0              False                 51620593  Hits           39962497649  "
      ]
     },
     "execution_count": 447,
     "metadata": {},
     "output_type": "execute_result"
    }
   ],
   "source": [
    "final.head(1)"
   ]
  },
  {
   "cell_type": "code",
   "execution_count": 450,
   "id": "afffa3a5-311c-45d0-ad0c-baaaa1950997",
   "metadata": {},
   "outputs": [
    {
     "data": {
      "text/plain": [
       "<AxesSubplot:>"
      ]
     },
     "execution_count": 450,
     "metadata": {},
     "output_type": "execute_result"
    },
    {
     "data": {
      "image/png": "[encoded data removed]",
      "text/plain": [
       "<Figure size 1100x900 with 2 Axes>"
      ]
     },
     "metadata": {},
     "output_type": "display_data"
    }
   ],
   "source": [
    "temp = pd.concat([\n",
    "               pd.get_dummies(final['Rating']),\n",
    "               final['is_Franchise'].astype(int),\n",
    "               pd.get_dummies(final['Production Method']),\n",
    "               pd.get_dummies(final['Creative Type']),\n",
    "               final['has_star_actor'].astype(int),\n",
    "               final['has_star_director'].astype(int),\n",
    "               final[['Budget', 'actor_revenue_before', 'director_revenue_before',\n",
    "        'genre_revenue_before', 'ROI', 'Revenue']].copy()\n",
    "              ], axis = 1)\n",
    "\n",
    "\n",
    "\n",
    "# Compute the correlation matrix\n",
    "corr = temp.corr()\n",
    "\n",
    "# Generate a mask for the upper triangle\n",
    "mask = np.triu(np.ones_like(corr, dtype=bool))\n",
    "\n",
    "# Set up the matplotlib figure\n",
    "f, ax = plt.subplots(figsize=(11, 9))\n",
    "\n",
    "# Generate a custom diverging colormap\n",
    "cmap = sns.diverging_palette(230, 20, as_cmap=True)\n",
    "\n",
    "# Draw the heatmap with the mask and correct aspect ratio\n",
    "sns.heatmap(corr, mask=mask, cmap=cmap, vmax=.3, center=0,\n",
    "            square=True, linewidths=.5, cbar_kws={\"shrink\": .5})"
   ]
  },
  {
   "cell_type": "code",
   "execution_count": null,
   "id": "d9ae49a1-5722-4e51-8955-36e2dcc15272",
   "metadata": {},
   "outputs": [],
   "source": [
    "revenue ~ everything\n",
    "revenue-budget ~ everything [-budget]\n",
    "\n",
    "regression \n",
    "tree \n"
   ]
  },
  {
   "cell_type": "code",
   "execution_count": 459,
   "id": "d0cc82c5-91d9-4e2d-8586-aff19522609e",
   "metadata": {},
   "outputs": [
    {
     "data": {
      "text/plain": [
       "count           5,571.00\n",
       "mean      105,564,648.67\n",
       "std       193,366,119.52\n",
       "min               527.00\n",
       "25%        10,008,007.50\n",
       "50%        37,226,218.00\n",
       "75%       113,439,644.50\n",
       "max     2,923,706,026.00\n",
       "Name: Revenue, dtype: float64"
      ]
     },
     "execution_count": 459,
     "metadata": {},
     "output_type": "execute_result"
    }
   ],
   "source": [
    "dataset['Revenue'].describe()"
   ]
  },
  {
   "cell_type": "code",
   "execution_count": 456,
   "id": "ec90396d-b7c6-49e4-9f0a-e5b7290f6f21",
   "metadata": {},
   "outputs": [
    {
     "name": "stderr",
     "output_type": "stream",
     "text": [
      "C:\\ProgramData\\Anaconda3_new\\lib\\site-packages\\pandas\\core\\arraylike.py:397: RuntimeWarning: invalid value encountered in log\n",
      "  result = getattr(ufunc, method)(*inputs, **kwargs)\n"
     ]
    },
    {
     "data": {
      "image/png": "[encoded data removed]",
      "text/plain": [
       "<Figure size 640x480 with 1 Axes>"
      ]
     },
     "metadata": {},
     "output_type": "display_data"
    }
   ],
   "source": [
    "plt.hist(np.log(dataset['Revenue']-dataset['Budget']), bins = 110)\n",
    "plt.show()"
   ]
  },
  {
   "cell_type": "code",
   "execution_count": 462,
   "id": "e5595438-6c42-4dea-a389-1069a5913a14",
   "metadata": {},
   "outputs": [
    {
     "data": {
      "image/png": "[encoded data removed]",
      "text/plain": [
       "<Figure size 640x480 with 1 Axes>"
      ]
     },
     "metadata": {},
     "output_type": "display_data"
    }
   ],
   "source": [
    "plt.hist(dataset.loc[dataset['Revenue'] < 1000000]['Revenue'], bins = 20)\n",
    "plt.show()\n",
    "zero inflated negative binomial/possion"
   ]
  }
 ],
 "metadata": {
  "kernelspec": {
   "display_name": "Python 3 (ipykernel)",
   "language": "python",
   "name": "python3"
  },
  "language_info": {
   "codemirror_mode": {
    "name": "ipython",
    "version": 3
   },
   "file_extension": ".py",
   "mimetype": "text/x-python",
   "name": "python",
   "nbconvert_exporter": "python",
   "pygments_lexer": "ipython3",
   "version": "3.9.13"
  }
 },
 "nbformat": 4,
 "nbformat_minor": 5
}
