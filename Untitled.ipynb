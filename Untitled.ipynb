{
 "cells": [
  {
   "cell_type": "code",
   "execution_count": 2,
   "id": "4a0db35f-0104-47b3-8011-525f271931fc",
   "metadata": {},
   "outputs": [
    {
     "ename": "AttributeError",
     "evalue": "'tuple' object has no attribute 'start'",
     "output_type": "error",
     "traceback": [
      "\u001b[1;31m---------------------------------------------------------------------------\u001b[0m",
      "\u001b[1;31mAttributeError\u001b[0m                            Traceback (most recent call last)",
      "\u001b[1;32m~\\AppData\\Local\\Temp\\ipykernel_31412\\1511667700.py\u001b[0m in \u001b[0;36m<module>\u001b[1;34m\u001b[0m\n\u001b[0;32m      9\u001b[0m \u001b[1;32mfor\u001b[0m \u001b[0mmatchNum\u001b[0m\u001b[1;33m,\u001b[0m \u001b[0mmatch\u001b[0m \u001b[1;32min\u001b[0m \u001b[0menumerate\u001b[0m\u001b[1;33m(\u001b[0m\u001b[0mmatches\u001b[0m\u001b[1;33m,\u001b[0m \u001b[0mstart\u001b[0m\u001b[1;33m=\u001b[0m\u001b[1;36m1\u001b[0m\u001b[1;33m)\u001b[0m\u001b[1;33m:\u001b[0m\u001b[1;33m\u001b[0m\u001b[1;33m\u001b[0m\u001b[0m\n\u001b[0;32m     10\u001b[0m \u001b[1;33m\u001b[0m\u001b[0m\n\u001b[1;32m---> 11\u001b[1;33m     \u001b[0mprint\u001b[0m \u001b[1;33m(\u001b[0m\u001b[1;34m\"Match {matchNum} was found at {start}-{end}: {match}\"\u001b[0m\u001b[1;33m.\u001b[0m\u001b[0mformat\u001b[0m\u001b[1;33m(\u001b[0m\u001b[0mmatchNum\u001b[0m \u001b[1;33m=\u001b[0m \u001b[0mmatchNum\u001b[0m\u001b[1;33m,\u001b[0m \u001b[0mstart\u001b[0m \u001b[1;33m=\u001b[0m \u001b[0mmatch\u001b[0m\u001b[1;33m.\u001b[0m\u001b[0mstart\u001b[0m\u001b[1;33m(\u001b[0m\u001b[1;33m)\u001b[0m\u001b[1;33m,\u001b[0m \u001b[0mend\u001b[0m \u001b[1;33m=\u001b[0m \u001b[0mmatch\u001b[0m\u001b[1;33m.\u001b[0m\u001b[0mend\u001b[0m\u001b[1;33m(\u001b[0m\u001b[1;33m)\u001b[0m\u001b[1;33m,\u001b[0m \u001b[0mmatch\u001b[0m \u001b[1;33m=\u001b[0m \u001b[0mmatch\u001b[0m\u001b[1;33m.\u001b[0m\u001b[0mgroup\u001b[0m\u001b[1;33m(\u001b[0m\u001b[1;33m)\u001b[0m\u001b[1;33m)\u001b[0m\u001b[1;33m)\u001b[0m\u001b[1;33m\u001b[0m\u001b[1;33m\u001b[0m\u001b[0m\n\u001b[0m\u001b[0;32m     12\u001b[0m \u001b[1;33m\u001b[0m\u001b[0m\n\u001b[0;32m     13\u001b[0m     \u001b[1;32mfor\u001b[0m \u001b[0mgroupNum\u001b[0m \u001b[1;32min\u001b[0m \u001b[0mrange\u001b[0m\u001b[1;33m(\u001b[0m\u001b[1;36m0\u001b[0m\u001b[1;33m,\u001b[0m \u001b[0mlen\u001b[0m\u001b[1;33m(\u001b[0m\u001b[0mmatch\u001b[0m\u001b[1;33m.\u001b[0m\u001b[0mgroups\u001b[0m\u001b[1;33m(\u001b[0m\u001b[1;33m)\u001b[0m\u001b[1;33m)\u001b[0m\u001b[1;33m)\u001b[0m\u001b[1;33m:\u001b[0m\u001b[1;33m\u001b[0m\u001b[1;33m\u001b[0m\u001b[0m\n",
      "\u001b[1;31mAttributeError\u001b[0m: 'tuple' object has no attribute 'start'"
     ]
    }
   ],
   "source": [
    "import re\n",
    "\n",
    "regex = r\"(?:<td><b>)(.+?)(?:<\\/b>.+?)([\\d,]+?)(?:<)\"\n",
    "\n",
    "test_str = \"'\\\"main\\\">\\\\n\\\\r\\\\n<h1>Avatar: The Way of Water (2022)</h1>\\\\r\\\\n<div id=\\\"poster\\\">\\\\n<img src=\\\"https://www.the-numbers.com/images/movies/opusdata/Avatar-The-Way-of-Water-(2022).jpg\\\" style=\\\"width:100%\\\" alt=\\\"Avatar: The Way of Water\\\">\\\\n</div>\\\\n\\\\r\\\\n<table id=\\\"movie_finances\\\" >\\\\n<tr class=\\\"heading\\\">\\\\r\\\\n<td colspan=\\\"3\\\"><b>Theatrical Performance</b></td>\\\\r\\\\n</tr>\\\\r\\\\n<tr>\\\\r\\\\n<!--    <td><div class=\\\"hidden-xs\\\"><b>Domestic Box Office</b></div><div class=\\\"visible-xs\\\"><b>Domestic</b></div></td>-->\\\\r\\\\n    <td><b>Domestic Box Office</b></td>\\\\r\\\\n<td class=\\\"data\\\">$682,744,586</td><td><a href=\\\"#tab=box-office\\\">Details</a></td>\\\\n</tr>\\\\r\\\\n<tr>\\\\n<td><b>International Box Office</b></td>\\\\n<td class=\\\"data sum\\\">$1,632,068,651</td><td><a href=\\\"#tab=international\\\">Details</a></td>\\\\n</tr>\\\\n<tr>\\\\n<td><b>Worldwide Box Office</b></td>\\\\n<td class=\\\"data\\\">$2,314,813,237</td><td></td>\\\\n</tr>\\\\n<tr class=\\\"heading\\\"><td colspan=3 class=\\\"headed\\\"><a href=\\\"#more\\\">'\"\n",
    "\n",
    "matches = re.findall(regex, test_str, re.MULTILINE)\n",
    "\n",
    "for matchNum, match in enumerate(matches, start=1):\n",
    "    \n",
    "    print (\"Match {matchNum} was found at {start}-{end}: {match}\".format(matchNum = matchNum, start = match.start(), end = match.end(), match = match.group()))\n",
    "    \n",
    "    for groupNum in range(0, len(match.groups())):\n",
    "        groupNum = groupNum + 1\n",
    "        \n",
    "        print (\"Group {groupNum} found at {start}-{end}: {group}\".format(groupNum = groupNum, start = match.start(groupNum), end = match.end(groupNum), group = match.group(groupNum)))"
   ]
  },
  {
   "cell_type": "code",
   "execution_count": 3,
   "id": "2f09608e-7282-4440-a0ab-fd22cf93de8b",
   "metadata": {},
   "outputs": [
    {
     "data": {
      "text/plain": [
       "[('Domestic Box Office', '682,744,586'),\n",
       " ('International Box Office', '1,632,068,651'),\n",
       " ('Worldwide Box Office', '2,314,813,237')]"
      ]
     },
     "execution_count": 3,
     "metadata": {},
     "output_type": "execute_result"
    }
   ],
   "source": [
    "matches"
   ]
  }
 ],
 "metadata": {
  "kernelspec": {
   "display_name": "Python 3 (ipykernel)",
   "language": "python",
   "name": "python3"
  },
  "language_info": {
   "codemirror_mode": {
    "name": "ipython",
    "version": 3
   },
   "file_extension": ".py",
   "mimetype": "text/x-python",
   "name": "python",
   "nbconvert_exporter": "python",
   "pygments_lexer": "ipython3",
   "version": "3.9.13"
  }
 },
 "nbformat": 4,
 "nbformat_minor": 5
}
