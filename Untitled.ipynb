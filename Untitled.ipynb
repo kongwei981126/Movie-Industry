{
 "cells": [
  {
   "cell_type": "markdown",
   "id": "6c943b55-fa81-4a04-9f64-69b5b8d1f63e",
   "metadata": {
    "jp-MarkdownHeadingCollapsed": true,
    "tags": []
   },
   "source": [
    "<!--Title-->\n",
    "# Movie Industry Analysis"
   ]
  },
  {
   "cell_type": "markdown",
   "id": "448d1097-87a5-455c-8153-b989788d154d",
   "metadata": {},
   "source": [
    "<!--Problem description-->\n",
    "## Introduction of the problem\n",
    "<!-- TO DO -->\n",
    "    We all know that movie industry is risky, but it can also bring enormous profit at the same time. That's why countless companies and people have been attracted to this industry. However, how risky is it? There hasn't been an universal formula to make a popular movie, (or we won't be seeing bad movies all the time), but we are still interested in how to choose the right movie to invest in. \n",
    "    In our opinion, the return of investing in a movie mainly consists of two parts: the economic returns and popularity. Thus, we aim to produce a study to figure out specific reasons that lead to the success of a movie, and give advices for companies or individuals who want to enter this industry. "
   ]
  },
  {
   "cell_type": "markdown",
   "id": "dad421d1-bd32-458b-a69a-604f9bc4474a",
   "metadata": {},
   "source": [
    "<!--Introduction of the dataset-->\n",
    "## Introduction of the dataset\n",
    "<!-- TO DO -->"
   ]
  },
  {
   "cell_type": "markdown",
   "id": "2459c278-5ac7-492c-a0c8-1155fccf8eaa",
   "metadata": {},
   "source": [
    "<!-- Preliminary analysis -->\n",
    "## Preliminary analysis\n",
    "### Literature review\n",
    "\n",
    "### Hypothesis"
   ]
  },
  {
   "cell_type": "code",
   "execution_count": null,
   "id": "5dc2d840-e5d8-4679-848c-aef4c3a3bb77",
   "metadata": {},
   "outputs": [],
   "source": []
  }
 ],
 "metadata": {
  "kernelspec": {
   "display_name": "Python 3 (ipykernel)",
   "language": "python",
   "name": "python3"
  },
  "language_info": {
   "codemirror_mode": {
    "name": "ipython",
    "version": 3
   },
   "file_extension": ".py",
   "mimetype": "text/x-python",
   "name": "python",
   "nbconvert_exporter": "python",
   "pygments_lexer": "ipython3",
   "version": "3.9.13"
  }
 },
 "nbformat": 4,
 "nbformat_minor": 5
}
